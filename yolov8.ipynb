{
  "nbformat": 4,
  "nbformat_minor": 0,
  "metadata": {
    "colab": {
      "provenance": [],
      "gpuType": "T4"
    },
    "kernelspec": {
      "name": "python3",
      "display_name": "Python 3"
    },
    "language_info": {
      "name": "python"
    },
    "accelerator": "GPU"
  },
  "cells": [
    {
      "cell_type": "code",
      "execution_count": null,
      "metadata": {
        "colab": {
          "base_uri": "https://localhost:8080/"
        },
        "id": "aRgvscyQWiqk",
        "outputId": "4da9ee6a-85b5-477a-8335-b3afd139c773"
      },
      "outputs": [
        {
          "output_type": "stream",
          "name": "stdout",
          "text": [
            "Collecting ultralytics\n",
            "  Downloading ultralytics-8.2.11-py3-none-any.whl (756 kB)\n",
            "\u001b[2K     \u001b[90m━━━━━━━━━━━━━━━━━━━━━━━━━━━━━━━━━━━━━━━━\u001b[0m \u001b[32m756.5/756.5 kB\u001b[0m \u001b[31m5.2 MB/s\u001b[0m eta \u001b[36m0:00:00\u001b[0m\n",
            "\u001b[?25hRequirement already satisfied: matplotlib>=3.3.0 in /usr/local/lib/python3.10/dist-packages (from ultralytics) (3.7.1)\n",
            "Requirement already satisfied: opencv-python>=4.6.0 in /usr/local/lib/python3.10/dist-packages (from ultralytics) (4.8.0.76)\n",
            "Requirement already satisfied: pillow>=7.1.2 in /usr/local/lib/python3.10/dist-packages (from ultralytics) (9.4.0)\n",
            "Requirement already satisfied: pyyaml>=5.3.1 in /usr/local/lib/python3.10/dist-packages (from ultralytics) (6.0.1)\n",
            "Requirement already satisfied: requests>=2.23.0 in /usr/local/lib/python3.10/dist-packages (from ultralytics) (2.31.0)\n",
            "Requirement already satisfied: scipy>=1.4.1 in /usr/local/lib/python3.10/dist-packages (from ultralytics) (1.11.4)\n",
            "Requirement already satisfied: torch>=1.8.0 in /usr/local/lib/python3.10/dist-packages (from ultralytics) (2.2.1+cu121)\n",
            "Requirement already satisfied: torchvision>=0.9.0 in /usr/local/lib/python3.10/dist-packages (from ultralytics) (0.17.1+cu121)\n",
            "Requirement already satisfied: tqdm>=4.64.0 in /usr/local/lib/python3.10/dist-packages (from ultralytics) (4.66.4)\n",
            "Requirement already satisfied: psutil in /usr/local/lib/python3.10/dist-packages (from ultralytics) (5.9.5)\n",
            "Requirement already satisfied: py-cpuinfo in /usr/local/lib/python3.10/dist-packages (from ultralytics) (9.0.0)\n",
            "Collecting thop>=0.1.1 (from ultralytics)\n",
            "  Downloading thop-0.1.1.post2209072238-py3-none-any.whl (15 kB)\n",
            "Requirement already satisfied: pandas>=1.1.4 in /usr/local/lib/python3.10/dist-packages (from ultralytics) (2.0.3)\n",
            "Requirement already satisfied: seaborn>=0.11.0 in /usr/local/lib/python3.10/dist-packages (from ultralytics) (0.13.1)\n",
            "Requirement already satisfied: contourpy>=1.0.1 in /usr/local/lib/python3.10/dist-packages (from matplotlib>=3.3.0->ultralytics) (1.2.1)\n",
            "Requirement already satisfied: cycler>=0.10 in /usr/local/lib/python3.10/dist-packages (from matplotlib>=3.3.0->ultralytics) (0.12.1)\n",
            "Requirement already satisfied: fonttools>=4.22.0 in /usr/local/lib/python3.10/dist-packages (from matplotlib>=3.3.0->ultralytics) (4.51.0)\n",
            "Requirement already satisfied: kiwisolver>=1.0.1 in /usr/local/lib/python3.10/dist-packages (from matplotlib>=3.3.0->ultralytics) (1.4.5)\n",
            "Requirement already satisfied: numpy>=1.20 in /usr/local/lib/python3.10/dist-packages (from matplotlib>=3.3.0->ultralytics) (1.25.2)\n",
            "Requirement already satisfied: packaging>=20.0 in /usr/local/lib/python3.10/dist-packages (from matplotlib>=3.3.0->ultralytics) (24.0)\n",
            "Requirement already satisfied: pyparsing>=2.3.1 in /usr/local/lib/python3.10/dist-packages (from matplotlib>=3.3.0->ultralytics) (3.1.2)\n",
            "Requirement already satisfied: python-dateutil>=2.7 in /usr/local/lib/python3.10/dist-packages (from matplotlib>=3.3.0->ultralytics) (2.8.2)\n",
            "Requirement already satisfied: pytz>=2020.1 in /usr/local/lib/python3.10/dist-packages (from pandas>=1.1.4->ultralytics) (2023.4)\n",
            "Requirement already satisfied: tzdata>=2022.1 in /usr/local/lib/python3.10/dist-packages (from pandas>=1.1.4->ultralytics) (2024.1)\n",
            "Requirement already satisfied: charset-normalizer<4,>=2 in /usr/local/lib/python3.10/dist-packages (from requests>=2.23.0->ultralytics) (3.3.2)\n",
            "Requirement already satisfied: idna<4,>=2.5 in /usr/local/lib/python3.10/dist-packages (from requests>=2.23.0->ultralytics) (3.7)\n",
            "Requirement already satisfied: urllib3<3,>=1.21.1 in /usr/local/lib/python3.10/dist-packages (from requests>=2.23.0->ultralytics) (2.0.7)\n",
            "Requirement already satisfied: certifi>=2017.4.17 in /usr/local/lib/python3.10/dist-packages (from requests>=2.23.0->ultralytics) (2024.2.2)\n",
            "Requirement already satisfied: filelock in /usr/local/lib/python3.10/dist-packages (from torch>=1.8.0->ultralytics) (3.14.0)\n",
            "Requirement already satisfied: typing-extensions>=4.8.0 in /usr/local/lib/python3.10/dist-packages (from torch>=1.8.0->ultralytics) (4.11.0)\n",
            "Requirement already satisfied: sympy in /usr/local/lib/python3.10/dist-packages (from torch>=1.8.0->ultralytics) (1.12)\n",
            "Requirement already satisfied: networkx in /usr/local/lib/python3.10/dist-packages (from torch>=1.8.0->ultralytics) (3.3)\n",
            "Requirement already satisfied: jinja2 in /usr/local/lib/python3.10/dist-packages (from torch>=1.8.0->ultralytics) (3.1.4)\n",
            "Requirement already satisfied: fsspec in /usr/local/lib/python3.10/dist-packages (from torch>=1.8.0->ultralytics) (2023.6.0)\n",
            "Collecting nvidia-cuda-nvrtc-cu12==12.1.105 (from torch>=1.8.0->ultralytics)\n",
            "  Using cached nvidia_cuda_nvrtc_cu12-12.1.105-py3-none-manylinux1_x86_64.whl (23.7 MB)\n",
            "Collecting nvidia-cuda-runtime-cu12==12.1.105 (from torch>=1.8.0->ultralytics)\n",
            "  Using cached nvidia_cuda_runtime_cu12-12.1.105-py3-none-manylinux1_x86_64.whl (823 kB)\n",
            "Collecting nvidia-cuda-cupti-cu12==12.1.105 (from torch>=1.8.0->ultralytics)\n",
            "  Using cached nvidia_cuda_cupti_cu12-12.1.105-py3-none-manylinux1_x86_64.whl (14.1 MB)\n",
            "Collecting nvidia-cudnn-cu12==8.9.2.26 (from torch>=1.8.0->ultralytics)\n",
            "  Using cached nvidia_cudnn_cu12-8.9.2.26-py3-none-manylinux1_x86_64.whl (731.7 MB)\n",
            "Collecting nvidia-cublas-cu12==12.1.3.1 (from torch>=1.8.0->ultralytics)\n",
            "  Using cached nvidia_cublas_cu12-12.1.3.1-py3-none-manylinux1_x86_64.whl (410.6 MB)\n",
            "Collecting nvidia-cufft-cu12==11.0.2.54 (from torch>=1.8.0->ultralytics)\n",
            "  Using cached nvidia_cufft_cu12-11.0.2.54-py3-none-manylinux1_x86_64.whl (121.6 MB)\n",
            "Collecting nvidia-curand-cu12==10.3.2.106 (from torch>=1.8.0->ultralytics)\n",
            "  Using cached nvidia_curand_cu12-10.3.2.106-py3-none-manylinux1_x86_64.whl (56.5 MB)\n",
            "Collecting nvidia-cusolver-cu12==11.4.5.107 (from torch>=1.8.0->ultralytics)\n",
            "  Using cached nvidia_cusolver_cu12-11.4.5.107-py3-none-manylinux1_x86_64.whl (124.2 MB)\n",
            "Collecting nvidia-cusparse-cu12==12.1.0.106 (from torch>=1.8.0->ultralytics)\n",
            "  Using cached nvidia_cusparse_cu12-12.1.0.106-py3-none-manylinux1_x86_64.whl (196.0 MB)\n",
            "Collecting nvidia-nccl-cu12==2.19.3 (from torch>=1.8.0->ultralytics)\n",
            "  Using cached nvidia_nccl_cu12-2.19.3-py3-none-manylinux1_x86_64.whl (166.0 MB)\n",
            "Collecting nvidia-nvtx-cu12==12.1.105 (from torch>=1.8.0->ultralytics)\n",
            "  Using cached nvidia_nvtx_cu12-12.1.105-py3-none-manylinux1_x86_64.whl (99 kB)\n",
            "Requirement already satisfied: triton==2.2.0 in /usr/local/lib/python3.10/dist-packages (from torch>=1.8.0->ultralytics) (2.2.0)\n",
            "Collecting nvidia-nvjitlink-cu12 (from nvidia-cusolver-cu12==11.4.5.107->torch>=1.8.0->ultralytics)\n",
            "  Using cached nvidia_nvjitlink_cu12-12.4.127-py3-none-manylinux2014_x86_64.whl (21.1 MB)\n",
            "Requirement already satisfied: six>=1.5 in /usr/local/lib/python3.10/dist-packages (from python-dateutil>=2.7->matplotlib>=3.3.0->ultralytics) (1.16.0)\n",
            "Requirement already satisfied: MarkupSafe>=2.0 in /usr/local/lib/python3.10/dist-packages (from jinja2->torch>=1.8.0->ultralytics) (2.1.5)\n",
            "Requirement already satisfied: mpmath>=0.19 in /usr/local/lib/python3.10/dist-packages (from sympy->torch>=1.8.0->ultralytics) (1.3.0)\n",
            "Installing collected packages: nvidia-nvtx-cu12, nvidia-nvjitlink-cu12, nvidia-nccl-cu12, nvidia-curand-cu12, nvidia-cufft-cu12, nvidia-cuda-runtime-cu12, nvidia-cuda-nvrtc-cu12, nvidia-cuda-cupti-cu12, nvidia-cublas-cu12, nvidia-cusparse-cu12, nvidia-cudnn-cu12, nvidia-cusolver-cu12, thop, ultralytics\n",
            "Successfully installed nvidia-cublas-cu12-12.1.3.1 nvidia-cuda-cupti-cu12-12.1.105 nvidia-cuda-nvrtc-cu12-12.1.105 nvidia-cuda-runtime-cu12-12.1.105 nvidia-cudnn-cu12-8.9.2.26 nvidia-cufft-cu12-11.0.2.54 nvidia-curand-cu12-10.3.2.106 nvidia-cusolver-cu12-11.4.5.107 nvidia-cusparse-cu12-12.1.0.106 nvidia-nccl-cu12-2.19.3 nvidia-nvjitlink-cu12-12.4.127 nvidia-nvtx-cu12-12.1.105 thop-0.1.1.post2209072238 ultralytics-8.2.11\n"
          ]
        }
      ],
      "source": [
        "!pip install ultralytics"
      ]
    },
    {
      "cell_type": "code",
      "source": [
        "from ultralytics import YOLO\n",
        "\n",
        "model = YOLO(\"/content/drive/MyDrive/HelmetDetection/yolov8n.pt\")\n",
        "results = model.train(data=\"/content/drive/MyDrive/HelmetDetection/data.yaml\", epochs=40)"
      ],
      "metadata": {
        "colab": {
          "base_uri": "https://localhost:8080/"
        },
        "id": "ygsvGFHvWnPZ",
        "outputId": "fac073cc-0ace-4cda-ee81-06a9433345aa"
      },
      "execution_count": null,
      "outputs": [
        {
          "output_type": "stream",
          "name": "stdout",
          "text": [
            "Ultralytics YOLOv8.2.11 🚀 Python-3.10.12 torch-2.2.1+cu121 CUDA:0 (Tesla T4, 15102MiB)\n",
            "\u001b[34m\u001b[1mengine/trainer: \u001b[0mtask=detect, mode=train, model=/content/drive/MyDrive/HelmetDetection/yolov8n.pt, data=/content/drive/MyDrive/HelmetDetection/data.yaml, epochs=40, time=None, patience=100, batch=16, imgsz=640, save=True, save_period=-1, cache=False, device=None, workers=8, project=None, name=train, exist_ok=False, pretrained=True, optimizer=auto, verbose=True, seed=0, deterministic=True, single_cls=False, rect=False, cos_lr=False, close_mosaic=10, resume=False, amp=True, fraction=1.0, profile=False, freeze=None, multi_scale=False, overlap_mask=True, mask_ratio=4, dropout=0.0, val=True, split=val, save_json=False, save_hybrid=False, conf=None, iou=0.7, max_det=300, half=False, dnn=False, plots=True, source=None, vid_stride=1, stream_buffer=False, visualize=False, augment=False, agnostic_nms=False, classes=None, retina_masks=False, embed=None, show=False, save_frames=False, save_txt=False, save_conf=False, save_crop=False, show_labels=True, show_conf=True, show_boxes=True, line_width=None, format=torchscript, keras=False, optimize=False, int8=False, dynamic=False, simplify=False, opset=None, workspace=4, nms=False, lr0=0.01, lrf=0.01, momentum=0.937, weight_decay=0.0005, warmup_epochs=3.0, warmup_momentum=0.8, warmup_bias_lr=0.1, box=7.5, cls=0.5, dfl=1.5, pose=12.0, kobj=1.0, label_smoothing=0.0, nbs=64, hsv_h=0.015, hsv_s=0.7, hsv_v=0.4, degrees=0.0, translate=0.1, scale=0.5, shear=0.0, perspective=0.0, flipud=0.0, fliplr=0.5, bgr=0.0, mosaic=1.0, mixup=0.0, copy_paste=0.0, auto_augment=randaugment, erasing=0.4, crop_fraction=1.0, cfg=None, tracker=botsort.yaml, save_dir=runs/detect/train\n",
            "Downloading https://ultralytics.com/assets/Arial.ttf to '/root/.config/Ultralytics/Arial.ttf'...\n"
          ]
        },
        {
          "output_type": "stream",
          "name": "stderr",
          "text": [
            "100%|██████████| 755k/755k [00:00<00:00, 26.0MB/s]\n"
          ]
        },
        {
          "output_type": "stream",
          "name": "stdout",
          "text": [
            "Overriding model.yaml nc=80 with nc=6\n",
            "\n",
            "                   from  n    params  module                                       arguments                     \n",
            "  0                  -1  1       464  ultralytics.nn.modules.conv.Conv             [3, 16, 3, 2]                 \n",
            "  1                  -1  1      4672  ultralytics.nn.modules.conv.Conv             [16, 32, 3, 2]                \n",
            "  2                  -1  1      7360  ultralytics.nn.modules.block.C2f             [32, 32, 1, True]             \n",
            "  3                  -1  1     18560  ultralytics.nn.modules.conv.Conv             [32, 64, 3, 2]                \n",
            "  4                  -1  2     49664  ultralytics.nn.modules.block.C2f             [64, 64, 2, True]             \n",
            "  5                  -1  1     73984  ultralytics.nn.modules.conv.Conv             [64, 128, 3, 2]               \n",
            "  6                  -1  2    197632  ultralytics.nn.modules.block.C2f             [128, 128, 2, True]           \n",
            "  7                  -1  1    295424  ultralytics.nn.modules.conv.Conv             [128, 256, 3, 2]              \n",
            "  8                  -1  1    460288  ultralytics.nn.modules.block.C2f             [256, 256, 1, True]           \n",
            "  9                  -1  1    164608  ultralytics.nn.modules.block.SPPF            [256, 256, 5]                 \n",
            " 10                  -1  1         0  torch.nn.modules.upsampling.Upsample         [None, 2, 'nearest']          \n",
            " 11             [-1, 6]  1         0  ultralytics.nn.modules.conv.Concat           [1]                           \n",
            " 12                  -1  1    148224  ultralytics.nn.modules.block.C2f             [384, 128, 1]                 \n",
            " 13                  -1  1         0  torch.nn.modules.upsampling.Upsample         [None, 2, 'nearest']          \n",
            " 14             [-1, 4]  1         0  ultralytics.nn.modules.conv.Concat           [1]                           \n",
            " 15                  -1  1     37248  ultralytics.nn.modules.block.C2f             [192, 64, 1]                  \n",
            " 16                  -1  1     36992  ultralytics.nn.modules.conv.Conv             [64, 64, 3, 2]                \n",
            " 17            [-1, 12]  1         0  ultralytics.nn.modules.conv.Concat           [1]                           \n",
            " 18                  -1  1    123648  ultralytics.nn.modules.block.C2f             [192, 128, 1]                 \n",
            " 19                  -1  1    147712  ultralytics.nn.modules.conv.Conv             [128, 128, 3, 2]              \n",
            " 20             [-1, 9]  1         0  ultralytics.nn.modules.conv.Concat           [1]                           \n",
            " 21                  -1  1    493056  ultralytics.nn.modules.block.C2f             [384, 256, 1]                 \n",
            " 22        [15, 18, 21]  1    752482  ultralytics.nn.modules.head.Detect           [6, [64, 128, 256]]           \n",
            "Model summary: 225 layers, 3012018 parameters, 3012002 gradients, 8.2 GFLOPs\n",
            "\n",
            "Transferred 319/355 items from pretrained weights\n",
            "\u001b[34m\u001b[1mTensorBoard: \u001b[0mStart with 'tensorboard --logdir runs/detect/train', view at http://localhost:6006/\n",
            "Freezing layer 'model.22.dfl.conv.weight'\n",
            "\u001b[34m\u001b[1mAMP: \u001b[0mrunning Automatic Mixed Precision (AMP) checks with YOLOv8n...\n",
            "Downloading https://github.com/ultralytics/assets/releases/download/v8.2.0/yolov8n.pt to 'yolov8n.pt'...\n"
          ]
        },
        {
          "output_type": "stream",
          "name": "stderr",
          "text": [
            "100%|██████████| 6.23M/6.23M [00:00<00:00, 122MB/s]\n"
          ]
        },
        {
          "output_type": "stream",
          "name": "stdout",
          "text": [
            "\u001b[34m\u001b[1mAMP: \u001b[0mchecks passed ✅\n"
          ]
        },
        {
          "output_type": "stream",
          "name": "stderr",
          "text": [
            "\u001b[34m\u001b[1mtrain: \u001b[0mScanning /content/drive/MyDrive/HelmetDetection/train/labels... 1722 images, 2 backgrounds, 0 corrupt: 100%|██████████| 1722/1722 [17:09<00:00,  1.67it/s]\n"
          ]
        },
        {
          "output_type": "stream",
          "name": "stdout",
          "text": [
            "\u001b[34m\u001b[1mtrain: \u001b[0mNew cache created: /content/drive/MyDrive/HelmetDetection/train/labels.cache\n",
            "\u001b[34m\u001b[1malbumentations: \u001b[0mBlur(p=0.01, blur_limit=(3, 7)), MedianBlur(p=0.01, blur_limit=(3, 7)), ToGray(p=0.01), CLAHE(p=0.01, clip_limit=(1, 4.0), tile_grid_size=(8, 8))\n"
          ]
        },
        {
          "output_type": "stream",
          "name": "stderr",
          "text": [
            "/usr/lib/python3.10/multiprocessing/popen_fork.py:66: RuntimeWarning: os.fork() was called. os.fork() is incompatible with multithreaded code, and JAX is multithreaded, so this will likely lead to a deadlock.\n",
            "  self.pid = os.fork()\n",
            "\u001b[34m\u001b[1mval: \u001b[0mScanning /content/drive/MyDrive/HelmetDetection/valid/labels... 399 images, 0 backgrounds, 0 corrupt: 100%|██████████| 399/399 [04:18<00:00,  1.55it/s]\n"
          ]
        },
        {
          "output_type": "stream",
          "name": "stdout",
          "text": [
            "\u001b[34m\u001b[1mval: \u001b[0mNew cache created: /content/drive/MyDrive/HelmetDetection/valid/labels.cache\n",
            "Plotting labels to runs/detect/train/labels.jpg... \n",
            "\u001b[34m\u001b[1moptimizer:\u001b[0m 'optimizer=auto' found, ignoring 'lr0=0.01' and 'momentum=0.937' and determining best 'optimizer', 'lr0' and 'momentum' automatically... \n",
            "\u001b[34m\u001b[1moptimizer:\u001b[0m AdamW(lr=0.001, momentum=0.9) with parameter groups 57 weight(decay=0.0), 64 weight(decay=0.0005), 63 bias(decay=0.0)\n",
            "\u001b[34m\u001b[1mTensorBoard: \u001b[0mmodel graph visualization added ✅\n",
            "Image sizes 640 train, 640 val\n",
            "Using 2 dataloader workers\n",
            "Logging results to \u001b[1mruns/detect/train\u001b[0m\n",
            "Starting training for 40 epochs...\n",
            "\n",
            "      Epoch    GPU_mem   box_loss   cls_loss   dfl_loss  Instances       Size\n"
          ]
        },
        {
          "output_type": "stream",
          "name": "stderr",
          "text": [
            "       1/40      2.74G      1.413      2.121      1.246        123        640: 100%|██████████| 108/108 [01:17<00:00,  1.40it/s]\n",
            "                 Class     Images  Instances      Box(P          R      mAP50  mAP50-95): 100%|██████████| 13/13 [00:12<00:00,  1.07it/s]"
          ]
        },
        {
          "output_type": "stream",
          "name": "stdout",
          "text": [
            "                   all        399       4221      0.806      0.466      0.727      0.477\n"
          ]
        },
        {
          "output_type": "stream",
          "name": "stderr",
          "text": [
            "\n"
          ]
        },
        {
          "output_type": "stream",
          "name": "stdout",
          "text": [
            "\n",
            "      Epoch    GPU_mem   box_loss   cls_loss   dfl_loss  Instances       Size\n"
          ]
        },
        {
          "output_type": "stream",
          "name": "stderr",
          "text": [
            "       2/40      2.53G      1.141      1.107      1.108        102        640: 100%|██████████| 108/108 [01:11<00:00,  1.52it/s]\n",
            "                 Class     Images  Instances      Box(P          R      mAP50  mAP50-95): 100%|██████████| 13/13 [00:09<00:00,  1.39it/s]\n"
          ]
        },
        {
          "output_type": "stream",
          "name": "stdout",
          "text": [
            "                   all        399       4221       0.75      0.814      0.823      0.548\n",
            "\n",
            "      Epoch    GPU_mem   box_loss   cls_loss   dfl_loss  Instances       Size\n"
          ]
        },
        {
          "output_type": "stream",
          "name": "stderr",
          "text": [
            "       3/40       2.9G      1.109      1.016      1.096        185        640: 100%|██████████| 108/108 [01:12<00:00,  1.49it/s]\n",
            "                 Class     Images  Instances      Box(P          R      mAP50  mAP50-95): 100%|██████████| 13/13 [00:07<00:00,  1.66it/s]"
          ]
        },
        {
          "output_type": "stream",
          "name": "stdout",
          "text": [
            "                   all        399       4221      0.733      0.825      0.817      0.565\n"
          ]
        },
        {
          "output_type": "stream",
          "name": "stderr",
          "text": [
            "\n"
          ]
        },
        {
          "output_type": "stream",
          "name": "stdout",
          "text": [
            "\n",
            "      Epoch    GPU_mem   box_loss   cls_loss   dfl_loss  Instances       Size\n"
          ]
        },
        {
          "output_type": "stream",
          "name": "stderr",
          "text": [
            "       4/40      2.47G       1.06     0.9395      1.078        123        640: 100%|██████████| 108/108 [01:12<00:00,  1.48it/s]\n",
            "                 Class     Images  Instances      Box(P          R      mAP50  mAP50-95): 100%|██████████| 13/13 [00:08<00:00,  1.49it/s]\n"
          ]
        },
        {
          "output_type": "stream",
          "name": "stdout",
          "text": [
            "                   all        399       4221      0.797      0.825      0.859      0.603\n",
            "\n",
            "      Epoch    GPU_mem   box_loss   cls_loss   dfl_loss  Instances       Size\n"
          ]
        },
        {
          "output_type": "stream",
          "name": "stderr",
          "text": [
            "       5/40      2.52G      1.038     0.8802       1.07        158        640: 100%|██████████| 108/108 [01:10<00:00,  1.53it/s]\n",
            "                 Class     Images  Instances      Box(P          R      mAP50  mAP50-95): 100%|██████████| 13/13 [00:10<00:00,  1.25it/s]\n"
          ]
        },
        {
          "output_type": "stream",
          "name": "stdout",
          "text": [
            "                   all        399       4221      0.793       0.86      0.871      0.617\n",
            "\n",
            "      Epoch    GPU_mem   box_loss   cls_loss   dfl_loss  Instances       Size\n"
          ]
        },
        {
          "output_type": "stream",
          "name": "stderr",
          "text": [
            "       6/40      2.42G      1.021     0.8362      1.066        160        640: 100%|██████████| 108/108 [01:08<00:00,  1.58it/s]\n",
            "                 Class     Images  Instances      Box(P          R      mAP50  mAP50-95): 100%|██████████| 13/13 [00:11<00:00,  1.18it/s]"
          ]
        },
        {
          "output_type": "stream",
          "name": "stdout",
          "text": [
            "                   all        399       4221      0.786      0.861      0.872      0.625\n"
          ]
        },
        {
          "output_type": "stream",
          "name": "stderr",
          "text": [
            "\n"
          ]
        },
        {
          "output_type": "stream",
          "name": "stdout",
          "text": [
            "\n",
            "      Epoch    GPU_mem   box_loss   cls_loss   dfl_loss  Instances       Size\n"
          ]
        },
        {
          "output_type": "stream",
          "name": "stderr",
          "text": [
            "       7/40      2.56G      1.005     0.8146      1.061        107        640: 100%|██████████| 108/108 [01:09<00:00,  1.54it/s]\n",
            "                 Class     Images  Instances      Box(P          R      mAP50  mAP50-95): 100%|██████████| 13/13 [00:10<00:00,  1.28it/s]"
          ]
        },
        {
          "output_type": "stream",
          "name": "stdout",
          "text": [
            "                   all        399       4221      0.798      0.841      0.866      0.619\n"
          ]
        },
        {
          "output_type": "stream",
          "name": "stderr",
          "text": [
            "\n"
          ]
        },
        {
          "output_type": "stream",
          "name": "stdout",
          "text": [
            "\n",
            "      Epoch    GPU_mem   box_loss   cls_loss   dfl_loss  Instances       Size\n"
          ]
        },
        {
          "output_type": "stream",
          "name": "stderr",
          "text": [
            "       8/40      2.47G     0.9919     0.7698      1.055        198        640: 100%|██████████| 108/108 [01:12<00:00,  1.50it/s]\n",
            "                 Class     Images  Instances      Box(P          R      mAP50  mAP50-95): 100%|██████████| 13/13 [00:07<00:00,  1.63it/s]"
          ]
        },
        {
          "output_type": "stream",
          "name": "stdout",
          "text": [
            "                   all        399       4221      0.774      0.876      0.866      0.623\n"
          ]
        },
        {
          "output_type": "stream",
          "name": "stderr",
          "text": [
            "\n"
          ]
        },
        {
          "output_type": "stream",
          "name": "stdout",
          "text": [
            "\n",
            "      Epoch    GPU_mem   box_loss   cls_loss   dfl_loss  Instances       Size\n"
          ]
        },
        {
          "output_type": "stream",
          "name": "stderr",
          "text": [
            "       9/40      2.44G     0.9827     0.7687      1.052        163        640: 100%|██████████| 108/108 [01:12<00:00,  1.50it/s]\n",
            "                 Class     Images  Instances      Box(P          R      mAP50  mAP50-95): 100%|██████████| 13/13 [00:08<00:00,  1.51it/s]"
          ]
        },
        {
          "output_type": "stream",
          "name": "stdout",
          "text": [
            "                   all        399       4221      0.836      0.862      0.893      0.646\n"
          ]
        },
        {
          "output_type": "stream",
          "name": "stderr",
          "text": [
            "\n"
          ]
        },
        {
          "output_type": "stream",
          "name": "stdout",
          "text": [
            "\n",
            "      Epoch    GPU_mem   box_loss   cls_loss   dfl_loss  Instances       Size\n"
          ]
        },
        {
          "output_type": "stream",
          "name": "stderr",
          "text": [
            "      10/40      2.53G     0.9616     0.7378      1.041        174        640: 100%|██████████| 108/108 [01:10<00:00,  1.52it/s]\n",
            "                 Class     Images  Instances      Box(P          R      mAP50  mAP50-95): 100%|██████████| 13/13 [00:10<00:00,  1.23it/s]"
          ]
        },
        {
          "output_type": "stream",
          "name": "stdout",
          "text": [
            "                   all        399       4221      0.821      0.866      0.892      0.652\n"
          ]
        },
        {
          "output_type": "stream",
          "name": "stderr",
          "text": [
            "\n"
          ]
        },
        {
          "output_type": "stream",
          "name": "stdout",
          "text": [
            "\n",
            "      Epoch    GPU_mem   box_loss   cls_loss   dfl_loss  Instances       Size\n"
          ]
        },
        {
          "output_type": "stream",
          "name": "stderr",
          "text": [
            "      11/40      2.69G     0.9486     0.7158      1.043        173        640: 100%|██████████| 108/108 [01:08<00:00,  1.57it/s]\n",
            "                 Class     Images  Instances      Box(P          R      mAP50  mAP50-95): 100%|██████████| 13/13 [00:11<00:00,  1.11it/s]"
          ]
        },
        {
          "output_type": "stream",
          "name": "stdout",
          "text": [
            "                   all        399       4221      0.817      0.884      0.892      0.651\n"
          ]
        },
        {
          "output_type": "stream",
          "name": "stderr",
          "text": [
            "\n"
          ]
        },
        {
          "output_type": "stream",
          "name": "stdout",
          "text": [
            "\n",
            "      Epoch    GPU_mem   box_loss   cls_loss   dfl_loss  Instances       Size\n"
          ]
        },
        {
          "output_type": "stream",
          "name": "stderr",
          "text": [
            "      12/40      2.48G     0.9555     0.7127      1.044        190        640: 100%|██████████| 108/108 [01:11<00:00,  1.51it/s]\n",
            "                 Class     Images  Instances      Box(P          R      mAP50  mAP50-95): 100%|██████████| 13/13 [00:10<00:00,  1.26it/s]"
          ]
        },
        {
          "output_type": "stream",
          "name": "stdout",
          "text": [
            "                   all        399       4221      0.824      0.886      0.888      0.654\n"
          ]
        },
        {
          "output_type": "stream",
          "name": "stderr",
          "text": [
            "\n"
          ]
        },
        {
          "output_type": "stream",
          "name": "stdout",
          "text": [
            "\n",
            "      Epoch    GPU_mem   box_loss   cls_loss   dfl_loss  Instances       Size\n"
          ]
        },
        {
          "output_type": "stream",
          "name": "stderr",
          "text": [
            "      13/40      2.67G     0.9446     0.7018      1.034        157        640: 100%|██████████| 108/108 [01:12<00:00,  1.49it/s]\n",
            "                 Class     Images  Instances      Box(P          R      mAP50  mAP50-95): 100%|██████████| 13/13 [00:07<00:00,  1.63it/s]"
          ]
        },
        {
          "output_type": "stream",
          "name": "stdout",
          "text": [
            "                   all        399       4221      0.834      0.885       0.91      0.668\n"
          ]
        },
        {
          "output_type": "stream",
          "name": "stderr",
          "text": [
            "\n"
          ]
        },
        {
          "output_type": "stream",
          "name": "stdout",
          "text": [
            "\n",
            "      Epoch    GPU_mem   box_loss   cls_loss   dfl_loss  Instances       Size\n"
          ]
        },
        {
          "output_type": "stream",
          "name": "stderr",
          "text": [
            "      14/40      2.44G     0.9421     0.6942      1.037        162        640: 100%|██████████| 108/108 [01:12<00:00,  1.49it/s]\n",
            "                 Class     Images  Instances      Box(P          R      mAP50  mAP50-95): 100%|██████████| 13/13 [00:08<00:00,  1.51it/s]"
          ]
        },
        {
          "output_type": "stream",
          "name": "stdout",
          "text": [
            "                   all        399       4221      0.823      0.888        0.9      0.653\n"
          ]
        },
        {
          "output_type": "stream",
          "name": "stderr",
          "text": [
            "\n"
          ]
        },
        {
          "output_type": "stream",
          "name": "stdout",
          "text": [
            "\n",
            "      Epoch    GPU_mem   box_loss   cls_loss   dfl_loss  Instances       Size\n"
          ]
        },
        {
          "output_type": "stream",
          "name": "stderr",
          "text": [
            "      15/40      2.58G     0.9279     0.6745      1.031        203        640: 100%|██████████| 108/108 [01:10<00:00,  1.53it/s]\n",
            "                 Class     Images  Instances      Box(P          R      mAP50  mAP50-95): 100%|██████████| 13/13 [00:10<00:00,  1.25it/s]"
          ]
        },
        {
          "output_type": "stream",
          "name": "stdout",
          "text": [
            "                   all        399       4221      0.829      0.886      0.906      0.666\n"
          ]
        },
        {
          "output_type": "stream",
          "name": "stderr",
          "text": [
            "\n"
          ]
        },
        {
          "output_type": "stream",
          "name": "stdout",
          "text": [
            "\n",
            "      Epoch    GPU_mem   box_loss   cls_loss   dfl_loss  Instances       Size\n"
          ]
        },
        {
          "output_type": "stream",
          "name": "stderr",
          "text": [
            "      16/40      2.79G     0.9128     0.6604      1.023        212        640: 100%|██████████| 108/108 [01:07<00:00,  1.59it/s]\n",
            "                 Class     Images  Instances      Box(P          R      mAP50  mAP50-95): 100%|██████████| 13/13 [00:11<00:00,  1.11it/s]"
          ]
        },
        {
          "output_type": "stream",
          "name": "stdout",
          "text": [
            "                   all        399       4221      0.807      0.859      0.888      0.648\n"
          ]
        },
        {
          "output_type": "stream",
          "name": "stderr",
          "text": [
            "\n"
          ]
        },
        {
          "output_type": "stream",
          "name": "stdout",
          "text": [
            "\n",
            "      Epoch    GPU_mem   box_loss   cls_loss   dfl_loss  Instances       Size\n"
          ]
        },
        {
          "output_type": "stream",
          "name": "stderr",
          "text": [
            "      17/40      2.61G     0.9063     0.6491      1.023        121        640: 100%|██████████| 108/108 [01:09<00:00,  1.55it/s]\n",
            "                 Class     Images  Instances      Box(P          R      mAP50  mAP50-95): 100%|██████████| 13/13 [00:10<00:00,  1.21it/s]\n"
          ]
        },
        {
          "output_type": "stream",
          "name": "stdout",
          "text": [
            "                   all        399       4221       0.85      0.874      0.903      0.669\n",
            "\n",
            "      Epoch    GPU_mem   box_loss   cls_loss   dfl_loss  Instances       Size\n"
          ]
        },
        {
          "output_type": "stream",
          "name": "stderr",
          "text": [
            "      18/40      2.38G     0.9064     0.6459      1.022        152        640: 100%|██████████| 108/108 [01:11<00:00,  1.51it/s]\n",
            "                 Class     Images  Instances      Box(P          R      mAP50  mAP50-95): 100%|██████████| 13/13 [00:09<00:00,  1.40it/s]"
          ]
        },
        {
          "output_type": "stream",
          "name": "stdout",
          "text": [
            "                   all        399       4221      0.807      0.844       0.89      0.652\n"
          ]
        },
        {
          "output_type": "stream",
          "name": "stderr",
          "text": [
            "\n"
          ]
        },
        {
          "output_type": "stream",
          "name": "stdout",
          "text": [
            "\n",
            "      Epoch    GPU_mem   box_loss   cls_loss   dfl_loss  Instances       Size\n"
          ]
        },
        {
          "output_type": "stream",
          "name": "stderr",
          "text": [
            "      19/40       2.8G     0.8915     0.6354      1.016        186        640: 100%|██████████| 108/108 [01:13<00:00,  1.48it/s]\n",
            "                 Class     Images  Instances      Box(P          R      mAP50  mAP50-95): 100%|██████████| 13/13 [00:07<00:00,  1.70it/s]"
          ]
        },
        {
          "output_type": "stream",
          "name": "stdout",
          "text": [
            "                   all        399       4221      0.855       0.89      0.913      0.672\n"
          ]
        },
        {
          "output_type": "stream",
          "name": "stderr",
          "text": [
            "\n"
          ]
        },
        {
          "output_type": "stream",
          "name": "stdout",
          "text": [
            "\n",
            "      Epoch    GPU_mem   box_loss   cls_loss   dfl_loss  Instances       Size\n"
          ]
        },
        {
          "output_type": "stream",
          "name": "stderr",
          "text": [
            "      20/40      2.88G     0.8984     0.6369      1.016        220        640: 100%|██████████| 108/108 [01:12<00:00,  1.49it/s]\n",
            "                 Class     Images  Instances      Box(P          R      mAP50  mAP50-95): 100%|██████████| 13/13 [00:09<00:00,  1.43it/s]"
          ]
        },
        {
          "output_type": "stream",
          "name": "stdout",
          "text": [
            "                   all        399       4221      0.841      0.888      0.901      0.671\n"
          ]
        },
        {
          "output_type": "stream",
          "name": "stderr",
          "text": [
            "\n"
          ]
        },
        {
          "output_type": "stream",
          "name": "stdout",
          "text": [
            "\n",
            "      Epoch    GPU_mem   box_loss   cls_loss   dfl_loss  Instances       Size\n"
          ]
        },
        {
          "output_type": "stream",
          "name": "stderr",
          "text": [
            "      21/40      2.59G     0.8772     0.6281      1.008        173        640: 100%|██████████| 108/108 [01:10<00:00,  1.52it/s]\n",
            "                 Class     Images  Instances      Box(P          R      mAP50  mAP50-95): 100%|██████████| 13/13 [00:10<00:00,  1.19it/s]"
          ]
        },
        {
          "output_type": "stream",
          "name": "stdout",
          "text": [
            "                   all        399       4221      0.824      0.903      0.914      0.675\n"
          ]
        },
        {
          "output_type": "stream",
          "name": "stderr",
          "text": [
            "\n"
          ]
        },
        {
          "output_type": "stream",
          "name": "stdout",
          "text": [
            "\n",
            "      Epoch    GPU_mem   box_loss   cls_loss   dfl_loss  Instances       Size\n"
          ]
        },
        {
          "output_type": "stream",
          "name": "stderr",
          "text": [
            "      22/40      2.55G     0.8853     0.6168      1.016        154        640: 100%|██████████| 108/108 [01:07<00:00,  1.59it/s]\n",
            "                 Class     Images  Instances      Box(P          R      mAP50  mAP50-95): 100%|██████████| 13/13 [00:11<00:00,  1.12it/s]"
          ]
        },
        {
          "output_type": "stream",
          "name": "stdout",
          "text": [
            "                   all        399       4221      0.838      0.896      0.906      0.676\n"
          ]
        },
        {
          "output_type": "stream",
          "name": "stderr",
          "text": [
            "\n"
          ]
        },
        {
          "output_type": "stream",
          "name": "stdout",
          "text": [
            "\n",
            "      Epoch    GPU_mem   box_loss   cls_loss   dfl_loss  Instances       Size\n"
          ]
        },
        {
          "output_type": "stream",
          "name": "stderr",
          "text": [
            "      23/40       2.6G      0.876     0.6111      1.008        191        640: 100%|██████████| 108/108 [01:10<00:00,  1.53it/s]\n",
            "                 Class     Images  Instances      Box(P          R      mAP50  mAP50-95): 100%|██████████| 13/13 [00:10<00:00,  1.25it/s]"
          ]
        },
        {
          "output_type": "stream",
          "name": "stdout",
          "text": [
            "                   all        399       4221      0.832      0.908      0.913      0.684\n"
          ]
        },
        {
          "output_type": "stream",
          "name": "stderr",
          "text": [
            "\n"
          ]
        },
        {
          "output_type": "stream",
          "name": "stdout",
          "text": [
            "\n",
            "      Epoch    GPU_mem   box_loss   cls_loss   dfl_loss  Instances       Size\n"
          ]
        },
        {
          "output_type": "stream",
          "name": "stderr",
          "text": [
            "      24/40      2.55G     0.8729     0.6121      1.012        202        640: 100%|██████████| 108/108 [01:11<00:00,  1.51it/s]\n",
            "                 Class     Images  Instances      Box(P          R      mAP50  mAP50-95): 100%|██████████| 13/13 [00:08<00:00,  1.53it/s]\n"
          ]
        },
        {
          "output_type": "stream",
          "name": "stdout",
          "text": [
            "                   all        399       4221      0.842      0.901      0.917      0.688\n",
            "\n",
            "      Epoch    GPU_mem   box_loss   cls_loss   dfl_loss  Instances       Size\n"
          ]
        },
        {
          "output_type": "stream",
          "name": "stderr",
          "text": [
            "      25/40      2.64G     0.8692     0.5969       1.01        111        640: 100%|██████████| 108/108 [01:12<00:00,  1.49it/s]\n",
            "                 Class     Images  Instances      Box(P          R      mAP50  mAP50-95): 100%|██████████| 13/13 [00:08<00:00,  1.62it/s]"
          ]
        },
        {
          "output_type": "stream",
          "name": "stdout",
          "text": [
            "                   all        399       4221      0.844      0.891      0.912      0.678\n"
          ]
        },
        {
          "output_type": "stream",
          "name": "stderr",
          "text": [
            "\n"
          ]
        },
        {
          "output_type": "stream",
          "name": "stdout",
          "text": [
            "\n",
            "      Epoch    GPU_mem   box_loss   cls_loss   dfl_loss  Instances       Size\n"
          ]
        },
        {
          "output_type": "stream",
          "name": "stderr",
          "text": [
            "      26/40      2.66G     0.8692     0.5902      1.005        179        640: 100%|██████████| 108/108 [01:14<00:00,  1.44it/s]\n",
            "                 Class     Images  Instances      Box(P          R      mAP50  mAP50-95): 100%|██████████| 13/13 [00:09<00:00,  1.38it/s]"
          ]
        },
        {
          "output_type": "stream",
          "name": "stdout",
          "text": [
            "                   all        399       4221      0.847      0.903      0.914      0.681\n"
          ]
        },
        {
          "output_type": "stream",
          "name": "stderr",
          "text": [
            "\n"
          ]
        },
        {
          "output_type": "stream",
          "name": "stdout",
          "text": [
            "\n",
            "      Epoch    GPU_mem   box_loss   cls_loss   dfl_loss  Instances       Size\n"
          ]
        },
        {
          "output_type": "stream",
          "name": "stderr",
          "text": [
            "      27/40      2.64G     0.8562      0.591      1.002        119        640: 100%|██████████| 108/108 [01:10<00:00,  1.54it/s]\n",
            "                 Class     Images  Instances      Box(P          R      mAP50  mAP50-95): 100%|██████████| 13/13 [00:11<00:00,  1.15it/s]"
          ]
        },
        {
          "output_type": "stream",
          "name": "stdout",
          "text": [
            "                   all        399       4221      0.851      0.886      0.916      0.691\n"
          ]
        },
        {
          "output_type": "stream",
          "name": "stderr",
          "text": [
            "\n"
          ]
        },
        {
          "output_type": "stream",
          "name": "stdout",
          "text": [
            "\n",
            "      Epoch    GPU_mem   box_loss   cls_loss   dfl_loss  Instances       Size\n"
          ]
        },
        {
          "output_type": "stream",
          "name": "stderr",
          "text": [
            "      28/40      2.42G     0.8491     0.5755      1.002        135        640: 100%|██████████| 108/108 [01:08<00:00,  1.57it/s]\n",
            "                 Class     Images  Instances      Box(P          R      mAP50  mAP50-95): 100%|██████████| 13/13 [00:11<00:00,  1.16it/s]"
          ]
        },
        {
          "output_type": "stream",
          "name": "stdout",
          "text": [
            "                   all        399       4221      0.826      0.908      0.914      0.685\n"
          ]
        },
        {
          "output_type": "stream",
          "name": "stderr",
          "text": [
            "\n"
          ]
        },
        {
          "output_type": "stream",
          "name": "stdout",
          "text": [
            "\n",
            "      Epoch    GPU_mem   box_loss   cls_loss   dfl_loss  Instances       Size\n"
          ]
        },
        {
          "output_type": "stream",
          "name": "stderr",
          "text": [
            "      29/40      2.47G     0.8518     0.5863      1.003        191        640: 100%|██████████| 108/108 [01:11<00:00,  1.52it/s]\n",
            "                 Class     Images  Instances      Box(P          R      mAP50  mAP50-95): 100%|██████████| 13/13 [00:09<00:00,  1.38it/s]"
          ]
        },
        {
          "output_type": "stream",
          "name": "stdout",
          "text": [
            "                   all        399       4221      0.845      0.904      0.921      0.695\n"
          ]
        },
        {
          "output_type": "stream",
          "name": "stderr",
          "text": [
            "\n"
          ]
        },
        {
          "output_type": "stream",
          "name": "stdout",
          "text": [
            "\n",
            "      Epoch    GPU_mem   box_loss   cls_loss   dfl_loss  Instances       Size\n"
          ]
        },
        {
          "output_type": "stream",
          "name": "stderr",
          "text": [
            "      30/40      2.67G     0.8456     0.5704     0.9995        265        640: 100%|██████████| 108/108 [01:12<00:00,  1.48it/s]\n",
            "                 Class     Images  Instances      Box(P          R      mAP50  mAP50-95): 100%|██████████| 13/13 [00:07<00:00,  1.65it/s]"
          ]
        },
        {
          "output_type": "stream",
          "name": "stdout",
          "text": [
            "                   all        399       4221      0.861      0.895      0.921      0.697\n"
          ]
        },
        {
          "output_type": "stream",
          "name": "stderr",
          "text": [
            "\n"
          ]
        },
        {
          "output_type": "stream",
          "name": "stdout",
          "text": [
            "Closing dataloader mosaic\n",
            "\u001b[34m\u001b[1malbumentations: \u001b[0mBlur(p=0.01, blur_limit=(3, 7)), MedianBlur(p=0.01, blur_limit=(3, 7)), ToGray(p=0.01), CLAHE(p=0.01, clip_limit=(1, 4.0), tile_grid_size=(8, 8))\n"
          ]
        },
        {
          "output_type": "stream",
          "name": "stderr",
          "text": [
            "/usr/lib/python3.10/multiprocessing/popen_fork.py:66: RuntimeWarning: os.fork() was called. os.fork() is incompatible with multithreaded code, and JAX is multithreaded, so this will likely lead to a deadlock.\n",
            "  self.pid = os.fork()\n"
          ]
        },
        {
          "output_type": "stream",
          "name": "stdout",
          "text": [
            "\n",
            "      Epoch    GPU_mem   box_loss   cls_loss   dfl_loss  Instances       Size\n"
          ]
        },
        {
          "output_type": "stream",
          "name": "stderr",
          "text": [
            "      31/40       2.5G     0.8126     0.5308     0.9945        115        640: 100%|██████████| 108/108 [01:13<00:00,  1.47it/s]\n",
            "                 Class     Images  Instances      Box(P          R      mAP50  mAP50-95): 100%|██████████| 13/13 [00:09<00:00,  1.37it/s]"
          ]
        },
        {
          "output_type": "stream",
          "name": "stdout",
          "text": [
            "                   all        399       4221      0.842      0.902      0.916      0.688\n"
          ]
        },
        {
          "output_type": "stream",
          "name": "stderr",
          "text": [
            "\n"
          ]
        },
        {
          "output_type": "stream",
          "name": "stdout",
          "text": [
            "\n",
            "      Epoch    GPU_mem   box_loss   cls_loss   dfl_loss  Instances       Size\n"
          ]
        },
        {
          "output_type": "stream",
          "name": "stderr",
          "text": [
            "      32/40       2.2G     0.7978     0.5222     0.9869        120        640: 100%|██████████| 108/108 [01:04<00:00,  1.67it/s]\n",
            "                 Class     Images  Instances      Box(P          R      mAP50  mAP50-95): 100%|██████████| 13/13 [00:10<00:00,  1.27it/s]"
          ]
        },
        {
          "output_type": "stream",
          "name": "stdout",
          "text": [
            "                   all        399       4221      0.852      0.908      0.921      0.694\n"
          ]
        },
        {
          "output_type": "stream",
          "name": "stderr",
          "text": [
            "\n"
          ]
        },
        {
          "output_type": "stream",
          "name": "stdout",
          "text": [
            "\n",
            "      Epoch    GPU_mem   box_loss   cls_loss   dfl_loss  Instances       Size\n"
          ]
        },
        {
          "output_type": "stream",
          "name": "stderr",
          "text": [
            "      33/40       2.2G     0.7986     0.5126     0.9854        102        640: 100%|██████████| 108/108 [01:05<00:00,  1.65it/s]\n",
            "                 Class     Images  Instances      Box(P          R      mAP50  mAP50-95): 100%|██████████| 13/13 [00:10<00:00,  1.27it/s]"
          ]
        },
        {
          "output_type": "stream",
          "name": "stdout",
          "text": [
            "                   all        399       4221      0.853      0.909      0.922      0.691\n"
          ]
        },
        {
          "output_type": "stream",
          "name": "stderr",
          "text": [
            "\n"
          ]
        },
        {
          "output_type": "stream",
          "name": "stdout",
          "text": [
            "\n",
            "      Epoch    GPU_mem   box_loss   cls_loss   dfl_loss  Instances       Size\n"
          ]
        },
        {
          "output_type": "stream",
          "name": "stderr",
          "text": [
            "      34/40      2.21G     0.7903     0.5053     0.9852        102        640: 100%|██████████| 108/108 [01:05<00:00,  1.65it/s]\n",
            "                 Class     Images  Instances      Box(P          R      mAP50  mAP50-95): 100%|██████████| 13/13 [00:10<00:00,  1.27it/s]"
          ]
        },
        {
          "output_type": "stream",
          "name": "stdout",
          "text": [
            "                   all        399       4221      0.859      0.895       0.92      0.694\n"
          ]
        },
        {
          "output_type": "stream",
          "name": "stderr",
          "text": [
            "\n"
          ]
        },
        {
          "output_type": "stream",
          "name": "stdout",
          "text": [
            "\n",
            "      Epoch    GPU_mem   box_loss   cls_loss   dfl_loss  Instances       Size\n"
          ]
        },
        {
          "output_type": "stream",
          "name": "stderr",
          "text": [
            "      35/40      2.28G       0.78     0.4948     0.9789         95        640: 100%|██████████| 108/108 [01:04<00:00,  1.67it/s]\n",
            "                 Class     Images  Instances      Box(P          R      mAP50  mAP50-95): 100%|██████████| 13/13 [00:10<00:00,  1.26it/s]"
          ]
        },
        {
          "output_type": "stream",
          "name": "stdout",
          "text": [
            "                   all        399       4221       0.86        0.9      0.921      0.699\n"
          ]
        },
        {
          "output_type": "stream",
          "name": "stderr",
          "text": [
            "\n"
          ]
        },
        {
          "output_type": "stream",
          "name": "stdout",
          "text": [
            "\n",
            "      Epoch    GPU_mem   box_loss   cls_loss   dfl_loss  Instances       Size\n"
          ]
        },
        {
          "output_type": "stream",
          "name": "stderr",
          "text": [
            "      36/40      2.24G     0.7798     0.4933     0.9764         89        640: 100%|██████████| 108/108 [01:05<00:00,  1.64it/s]\n",
            "                 Class     Images  Instances      Box(P          R      mAP50  mAP50-95): 100%|██████████| 13/13 [00:10<00:00,  1.27it/s]"
          ]
        },
        {
          "output_type": "stream",
          "name": "stdout",
          "text": [
            "                   all        399       4221      0.864      0.899      0.924      0.701\n"
          ]
        },
        {
          "output_type": "stream",
          "name": "stderr",
          "text": [
            "\n"
          ]
        },
        {
          "output_type": "stream",
          "name": "stdout",
          "text": [
            "\n",
            "      Epoch    GPU_mem   box_loss   cls_loss   dfl_loss  Instances       Size\n"
          ]
        },
        {
          "output_type": "stream",
          "name": "stderr",
          "text": [
            "      37/40       2.2G     0.7711     0.4805     0.9717        134        640: 100%|██████████| 108/108 [01:05<00:00,  1.64it/s]\n",
            "                 Class     Images  Instances      Box(P          R      mAP50  mAP50-95): 100%|██████████| 13/13 [00:09<00:00,  1.32it/s]"
          ]
        },
        {
          "output_type": "stream",
          "name": "stdout",
          "text": [
            "                   all        399       4221      0.858      0.908      0.923      0.701\n"
          ]
        },
        {
          "output_type": "stream",
          "name": "stderr",
          "text": [
            "\n"
          ]
        },
        {
          "output_type": "stream",
          "name": "stdout",
          "text": [
            "\n",
            "      Epoch    GPU_mem   box_loss   cls_loss   dfl_loss  Instances       Size\n"
          ]
        },
        {
          "output_type": "stream",
          "name": "stderr",
          "text": [
            "      38/40      2.18G     0.7732     0.4817      0.976         94        640: 100%|██████████| 108/108 [01:05<00:00,  1.64it/s]\n",
            "                 Class     Images  Instances      Box(P          R      mAP50  mAP50-95): 100%|██████████| 13/13 [00:09<00:00,  1.38it/s]"
          ]
        },
        {
          "output_type": "stream",
          "name": "stdout",
          "text": [
            "                   all        399       4221      0.852      0.909      0.919      0.697\n"
          ]
        },
        {
          "output_type": "stream",
          "name": "stderr",
          "text": [
            "\n"
          ]
        },
        {
          "output_type": "stream",
          "name": "stdout",
          "text": [
            "\n",
            "      Epoch    GPU_mem   box_loss   cls_loss   dfl_loss  Instances       Size\n"
          ]
        },
        {
          "output_type": "stream",
          "name": "stderr",
          "text": [
            "      39/40       2.2G     0.7631     0.4795     0.9746         80        640: 100%|██████████| 108/108 [01:06<00:00,  1.63it/s]\n",
            "                 Class     Images  Instances      Box(P          R      mAP50  mAP50-95): 100%|██████████| 13/13 [00:10<00:00,  1.29it/s]"
          ]
        },
        {
          "output_type": "stream",
          "name": "stdout",
          "text": [
            "                   all        399       4221      0.863      0.906      0.924      0.703\n"
          ]
        },
        {
          "output_type": "stream",
          "name": "stderr",
          "text": [
            "\n"
          ]
        },
        {
          "output_type": "stream",
          "name": "stdout",
          "text": [
            "\n",
            "      Epoch    GPU_mem   box_loss   cls_loss   dfl_loss  Instances       Size\n"
          ]
        },
        {
          "output_type": "stream",
          "name": "stderr",
          "text": [
            "      40/40      2.19G     0.7603     0.4762     0.9715        111        640: 100%|██████████| 108/108 [01:05<00:00,  1.64it/s]\n",
            "                 Class     Images  Instances      Box(P          R      mAP50  mAP50-95): 100%|██████████| 13/13 [00:10<00:00,  1.30it/s]"
          ]
        },
        {
          "output_type": "stream",
          "name": "stdout",
          "text": [
            "                   all        399       4221      0.861      0.898       0.92      0.698\n"
          ]
        },
        {
          "output_type": "stream",
          "name": "stderr",
          "text": [
            "\n"
          ]
        },
        {
          "output_type": "stream",
          "name": "stdout",
          "text": [
            "\n",
            "40 epochs completed in 0.909 hours.\n",
            "Optimizer stripped from runs/detect/train/weights/last.pt, 6.3MB\n",
            "Optimizer stripped from runs/detect/train/weights/best.pt, 6.3MB\n",
            "\n",
            "Validating runs/detect/train/weights/best.pt...\n",
            "Ultralytics YOLOv8.2.11 🚀 Python-3.10.12 torch-2.2.1+cu121 CUDA:0 (Tesla T4, 15102MiB)\n",
            "Model summary (fused): 168 layers, 3006818 parameters, 0 gradients, 8.1 GFLOPs\n"
          ]
        },
        {
          "output_type": "stream",
          "name": "stderr",
          "text": [
            "                 Class     Images  Instances      Box(P          R      mAP50  mAP50-95): 100%|██████████| 13/13 [00:18<00:00,  1.40s/it]\n"
          ]
        },
        {
          "output_type": "stream",
          "name": "stdout",
          "text": [
            "                   all        399       4221      0.863      0.906      0.924      0.703\n",
            "                  bike        399       1011      0.918      0.938      0.974      0.848\n",
            "                helmet        399        528      0.874      0.897       0.92      0.671\n",
            "                  lisc        399        765      0.907      0.935       0.96      0.666\n",
            "             no_helmet        399        576      0.838      0.835      0.885      0.583\n",
            "                 noise        399        190      0.728      0.905      0.839      0.705\n",
            "                 rider        399       1151      0.913      0.925      0.965      0.746\n",
            "Speed: 0.4ms preprocess, 3.1ms inference, 0.0ms loss, 5.9ms postprocess per image\n",
            "Results saved to \u001b[1mruns/detect/train\u001b[0m\n"
          ]
        }
      ]
    },
    {
      "cell_type": "code",
      "source": [
        "from ultralytics import YOLO\n",
        "\n",
        "model = YOLO(\"/content/best.pt\")\n",
        "results = model.predict(source=\"/content/3691658-hd_1920_1080_30fps.mp4\", save=True)"
      ],
      "metadata": {
        "colab": {
          "base_uri": "https://localhost:8080/"
        },
        "id": "4YVdr8NK8Pg_",
        "outputId": "e70bb060-3381-4010-b12b-ca8481e0d4a0"
      },
      "execution_count": null,
      "outputs": [
        {
          "output_type": "stream",
          "name": "stdout",
          "text": [
            "\n",
            "\n",
            "WARNING ⚠️ inference results will accumulate in RAM unless `stream=True` is passed, causing potential out-of-memory\n",
            "errors for large sources or long-running streams and videos. See https://docs.ultralytics.com/modes/predict/ for help.\n",
            "\n",
            "Example:\n",
            "    results = model(source=..., stream=True)  # generator of Results objects\n",
            "    for r in results:\n",
            "        boxes = r.boxes  # Boxes object for bbox outputs\n",
            "        masks = r.masks  # Masks object for segment masks outputs\n",
            "        probs = r.probs  # Class probabilities for classification outputs\n",
            "\n",
            "video 1/1 (frame 1/1329) /content/3691658-hd_1920_1080_30fps.mp4: 384x640 4 bikes, 3 helmets, 3 liscs, 3 riders, 83.5ms\n",
            "video 1/1 (frame 2/1329) /content/3691658-hd_1920_1080_30fps.mp4: 384x640 5 bikes, 2 helmets, 3 liscs, 1 no_helmet, 3 riders, 10.4ms\n",
            "video 1/1 (frame 3/1329) /content/3691658-hd_1920_1080_30fps.mp4: 384x640 4 bikes, 2 helmets, 2 liscs, 3 riders, 9.9ms\n",
            "video 1/1 (frame 4/1329) /content/3691658-hd_1920_1080_30fps.mp4: 384x640 5 bikes, 2 helmets, 2 liscs, 4 riders, 10.1ms\n",
            "video 1/1 (frame 5/1329) /content/3691658-hd_1920_1080_30fps.mp4: 384x640 5 bikes, 2 helmets, 2 liscs, 4 riders, 9.1ms\n",
            "video 1/1 (frame 6/1329) /content/3691658-hd_1920_1080_30fps.mp4: 384x640 4 bikes, 4 helmets, 2 liscs, 3 riders, 18.5ms\n",
            "video 1/1 (frame 7/1329) /content/3691658-hd_1920_1080_30fps.mp4: 384x640 4 bikes, 2 helmets, 3 liscs, 1 no_helmet, 4 riders, 11.5ms\n",
            "video 1/1 (frame 8/1329) /content/3691658-hd_1920_1080_30fps.mp4: 384x640 4 bikes, 2 helmets, 1 lisc, 1 no_helmet, 3 riders, 11.2ms\n",
            "video 1/1 (frame 9/1329) /content/3691658-hd_1920_1080_30fps.mp4: 384x640 3 bikes, 2 helmets, 1 lisc, 3 riders, 11.1ms\n",
            "video 1/1 (frame 10/1329) /content/3691658-hd_1920_1080_30fps.mp4: 384x640 3 bikes, 2 helmets, 2 liscs, 1 no_helmet, 5 riders, 8.3ms\n",
            "video 1/1 (frame 11/1329) /content/3691658-hd_1920_1080_30fps.mp4: 384x640 3 bikes, 3 helmets, 2 liscs, 3 no_helmets, 6 riders, 10.4ms\n",
            "video 1/1 (frame 12/1329) /content/3691658-hd_1920_1080_30fps.mp4: 384x640 4 bikes, 2 helmets, 3 liscs, 3 no_helmets, 5 riders, 7.7ms\n",
            "video 1/1 (frame 13/1329) /content/3691658-hd_1920_1080_30fps.mp4: 384x640 4 bikes, 2 helmets, 3 liscs, 1 no_helmet, 4 riders, 11.5ms\n",
            "video 1/1 (frame 14/1329) /content/3691658-hd_1920_1080_30fps.mp4: 384x640 4 bikes, 3 helmets, 3 liscs, 1 no_helmet, 5 riders, 10.9ms\n",
            "video 1/1 (frame 15/1329) /content/3691658-hd_1920_1080_30fps.mp4: 384x640 4 bikes, 2 helmets, 3 liscs, 2 no_helmets, 4 riders, 7.5ms\n",
            "video 1/1 (frame 16/1329) /content/3691658-hd_1920_1080_30fps.mp4: 384x640 4 bikes, 2 helmets, 2 liscs, 1 no_helmet, 4 riders, 11.3ms\n",
            "video 1/1 (frame 17/1329) /content/3691658-hd_1920_1080_30fps.mp4: 384x640 4 bikes, 1 helmet, 2 liscs, 1 no_helmet, 4 riders, 9.9ms\n",
            "video 1/1 (frame 18/1329) /content/3691658-hd_1920_1080_30fps.mp4: 384x640 4 bikes, 2 helmets, 2 liscs, 2 no_helmets, 5 riders, 10.2ms\n",
            "video 1/1 (frame 19/1329) /content/3691658-hd_1920_1080_30fps.mp4: 384x640 4 bikes, 4 helmets, 3 liscs, 1 no_helmet, 5 riders, 11.1ms\n",
            "video 1/1 (frame 20/1329) /content/3691658-hd_1920_1080_30fps.mp4: 384x640 4 bikes, 2 helmets, 3 liscs, 2 no_helmets, 4 riders, 8.6ms\n",
            "video 1/1 (frame 21/1329) /content/3691658-hd_1920_1080_30fps.mp4: 384x640 5 bikes, 3 helmets, 2 liscs, 2 no_helmets, 3 riders, 10.2ms\n",
            "video 1/1 (frame 22/1329) /content/3691658-hd_1920_1080_30fps.mp4: 384x640 4 bikes, 3 helmets, 2 liscs, 3 riders, 11.4ms\n",
            "video 1/1 (frame 23/1329) /content/3691658-hd_1920_1080_30fps.mp4: 384x640 4 bikes, 3 helmets, 3 liscs, 1 no_helmet, 3 riders, 7.4ms\n",
            "video 1/1 (frame 24/1329) /content/3691658-hd_1920_1080_30fps.mp4: 384x640 6 bikes, 2 helmets, 3 liscs, 3 no_helmets, 4 riders, 11.0ms\n",
            "video 1/1 (frame 25/1329) /content/3691658-hd_1920_1080_30fps.mp4: 384x640 5 bikes, 2 helmets, 5 liscs, 2 no_helmets, 4 riders, 9.2ms\n",
            "video 1/1 (frame 26/1329) /content/3691658-hd_1920_1080_30fps.mp4: 384x640 5 bikes, 3 helmets, 3 liscs, 1 no_helmet, 4 riders, 15.4ms\n",
            "video 1/1 (frame 27/1329) /content/3691658-hd_1920_1080_30fps.mp4: 384x640 4 bikes, 2 helmets, 4 liscs, 2 no_helmets, 4 riders, 10.9ms\n",
            "video 1/1 (frame 28/1329) /content/3691658-hd_1920_1080_30fps.mp4: 384x640 6 bikes, 2 helmets, 4 liscs, 1 no_helmet, 5 riders, 9.6ms\n",
            "video 1/1 (frame 29/1329) /content/3691658-hd_1920_1080_30fps.mp4: 384x640 4 bikes, 3 helmets, 5 liscs, 4 riders, 9.6ms\n",
            "video 1/1 (frame 30/1329) /content/3691658-hd_1920_1080_30fps.mp4: 384x640 5 bikes, 3 helmets, 5 liscs, 4 riders, 11.5ms\n",
            "video 1/1 (frame 31/1329) /content/3691658-hd_1920_1080_30fps.mp4: 384x640 4 bikes, 3 helmets, 5 liscs, 4 riders, 9.2ms\n",
            "video 1/1 (frame 32/1329) /content/3691658-hd_1920_1080_30fps.mp4: 384x640 5 bikes, 3 helmets, 5 liscs, 4 riders, 8.2ms\n",
            "video 1/1 (frame 33/1329) /content/3691658-hd_1920_1080_30fps.mp4: 384x640 4 bikes, 3 helmets, 5 liscs, 4 riders, 8.1ms\n",
            "video 1/1 (frame 34/1329) /content/3691658-hd_1920_1080_30fps.mp4: 384x640 4 bikes, 3 helmets, 4 liscs, 4 riders, 10.2ms\n",
            "video 1/1 (frame 35/1329) /content/3691658-hd_1920_1080_30fps.mp4: 384x640 4 bikes, 3 helmets, 4 liscs, 4 riders, 11.0ms\n",
            "video 1/1 (frame 36/1329) /content/3691658-hd_1920_1080_30fps.mp4: 384x640 4 bikes, 3 helmets, 5 liscs, 4 riders, 8.0ms\n",
            "video 1/1 (frame 37/1329) /content/3691658-hd_1920_1080_30fps.mp4: 384x640 5 bikes, 3 helmets, 5 liscs, 4 riders, 10.2ms\n",
            "video 1/1 (frame 38/1329) /content/3691658-hd_1920_1080_30fps.mp4: 384x640 5 bikes, 2 helmets, 5 liscs, 4 riders, 8.9ms\n",
            "video 1/1 (frame 39/1329) /content/3691658-hd_1920_1080_30fps.mp4: 384x640 5 bikes, 2 helmets, 5 liscs, 1 no_helmet, 4 riders, 10.6ms\n",
            "video 1/1 (frame 40/1329) /content/3691658-hd_1920_1080_30fps.mp4: 384x640 5 bikes, 3 helmets, 4 liscs, 4 riders, 11.1ms\n",
            "video 1/1 (frame 41/1329) /content/3691658-hd_1920_1080_30fps.mp4: 384x640 5 bikes, 3 helmets, 3 liscs, 1 no_helmet, 6 riders, 11.1ms\n",
            "video 1/1 (frame 42/1329) /content/3691658-hd_1920_1080_30fps.mp4: 384x640 5 bikes, 3 helmets, 4 liscs, 1 no_helmet, 5 riders, 9.1ms\n",
            "video 1/1 (frame 43/1329) /content/3691658-hd_1920_1080_30fps.mp4: 384x640 5 bikes, 3 helmets, 4 liscs, 4 riders, 33.5ms\n",
            "video 1/1 (frame 44/1329) /content/3691658-hd_1920_1080_30fps.mp4: 384x640 5 bikes, 3 helmets, 4 liscs, 5 riders, 11.4ms\n",
            "video 1/1 (frame 45/1329) /content/3691658-hd_1920_1080_30fps.mp4: 384x640 5 bikes, 3 helmets, 4 liscs, 5 riders, 10.1ms\n",
            "video 1/1 (frame 46/1329) /content/3691658-hd_1920_1080_30fps.mp4: 384x640 5 bikes, 4 helmets, 3 liscs, 1 no_helmet, 5 riders, 12.2ms\n",
            "video 1/1 (frame 47/1329) /content/3691658-hd_1920_1080_30fps.mp4: 384x640 6 bikes, 2 helmets, 4 liscs, 1 no_helmet, 5 riders, 7.2ms\n",
            "video 1/1 (frame 48/1329) /content/3691658-hd_1920_1080_30fps.mp4: 384x640 5 bikes, 4 helmets, 5 liscs, 6 riders, 10.8ms\n",
            "video 1/1 (frame 49/1329) /content/3691658-hd_1920_1080_30fps.mp4: 384x640 5 bikes, 3 helmets, 3 liscs, 5 riders, 9.6ms\n",
            "video 1/1 (frame 50/1329) /content/3691658-hd_1920_1080_30fps.mp4: 384x640 5 bikes, 3 helmets, 4 liscs, 4 riders, 10.6ms\n",
            "video 1/1 (frame 51/1329) /content/3691658-hd_1920_1080_30fps.mp4: 384x640 5 bikes, 3 helmets, 4 liscs, 5 riders, 9.2ms\n",
            "video 1/1 (frame 52/1329) /content/3691658-hd_1920_1080_30fps.mp4: 384x640 4 bikes, 4 helmets, 4 liscs, 5 riders, 10.6ms\n",
            "video 1/1 (frame 53/1329) /content/3691658-hd_1920_1080_30fps.mp4: 384x640 4 bikes, 4 helmets, 4 liscs, 5 riders, 11.6ms\n",
            "video 1/1 (frame 54/1329) /content/3691658-hd_1920_1080_30fps.mp4: 384x640 5 bikes, 4 helmets, 3 liscs, 1 no_helmet, 5 riders, 11.7ms\n",
            "video 1/1 (frame 55/1329) /content/3691658-hd_1920_1080_30fps.mp4: 384x640 5 bikes, 3 helmets, 4 liscs, 6 riders, 17.3ms\n",
            "video 1/1 (frame 56/1329) /content/3691658-hd_1920_1080_30fps.mp4: 384x640 5 bikes, 4 helmets, 4 liscs, 6 riders, 11.6ms\n",
            "video 1/1 (frame 57/1329) /content/3691658-hd_1920_1080_30fps.mp4: 384x640 4 bikes, 3 helmets, 3 liscs, 5 riders, 12.2ms\n",
            "video 1/1 (frame 58/1329) /content/3691658-hd_1920_1080_30fps.mp4: 384x640 5 bikes, 3 helmets, 4 liscs, 5 riders, 8.8ms\n",
            "video 1/1 (frame 59/1329) /content/3691658-hd_1920_1080_30fps.mp4: 384x640 6 bikes, 3 helmets, 5 liscs, 4 riders, 13.0ms\n",
            "video 1/1 (frame 60/1329) /content/3691658-hd_1920_1080_30fps.mp4: 384x640 5 bikes, 3 helmets, 4 liscs, 4 riders, 8.9ms\n",
            "video 1/1 (frame 61/1329) /content/3691658-hd_1920_1080_30fps.mp4: 384x640 4 bikes, 4 helmets, 3 liscs, 6 riders, 11.6ms\n",
            "video 1/1 (frame 62/1329) /content/3691658-hd_1920_1080_30fps.mp4: 384x640 6 bikes, 3 helmets, 4 liscs, 5 riders, 10.4ms\n",
            "video 1/1 (frame 63/1329) /content/3691658-hd_1920_1080_30fps.mp4: 384x640 4 bikes, 4 helmets, 4 liscs, 4 riders, 10.3ms\n",
            "video 1/1 (frame 64/1329) /content/3691658-hd_1920_1080_30fps.mp4: 384x640 5 bikes, 3 helmets, 3 liscs, 4 riders, 11.0ms\n",
            "video 1/1 (frame 65/1329) /content/3691658-hd_1920_1080_30fps.mp4: 384x640 4 bikes, 4 helmets, 3 liscs, 4 riders, 9.1ms\n",
            "video 1/1 (frame 66/1329) /content/3691658-hd_1920_1080_30fps.mp4: 384x640 4 bikes, 3 helmets, 4 liscs, 4 riders, 11.8ms\n",
            "video 1/1 (frame 67/1329) /content/3691658-hd_1920_1080_30fps.mp4: 384x640 6 bikes, 3 helmets, 4 liscs, 5 riders, 11.0ms\n",
            "video 1/1 (frame 68/1329) /content/3691658-hd_1920_1080_30fps.mp4: 384x640 5 bikes, 3 helmets, 4 liscs, 5 riders, 11.3ms\n",
            "video 1/1 (frame 69/1329) /content/3691658-hd_1920_1080_30fps.mp4: 384x640 5 bikes, 3 helmets, 4 liscs, 5 riders, 12.7ms\n",
            "video 1/1 (frame 70/1329) /content/3691658-hd_1920_1080_30fps.mp4: 384x640 6 bikes, 2 helmets, 4 liscs, 1 no_helmet, 4 riders, 12.0ms\n",
            "video 1/1 (frame 71/1329) /content/3691658-hd_1920_1080_30fps.mp4: 384x640 6 bikes, 3 helmets, 4 liscs, 5 riders, 9.0ms\n",
            "video 1/1 (frame 72/1329) /content/3691658-hd_1920_1080_30fps.mp4: 384x640 6 bikes, 3 helmets, 4 liscs, 1 no_helmet, 7 riders, 10.7ms\n",
            "video 1/1 (frame 73/1329) /content/3691658-hd_1920_1080_30fps.mp4: 384x640 6 bikes, 4 helmets, 4 liscs, 1 no_helmet, 7 riders, 9.2ms\n",
            "video 1/1 (frame 74/1329) /content/3691658-hd_1920_1080_30fps.mp4: 384x640 6 bikes, 4 helmets, 4 liscs, 5 riders, 10.9ms\n",
            "video 1/1 (frame 75/1329) /content/3691658-hd_1920_1080_30fps.mp4: 384x640 6 bikes, 5 helmets, 4 liscs, 5 riders, 9.5ms\n",
            "video 1/1 (frame 76/1329) /content/3691658-hd_1920_1080_30fps.mp4: 384x640 6 bikes, 4 helmets, 4 liscs, 1 no_helmet, 5 riders, 13.5ms\n",
            "video 1/1 (frame 77/1329) /content/3691658-hd_1920_1080_30fps.mp4: 384x640 5 bikes, 4 helmets, 4 liscs, 5 riders, 10.0ms\n",
            "video 1/1 (frame 78/1329) /content/3691658-hd_1920_1080_30fps.mp4: 384x640 5 bikes, 4 helmets, 2 liscs, 5 riders, 10.9ms\n",
            "video 1/1 (frame 79/1329) /content/3691658-hd_1920_1080_30fps.mp4: 384x640 5 bikes, 3 helmets, 3 liscs, 1 no_helmet, 5 riders, 9.6ms\n",
            "video 1/1 (frame 80/1329) /content/3691658-hd_1920_1080_30fps.mp4: 384x640 5 bikes, 4 helmets, 3 liscs, 5 riders, 12.2ms\n",
            "video 1/1 (frame 81/1329) /content/3691658-hd_1920_1080_30fps.mp4: 384x640 5 bikes, 4 helmets, 3 liscs, 5 riders, 9.5ms\n",
            "video 1/1 (frame 82/1329) /content/3691658-hd_1920_1080_30fps.mp4: 384x640 5 bikes, 3 helmets, 3 liscs, 4 riders, 10.5ms\n",
            "video 1/1 (frame 83/1329) /content/3691658-hd_1920_1080_30fps.mp4: 384x640 5 bikes, 4 helmets, 3 liscs, 5 riders, 8.3ms\n",
            "video 1/1 (frame 84/1329) /content/3691658-hd_1920_1080_30fps.mp4: 384x640 5 bikes, 4 helmets, 3 liscs, 1 no_helmet, 5 riders, 12.0ms\n",
            "video 1/1 (frame 85/1329) /content/3691658-hd_1920_1080_30fps.mp4: 384x640 4 bikes, 4 helmets, 3 liscs, 5 riders, 10.2ms\n",
            "video 1/1 (frame 86/1329) /content/3691658-hd_1920_1080_30fps.mp4: 384x640 5 bikes, 4 helmets, 3 liscs, 5 riders, 10.1ms\n",
            "video 1/1 (frame 87/1329) /content/3691658-hd_1920_1080_30fps.mp4: 384x640 5 bikes, 5 helmets, 3 liscs, 5 riders, 10.6ms\n",
            "video 1/1 (frame 88/1329) /content/3691658-hd_1920_1080_30fps.mp4: 384x640 4 bikes, 3 helmets, 3 liscs, 1 no_helmet, 4 riders, 9.4ms\n",
            "video 1/1 (frame 89/1329) /content/3691658-hd_1920_1080_30fps.mp4: 384x640 4 bikes, 3 helmets, 3 liscs, 4 riders, 10.7ms\n",
            "video 1/1 (frame 90/1329) /content/3691658-hd_1920_1080_30fps.mp4: 384x640 4 bikes, 3 helmets, 4 liscs, 1 no_helmet, 5 riders, 8.8ms\n",
            "video 1/1 (frame 91/1329) /content/3691658-hd_1920_1080_30fps.mp4: 384x640 4 bikes, 3 helmets, 3 liscs, 3 riders, 11.4ms\n",
            "video 1/1 (frame 92/1329) /content/3691658-hd_1920_1080_30fps.mp4: 384x640 4 bikes, 3 helmets, 3 liscs, 5 riders, 10.0ms\n",
            "video 1/1 (frame 93/1329) /content/3691658-hd_1920_1080_30fps.mp4: 384x640 4 bikes, 2 helmets, 4 liscs, 1 no_helmet, 6 riders, 8.8ms\n",
            "video 1/1 (frame 94/1329) /content/3691658-hd_1920_1080_30fps.mp4: 384x640 4 bikes, 2 helmets, 3 liscs, 1 no_helmet, 5 riders, 11.3ms\n",
            "video 1/1 (frame 95/1329) /content/3691658-hd_1920_1080_30fps.mp4: 384x640 4 bikes, 1 helmet, 4 liscs, 1 no_helmet, 6 riders, 10.3ms\n",
            "video 1/1 (frame 96/1329) /content/3691658-hd_1920_1080_30fps.mp4: 384x640 4 bikes, 2 helmets, 4 liscs, 2 no_helmets, 6 riders, 11.1ms\n",
            "video 1/1 (frame 97/1329) /content/3691658-hd_1920_1080_30fps.mp4: 384x640 4 bikes, 2 helmets, 4 liscs, 1 no_helmet, 6 riders, 9.8ms\n",
            "video 1/1 (frame 98/1329) /content/3691658-hd_1920_1080_30fps.mp4: 384x640 4 bikes, 2 helmets, 4 liscs, 7 riders, 6.8ms\n",
            "video 1/1 (frame 99/1329) /content/3691658-hd_1920_1080_30fps.mp4: 384x640 4 bikes, 1 helmet, 4 liscs, 1 no_helmet, 6 riders, 10.1ms\n",
            "video 1/1 (frame 100/1329) /content/3691658-hd_1920_1080_30fps.mp4: 384x640 4 bikes, 3 helmets, 4 liscs, 1 no_helmet, 6 riders, 10.1ms\n",
            "video 1/1 (frame 101/1329) /content/3691658-hd_1920_1080_30fps.mp4: 384x640 4 bikes, 3 helmets, 4 liscs, 6 riders, 9.2ms\n",
            "video 1/1 (frame 102/1329) /content/3691658-hd_1920_1080_30fps.mp4: 384x640 4 bikes, 2 helmets, 2 liscs, 5 riders, 39.3ms\n",
            "video 1/1 (frame 103/1329) /content/3691658-hd_1920_1080_30fps.mp4: 384x640 4 bikes, 3 helmets, 2 liscs, 5 riders, 8.8ms\n",
            "video 1/1 (frame 104/1329) /content/3691658-hd_1920_1080_30fps.mp4: 384x640 4 bikes, 3 helmets, 4 liscs, 4 riders, 14.1ms\n",
            "video 1/1 (frame 105/1329) /content/3691658-hd_1920_1080_30fps.mp4: 384x640 4 bikes, 2 helmets, 3 liscs, 4 riders, 11.2ms\n",
            "video 1/1 (frame 106/1329) /content/3691658-hd_1920_1080_30fps.mp4: 384x640 4 bikes, 2 helmets, 4 liscs, 5 riders, 10.1ms\n",
            "video 1/1 (frame 107/1329) /content/3691658-hd_1920_1080_30fps.mp4: 384x640 4 bikes, 2 helmets, 3 liscs, 4 riders, 7.5ms\n",
            "video 1/1 (frame 108/1329) /content/3691658-hd_1920_1080_30fps.mp4: 384x640 4 bikes, 2 helmets, 4 liscs, 1 no_helmet, 3 riders, 10.6ms\n",
            "video 1/1 (frame 109/1329) /content/3691658-hd_1920_1080_30fps.mp4: 384x640 4 bikes, 3 helmets, 4 liscs, 3 riders, 10.7ms\n",
            "video 1/1 (frame 110/1329) /content/3691658-hd_1920_1080_30fps.mp4: 384x640 5 bikes, 2 helmets, 3 liscs, 2 riders, 14.6ms\n",
            "video 1/1 (frame 111/1329) /content/3691658-hd_1920_1080_30fps.mp4: 384x640 5 bikes, 2 helmets, 4 liscs, 3 riders, 11.3ms\n",
            "video 1/1 (frame 112/1329) /content/3691658-hd_1920_1080_30fps.mp4: 384x640 4 bikes, 2 helmets, 4 liscs, 2 riders, 9.1ms\n",
            "video 1/1 (frame 113/1329) /content/3691658-hd_1920_1080_30fps.mp4: 384x640 2 bikes, 2 helmets, 4 liscs, 2 riders, 6.8ms\n",
            "video 1/1 (frame 114/1329) /content/3691658-hd_1920_1080_30fps.mp4: 384x640 3 bikes, 1 helmet, 3 liscs, 1 no_helmet, 2 riders, 11.9ms\n",
            "video 1/1 (frame 115/1329) /content/3691658-hd_1920_1080_30fps.mp4: 384x640 3 bikes, 3 helmets, 3 liscs, 4 riders, 10.6ms\n",
            "video 1/1 (frame 116/1329) /content/3691658-hd_1920_1080_30fps.mp4: 384x640 2 bikes, 2 helmets, 4 liscs, 4 riders, 7.1ms\n",
            "video 1/1 (frame 117/1329) /content/3691658-hd_1920_1080_30fps.mp4: 384x640 3 bikes, 1 helmet, 3 liscs, 2 no_helmets, 2 riders, 10.6ms\n",
            "video 1/1 (frame 118/1329) /content/3691658-hd_1920_1080_30fps.mp4: 384x640 3 bikes, 2 helmets, 2 liscs, 1 no_helmet, 4 riders, 9.7ms\n",
            "video 1/1 (frame 119/1329) /content/3691658-hd_1920_1080_30fps.mp4: 384x640 3 bikes, 2 helmets, 3 liscs, 2 riders, 11.5ms\n",
            "video 1/1 (frame 120/1329) /content/3691658-hd_1920_1080_30fps.mp4: 384x640 2 bikes, 1 helmet, 4 liscs, 1 no_helmet, 2 riders, 6.9ms\n",
            "video 1/1 (frame 121/1329) /content/3691658-hd_1920_1080_30fps.mp4: 384x640 3 bikes, 1 helmet, 5 liscs, 1 no_helmet, 2 riders, 6.7ms\n",
            "video 1/1 (frame 122/1329) /content/3691658-hd_1920_1080_30fps.mp4: 384x640 2 bikes, 2 helmets, 1 lisc, 2 riders, 7.1ms\n",
            "video 1/1 (frame 123/1329) /content/3691658-hd_1920_1080_30fps.mp4: 384x640 3 bikes, 2 helmets, 3 liscs, 2 riders, 8.9ms\n",
            "video 1/1 (frame 124/1329) /content/3691658-hd_1920_1080_30fps.mp4: 384x640 2 bikes, 1 helmet, 5 liscs, 1 no_helmet, 3 riders, 7.1ms\n",
            "video 1/1 (frame 125/1329) /content/3691658-hd_1920_1080_30fps.mp4: 384x640 2 bikes, 1 helmet, 3 liscs, 1 no_helmet, 2 riders, 10.4ms\n",
            "video 1/1 (frame 126/1329) /content/3691658-hd_1920_1080_30fps.mp4: 384x640 2 bikes, 2 helmets, 4 liscs, 3 riders, 8.0ms\n",
            "video 1/1 (frame 127/1329) /content/3691658-hd_1920_1080_30fps.mp4: 384x640 4 bikes, 1 helmet, 3 liscs, 2 riders, 11.3ms\n",
            "video 1/1 (frame 128/1329) /content/3691658-hd_1920_1080_30fps.mp4: 384x640 2 bikes, 1 helmet, 1 lisc, 2 riders, 27.9ms\n",
            "video 1/1 (frame 129/1329) /content/3691658-hd_1920_1080_30fps.mp4: 384x640 3 bikes, 1 helmet, 3 liscs, 1 no_helmet, 2 riders, 10.4ms\n",
            "video 1/1 (frame 130/1329) /content/3691658-hd_1920_1080_30fps.mp4: 384x640 3 bikes, 1 helmet, 2 liscs, 1 no_helmet, 4 riders, 10.8ms\n",
            "video 1/1 (frame 131/1329) /content/3691658-hd_1920_1080_30fps.mp4: 384x640 3 bikes, 1 helmet, 2 liscs, 4 riders, 10.8ms\n",
            "video 1/1 (frame 132/1329) /content/3691658-hd_1920_1080_30fps.mp4: 384x640 3 bikes, 1 helmet, 3 liscs, 5 riders, 9.0ms\n",
            "video 1/1 (frame 133/1329) /content/3691658-hd_1920_1080_30fps.mp4: 384x640 3 bikes, 1 helmet, 3 liscs, 3 riders, 12.7ms\n",
            "video 1/1 (frame 134/1329) /content/3691658-hd_1920_1080_30fps.mp4: 384x640 4 bikes, 2 liscs, 2 no_helmets, 2 riders, 8.4ms\n",
            "video 1/1 (frame 135/1329) /content/3691658-hd_1920_1080_30fps.mp4: 384x640 4 bikes, 1 helmet, 1 lisc, 2 riders, 8.3ms\n",
            "video 1/1 (frame 136/1329) /content/3691658-hd_1920_1080_30fps.mp4: 384x640 3 bikes, 2 liscs, 1 no_helmet, 2 riders, 9.3ms\n",
            "video 1/1 (frame 137/1329) /content/3691658-hd_1920_1080_30fps.mp4: 384x640 3 bikes, 2 helmets, 2 liscs, 2 riders, 19.4ms\n",
            "video 1/1 (frame 138/1329) /content/3691658-hd_1920_1080_30fps.mp4: 384x640 3 bikes, 2 helmets, 2 liscs, 1 no_helmet, 3 riders, 11.8ms\n",
            "video 1/1 (frame 139/1329) /content/3691658-hd_1920_1080_30fps.mp4: 384x640 3 bikes, 1 helmet, 2 liscs, 3 no_helmets, 3 riders, 11.2ms\n",
            "video 1/1 (frame 140/1329) /content/3691658-hd_1920_1080_30fps.mp4: 384x640 3 bikes, 2 liscs, 2 no_helmets, 4 riders, 9.0ms\n",
            "video 1/1 (frame 141/1329) /content/3691658-hd_1920_1080_30fps.mp4: 384x640 4 bikes, 2 helmets, 1 lisc, 3 riders, 9.3ms\n",
            "video 1/1 (frame 142/1329) /content/3691658-hd_1920_1080_30fps.mp4: 384x640 4 bikes, 2 helmets, 1 lisc, 1 no_helmet, 4 riders, 9.2ms\n",
            "video 1/1 (frame 143/1329) /content/3691658-hd_1920_1080_30fps.mp4: 384x640 7 bikes, 3 helmets, 1 lisc, 4 riders, 9.0ms\n",
            "video 1/1 (frame 144/1329) /content/3691658-hd_1920_1080_30fps.mp4: 384x640 5 bikes, 1 helmet, 1 lisc, 2 no_helmets, 4 riders, 8.2ms\n",
            "video 1/1 (frame 145/1329) /content/3691658-hd_1920_1080_30fps.mp4: 384x640 5 bikes, 3 helmets, 1 lisc, 2 no_helmets, 3 riders, 8.2ms\n",
            "video 1/1 (frame 146/1329) /content/3691658-hd_1920_1080_30fps.mp4: 384x640 5 bikes, 2 helmets, 2 liscs, 1 no_helmet, 4 riders, 23.3ms\n",
            "video 1/1 (frame 147/1329) /content/3691658-hd_1920_1080_30fps.mp4: 384x640 5 bikes, 4 helmets, 2 liscs, 1 no_helmet, 4 riders, 10.3ms\n",
            "video 1/1 (frame 148/1329) /content/3691658-hd_1920_1080_30fps.mp4: 384x640 4 bikes, 4 helmets, 1 lisc, 4 riders, 8.7ms\n",
            "video 1/1 (frame 149/1329) /content/3691658-hd_1920_1080_30fps.mp4: 384x640 5 bikes, 3 helmets, 1 lisc, 4 riders, 13.3ms\n",
            "video 1/1 (frame 150/1329) /content/3691658-hd_1920_1080_30fps.mp4: 384x640 6 bikes, 3 helmets, 1 lisc, 3 riders, 12.5ms\n",
            "video 1/1 (frame 151/1329) /content/3691658-hd_1920_1080_30fps.mp4: 384x640 4 bikes, 3 helmets, 2 liscs, 4 riders, 9.8ms\n",
            "video 1/1 (frame 152/1329) /content/3691658-hd_1920_1080_30fps.mp4: 384x640 4 bikes, 3 helmets, 3 liscs, 4 riders, 11.2ms\n",
            "video 1/1 (frame 153/1329) /content/3691658-hd_1920_1080_30fps.mp4: 384x640 3 bikes, 3 helmets, 2 liscs, 4 riders, 14.6ms\n",
            "video 1/1 (frame 154/1329) /content/3691658-hd_1920_1080_30fps.mp4: 384x640 4 bikes, 3 helmets, 1 lisc, 4 riders, 9.6ms\n",
            "video 1/1 (frame 155/1329) /content/3691658-hd_1920_1080_30fps.mp4: 384x640 2 bikes, 3 helmets, 2 liscs, 2 riders, 9.8ms\n",
            "video 1/1 (frame 156/1329) /content/3691658-hd_1920_1080_30fps.mp4: 384x640 3 bikes, 3 helmets, 2 liscs, 4 riders, 24.9ms\n",
            "video 1/1 (frame 157/1329) /content/3691658-hd_1920_1080_30fps.mp4: 384x640 4 bikes, 3 helmets, 1 lisc, 3 riders, 9.1ms\n",
            "video 1/1 (frame 158/1329) /content/3691658-hd_1920_1080_30fps.mp4: 384x640 3 bikes, 3 helmets, 2 liscs, 5 riders, 18.9ms\n",
            "video 1/1 (frame 159/1329) /content/3691658-hd_1920_1080_30fps.mp4: 384x640 3 bikes, 2 helmets, 2 liscs, 3 riders, 12.4ms\n",
            "video 1/1 (frame 160/1329) /content/3691658-hd_1920_1080_30fps.mp4: 384x640 4 bikes, 3 helmets, 2 liscs, 3 riders, 8.5ms\n",
            "video 1/1 (frame 161/1329) /content/3691658-hd_1920_1080_30fps.mp4: 384x640 5 bikes, 2 helmets, 2 liscs, 1 no_helmet, 3 riders, 16.6ms\n",
            "video 1/1 (frame 162/1329) /content/3691658-hd_1920_1080_30fps.mp4: 384x640 4 bikes, 5 helmets, 1 lisc, 1 noise, 5 riders, 39.6ms\n",
            "video 1/1 (frame 163/1329) /content/3691658-hd_1920_1080_30fps.mp4: 384x640 3 bikes, 5 helmets, 1 lisc, 1 no_helmet, 4 riders, 10.0ms\n",
            "video 1/1 (frame 164/1329) /content/3691658-hd_1920_1080_30fps.mp4: 384x640 5 bikes, 4 helmets, 1 lisc, 5 riders, 19.0ms\n",
            "video 1/1 (frame 165/1329) /content/3691658-hd_1920_1080_30fps.mp4: 384x640 6 bikes, 5 helmets, 1 lisc, 5 riders, 15.2ms\n",
            "video 1/1 (frame 166/1329) /content/3691658-hd_1920_1080_30fps.mp4: 384x640 6 bikes, 5 helmets, 6 riders, 9.3ms\n",
            "video 1/1 (frame 167/1329) /content/3691658-hd_1920_1080_30fps.mp4: 384x640 8 bikes, 6 helmets, 2 liscs, 7 riders, 14.3ms\n",
            "video 1/1 (frame 168/1329) /content/3691658-hd_1920_1080_30fps.mp4: 384x640 6 bikes, 6 helmets, 7 riders, 18.6ms\n",
            "video 1/1 (frame 169/1329) /content/3691658-hd_1920_1080_30fps.mp4: 384x640 5 bikes, 4 helmets, 9 riders, 12.5ms\n",
            "video 1/1 (frame 170/1329) /content/3691658-hd_1920_1080_30fps.mp4: 384x640 4 bikes, 6 helmets, 1 noise, 5 riders, 9.3ms\n",
            "video 1/1 (frame 171/1329) /content/3691658-hd_1920_1080_30fps.mp4: 384x640 4 bikes, 4 helmets, 6 riders, 11.0ms\n",
            "video 1/1 (frame 172/1329) /content/3691658-hd_1920_1080_30fps.mp4: 384x640 4 bikes, 3 helmets, 1 lisc, 6 riders, 14.5ms\n",
            "video 1/1 (frame 173/1329) /content/3691658-hd_1920_1080_30fps.mp4: 384x640 4 bikes, 4 helmets, 5 riders, 17.6ms\n",
            "video 1/1 (frame 174/1329) /content/3691658-hd_1920_1080_30fps.mp4: 384x640 3 bikes, 3 helmets, 3 liscs, 4 riders, 29.6ms\n",
            "video 1/1 (frame 175/1329) /content/3691658-hd_1920_1080_30fps.mp4: 384x640 4 bikes, 5 helmets, 3 liscs, 2 no_helmets, 6 riders, 18.0ms\n",
            "video 1/1 (frame 176/1329) /content/3691658-hd_1920_1080_30fps.mp4: 384x640 5 bikes, 3 helmets, 2 liscs, 1 no_helmet, 5 riders, 9.0ms\n",
            "video 1/1 (frame 177/1329) /content/3691658-hd_1920_1080_30fps.mp4: 384x640 5 bikes, 6 helmets, 2 liscs, 1 no_helmet, 4 riders, 15.2ms\n",
            "video 1/1 (frame 178/1329) /content/3691658-hd_1920_1080_30fps.mp4: 384x640 4 bikes, 5 helmets, 2 liscs, 1 no_helmet, 4 riders, 25.6ms\n",
            "video 1/1 (frame 179/1329) /content/3691658-hd_1920_1080_30fps.mp4: 384x640 3 bikes, 5 helmets, 2 liscs, 4 riders, 18.4ms\n",
            "video 1/1 (frame 180/1329) /content/3691658-hd_1920_1080_30fps.mp4: 384x640 4 bikes, 9 helmets, 1 lisc, 1 no_helmet, 5 riders, 15.8ms\n",
            "video 1/1 (frame 181/1329) /content/3691658-hd_1920_1080_30fps.mp4: 384x640 4 bikes, 8 helmets, 3 liscs, 6 riders, 12.2ms\n",
            "video 1/1 (frame 182/1329) /content/3691658-hd_1920_1080_30fps.mp4: 384x640 5 bikes, 7 helmets, 3 liscs, 7 riders, 9.6ms\n",
            "video 1/1 (frame 183/1329) /content/3691658-hd_1920_1080_30fps.mp4: 384x640 4 bikes, 7 helmets, 4 liscs, 1 no_helmet, 6 riders, 13.4ms\n",
            "video 1/1 (frame 184/1329) /content/3691658-hd_1920_1080_30fps.mp4: 384x640 4 bikes, 7 helmets, 4 liscs, 6 riders, 25.8ms\n",
            "video 1/1 (frame 185/1329) /content/3691658-hd_1920_1080_30fps.mp4: 384x640 5 bikes, 9 helmets, 4 liscs, 1 no_helmet, 6 riders, 12.8ms\n",
            "video 1/1 (frame 186/1329) /content/3691658-hd_1920_1080_30fps.mp4: 384x640 5 bikes, 7 helmets, 3 liscs, 1 no_helmet, 8 riders, 17.6ms\n",
            "video 1/1 (frame 187/1329) /content/3691658-hd_1920_1080_30fps.mp4: 384x640 5 bikes, 7 helmets, 2 liscs, 8 riders, 23.8ms\n",
            "video 1/1 (frame 188/1329) /content/3691658-hd_1920_1080_30fps.mp4: 384x640 4 bikes, 6 helmets, 2 liscs, 5 riders, 12.6ms\n",
            "video 1/1 (frame 189/1329) /content/3691658-hd_1920_1080_30fps.mp4: 384x640 5 bikes, 6 helmets, 4 liscs, 1 no_helmet, 6 riders, 16.0ms\n",
            "video 1/1 (frame 190/1329) /content/3691658-hd_1920_1080_30fps.mp4: 384x640 5 bikes, 5 helmets, 3 liscs, 5 riders, 11.8ms\n",
            "video 1/1 (frame 191/1329) /content/3691658-hd_1920_1080_30fps.mp4: 384x640 5 bikes, 4 helmets, 3 liscs, 1 no_helmet, 5 riders, 11.9ms\n",
            "video 1/1 (frame 192/1329) /content/3691658-hd_1920_1080_30fps.mp4: 384x640 5 bikes, 4 helmets, 2 liscs, 5 riders, 12.5ms\n",
            "video 1/1 (frame 193/1329) /content/3691658-hd_1920_1080_30fps.mp4: 384x640 4 bikes, 4 helmets, 2 liscs, 3 riders, 11.6ms\n",
            "video 1/1 (frame 194/1329) /content/3691658-hd_1920_1080_30fps.mp4: 384x640 4 bikes, 4 helmets, 3 liscs, 4 riders, 8.8ms\n",
            "video 1/1 (frame 195/1329) /content/3691658-hd_1920_1080_30fps.mp4: 384x640 4 bikes, 3 helmets, 2 liscs, 3 riders, 12.9ms\n",
            "video 1/1 (frame 196/1329) /content/3691658-hd_1920_1080_30fps.mp4: 384x640 4 bikes, 4 helmets, 1 lisc, 5 riders, 12.6ms\n",
            "video 1/1 (frame 197/1329) /content/3691658-hd_1920_1080_30fps.mp4: 384x640 5 bikes, 4 helmets, 2 liscs, 7 riders, 10.5ms\n",
            "video 1/1 (frame 198/1329) /content/3691658-hd_1920_1080_30fps.mp4: 384x640 4 bikes, 4 helmets, 2 liscs, 5 riders, 8.1ms\n",
            "video 1/1 (frame 199/1329) /content/3691658-hd_1920_1080_30fps.mp4: 384x640 4 bikes, 4 helmets, 2 liscs, 1 no_helmet, 5 riders, 13.1ms\n",
            "video 1/1 (frame 200/1329) /content/3691658-hd_1920_1080_30fps.mp4: 384x640 5 bikes, 6 helmets, 2 liscs, 5 riders, 8.7ms\n",
            "video 1/1 (frame 201/1329) /content/3691658-hd_1920_1080_30fps.mp4: 384x640 5 bikes, 6 helmets, 2 liscs, 6 riders, 7.6ms\n",
            "video 1/1 (frame 202/1329) /content/3691658-hd_1920_1080_30fps.mp4: 384x640 4 bikes, 5 helmets, 1 lisc, 5 riders, 11.9ms\n",
            "video 1/1 (frame 203/1329) /content/3691658-hd_1920_1080_30fps.mp4: 384x640 4 bikes, 3 helmets, 3 liscs, 5 riders, 9.9ms\n",
            "video 1/1 (frame 204/1329) /content/3691658-hd_1920_1080_30fps.mp4: 384x640 5 bikes, 1 helmet, 2 liscs, 6 riders, 10.3ms\n",
            "video 1/1 (frame 205/1329) /content/3691658-hd_1920_1080_30fps.mp4: 384x640 5 bikes, 2 helmets, 2 liscs, 7 riders, 8.9ms\n",
            "video 1/1 (frame 206/1329) /content/3691658-hd_1920_1080_30fps.mp4: 384x640 5 bikes, 1 helmet, 2 liscs, 4 riders, 8.6ms\n",
            "video 1/1 (frame 207/1329) /content/3691658-hd_1920_1080_30fps.mp4: 384x640 5 bikes, 3 helmets, 2 liscs, 3 riders, 11.2ms\n",
            "video 1/1 (frame 208/1329) /content/3691658-hd_1920_1080_30fps.mp4: 384x640 5 bikes, 2 helmets, 3 liscs, 4 riders, 11.0ms\n",
            "video 1/1 (frame 209/1329) /content/3691658-hd_1920_1080_30fps.mp4: 384x640 5 bikes, 4 helmets, 1 lisc, 4 riders, 11.3ms\n",
            "video 1/1 (frame 210/1329) /content/3691658-hd_1920_1080_30fps.mp4: 384x640 4 bikes, 2 helmets, 1 lisc, 4 riders, 13.1ms\n",
            "video 1/1 (frame 211/1329) /content/3691658-hd_1920_1080_30fps.mp4: 384x640 3 bikes, 3 helmets, 1 lisc, 6 riders, 11.9ms\n",
            "video 1/1 (frame 212/1329) /content/3691658-hd_1920_1080_30fps.mp4: 384x640 4 bikes, 4 helmets, 1 lisc, 6 riders, 9.6ms\n",
            "video 1/1 (frame 213/1329) /content/3691658-hd_1920_1080_30fps.mp4: 384x640 6 bikes, 4 helmets, 2 liscs, 5 riders, 13.3ms\n",
            "video 1/1 (frame 214/1329) /content/3691658-hd_1920_1080_30fps.mp4: 384x640 5 bikes, 3 helmets, 3 liscs, 5 riders, 7.5ms\n",
            "video 1/1 (frame 215/1329) /content/3691658-hd_1920_1080_30fps.mp4: 384x640 6 bikes, 4 helmets, 2 liscs, 5 riders, 8.9ms\n",
            "video 1/1 (frame 216/1329) /content/3691658-hd_1920_1080_30fps.mp4: 384x640 6 bikes, 3 helmets, 2 liscs, 1 no_helmet, 5 riders, 8.5ms\n",
            "video 1/1 (frame 217/1329) /content/3691658-hd_1920_1080_30fps.mp4: 384x640 5 bikes, 3 helmets, 3 liscs, 6 riders, 9.8ms\n",
            "video 1/1 (frame 218/1329) /content/3691658-hd_1920_1080_30fps.mp4: 384x640 5 bikes, 3 helmets, 3 liscs, 4 riders, 9.6ms\n",
            "video 1/1 (frame 219/1329) /content/3691658-hd_1920_1080_30fps.mp4: 384x640 6 bikes, 2 helmets, 3 liscs, 5 riders, 7.8ms\n",
            "video 1/1 (frame 220/1329) /content/3691658-hd_1920_1080_30fps.mp4: 384x640 5 bikes, 2 helmets, 2 liscs, 4 riders, 9.4ms\n",
            "video 1/1 (frame 221/1329) /content/3691658-hd_1920_1080_30fps.mp4: 384x640 4 bikes, 3 helmets, 2 liscs, 3 riders, 10.0ms\n",
            "video 1/1 (frame 222/1329) /content/3691658-hd_1920_1080_30fps.mp4: 384x640 4 bikes, 3 helmets, 2 liscs, 3 riders, 8.5ms\n",
            "video 1/1 (frame 223/1329) /content/3691658-hd_1920_1080_30fps.mp4: 384x640 5 bikes, 3 helmets, 3 liscs, 4 riders, 9.0ms\n",
            "video 1/1 (frame 224/1329) /content/3691658-hd_1920_1080_30fps.mp4: 384x640 4 bikes, 3 helmets, 3 liscs, 4 riders, 13.4ms\n",
            "video 1/1 (frame 225/1329) /content/3691658-hd_1920_1080_30fps.mp4: 384x640 4 bikes, 2 helmets, 2 liscs, 4 riders, 8.3ms\n",
            "video 1/1 (frame 226/1329) /content/3691658-hd_1920_1080_30fps.mp4: 384x640 3 bikes, 3 helmets, 3 liscs, 4 riders, 7.6ms\n",
            "video 1/1 (frame 227/1329) /content/3691658-hd_1920_1080_30fps.mp4: 384x640 4 bikes, 2 helmets, 2 liscs, 4 riders, 7.1ms\n",
            "video 1/1 (frame 228/1329) /content/3691658-hd_1920_1080_30fps.mp4: 384x640 4 bikes, 2 helmets, 3 liscs, 1 no_helmet, 5 riders, 11.2ms\n",
            "video 1/1 (frame 229/1329) /content/3691658-hd_1920_1080_30fps.mp4: 384x640 4 bikes, 2 helmets, 3 liscs, 5 riders, 8.0ms\n",
            "video 1/1 (frame 230/1329) /content/3691658-hd_1920_1080_30fps.mp4: 384x640 4 bikes, 2 helmets, 3 liscs, 5 riders, 10.6ms\n",
            "video 1/1 (frame 231/1329) /content/3691658-hd_1920_1080_30fps.mp4: 384x640 4 bikes, 3 helmets, 3 liscs, 1 no_helmet, 4 riders, 7.8ms\n",
            "video 1/1 (frame 232/1329) /content/3691658-hd_1920_1080_30fps.mp4: 384x640 4 bikes, 3 helmets, 3 liscs, 1 no_helmet, 4 riders, 10.6ms\n",
            "video 1/1 (frame 233/1329) /content/3691658-hd_1920_1080_30fps.mp4: 384x640 4 bikes, 3 helmets, 3 liscs, 5 riders, 8.3ms\n",
            "video 1/1 (frame 234/1329) /content/3691658-hd_1920_1080_30fps.mp4: 384x640 4 bikes, 3 helmets, 3 liscs, 1 no_helmet, 5 riders, 11.6ms\n",
            "video 1/1 (frame 235/1329) /content/3691658-hd_1920_1080_30fps.mp4: 384x640 4 bikes, 4 helmets, 3 liscs, 5 riders, 8.0ms\n",
            "video 1/1 (frame 236/1329) /content/3691658-hd_1920_1080_30fps.mp4: 384x640 4 bikes, 5 helmets, 3 liscs, 5 riders, 8.6ms\n",
            "video 1/1 (frame 237/1329) /content/3691658-hd_1920_1080_30fps.mp4: 384x640 4 bikes, 4 helmets, 3 liscs, 5 riders, 11.3ms\n",
            "video 1/1 (frame 238/1329) /content/3691658-hd_1920_1080_30fps.mp4: 384x640 4 bikes, 4 helmets, 3 liscs, 5 riders, 10.2ms\n",
            "video 1/1 (frame 239/1329) /content/3691658-hd_1920_1080_30fps.mp4: 384x640 4 bikes, 4 helmets, 3 liscs, 5 riders, 46.0ms\n",
            "video 1/1 (frame 240/1329) /content/3691658-hd_1920_1080_30fps.mp4: 384x640 4 bikes, 4 helmets, 3 liscs, 5 riders, 8.9ms\n",
            "video 1/1 (frame 241/1329) /content/3691658-hd_1920_1080_30fps.mp4: 384x640 4 bikes, 4 helmets, 3 liscs, 5 riders, 9.6ms\n",
            "video 1/1 (frame 242/1329) /content/3691658-hd_1920_1080_30fps.mp4: 384x640 4 bikes, 5 helmets, 3 liscs, 5 riders, 13.4ms\n",
            "video 1/1 (frame 243/1329) /content/3691658-hd_1920_1080_30fps.mp4: 384x640 4 bikes, 4 helmets, 3 liscs, 5 riders, 16.0ms\n",
            "video 1/1 (frame 244/1329) /content/3691658-hd_1920_1080_30fps.mp4: 384x640 4 bikes, 4 helmets, 4 liscs, 5 riders, 7.1ms\n",
            "video 1/1 (frame 245/1329) /content/3691658-hd_1920_1080_30fps.mp4: 384x640 4 bikes, 4 helmets, 3 liscs, 6 riders, 9.1ms\n",
            "video 1/1 (frame 246/1329) /content/3691658-hd_1920_1080_30fps.mp4: 384x640 4 bikes, 5 helmets, 3 liscs, 5 riders, 13.3ms\n",
            "video 1/1 (frame 247/1329) /content/3691658-hd_1920_1080_30fps.mp4: 384x640 4 bikes, 4 helmets, 2 liscs, 5 riders, 15.3ms\n",
            "video 1/1 (frame 248/1329) /content/3691658-hd_1920_1080_30fps.mp4: 384x640 4 bikes, 4 helmets, 4 liscs, 6 riders, 8.3ms\n",
            "video 1/1 (frame 249/1329) /content/3691658-hd_1920_1080_30fps.mp4: 384x640 4 bikes, 5 helmets, 3 liscs, 5 riders, 7.9ms\n",
            "video 1/1 (frame 250/1329) /content/3691658-hd_1920_1080_30fps.mp4: 384x640 4 bikes, 4 helmets, 4 liscs, 5 riders, 11.3ms\n",
            "video 1/1 (frame 251/1329) /content/3691658-hd_1920_1080_30fps.mp4: 384x640 4 bikes, 4 helmets, 4 liscs, 1 no_helmet, 6 riders, 8.6ms\n",
            "video 1/1 (frame 252/1329) /content/3691658-hd_1920_1080_30fps.mp4: 384x640 4 bikes, 4 helmets, 3 liscs, 1 no_helmet, 5 riders, 12.2ms\n",
            "video 1/1 (frame 253/1329) /content/3691658-hd_1920_1080_30fps.mp4: 384x640 4 bikes, 4 helmets, 2 liscs, 1 no_helmet, 5 riders, 10.3ms\n",
            "video 1/1 (frame 254/1329) /content/3691658-hd_1920_1080_30fps.mp4: 384x640 5 bikes, 4 helmets, 3 liscs, 4 riders, 9.0ms\n",
            "video 1/1 (frame 255/1329) /content/3691658-hd_1920_1080_30fps.mp4: 384x640 4 bikes, 4 helmets, 3 liscs, 5 riders, 11.7ms\n",
            "video 1/1 (frame 256/1329) /content/3691658-hd_1920_1080_30fps.mp4: 384x640 4 bikes, 5 helmets, 3 liscs, 6 riders, 9.6ms\n",
            "video 1/1 (frame 257/1329) /content/3691658-hd_1920_1080_30fps.mp4: 384x640 4 bikes, 4 helmets, 3 liscs, 4 riders, 9.8ms\n",
            "video 1/1 (frame 258/1329) /content/3691658-hd_1920_1080_30fps.mp4: 384x640 4 bikes, 4 helmets, 3 liscs, 4 riders, 8.5ms\n",
            "video 1/1 (frame 259/1329) /content/3691658-hd_1920_1080_30fps.mp4: 384x640 5 bikes, 4 helmets, 5 liscs, 1 no_helmet, 4 riders, 10.9ms\n",
            "video 1/1 (frame 260/1329) /content/3691658-hd_1920_1080_30fps.mp4: 384x640 4 bikes, 4 helmets, 4 liscs, 4 riders, 10.5ms\n",
            "video 1/1 (frame 261/1329) /content/3691658-hd_1920_1080_30fps.mp4: 384x640 6 bikes, 4 helmets, 3 liscs, 2 no_helmets, 8 riders, 10.7ms\n",
            "video 1/1 (frame 262/1329) /content/3691658-hd_1920_1080_30fps.mp4: 384x640 6 bikes, 6 helmets, 3 liscs, 3 no_helmets, 9 riders, 9.0ms\n",
            "video 1/1 (frame 263/1329) /content/3691658-hd_1920_1080_30fps.mp4: 384x640 6 bikes, 5 helmets, 3 liscs, 1 no_helmet, 6 riders, 11.2ms\n",
            "video 1/1 (frame 264/1329) /content/3691658-hd_1920_1080_30fps.mp4: 384x640 6 bikes, 6 helmets, 3 liscs, 2 no_helmets, 10 riders, 9.4ms\n",
            "video 1/1 (frame 265/1329) /content/3691658-hd_1920_1080_30fps.mp4: 384x640 6 bikes, 5 helmets, 3 liscs, 1 no_helmet, 8 riders, 12.8ms\n",
            "video 1/1 (frame 266/1329) /content/3691658-hd_1920_1080_30fps.mp4: 384x640 5 bikes, 3 helmets, 3 liscs, 1 no_helmet, 5 riders, 8.7ms\n",
            "video 1/1 (frame 267/1329) /content/3691658-hd_1920_1080_30fps.mp4: 384x640 5 bikes, 3 helmets, 2 liscs, 1 no_helmet, 4 riders, 11.4ms\n",
            "video 1/1 (frame 268/1329) /content/3691658-hd_1920_1080_30fps.mp4: 384x640 5 bikes, 3 helmets, 4 liscs, 1 no_helmet, 7 riders, 9.6ms\n",
            "video 1/1 (frame 269/1329) /content/3691658-hd_1920_1080_30fps.mp4: 384x640 6 bikes, 3 helmets, 4 liscs, 4 riders, 8.8ms\n",
            "video 1/1 (frame 270/1329) /content/3691658-hd_1920_1080_30fps.mp4: 384x640 5 bikes, 4 helmets, 3 liscs, 6 riders, 11.8ms\n",
            "video 1/1 (frame 271/1329) /content/3691658-hd_1920_1080_30fps.mp4: 384x640 5 bikes, 3 helmets, 4 liscs, 5 riders, 6.8ms\n",
            "video 1/1 (frame 272/1329) /content/3691658-hd_1920_1080_30fps.mp4: 384x640 7 bikes, 4 helmets, 3 liscs, 1 no_helmet, 6 riders, 11.0ms\n",
            "video 1/1 (frame 273/1329) /content/3691658-hd_1920_1080_30fps.mp4: 384x640 7 bikes, 2 helmets, 2 liscs, 5 riders, 9.8ms\n",
            "video 1/1 (frame 274/1329) /content/3691658-hd_1920_1080_30fps.mp4: 384x640 6 bikes, 2 helmets, 3 liscs, 4 riders, 11.7ms\n",
            "video 1/1 (frame 275/1329) /content/3691658-hd_1920_1080_30fps.mp4: 384x640 6 bikes, 2 helmets, 2 liscs, 6 riders, 11.3ms\n",
            "video 1/1 (frame 276/1329) /content/3691658-hd_1920_1080_30fps.mp4: 384x640 7 bikes, 3 helmets, 3 liscs, 4 riders, 8.5ms\n",
            "video 1/1 (frame 277/1329) /content/3691658-hd_1920_1080_30fps.mp4: 384x640 6 bikes, 4 helmets, 3 liscs, 1 no_helmet, 8 riders, 10.1ms\n",
            "video 1/1 (frame 278/1329) /content/3691658-hd_1920_1080_30fps.mp4: 384x640 5 bikes, 4 helmets, 3 liscs, 1 no_helmet, 9 riders, 8.7ms\n",
            "video 1/1 (frame 279/1329) /content/3691658-hd_1920_1080_30fps.mp4: 384x640 5 bikes, 5 helmets, 2 liscs, 1 no_helmet, 7 riders, 10.2ms\n",
            "video 1/1 (frame 280/1329) /content/3691658-hd_1920_1080_30fps.mp4: 384x640 5 bikes, 4 helmets, 2 liscs, 1 no_helmet, 6 riders, 9.7ms\n",
            "video 1/1 (frame 281/1329) /content/3691658-hd_1920_1080_30fps.mp4: 384x640 5 bikes, 5 helmets, 2 liscs, 1 no_helmet, 6 riders, 10.4ms\n",
            "video 1/1 (frame 282/1329) /content/3691658-hd_1920_1080_30fps.mp4: 384x640 5 bikes, 3 helmets, 2 liscs, 2 no_helmets, 8 riders, 8.5ms\n",
            "video 1/1 (frame 283/1329) /content/3691658-hd_1920_1080_30fps.mp4: 384x640 4 bikes, 3 helmets, 3 liscs, 1 no_helmet, 5 riders, 11.8ms\n",
            "video 1/1 (frame 284/1329) /content/3691658-hd_1920_1080_30fps.mp4: 384x640 4 bikes, 5 helmets, 2 liscs, 2 no_helmets, 7 riders, 11.2ms\n",
            "video 1/1 (frame 285/1329) /content/3691658-hd_1920_1080_30fps.mp4: 384x640 4 bikes, 4 helmets, 2 liscs, 1 no_helmet, 7 riders, 9.7ms\n",
            "video 1/1 (frame 286/1329) /content/3691658-hd_1920_1080_30fps.mp4: 384x640 5 bikes, 4 helmets, 2 liscs, 2 no_helmets, 6 riders, 10.3ms\n",
            "video 1/1 (frame 287/1329) /content/3691658-hd_1920_1080_30fps.mp4: 384x640 5 bikes, 5 helmets, 2 liscs, 1 no_helmet, 6 riders, 8.7ms\n",
            "video 1/1 (frame 288/1329) /content/3691658-hd_1920_1080_30fps.mp4: 384x640 4 bikes, 3 helmets, 2 liscs, 3 no_helmets, 8 riders, 10.6ms\n",
            "video 1/1 (frame 289/1329) /content/3691658-hd_1920_1080_30fps.mp4: 384x640 5 bikes, 5 helmets, 2 liscs, 2 no_helmets, 6 riders, 9.0ms\n",
            "video 1/1 (frame 290/1329) /content/3691658-hd_1920_1080_30fps.mp4: 384x640 5 bikes, 4 helmets, 1 lisc, 1 no_helmet, 7 riders, 13.2ms\n",
            "video 1/1 (frame 291/1329) /content/3691658-hd_1920_1080_30fps.mp4: 384x640 5 bikes, 3 helmets, 1 lisc, 3 no_helmets, 7 riders, 12.3ms\n",
            "video 1/1 (frame 292/1329) /content/3691658-hd_1920_1080_30fps.mp4: 384x640 5 bikes, 3 helmets, 2 liscs, 2 no_helmets, 6 riders, 13.0ms\n",
            "video 1/1 (frame 293/1329) /content/3691658-hd_1920_1080_30fps.mp4: 384x640 5 bikes, 4 helmets, 2 liscs, 2 no_helmets, 7 riders, 11.3ms\n",
            "video 1/1 (frame 294/1329) /content/3691658-hd_1920_1080_30fps.mp4: 384x640 5 bikes, 4 helmets, 2 liscs, 2 no_helmets, 5 riders, 11.7ms\n",
            "video 1/1 (frame 295/1329) /content/3691658-hd_1920_1080_30fps.mp4: 384x640 5 bikes, 4 helmets, 2 liscs, 2 no_helmets, 6 riders, 10.0ms\n",
            "video 1/1 (frame 296/1329) /content/3691658-hd_1920_1080_30fps.mp4: 384x640 5 bikes, 5 helmets, 2 liscs, 3 no_helmets, 5 riders, 8.7ms\n",
            "video 1/1 (frame 297/1329) /content/3691658-hd_1920_1080_30fps.mp4: 384x640 5 bikes, 5 helmets, 2 liscs, 2 no_helmets, 6 riders, 11.3ms\n",
            "video 1/1 (frame 298/1329) /content/3691658-hd_1920_1080_30fps.mp4: 384x640 5 bikes, 5 helmets, 2 liscs, 2 no_helmets, 6 riders, 7.9ms\n",
            "video 1/1 (frame 299/1329) /content/3691658-hd_1920_1080_30fps.mp4: 384x640 5 bikes, 4 helmets, 4 liscs, 6 riders, 9.5ms\n",
            "video 1/1 (frame 300/1329) /content/3691658-hd_1920_1080_30fps.mp4: 384x640 7 bikes, 1 helmet, 3 liscs, 2 no_helmets, 6 riders, 8.5ms\n",
            "video 1/1 (frame 301/1329) /content/3691658-hd_1920_1080_30fps.mp4: 384x640 6 bikes, 4 helmets, 3 liscs, 6 riders, 8.5ms\n",
            "video 1/1 (frame 302/1329) /content/3691658-hd_1920_1080_30fps.mp4: 384x640 7 bikes, 4 helmets, 3 liscs, 1 no_helmet, 6 riders, 11.1ms\n",
            "video 1/1 (frame 303/1329) /content/3691658-hd_1920_1080_30fps.mp4: 384x640 6 bikes, 5 helmets, 4 liscs, 2 no_helmets, 7 riders, 9.9ms\n",
            "video 1/1 (frame 304/1329) /content/3691658-hd_1920_1080_30fps.mp4: 384x640 6 bikes, 6 helmets, 3 liscs, 7 riders, 10.7ms\n",
            "video 1/1 (frame 305/1329) /content/3691658-hd_1920_1080_30fps.mp4: 384x640 6 bikes, 4 helmets, 2 liscs, 1 no_helmet, 6 riders, 10.3ms\n",
            "video 1/1 (frame 306/1329) /content/3691658-hd_1920_1080_30fps.mp4: 384x640 7 bikes, 6 helmets, 2 liscs, 7 riders, 10.3ms\n",
            "video 1/1 (frame 307/1329) /content/3691658-hd_1920_1080_30fps.mp4: 384x640 6 bikes, 6 helmets, 3 liscs, 1 no_helmet, 6 riders, 13.2ms\n",
            "video 1/1 (frame 308/1329) /content/3691658-hd_1920_1080_30fps.mp4: 384x640 6 bikes, 5 helmets, 3 liscs, 6 riders, 11.9ms\n",
            "video 1/1 (frame 309/1329) /content/3691658-hd_1920_1080_30fps.mp4: 384x640 6 bikes, 5 helmets, 3 liscs, 6 riders, 7.3ms\n",
            "video 1/1 (frame 310/1329) /content/3691658-hd_1920_1080_30fps.mp4: 384x640 7 bikes, 4 helmets, 1 lisc, 7 riders, 10.3ms\n",
            "video 1/1 (frame 311/1329) /content/3691658-hd_1920_1080_30fps.mp4: 384x640 7 bikes, 5 helmets, 2 liscs, 1 no_helmet, 9 riders, 8.6ms\n",
            "video 1/1 (frame 312/1329) /content/3691658-hd_1920_1080_30fps.mp4: 384x640 6 bikes, 4 helmets, 3 liscs, 6 riders, 8.1ms\n",
            "video 1/1 (frame 313/1329) /content/3691658-hd_1920_1080_30fps.mp4: 384x640 7 bikes, 3 helmets, 3 liscs, 7 riders, 6.6ms\n",
            "video 1/1 (frame 314/1329) /content/3691658-hd_1920_1080_30fps.mp4: 384x640 7 bikes, 3 helmets, 3 liscs, 1 no_helmet, 8 riders, 11.6ms\n",
            "video 1/1 (frame 315/1329) /content/3691658-hd_1920_1080_30fps.mp4: 384x640 7 bikes, 3 helmets, 3 liscs, 1 no_helmet, 9 riders, 9.6ms\n",
            "video 1/1 (frame 316/1329) /content/3691658-hd_1920_1080_30fps.mp4: 384x640 7 bikes, 4 helmets, 4 liscs, 7 riders, 8.7ms\n",
            "video 1/1 (frame 317/1329) /content/3691658-hd_1920_1080_30fps.mp4: 384x640 6 bikes, 3 helmets, 2 liscs, 1 no_helmet, 6 riders, 8.6ms\n",
            "video 1/1 (frame 318/1329) /content/3691658-hd_1920_1080_30fps.mp4: 384x640 6 bikes, 4 helmets, 3 liscs, 8 riders, 12.7ms\n",
            "video 1/1 (frame 319/1329) /content/3691658-hd_1920_1080_30fps.mp4: 384x640 6 bikes, 3 helmets, 3 liscs, 8 riders, 9.0ms\n",
            "video 1/1 (frame 320/1329) /content/3691658-hd_1920_1080_30fps.mp4: 384x640 6 bikes, 5 helmets, 3 liscs, 7 riders, 10.3ms\n",
            "video 1/1 (frame 321/1329) /content/3691658-hd_1920_1080_30fps.mp4: 384x640 6 bikes, 3 helmets, 3 liscs, 5 riders, 7.6ms\n",
            "video 1/1 (frame 322/1329) /content/3691658-hd_1920_1080_30fps.mp4: 384x640 6 bikes, 3 helmets, 4 liscs, 6 riders, 8.8ms\n",
            "video 1/1 (frame 323/1329) /content/3691658-hd_1920_1080_30fps.mp4: 384x640 6 bikes, 4 helmets, 3 liscs, 7 riders, 11.9ms\n",
            "video 1/1 (frame 324/1329) /content/3691658-hd_1920_1080_30fps.mp4: 384x640 6 bikes, 3 helmets, 3 liscs, 6 riders, 9.2ms\n",
            "video 1/1 (frame 325/1329) /content/3691658-hd_1920_1080_30fps.mp4: 384x640 5 bikes, 4 helmets, 2 liscs, 6 riders, 12.0ms\n",
            "video 1/1 (frame 326/1329) /content/3691658-hd_1920_1080_30fps.mp4: 384x640 6 bikes, 4 helmets, 2 liscs, 1 no_helmet, 6 riders, 8.2ms\n",
            "video 1/1 (frame 327/1329) /content/3691658-hd_1920_1080_30fps.mp4: 384x640 7 bikes, 3 helmets, 2 liscs, 7 riders, 7.8ms\n",
            "video 1/1 (frame 328/1329) /content/3691658-hd_1920_1080_30fps.mp4: 384x640 6 bikes, 3 helmets, 2 liscs, 6 riders, 10.0ms\n",
            "video 1/1 (frame 329/1329) /content/3691658-hd_1920_1080_30fps.mp4: 384x640 6 bikes, 4 helmets, 2 liscs, 1 no_helmet, 8 riders, 11.1ms\n",
            "video 1/1 (frame 330/1329) /content/3691658-hd_1920_1080_30fps.mp4: 384x640 7 bikes, 4 helmets, 3 liscs, 1 no_helmet, 8 riders, 9.2ms\n",
            "video 1/1 (frame 331/1329) /content/3691658-hd_1920_1080_30fps.mp4: 384x640 6 bikes, 4 helmets, 5 liscs, 7 riders, 11.7ms\n",
            "video 1/1 (frame 332/1329) /content/3691658-hd_1920_1080_30fps.mp4: 384x640 8 bikes, 5 helmets, 3 liscs, 7 riders, 8.9ms\n",
            "video 1/1 (frame 333/1329) /content/3691658-hd_1920_1080_30fps.mp4: 384x640 7 bikes, 3 helmets, 4 liscs, 6 riders, 10.7ms\n",
            "video 1/1 (frame 334/1329) /content/3691658-hd_1920_1080_30fps.mp4: 384x640 6 bikes, 4 helmets, 2 liscs, 5 riders, 8.6ms\n",
            "video 1/1 (frame 335/1329) /content/3691658-hd_1920_1080_30fps.mp4: 384x640 6 bikes, 4 helmets, 2 liscs, 6 riders, 9.4ms\n",
            "video 1/1 (frame 336/1329) /content/3691658-hd_1920_1080_30fps.mp4: 384x640 8 bikes, 5 helmets, 1 lisc, 8 riders, 10.0ms\n",
            "video 1/1 (frame 337/1329) /content/3691658-hd_1920_1080_30fps.mp4: 384x640 5 bikes, 5 helmets, 2 liscs, 6 riders, 10.3ms\n",
            "video 1/1 (frame 338/1329) /content/3691658-hd_1920_1080_30fps.mp4: 384x640 5 bikes, 4 helmets, 3 liscs, 5 riders, 12.1ms\n",
            "video 1/1 (frame 339/1329) /content/3691658-hd_1920_1080_30fps.mp4: 384x640 8 bikes, 5 helmets, 3 liscs, 6 riders, 11.1ms\n",
            "video 1/1 (frame 340/1329) /content/3691658-hd_1920_1080_30fps.mp4: 384x640 9 bikes, 5 helmets, 2 liscs, 7 riders, 10.5ms\n",
            "video 1/1 (frame 341/1329) /content/3691658-hd_1920_1080_30fps.mp4: 384x640 6 bikes, 4 helmets, 2 liscs, 6 riders, 10.3ms\n",
            "video 1/1 (frame 342/1329) /content/3691658-hd_1920_1080_30fps.mp4: 384x640 6 bikes, 4 helmets, 3 liscs, 8 riders, 12.6ms\n",
            "video 1/1 (frame 343/1329) /content/3691658-hd_1920_1080_30fps.mp4: 384x640 6 bikes, 5 helmets, 2 liscs, 5 riders, 10.5ms\n",
            "video 1/1 (frame 344/1329) /content/3691658-hd_1920_1080_30fps.mp4: 384x640 6 bikes, 6 helmets, 2 liscs, 6 riders, 11.1ms\n",
            "video 1/1 (frame 345/1329) /content/3691658-hd_1920_1080_30fps.mp4: 384x640 4 bikes, 5 helmets, 4 liscs, 4 riders, 8.0ms\n",
            "video 1/1 (frame 346/1329) /content/3691658-hd_1920_1080_30fps.mp4: 384x640 6 bikes, 6 helmets, 4 liscs, 1 no_helmet, 6 riders, 10.3ms\n",
            "video 1/1 (frame 347/1329) /content/3691658-hd_1920_1080_30fps.mp4: 384x640 6 bikes, 4 helmets, 4 liscs, 1 no_helmet, 4 riders, 8.0ms\n",
            "video 1/1 (frame 348/1329) /content/3691658-hd_1920_1080_30fps.mp4: 384x640 6 bikes, 4 helmets, 4 liscs, 4 riders, 10.0ms\n",
            "video 1/1 (frame 349/1329) /content/3691658-hd_1920_1080_30fps.mp4: 384x640 6 bikes, 3 helmets, 3 liscs, 4 riders, 11.7ms\n",
            "video 1/1 (frame 350/1329) /content/3691658-hd_1920_1080_30fps.mp4: 384x640 6 bikes, 3 helmets, 4 liscs, 4 riders, 12.8ms\n",
            "video 1/1 (frame 351/1329) /content/3691658-hd_1920_1080_30fps.mp4: 384x640 5 bikes, 3 helmets, 3 liscs, 5 riders, 17.8ms\n",
            "video 1/1 (frame 352/1329) /content/3691658-hd_1920_1080_30fps.mp4: 384x640 6 bikes, 3 helmets, 4 liscs, 5 riders, 11.6ms\n",
            "video 1/1 (frame 353/1329) /content/3691658-hd_1920_1080_30fps.mp4: 384x640 5 bikes, 2 helmets, 3 liscs, 4 riders, 12.0ms\n",
            "video 1/1 (frame 354/1329) /content/3691658-hd_1920_1080_30fps.mp4: 384x640 7 bikes, 3 helmets, 2 liscs, 5 riders, 10.7ms\n",
            "video 1/1 (frame 355/1329) /content/3691658-hd_1920_1080_30fps.mp4: 384x640 6 bikes, 4 helmets, 5 liscs, 4 riders, 14.9ms\n",
            "video 1/1 (frame 356/1329) /content/3691658-hd_1920_1080_30fps.mp4: 384x640 5 bikes, 2 helmets, 3 liscs, 4 riders, 12.8ms\n",
            "video 1/1 (frame 357/1329) /content/3691658-hd_1920_1080_30fps.mp4: 384x640 5 bikes, 3 helmets, 4 liscs, 5 riders, 9.9ms\n",
            "video 1/1 (frame 358/1329) /content/3691658-hd_1920_1080_30fps.mp4: 384x640 4 bikes, 2 helmets, 2 liscs, 2 no_helmets, 5 riders, 11.6ms\n",
            "video 1/1 (frame 359/1329) /content/3691658-hd_1920_1080_30fps.mp4: 384x640 5 bikes, 4 helmets, 1 lisc, 5 riders, 13.4ms\n",
            "video 1/1 (frame 360/1329) /content/3691658-hd_1920_1080_30fps.mp4: 384x640 5 bikes, 3 helmets, 3 liscs, 2 no_helmets, 5 riders, 8.6ms\n",
            "video 1/1 (frame 361/1329) /content/3691658-hd_1920_1080_30fps.mp4: 384x640 6 bikes, 3 helmets, 2 liscs, 2 no_helmets, 6 riders, 9.6ms\n",
            "video 1/1 (frame 362/1329) /content/3691658-hd_1920_1080_30fps.mp4: 384x640 7 bikes, 2 helmets, 4 liscs, 7 riders, 14.2ms\n",
            "video 1/1 (frame 363/1329) /content/3691658-hd_1920_1080_30fps.mp4: 384x640 5 bikes, 3 helmets, 3 liscs, 6 riders, 10.9ms\n",
            "video 1/1 (frame 364/1329) /content/3691658-hd_1920_1080_30fps.mp4: 384x640 5 bikes, 3 helmets, 2 liscs, 5 riders, 21.8ms\n",
            "video 1/1 (frame 365/1329) /content/3691658-hd_1920_1080_30fps.mp4: 384x640 5 bikes, 4 helmets, 3 liscs, 8 riders, 10.9ms\n",
            "video 1/1 (frame 366/1329) /content/3691658-hd_1920_1080_30fps.mp4: 384x640 6 bikes, 3 helmets, 2 liscs, 7 riders, 9.2ms\n",
            "video 1/1 (frame 367/1329) /content/3691658-hd_1920_1080_30fps.mp4: 384x640 7 bikes, 3 helmets, 2 liscs, 2 no_helmets, 7 riders, 14.3ms\n",
            "video 1/1 (frame 368/1329) /content/3691658-hd_1920_1080_30fps.mp4: 384x640 6 bikes, 5 helmets, 2 liscs, 7 riders, 21.9ms\n",
            "video 1/1 (frame 369/1329) /content/3691658-hd_1920_1080_30fps.mp4: 384x640 5 bikes, 5 helmets, 1 lisc, 1 no_helmet, 6 riders, 10.6ms\n",
            "video 1/1 (frame 370/1329) /content/3691658-hd_1920_1080_30fps.mp4: 384x640 5 bikes, 4 helmets, 1 lisc, 6 riders, 10.2ms\n",
            "video 1/1 (frame 371/1329) /content/3691658-hd_1920_1080_30fps.mp4: 384x640 4 bikes, 3 helmets, 2 liscs, 6 riders, 9.6ms\n",
            "video 1/1 (frame 372/1329) /content/3691658-hd_1920_1080_30fps.mp4: 384x640 4 bikes, 4 helmets, 1 lisc, 1 no_helmet, 5 riders, 18.7ms\n",
            "video 1/1 (frame 373/1329) /content/3691658-hd_1920_1080_30fps.mp4: 384x640 4 bikes, 4 helmets, 1 lisc, 1 no_helmet, 6 riders, 11.7ms\n",
            "video 1/1 (frame 374/1329) /content/3691658-hd_1920_1080_30fps.mp4: 384x640 5 bikes, 4 helmets, 3 liscs, 1 no_helmet, 5 riders, 14.0ms\n",
            "video 1/1 (frame 375/1329) /content/3691658-hd_1920_1080_30fps.mp4: 384x640 5 bikes, 5 helmets, 3 liscs, 1 no_helmet, 7 riders, 14.3ms\n",
            "video 1/1 (frame 376/1329) /content/3691658-hd_1920_1080_30fps.mp4: 384x640 5 bikes, 3 helmets, 2 liscs, 1 no_helmet, 7 riders, 11.8ms\n",
            "video 1/1 (frame 377/1329) /content/3691658-hd_1920_1080_30fps.mp4: 384x640 6 bikes, 6 helmets, 4 liscs, 1 no_helmet, 7 riders, 13.4ms\n",
            "video 1/1 (frame 378/1329) /content/3691658-hd_1920_1080_30fps.mp4: 384x640 5 bikes, 4 helmets, 3 liscs, 8 riders, 13.7ms\n",
            "video 1/1 (frame 379/1329) /content/3691658-hd_1920_1080_30fps.mp4: 384x640 6 bikes, 4 helmets, 3 liscs, 1 no_helmet, 7 riders, 11.3ms\n",
            "video 1/1 (frame 380/1329) /content/3691658-hd_1920_1080_30fps.mp4: 384x640 6 bikes, 6 helmets, 4 liscs, 7 riders, 18.8ms\n",
            "video 1/1 (frame 381/1329) /content/3691658-hd_1920_1080_30fps.mp4: 384x640 7 bikes, 4 helmets, 5 liscs, 7 riders, 13.4ms\n",
            "video 1/1 (frame 382/1329) /content/3691658-hd_1920_1080_30fps.mp4: 384x640 6 bikes, 6 helmets, 4 liscs, 8 riders, 15.3ms\n",
            "video 1/1 (frame 383/1329) /content/3691658-hd_1920_1080_30fps.mp4: 384x640 6 bikes, 6 helmets, 4 liscs, 7 riders, 17.9ms\n",
            "video 1/1 (frame 384/1329) /content/3691658-hd_1920_1080_30fps.mp4: 384x640 6 bikes, 7 helmets, 5 liscs, 6 riders, 13.9ms\n",
            "video 1/1 (frame 385/1329) /content/3691658-hd_1920_1080_30fps.mp4: 384x640 6 bikes, 5 helmets, 4 liscs, 6 riders, 20.2ms\n",
            "video 1/1 (frame 386/1329) /content/3691658-hd_1920_1080_30fps.mp4: 384x640 6 bikes, 5 helmets, 3 liscs, 6 riders, 15.0ms\n",
            "video 1/1 (frame 387/1329) /content/3691658-hd_1920_1080_30fps.mp4: 384x640 6 bikes, 5 helmets, 3 liscs, 5 riders, 13.3ms\n",
            "video 1/1 (frame 388/1329) /content/3691658-hd_1920_1080_30fps.mp4: 384x640 7 bikes, 3 helmets, 3 liscs, 6 riders, 15.7ms\n",
            "video 1/1 (frame 389/1329) /content/3691658-hd_1920_1080_30fps.mp4: 384x640 7 bikes, 4 helmets, 3 liscs, 5 riders, 13.5ms\n",
            "video 1/1 (frame 390/1329) /content/3691658-hd_1920_1080_30fps.mp4: 384x640 6 bikes, 5 helmets, 3 liscs, 6 riders, 11.7ms\n",
            "video 1/1 (frame 391/1329) /content/3691658-hd_1920_1080_30fps.mp4: 384x640 6 bikes, 4 helmets, 3 liscs, 1 no_helmet, 6 riders, 11.7ms\n",
            "video 1/1 (frame 392/1329) /content/3691658-hd_1920_1080_30fps.mp4: 384x640 4 bikes, 3 helmets, 3 liscs, 1 no_helmet, 8 riders, 11.2ms\n",
            "video 1/1 (frame 393/1329) /content/3691658-hd_1920_1080_30fps.mp4: 384x640 7 bikes, 4 helmets, 3 liscs, 1 no_helmet, 6 riders, 10.5ms\n",
            "video 1/1 (frame 394/1329) /content/3691658-hd_1920_1080_30fps.mp4: 384x640 6 bikes, 3 helmets, 3 liscs, 7 riders, 10.3ms\n",
            "video 1/1 (frame 395/1329) /content/3691658-hd_1920_1080_30fps.mp4: 384x640 8 bikes, 3 helmets, 3 liscs, 5 riders, 10.4ms\n",
            "video 1/1 (frame 396/1329) /content/3691658-hd_1920_1080_30fps.mp4: 384x640 10 bikes, 4 helmets, 3 liscs, 1 no_helmet, 5 riders, 8.5ms\n",
            "video 1/1 (frame 397/1329) /content/3691658-hd_1920_1080_30fps.mp4: 384x640 6 bikes, 6 helmets, 3 liscs, 5 riders, 10.4ms\n",
            "video 1/1 (frame 398/1329) /content/3691658-hd_1920_1080_30fps.mp4: 384x640 7 bikes, 5 helmets, 3 liscs, 6 riders, 8.6ms\n",
            "video 1/1 (frame 399/1329) /content/3691658-hd_1920_1080_30fps.mp4: 384x640 5 bikes, 6 helmets, 3 liscs, 6 riders, 8.1ms\n",
            "video 1/1 (frame 400/1329) /content/3691658-hd_1920_1080_30fps.mp4: 384x640 5 bikes, 4 helmets, 3 liscs, 7 riders, 7.8ms\n",
            "video 1/1 (frame 401/1329) /content/3691658-hd_1920_1080_30fps.mp4: 384x640 4 bikes, 4 helmets, 3 liscs, 1 no_helmet, 7 riders, 7.0ms\n",
            "video 1/1 (frame 402/1329) /content/3691658-hd_1920_1080_30fps.mp4: 384x640 6 bikes, 4 helmets, 3 liscs, 1 no_helmet, 6 riders, 8.5ms\n",
            "video 1/1 (frame 403/1329) /content/3691658-hd_1920_1080_30fps.mp4: 384x640 6 bikes, 4 helmets, 3 liscs, 7 riders, 9.8ms\n",
            "video 1/1 (frame 404/1329) /content/3691658-hd_1920_1080_30fps.mp4: 384x640 7 bikes, 5 helmets, 3 liscs, 6 riders, 10.1ms\n",
            "video 1/1 (frame 405/1329) /content/3691658-hd_1920_1080_30fps.mp4: 384x640 6 bikes, 5 helmets, 3 liscs, 7 riders, 10.7ms\n",
            "video 1/1 (frame 406/1329) /content/3691658-hd_1920_1080_30fps.mp4: 384x640 6 bikes, 4 helmets, 4 liscs, 2 no_helmets, 7 riders, 11.8ms\n",
            "video 1/1 (frame 407/1329) /content/3691658-hd_1920_1080_30fps.mp4: 384x640 7 bikes, 3 helmets, 4 liscs, 6 riders, 9.9ms\n",
            "video 1/1 (frame 408/1329) /content/3691658-hd_1920_1080_30fps.mp4: 384x640 7 bikes, 3 helmets, 5 liscs, 6 riders, 12.4ms\n",
            "video 1/1 (frame 409/1329) /content/3691658-hd_1920_1080_30fps.mp4: 384x640 6 bikes, 3 helmets, 3 liscs, 8 riders, 8.8ms\n",
            "video 1/1 (frame 410/1329) /content/3691658-hd_1920_1080_30fps.mp4: 384x640 7 bikes, 5 helmets, 4 liscs, 8 riders, 6.8ms\n",
            "video 1/1 (frame 411/1329) /content/3691658-hd_1920_1080_30fps.mp4: 384x640 6 bikes, 2 helmets, 3 liscs, 1 no_helmet, 5 riders, 6.8ms\n",
            "video 1/1 (frame 412/1329) /content/3691658-hd_1920_1080_30fps.mp4: 384x640 6 bikes, 3 helmets, 3 liscs, 1 no_helmet, 6 riders, 6.7ms\n",
            "video 1/1 (frame 413/1329) /content/3691658-hd_1920_1080_30fps.mp4: 384x640 7 bikes, 4 helmets, 2 liscs, 7 riders, 8.2ms\n",
            "video 1/1 (frame 414/1329) /content/3691658-hd_1920_1080_30fps.mp4: 384x640 7 bikes, 4 helmets, 3 liscs, 10 riders, 12.3ms\n",
            "video 1/1 (frame 415/1329) /content/3691658-hd_1920_1080_30fps.mp4: 384x640 6 bikes, 5 helmets, 3 liscs, 10 riders, 7.7ms\n",
            "video 1/1 (frame 416/1329) /content/3691658-hd_1920_1080_30fps.mp4: 384x640 6 bikes, 5 helmets, 3 liscs, 7 riders, 10.7ms\n",
            "video 1/1 (frame 417/1329) /content/3691658-hd_1920_1080_30fps.mp4: 384x640 6 bikes, 4 helmets, 3 liscs, 7 riders, 12.6ms\n",
            "video 1/1 (frame 418/1329) /content/3691658-hd_1920_1080_30fps.mp4: 384x640 7 bikes, 5 helmets, 4 liscs, 6 riders, 8.1ms\n",
            "video 1/1 (frame 419/1329) /content/3691658-hd_1920_1080_30fps.mp4: 384x640 6 bikes, 4 helmets, 5 liscs, 1 no_helmet, 6 riders, 10.5ms\n",
            "video 1/1 (frame 420/1329) /content/3691658-hd_1920_1080_30fps.mp4: 384x640 7 bikes, 5 helmets, 5 liscs, 2 no_helmets, 7 riders, 10.6ms\n",
            "video 1/1 (frame 421/1329) /content/3691658-hd_1920_1080_30fps.mp4: 384x640 5 bikes, 4 helmets, 4 liscs, 1 no_helmet, 6 riders, 8.0ms\n",
            "video 1/1 (frame 422/1329) /content/3691658-hd_1920_1080_30fps.mp4: 384x640 6 bikes, 3 helmets, 4 liscs, 1 no_helmet, 7 riders, 6.9ms\n",
            "video 1/1 (frame 423/1329) /content/3691658-hd_1920_1080_30fps.mp4: 384x640 8 bikes, 3 helmets, 3 liscs, 9 riders, 8.2ms\n",
            "video 1/1 (frame 424/1329) /content/3691658-hd_1920_1080_30fps.mp4: 384x640 8 bikes, 3 helmets, 4 liscs, 6 riders, 8.1ms\n",
            "video 1/1 (frame 425/1329) /content/3691658-hd_1920_1080_30fps.mp4: 384x640 6 bikes, 4 helmets, 3 liscs, 4 riders, 8.1ms\n",
            "video 1/1 (frame 426/1329) /content/3691658-hd_1920_1080_30fps.mp4: 384x640 6 bikes, 2 helmets, 3 liscs, 1 no_helmet, 5 riders, 7.8ms\n",
            "video 1/1 (frame 427/1329) /content/3691658-hd_1920_1080_30fps.mp4: 384x640 6 bikes, 4 helmets, 3 liscs, 7 riders, 9.1ms\n",
            "video 1/1 (frame 428/1329) /content/3691658-hd_1920_1080_30fps.mp4: 384x640 8 bikes, 3 helmets, 3 liscs, 1 no_helmet, 7 riders, 7.2ms\n",
            "video 1/1 (frame 429/1329) /content/3691658-hd_1920_1080_30fps.mp4: 384x640 7 bikes, 3 helmets, 3 liscs, 7 riders, 12.7ms\n",
            "video 1/1 (frame 430/1329) /content/3691658-hd_1920_1080_30fps.mp4: 384x640 7 bikes, 4 helmets, 3 liscs, 7 riders, 8.1ms\n",
            "video 1/1 (frame 431/1329) /content/3691658-hd_1920_1080_30fps.mp4: 384x640 6 bikes, 3 helmets, 3 liscs, 7 riders, 9.0ms\n",
            "video 1/1 (frame 432/1329) /content/3691658-hd_1920_1080_30fps.mp4: 384x640 7 bikes, 3 helmets, 3 liscs, 9 riders, 6.6ms\n",
            "video 1/1 (frame 433/1329) /content/3691658-hd_1920_1080_30fps.mp4: 384x640 7 bikes, 5 helmets, 3 liscs, 8 riders, 11.5ms\n",
            "video 1/1 (frame 434/1329) /content/3691658-hd_1920_1080_30fps.mp4: 384x640 6 bikes, 4 helmets, 3 liscs, 8 riders, 6.7ms\n",
            "video 1/1 (frame 435/1329) /content/3691658-hd_1920_1080_30fps.mp4: 384x640 6 bikes, 4 helmets, 5 liscs, 7 riders, 7.3ms\n",
            "video 1/1 (frame 436/1329) /content/3691658-hd_1920_1080_30fps.mp4: 384x640 5 bikes, 4 helmets, 5 liscs, 1 no_helmet, 7 riders, 9.4ms\n",
            "video 1/1 (frame 437/1329) /content/3691658-hd_1920_1080_30fps.mp4: 384x640 5 bikes, 3 helmets, 5 liscs, 4 riders, 10.1ms\n",
            "video 1/1 (frame 438/1329) /content/3691658-hd_1920_1080_30fps.mp4: 384x640 5 bikes, 3 helmets, 4 liscs, 4 riders, 7.6ms\n",
            "video 1/1 (frame 439/1329) /content/3691658-hd_1920_1080_30fps.mp4: 384x640 5 bikes, 3 helmets, 3 liscs, 5 riders, 8.8ms\n",
            "video 1/1 (frame 440/1329) /content/3691658-hd_1920_1080_30fps.mp4: 384x640 5 bikes, 4 helmets, 3 liscs, 5 riders, 9.1ms\n",
            "video 1/1 (frame 441/1329) /content/3691658-hd_1920_1080_30fps.mp4: 384x640 6 bikes, 4 helmets, 2 liscs, 6 riders, 7.6ms\n",
            "video 1/1 (frame 442/1329) /content/3691658-hd_1920_1080_30fps.mp4: 384x640 6 bikes, 5 helmets, 3 liscs, 6 riders, 10.4ms\n",
            "video 1/1 (frame 443/1329) /content/3691658-hd_1920_1080_30fps.mp4: 384x640 5 bikes, 5 helmets, 3 liscs, 6 riders, 6.5ms\n",
            "video 1/1 (frame 444/1329) /content/3691658-hd_1920_1080_30fps.mp4: 384x640 6 bikes, 5 helmets, 3 liscs, 6 riders, 9.2ms\n",
            "video 1/1 (frame 445/1329) /content/3691658-hd_1920_1080_30fps.mp4: 384x640 4 bikes, 5 helmets, 2 liscs, 4 riders, 10.6ms\n",
            "video 1/1 (frame 446/1329) /content/3691658-hd_1920_1080_30fps.mp4: 384x640 4 bikes, 4 helmets, 3 liscs, 5 riders, 9.1ms\n",
            "video 1/1 (frame 447/1329) /content/3691658-hd_1920_1080_30fps.mp4: 384x640 4 bikes, 4 helmets, 2 liscs, 5 riders, 7.7ms\n",
            "video 1/1 (frame 448/1329) /content/3691658-hd_1920_1080_30fps.mp4: 384x640 5 bikes, 5 helmets, 3 liscs, 4 riders, 9.1ms\n",
            "video 1/1 (frame 449/1329) /content/3691658-hd_1920_1080_30fps.mp4: 384x640 5 bikes, 5 helmets, 5 liscs, 6 riders, 10.7ms\n",
            "video 1/1 (frame 450/1329) /content/3691658-hd_1920_1080_30fps.mp4: 384x640 7 bikes, 5 helmets, 5 liscs, 6 riders, 9.7ms\n",
            "video 1/1 (frame 451/1329) /content/3691658-hd_1920_1080_30fps.mp4: 384x640 7 bikes, 5 helmets, 5 liscs, 6 riders, 7.7ms\n",
            "video 1/1 (frame 452/1329) /content/3691658-hd_1920_1080_30fps.mp4: 384x640 7 bikes, 4 helmets, 4 liscs, 5 riders, 8.8ms\n",
            "video 1/1 (frame 453/1329) /content/3691658-hd_1920_1080_30fps.mp4: 384x640 7 bikes, 4 helmets, 5 liscs, 5 riders, 8.0ms\n",
            "video 1/1 (frame 454/1329) /content/3691658-hd_1920_1080_30fps.mp4: 384x640 6 bikes, 4 helmets, 3 liscs, 1 no_helmet, 5 riders, 10.3ms\n",
            "video 1/1 (frame 455/1329) /content/3691658-hd_1920_1080_30fps.mp4: 384x640 5 bikes, 4 helmets, 5 liscs, 1 no_helmet, 6 riders, 7.1ms\n",
            "video 1/1 (frame 456/1329) /content/3691658-hd_1920_1080_30fps.mp4: 384x640 6 bikes, 5 helmets, 5 liscs, 6 riders, 11.0ms\n",
            "video 1/1 (frame 457/1329) /content/3691658-hd_1920_1080_30fps.mp4: 384x640 7 bikes, 5 helmets, 6 liscs, 7 riders, 6.9ms\n",
            "video 1/1 (frame 458/1329) /content/3691658-hd_1920_1080_30fps.mp4: 384x640 7 bikes, 7 helmets, 7 liscs, 2 no_helmets, 9 riders, 7.1ms\n",
            "video 1/1 (frame 459/1329) /content/3691658-hd_1920_1080_30fps.mp4: 384x640 7 bikes, 6 helmets, 7 liscs, 7 riders, 9.1ms\n",
            "video 1/1 (frame 460/1329) /content/3691658-hd_1920_1080_30fps.mp4: 384x640 7 bikes, 5 helmets, 7 liscs, 1 no_helmet, 8 riders, 21.9ms\n",
            "video 1/1 (frame 461/1329) /content/3691658-hd_1920_1080_30fps.mp4: 384x640 7 bikes, 5 helmets, 7 liscs, 2 no_helmets, 7 riders, 7.5ms\n",
            "video 1/1 (frame 462/1329) /content/3691658-hd_1920_1080_30fps.mp4: 384x640 7 bikes, 5 helmets, 6 liscs, 1 no_helmet, 7 riders, 11.6ms\n",
            "video 1/1 (frame 463/1329) /content/3691658-hd_1920_1080_30fps.mp4: 384x640 7 bikes, 5 helmets, 8 liscs, 1 no_helmet, 7 riders, 6.5ms\n",
            "video 1/1 (frame 464/1329) /content/3691658-hd_1920_1080_30fps.mp4: 384x640 7 bikes, 5 helmets, 7 liscs, 1 no_helmet, 5 riders, 8.1ms\n",
            "video 1/1 (frame 465/1329) /content/3691658-hd_1920_1080_30fps.mp4: 384x640 7 bikes, 5 helmets, 4 liscs, 1 no_helmet, 6 riders, 10.6ms\n",
            "video 1/1 (frame 466/1329) /content/3691658-hd_1920_1080_30fps.mp4: 384x640 7 bikes, 5 helmets, 5 liscs, 1 no_helmet, 5 riders, 11.5ms\n",
            "video 1/1 (frame 467/1329) /content/3691658-hd_1920_1080_30fps.mp4: 384x640 7 bikes, 3 helmets, 5 liscs, 6 riders, 6.7ms\n",
            "video 1/1 (frame 468/1329) /content/3691658-hd_1920_1080_30fps.mp4: 384x640 8 bikes, 4 helmets, 4 liscs, 4 riders, 12.6ms\n",
            "video 1/1 (frame 469/1329) /content/3691658-hd_1920_1080_30fps.mp4: 384x640 6 bikes, 3 helmets, 6 liscs, 5 riders, 6.5ms\n",
            "video 1/1 (frame 470/1329) /content/3691658-hd_1920_1080_30fps.mp4: 384x640 5 bikes, 4 helmets, 4 liscs, 5 riders, 9.8ms\n",
            "video 1/1 (frame 471/1329) /content/3691658-hd_1920_1080_30fps.mp4: 384x640 5 bikes, 4 helmets, 4 liscs, 5 riders, 9.5ms\n",
            "video 1/1 (frame 472/1329) /content/3691658-hd_1920_1080_30fps.mp4: 384x640 5 bikes, 4 helmets, 3 liscs, 4 riders, 7.6ms\n",
            "video 1/1 (frame 473/1329) /content/3691658-hd_1920_1080_30fps.mp4: 384x640 5 bikes, 4 helmets, 3 liscs, 4 riders, 9.5ms\n",
            "video 1/1 (frame 474/1329) /content/3691658-hd_1920_1080_30fps.mp4: 384x640 5 bikes, 4 helmets, 4 liscs, 5 riders, 6.7ms\n",
            "video 1/1 (frame 475/1329) /content/3691658-hd_1920_1080_30fps.mp4: 384x640 5 bikes, 3 helmets, 6 liscs, 1 no_helmet, 5 riders, 11.6ms\n",
            "video 1/1 (frame 476/1329) /content/3691658-hd_1920_1080_30fps.mp4: 384x640 4 bikes, 2 helmets, 4 liscs, 1 no_helmet, 4 riders, 24.1ms\n",
            "video 1/1 (frame 477/1329) /content/3691658-hd_1920_1080_30fps.mp4: 384x640 6 bikes, 3 helmets, 4 liscs, 1 no_helmet, 4 riders, 6.9ms\n",
            "video 1/1 (frame 478/1329) /content/3691658-hd_1920_1080_30fps.mp4: 384x640 6 bikes, 3 helmets, 4 liscs, 4 riders, 6.5ms\n",
            "video 1/1 (frame 479/1329) /content/3691658-hd_1920_1080_30fps.mp4: 384x640 6 bikes, 3 helmets, 4 liscs, 4 riders, 8.7ms\n",
            "video 1/1 (frame 480/1329) /content/3691658-hd_1920_1080_30fps.mp4: 384x640 6 bikes, 4 helmets, 4 liscs, 5 riders, 10.4ms\n",
            "video 1/1 (frame 481/1329) /content/3691658-hd_1920_1080_30fps.mp4: 384x640 6 bikes, 3 helmets, 4 liscs, 4 riders, 6.5ms\n",
            "video 1/1 (frame 482/1329) /content/3691658-hd_1920_1080_30fps.mp4: 384x640 6 bikes, 4 helmets, 3 liscs, 4 riders, 6.7ms\n",
            "video 1/1 (frame 483/1329) /content/3691658-hd_1920_1080_30fps.mp4: 384x640 7 bikes, 3 helmets, 4 liscs, 4 riders, 6.8ms\n",
            "video 1/1 (frame 484/1329) /content/3691658-hd_1920_1080_30fps.mp4: 384x640 6 bikes, 4 helmets, 5 liscs, 4 riders, 8.5ms\n",
            "video 1/1 (frame 485/1329) /content/3691658-hd_1920_1080_30fps.mp4: 384x640 5 bikes, 4 helmets, 3 liscs, 5 riders, 7.0ms\n",
            "video 1/1 (frame 486/1329) /content/3691658-hd_1920_1080_30fps.mp4: 384x640 6 bikes, 4 helmets, 4 liscs, 4 riders, 16.2ms\n",
            "video 1/1 (frame 487/1329) /content/3691658-hd_1920_1080_30fps.mp4: 384x640 6 bikes, 3 helmets, 5 liscs, 4 riders, 7.1ms\n",
            "video 1/1 (frame 488/1329) /content/3691658-hd_1920_1080_30fps.mp4: 384x640 7 bikes, 2 helmets, 4 liscs, 4 riders, 8.8ms\n",
            "video 1/1 (frame 489/1329) /content/3691658-hd_1920_1080_30fps.mp4: 384x640 5 bikes, 2 helmets, 3 liscs, 4 riders, 7.0ms\n",
            "video 1/1 (frame 490/1329) /content/3691658-hd_1920_1080_30fps.mp4: 384x640 5 bikes, 2 helmets, 3 liscs, 6 riders, 7.2ms\n",
            "video 1/1 (frame 491/1329) /content/3691658-hd_1920_1080_30fps.mp4: 384x640 7 bikes, 2 helmets, 3 liscs, 4 riders, 6.8ms\n",
            "video 1/1 (frame 492/1329) /content/3691658-hd_1920_1080_30fps.mp4: 384x640 5 bikes, 2 helmets, 3 liscs, 4 riders, 11.6ms\n",
            "video 1/1 (frame 493/1329) /content/3691658-hd_1920_1080_30fps.mp4: 384x640 5 bikes, 3 helmets, 3 liscs, 1 no_helmet, 4 riders, 10.3ms\n",
            "video 1/1 (frame 494/1329) /content/3691658-hd_1920_1080_30fps.mp4: 384x640 4 bikes, 3 helmets, 3 liscs, 4 riders, 7.3ms\n",
            "video 1/1 (frame 495/1329) /content/3691658-hd_1920_1080_30fps.mp4: 384x640 4 bikes, 2 helmets, 3 liscs, 4 riders, 6.6ms\n",
            "video 1/1 (frame 496/1329) /content/3691658-hd_1920_1080_30fps.mp4: 384x640 5 bikes, 2 helmets, 3 liscs, 4 riders, 11.0ms\n",
            "video 1/1 (frame 497/1329) /content/3691658-hd_1920_1080_30fps.mp4: 384x640 4 bikes, 3 helmets, 3 liscs, 1 noise, 3 riders, 12.2ms\n",
            "video 1/1 (frame 498/1329) /content/3691658-hd_1920_1080_30fps.mp4: 384x640 5 bikes, 3 helmets, 3 liscs, 3 riders, 10.4ms\n",
            "video 1/1 (frame 499/1329) /content/3691658-hd_1920_1080_30fps.mp4: 384x640 5 bikes, 2 helmets, 3 liscs, 3 riders, 6.7ms\n",
            "video 1/1 (frame 500/1329) /content/3691658-hd_1920_1080_30fps.mp4: 384x640 4 bikes, 2 helmets, 2 liscs, 3 riders, 8.3ms\n",
            "video 1/1 (frame 501/1329) /content/3691658-hd_1920_1080_30fps.mp4: 384x640 4 bikes, 2 helmets, 3 liscs, 1 noise, 3 riders, 8.3ms\n",
            "video 1/1 (frame 502/1329) /content/3691658-hd_1920_1080_30fps.mp4: 384x640 4 bikes, 2 helmets, 2 liscs, 1 noise, 3 riders, 11.1ms\n",
            "video 1/1 (frame 503/1329) /content/3691658-hd_1920_1080_30fps.mp4: 384x640 4 bikes, 2 helmets, 3 liscs, 3 riders, 13.7ms\n",
            "video 1/1 (frame 504/1329) /content/3691658-hd_1920_1080_30fps.mp4: 384x640 4 bikes, 2 helmets, 3 liscs, 3 riders, 7.4ms\n",
            "video 1/1 (frame 505/1329) /content/3691658-hd_1920_1080_30fps.mp4: 384x640 5 bikes, 2 helmets, 3 liscs, 3 riders, 6.6ms\n",
            "video 1/1 (frame 506/1329) /content/3691658-hd_1920_1080_30fps.mp4: 384x640 5 bikes, 2 helmets, 4 liscs, 3 riders, 10.0ms\n",
            "video 1/1 (frame 507/1329) /content/3691658-hd_1920_1080_30fps.mp4: 384x640 4 bikes, 2 helmets, 4 liscs, 3 riders, 6.7ms\n",
            "video 1/1 (frame 508/1329) /content/3691658-hd_1920_1080_30fps.mp4: 384x640 4 bikes, 2 helmets, 4 liscs, 3 riders, 6.7ms\n",
            "video 1/1 (frame 509/1329) /content/3691658-hd_1920_1080_30fps.mp4: 384x640 4 bikes, 2 helmets, 5 liscs, 3 riders, 12.0ms\n",
            "video 1/1 (frame 510/1329) /content/3691658-hd_1920_1080_30fps.mp4: 384x640 4 bikes, 2 helmets, 3 liscs, 3 riders, 10.2ms\n",
            "video 1/1 (frame 511/1329) /content/3691658-hd_1920_1080_30fps.mp4: 384x640 5 bikes, 2 helmets, 2 liscs, 3 riders, 8.4ms\n",
            "video 1/1 (frame 512/1329) /content/3691658-hd_1920_1080_30fps.mp4: 384x640 5 bikes, 2 helmets, 4 liscs, 4 riders, 7.8ms\n",
            "video 1/1 (frame 513/1329) /content/3691658-hd_1920_1080_30fps.mp4: 384x640 5 bikes, 2 helmets, 4 liscs, 3 riders, 11.0ms\n",
            "video 1/1 (frame 514/1329) /content/3691658-hd_1920_1080_30fps.mp4: 384x640 4 bikes, 2 helmets, 3 liscs, 5 riders, 8.7ms\n",
            "video 1/1 (frame 515/1329) /content/3691658-hd_1920_1080_30fps.mp4: 384x640 4 bikes, 4 helmets, 3 liscs, 5 riders, 6.8ms\n",
            "video 1/1 (frame 516/1329) /content/3691658-hd_1920_1080_30fps.mp4: 384x640 5 bikes, 3 helmets, 2 liscs, 4 riders, 6.9ms\n",
            "video 1/1 (frame 517/1329) /content/3691658-hd_1920_1080_30fps.mp4: 384x640 4 bikes, 3 helmets, 3 liscs, 4 riders, 7.8ms\n",
            "video 1/1 (frame 518/1329) /content/3691658-hd_1920_1080_30fps.mp4: 384x640 5 bikes, 3 helmets, 3 liscs, 4 riders, 7.0ms\n",
            "video 1/1 (frame 519/1329) /content/3691658-hd_1920_1080_30fps.mp4: 384x640 8 bikes, 3 helmets, 4 liscs, 5 riders, 11.2ms\n",
            "video 1/1 (frame 520/1329) /content/3691658-hd_1920_1080_30fps.mp4: 384x640 6 bikes, 3 helmets, 3 liscs, 4 riders, 8.7ms\n",
            "video 1/1 (frame 521/1329) /content/3691658-hd_1920_1080_30fps.mp4: 384x640 7 bikes, 4 helmets, 4 liscs, 6 riders, 7.7ms\n",
            "video 1/1 (frame 522/1329) /content/3691658-hd_1920_1080_30fps.mp4: 384x640 6 bikes, 5 helmets, 4 liscs, 6 riders, 11.3ms\n",
            "video 1/1 (frame 523/1329) /content/3691658-hd_1920_1080_30fps.mp4: 384x640 7 bikes, 4 helmets, 4 liscs, 6 riders, 7.0ms\n",
            "video 1/1 (frame 524/1329) /content/3691658-hd_1920_1080_30fps.mp4: 384x640 6 bikes, 5 helmets, 4 liscs, 6 riders, 12.4ms\n",
            "video 1/1 (frame 525/1329) /content/3691658-hd_1920_1080_30fps.mp4: 384x640 7 bikes, 5 helmets, 4 liscs, 6 riders, 9.7ms\n",
            "video 1/1 (frame 526/1329) /content/3691658-hd_1920_1080_30fps.mp4: 384x640 6 bikes, 5 helmets, 4 liscs, 6 riders, 7.1ms\n",
            "video 1/1 (frame 527/1329) /content/3691658-hd_1920_1080_30fps.mp4: 384x640 7 bikes, 5 helmets, 5 liscs, 6 riders, 7.6ms\n",
            "video 1/1 (frame 528/1329) /content/3691658-hd_1920_1080_30fps.mp4: 384x640 8 bikes, 5 helmets, 5 liscs, 8 riders, 6.9ms\n",
            "video 1/1 (frame 529/1329) /content/3691658-hd_1920_1080_30fps.mp4: 384x640 8 bikes, 5 helmets, 4 liscs, 7 riders, 6.7ms\n",
            "video 1/1 (frame 530/1329) /content/3691658-hd_1920_1080_30fps.mp4: 384x640 8 bikes, 5 helmets, 1 lisc, 8 riders, 7.7ms\n",
            "video 1/1 (frame 531/1329) /content/3691658-hd_1920_1080_30fps.mp4: 384x640 8 bikes, 5 helmets, 3 liscs, 8 riders, 6.9ms\n",
            "video 1/1 (frame 532/1329) /content/3691658-hd_1920_1080_30fps.mp4: 384x640 8 bikes, 4 helmets, 2 liscs, 7 riders, 8.9ms\n",
            "video 1/1 (frame 533/1329) /content/3691658-hd_1920_1080_30fps.mp4: 384x640 7 bikes, 4 helmets, 1 lisc, 5 riders, 9.9ms\n",
            "video 1/1 (frame 534/1329) /content/3691658-hd_1920_1080_30fps.mp4: 384x640 9 bikes, 3 helmets, 2 liscs, 2 no_helmets, 7 riders, 8.5ms\n",
            "video 1/1 (frame 535/1329) /content/3691658-hd_1920_1080_30fps.mp4: 384x640 7 bikes, 3 helmets, 2 liscs, 1 no_helmet, 7 riders, 14.7ms\n",
            "video 1/1 (frame 536/1329) /content/3691658-hd_1920_1080_30fps.mp4: 384x640 9 bikes, 3 helmets, 2 liscs, 9 riders, 12.8ms\n",
            "video 1/1 (frame 537/1329) /content/3691658-hd_1920_1080_30fps.mp4: 384x640 9 bikes, 6 helmets, 2 liscs, 10 riders, 12.0ms\n",
            "video 1/1 (frame 538/1329) /content/3691658-hd_1920_1080_30fps.mp4: 384x640 8 bikes, 7 helmets, 3 liscs, 1 no_helmet, 9 riders, 14.9ms\n",
            "video 1/1 (frame 539/1329) /content/3691658-hd_1920_1080_30fps.mp4: 384x640 7 bikes, 3 helmets, 3 liscs, 2 no_helmets, 6 riders, 20.1ms\n",
            "video 1/1 (frame 540/1329) /content/3691658-hd_1920_1080_30fps.mp4: 384x640 5 bikes, 6 helmets, 4 liscs, 9 riders, 11.3ms\n",
            "video 1/1 (frame 541/1329) /content/3691658-hd_1920_1080_30fps.mp4: 384x640 6 bikes, 6 helmets, 4 liscs, 1 no_helmet, 7 riders, 9.3ms\n",
            "video 1/1 (frame 542/1329) /content/3691658-hd_1920_1080_30fps.mp4: 384x640 7 bikes, 7 helmets, 3 liscs, 2 no_helmets, 8 riders, 12.1ms\n",
            "video 1/1 (frame 543/1329) /content/3691658-hd_1920_1080_30fps.mp4: 384x640 6 bikes, 8 helmets, 2 liscs, 1 no_helmet, 8 riders, 9.4ms\n",
            "video 1/1 (frame 544/1329) /content/3691658-hd_1920_1080_30fps.mp4: 384x640 6 bikes, 6 helmets, 3 liscs, 7 riders, 13.4ms\n",
            "video 1/1 (frame 545/1329) /content/3691658-hd_1920_1080_30fps.mp4: 384x640 6 bikes, 7 helmets, 3 liscs, 1 no_helmet, 9 riders, 8.7ms\n",
            "video 1/1 (frame 546/1329) /content/3691658-hd_1920_1080_30fps.mp4: 384x640 7 bikes, 6 helmets, 4 liscs, 1 no_helmet, 9 riders, 12.6ms\n",
            "video 1/1 (frame 547/1329) /content/3691658-hd_1920_1080_30fps.mp4: 384x640 6 bikes, 5 helmets, 4 liscs, 1 no_helmet, 8 riders, 15.9ms\n",
            "video 1/1 (frame 548/1329) /content/3691658-hd_1920_1080_30fps.mp4: 384x640 9 bikes, 7 helmets, 5 liscs, 9 riders, 23.3ms\n",
            "video 1/1 (frame 549/1329) /content/3691658-hd_1920_1080_30fps.mp4: 384x640 6 bikes, 5 helmets, 5 liscs, 8 riders, 12.0ms\n",
            "video 1/1 (frame 550/1329) /content/3691658-hd_1920_1080_30fps.mp4: 384x640 6 bikes, 7 helmets, 6 liscs, 9 riders, 16.5ms\n",
            "video 1/1 (frame 551/1329) /content/3691658-hd_1920_1080_30fps.mp4: 384x640 6 bikes, 6 helmets, 4 liscs, 8 riders, 9.9ms\n",
            "video 1/1 (frame 552/1329) /content/3691658-hd_1920_1080_30fps.mp4: 384x640 6 bikes, 7 helmets, 4 liscs, 1 no_helmet, 8 riders, 11.1ms\n",
            "video 1/1 (frame 553/1329) /content/3691658-hd_1920_1080_30fps.mp4: 384x640 6 bikes, 8 helmets, 6 liscs, 7 riders, 9.1ms\n",
            "video 1/1 (frame 554/1329) /content/3691658-hd_1920_1080_30fps.mp4: 384x640 8 bikes, 6 helmets, 5 liscs, 1 no_helmet, 7 riders, 15.1ms\n",
            "video 1/1 (frame 555/1329) /content/3691658-hd_1920_1080_30fps.mp4: 384x640 7 bikes, 7 helmets, 4 liscs, 9 riders, 11.2ms\n",
            "video 1/1 (frame 556/1329) /content/3691658-hd_1920_1080_30fps.mp4: 384x640 7 bikes, 7 helmets, 5 liscs, 1 no_helmet, 9 riders, 10.2ms\n",
            "video 1/1 (frame 557/1329) /content/3691658-hd_1920_1080_30fps.mp4: 384x640 7 bikes, 6 helmets, 6 liscs, 1 no_helmet, 7 riders, 8.9ms\n",
            "video 1/1 (frame 558/1329) /content/3691658-hd_1920_1080_30fps.mp4: 384x640 7 bikes, 7 helmets, 6 liscs, 7 riders, 8.7ms\n",
            "video 1/1 (frame 559/1329) /content/3691658-hd_1920_1080_30fps.mp4: 384x640 7 bikes, 5 helmets, 5 liscs, 1 no_helmet, 8 riders, 9.9ms\n",
            "video 1/1 (frame 560/1329) /content/3691658-hd_1920_1080_30fps.mp4: 384x640 8 bikes, 6 helmets, 6 liscs, 7 riders, 12.9ms\n",
            "video 1/1 (frame 561/1329) /content/3691658-hd_1920_1080_30fps.mp4: 384x640 9 bikes, 5 helmets, 6 liscs, 1 no_helmet, 7 riders, 10.3ms\n",
            "video 1/1 (frame 562/1329) /content/3691658-hd_1920_1080_30fps.mp4: 384x640 8 bikes, 5 helmets, 6 liscs, 1 no_helmet, 6 riders, 13.5ms\n",
            "video 1/1 (frame 563/1329) /content/3691658-hd_1920_1080_30fps.mp4: 384x640 8 bikes, 5 helmets, 6 liscs, 1 no_helmet, 7 riders, 12.5ms\n",
            "video 1/1 (frame 564/1329) /content/3691658-hd_1920_1080_30fps.mp4: 384x640 7 bikes, 6 helmets, 6 liscs, 1 no_helmet, 7 riders, 13.9ms\n",
            "video 1/1 (frame 565/1329) /content/3691658-hd_1920_1080_30fps.mp4: 384x640 8 bikes, 5 helmets, 5 liscs, 6 riders, 12.6ms\n",
            "video 1/1 (frame 566/1329) /content/3691658-hd_1920_1080_30fps.mp4: 384x640 8 bikes, 7 helmets, 4 liscs, 8 riders, 12.9ms\n",
            "video 1/1 (frame 567/1329) /content/3691658-hd_1920_1080_30fps.mp4: 384x640 8 bikes, 6 helmets, 4 liscs, 8 riders, 14.3ms\n",
            "video 1/1 (frame 568/1329) /content/3691658-hd_1920_1080_30fps.mp4: 384x640 9 bikes, 6 helmets, 4 liscs, 9 riders, 22.4ms\n",
            "video 1/1 (frame 569/1329) /content/3691658-hd_1920_1080_30fps.mp4: 384x640 9 bikes, 6 helmets, 5 liscs, 1 no_helmet, 8 riders, 11.9ms\n",
            "video 1/1 (frame 570/1329) /content/3691658-hd_1920_1080_30fps.mp4: 384x640 9 bikes, 5 helmets, 5 liscs, 11 riders, 12.2ms\n",
            "video 1/1 (frame 571/1329) /content/3691658-hd_1920_1080_30fps.mp4: 384x640 8 bikes, 7 helmets, 6 liscs, 10 riders, 16.1ms\n",
            "video 1/1 (frame 572/1329) /content/3691658-hd_1920_1080_30fps.mp4: 384x640 8 bikes, 6 helmets, 5 liscs, 9 riders, 11.7ms\n",
            "video 1/1 (frame 573/1329) /content/3691658-hd_1920_1080_30fps.mp4: 384x640 8 bikes, 5 helmets, 7 liscs, 10 riders, 7.8ms\n",
            "video 1/1 (frame 574/1329) /content/3691658-hd_1920_1080_30fps.mp4: 384x640 8 bikes, 5 helmets, 6 liscs, 9 riders, 14.3ms\n",
            "video 1/1 (frame 575/1329) /content/3691658-hd_1920_1080_30fps.mp4: 384x640 9 bikes, 6 helmets, 5 liscs, 2 no_helmets, 9 riders, 11.5ms\n",
            "video 1/1 (frame 576/1329) /content/3691658-hd_1920_1080_30fps.mp4: 384x640 8 bikes, 6 helmets, 5 liscs, 9 riders, 10.8ms\n",
            "video 1/1 (frame 577/1329) /content/3691658-hd_1920_1080_30fps.mp4: 384x640 9 bikes, 5 helmets, 4 liscs, 8 riders, 7.4ms\n",
            "video 1/1 (frame 578/1329) /content/3691658-hd_1920_1080_30fps.mp4: 384x640 9 bikes, 5 helmets, 4 liscs, 8 riders, 8.0ms\n",
            "video 1/1 (frame 579/1329) /content/3691658-hd_1920_1080_30fps.mp4: 384x640 9 bikes, 4 helmets, 4 liscs, 1 noise, 7 riders, 11.9ms\n",
            "video 1/1 (frame 580/1329) /content/3691658-hd_1920_1080_30fps.mp4: 384x640 9 bikes, 5 helmets, 4 liscs, 1 noise, 11 riders, 6.6ms\n",
            "video 1/1 (frame 581/1329) /content/3691658-hd_1920_1080_30fps.mp4: 384x640 11 bikes, 5 helmets, 2 liscs, 1 noise, 9 riders, 7.9ms\n",
            "video 1/1 (frame 582/1329) /content/3691658-hd_1920_1080_30fps.mp4: 384x640 10 bikes, 4 helmets, 7 liscs, 9 riders, 7.2ms\n",
            "video 1/1 (frame 583/1329) /content/3691658-hd_1920_1080_30fps.mp4: 384x640 12 bikes, 4 helmets, 4 liscs, 1 no_helmet, 1 noise, 9 riders, 11.6ms\n",
            "video 1/1 (frame 584/1329) /content/3691658-hd_1920_1080_30fps.mp4: 384x640 11 bikes, 4 helmets, 4 liscs, 9 riders, 10.6ms\n",
            "video 1/1 (frame 585/1329) /content/3691658-hd_1920_1080_30fps.mp4: 384x640 10 bikes, 4 helmets, 6 liscs, 1 noise, 10 riders, 9.6ms\n",
            "video 1/1 (frame 586/1329) /content/3691658-hd_1920_1080_30fps.mp4: 384x640 10 bikes, 3 helmets, 6 liscs, 1 no_helmet, 9 riders, 9.5ms\n",
            "video 1/1 (frame 587/1329) /content/3691658-hd_1920_1080_30fps.mp4: 384x640 11 bikes, 4 helmets, 4 liscs, 10 riders, 7.4ms\n",
            "video 1/1 (frame 588/1329) /content/3691658-hd_1920_1080_30fps.mp4: 384x640 10 bikes, 4 helmets, 4 liscs, 1 no_helmet, 1 noise, 8 riders, 10.8ms\n",
            "video 1/1 (frame 589/1329) /content/3691658-hd_1920_1080_30fps.mp4: 384x640 10 bikes, 6 helmets, 5 liscs, 1 no_helmet, 11 riders, 11.8ms\n",
            "video 1/1 (frame 590/1329) /content/3691658-hd_1920_1080_30fps.mp4: 384x640 9 bikes, 5 helmets, 4 liscs, 8 riders, 8.1ms\n",
            "video 1/1 (frame 591/1329) /content/3691658-hd_1920_1080_30fps.mp4: 384x640 11 bikes, 6 helmets, 6 liscs, 2 no_helmets, 11 riders, 10.3ms\n",
            "video 1/1 (frame 592/1329) /content/3691658-hd_1920_1080_30fps.mp4: 384x640 8 bikes, 5 helmets, 4 liscs, 2 no_helmets, 9 riders, 10.7ms\n",
            "video 1/1 (frame 593/1329) /content/3691658-hd_1920_1080_30fps.mp4: 384x640 12 bikes, 7 helmets, 3 liscs, 13 riders, 16.5ms\n",
            "video 1/1 (frame 594/1329) /content/3691658-hd_1920_1080_30fps.mp4: 384x640 10 bikes, 6 helmets, 5 liscs, 1 noise, 12 riders, 8.3ms\n",
            "video 1/1 (frame 595/1329) /content/3691658-hd_1920_1080_30fps.mp4: 384x640 10 bikes, 6 helmets, 3 liscs, 1 no_helmet, 13 riders, 9.9ms\n",
            "video 1/1 (frame 596/1329) /content/3691658-hd_1920_1080_30fps.mp4: 384x640 13 bikes, 7 helmets, 5 liscs, 1 no_helmet, 12 riders, 9.0ms\n",
            "video 1/1 (frame 597/1329) /content/3691658-hd_1920_1080_30fps.mp4: 384x640 11 bikes, 7 helmets, 4 liscs, 1 no_helmet, 13 riders, 8.4ms\n",
            "video 1/1 (frame 598/1329) /content/3691658-hd_1920_1080_30fps.mp4: 384x640 11 bikes, 8 helmets, 4 liscs, 1 no_helmet, 12 riders, 7.6ms\n",
            "video 1/1 (frame 599/1329) /content/3691658-hd_1920_1080_30fps.mp4: 384x640 11 bikes, 4 helmets, 6 liscs, 2 no_helmets, 13 riders, 9.4ms\n",
            "video 1/1 (frame 600/1329) /content/3691658-hd_1920_1080_30fps.mp4: 384x640 11 bikes, 6 helmets, 5 liscs, 1 no_helmet, 11 riders, 8.2ms\n",
            "video 1/1 (frame 601/1329) /content/3691658-hd_1920_1080_30fps.mp4: 384x640 11 bikes, 5 helmets, 4 liscs, 1 noise, 13 riders, 8.0ms\n",
            "video 1/1 (frame 602/1329) /content/3691658-hd_1920_1080_30fps.mp4: 384x640 9 bikes, 6 helmets, 5 liscs, 1 no_helmet, 11 riders, 10.7ms\n",
            "video 1/1 (frame 603/1329) /content/3691658-hd_1920_1080_30fps.mp4: 384x640 9 bikes, 5 helmets, 5 liscs, 10 riders, 10.9ms\n",
            "video 1/1 (frame 604/1329) /content/3691658-hd_1920_1080_30fps.mp4: 384x640 10 bikes, 4 helmets, 6 liscs, 1 no_helmet, 8 riders, 6.8ms\n",
            "video 1/1 (frame 605/1329) /content/3691658-hd_1920_1080_30fps.mp4: 384x640 11 bikes, 5 helmets, 6 liscs, 9 riders, 8.2ms\n",
            "video 1/1 (frame 606/1329) /content/3691658-hd_1920_1080_30fps.mp4: 384x640 12 bikes, 4 helmets, 6 liscs, 1 no_helmet, 13 riders, 7.0ms\n",
            "video 1/1 (frame 607/1329) /content/3691658-hd_1920_1080_30fps.mp4: 384x640 11 bikes, 8 helmets, 6 liscs, 14 riders, 10.0ms\n",
            "video 1/1 (frame 608/1329) /content/3691658-hd_1920_1080_30fps.mp4: 384x640 11 bikes, 6 helmets, 6 liscs, 2 no_helmets, 9 riders, 8.6ms\n",
            "video 1/1 (frame 609/1329) /content/3691658-hd_1920_1080_30fps.mp4: 384x640 10 bikes, 5 helmets, 5 liscs, 3 no_helmets, 11 riders, 7.8ms\n",
            "video 1/1 (frame 610/1329) /content/3691658-hd_1920_1080_30fps.mp4: 384x640 10 bikes, 6 helmets, 5 liscs, 2 no_helmets, 12 riders, 9.8ms\n",
            "video 1/1 (frame 611/1329) /content/3691658-hd_1920_1080_30fps.mp4: 384x640 11 bikes, 7 helmets, 6 liscs, 2 no_helmets, 14 riders, 7.2ms\n",
            "video 1/1 (frame 612/1329) /content/3691658-hd_1920_1080_30fps.mp4: 384x640 11 bikes, 4 helmets, 6 liscs, 3 no_helmets, 13 riders, 10.1ms\n",
            "video 1/1 (frame 613/1329) /content/3691658-hd_1920_1080_30fps.mp4: 384x640 11 bikes, 4 helmets, 5 liscs, 1 no_helmet, 10 riders, 7.2ms\n",
            "video 1/1 (frame 614/1329) /content/3691658-hd_1920_1080_30fps.mp4: 384x640 10 bikes, 3 helmets, 6 liscs, 2 no_helmets, 13 riders, 6.8ms\n",
            "video 1/1 (frame 615/1329) /content/3691658-hd_1920_1080_30fps.mp4: 384x640 9 bikes, 3 helmets, 6 liscs, 1 no_helmet, 8 riders, 7.2ms\n",
            "video 1/1 (frame 616/1329) /content/3691658-hd_1920_1080_30fps.mp4: 384x640 10 bikes, 4 helmets, 4 liscs, 1 no_helmet, 8 riders, 11.9ms\n",
            "video 1/1 (frame 617/1329) /content/3691658-hd_1920_1080_30fps.mp4: 384x640 8 bikes, 3 helmets, 4 liscs, 1 no_helmet, 7 riders, 13.3ms\n",
            "video 1/1 (frame 618/1329) /content/3691658-hd_1920_1080_30fps.mp4: 384x640 7 bikes, 4 helmets, 5 liscs, 1 no_helmet, 9 riders, 11.3ms\n",
            "video 1/1 (frame 619/1329) /content/3691658-hd_1920_1080_30fps.mp4: 384x640 6 bikes, 5 helmets, 3 liscs, 1 no_helmet, 11 riders, 9.6ms\n",
            "video 1/1 (frame 620/1329) /content/3691658-hd_1920_1080_30fps.mp4: 384x640 8 bikes, 5 helmets, 4 liscs, 2 no_helmets, 7 riders, 9.9ms\n",
            "video 1/1 (frame 621/1329) /content/3691658-hd_1920_1080_30fps.mp4: 384x640 10 bikes, 5 helmets, 6 liscs, 2 no_helmets, 10 riders, 11.0ms\n",
            "video 1/1 (frame 622/1329) /content/3691658-hd_1920_1080_30fps.mp4: 384x640 9 bikes, 9 helmets, 6 liscs, 1 no_helmet, 12 riders, 7.0ms\n",
            "video 1/1 (frame 623/1329) /content/3691658-hd_1920_1080_30fps.mp4: 384x640 9 bikes, 7 helmets, 3 liscs, 9 riders, 10.5ms\n",
            "video 1/1 (frame 624/1329) /content/3691658-hd_1920_1080_30fps.mp4: 384x640 10 bikes, 6 helmets, 4 liscs, 2 no_helmets, 11 riders, 9.5ms\n",
            "video 1/1 (frame 625/1329) /content/3691658-hd_1920_1080_30fps.mp4: 384x640 8 bikes, 8 helmets, 4 liscs, 2 no_helmets, 10 riders, 11.6ms\n",
            "video 1/1 (frame 626/1329) /content/3691658-hd_1920_1080_30fps.mp4: 384x640 9 bikes, 6 helmets, 4 liscs, 5 no_helmets, 11 riders, 6.7ms\n",
            "video 1/1 (frame 627/1329) /content/3691658-hd_1920_1080_30fps.mp4: 384x640 9 bikes, 8 helmets, 3 liscs, 2 no_helmets, 11 riders, 8.0ms\n",
            "video 1/1 (frame 628/1329) /content/3691658-hd_1920_1080_30fps.mp4: 384x640 8 bikes, 6 helmets, 3 liscs, 1 no_helmet, 13 riders, 10.4ms\n",
            "video 1/1 (frame 629/1329) /content/3691658-hd_1920_1080_30fps.mp4: 384x640 8 bikes, 6 helmets, 3 liscs, 3 no_helmets, 14 riders, 8.7ms\n",
            "video 1/1 (frame 630/1329) /content/3691658-hd_1920_1080_30fps.mp4: 384x640 7 bikes, 9 helmets, 5 liscs, 1 no_helmet, 10 riders, 8.3ms\n",
            "video 1/1 (frame 631/1329) /content/3691658-hd_1920_1080_30fps.mp4: 384x640 10 bikes, 8 helmets, 3 liscs, 2 no_helmets, 12 riders, 13.7ms\n",
            "video 1/1 (frame 632/1329) /content/3691658-hd_1920_1080_30fps.mp4: 384x640 8 bikes, 9 helmets, 3 liscs, 2 no_helmets, 12 riders, 8.0ms\n",
            "video 1/1 (frame 633/1329) /content/3691658-hd_1920_1080_30fps.mp4: 384x640 10 bikes, 8 helmets, 3 liscs, 3 no_helmets, 10 riders, 9.3ms\n",
            "video 1/1 (frame 634/1329) /content/3691658-hd_1920_1080_30fps.mp4: 384x640 10 bikes, 7 helmets, 4 liscs, 3 no_helmets, 10 riders, 18.2ms\n",
            "video 1/1 (frame 635/1329) /content/3691658-hd_1920_1080_30fps.mp4: 384x640 8 bikes, 8 helmets, 4 liscs, 11 riders, 7.2ms\n",
            "video 1/1 (frame 636/1329) /content/3691658-hd_1920_1080_30fps.mp4: 384x640 7 bikes, 6 helmets, 4 liscs, 9 riders, 6.6ms\n",
            "video 1/1 (frame 637/1329) /content/3691658-hd_1920_1080_30fps.mp4: 384x640 8 bikes, 6 helmets, 6 liscs, 10 riders, 8.8ms\n",
            "video 1/1 (frame 638/1329) /content/3691658-hd_1920_1080_30fps.mp4: 384x640 8 bikes, 5 helmets, 5 liscs, 8 riders, 12.3ms\n",
            "video 1/1 (frame 639/1329) /content/3691658-hd_1920_1080_30fps.mp4: 384x640 7 bikes, 5 helmets, 4 liscs, 1 no_helmet, 9 riders, 10.5ms\n",
            "video 1/1 (frame 640/1329) /content/3691658-hd_1920_1080_30fps.mp4: 384x640 8 bikes, 6 helmets, 5 liscs, 2 no_helmets, 11 riders, 8.2ms\n",
            "video 1/1 (frame 641/1329) /content/3691658-hd_1920_1080_30fps.mp4: 384x640 8 bikes, 6 helmets, 5 liscs, 1 no_helmet, 9 riders, 10.6ms\n",
            "video 1/1 (frame 642/1329) /content/3691658-hd_1920_1080_30fps.mp4: 384x640 7 bikes, 4 helmets, 6 liscs, 1 no_helmet, 9 riders, 7.1ms\n",
            "video 1/1 (frame 643/1329) /content/3691658-hd_1920_1080_30fps.mp4: 384x640 7 bikes, 3 helmets, 6 liscs, 1 no_helmet, 7 riders, 9.3ms\n",
            "video 1/1 (frame 644/1329) /content/3691658-hd_1920_1080_30fps.mp4: 384x640 7 bikes, 7 helmets, 6 liscs, 1 no_helmet, 7 riders, 10.5ms\n",
            "video 1/1 (frame 645/1329) /content/3691658-hd_1920_1080_30fps.mp4: 384x640 7 bikes, 5 helmets, 4 liscs, 6 riders, 16.0ms\n",
            "video 1/1 (frame 646/1329) /content/3691658-hd_1920_1080_30fps.mp4: 384x640 7 bikes, 6 helmets, 5 liscs, 1 no_helmet, 9 riders, 8.8ms\n",
            "video 1/1 (frame 647/1329) /content/3691658-hd_1920_1080_30fps.mp4: 384x640 7 bikes, 5 helmets, 6 liscs, 1 no_helmet, 8 riders, 7.6ms\n",
            "video 1/1 (frame 648/1329) /content/3691658-hd_1920_1080_30fps.mp4: 384x640 7 bikes, 4 helmets, 5 liscs, 9 riders, 10.2ms\n",
            "video 1/1 (frame 649/1329) /content/3691658-hd_1920_1080_30fps.mp4: 384x640 7 bikes, 5 helmets, 6 liscs, 10 riders, 16.6ms\n",
            "video 1/1 (frame 650/1329) /content/3691658-hd_1920_1080_30fps.mp4: 384x640 7 bikes, 4 helmets, 5 liscs, 1 no_helmet, 9 riders, 8.5ms\n",
            "video 1/1 (frame 651/1329) /content/3691658-hd_1920_1080_30fps.mp4: 384x640 7 bikes, 4 helmets, 7 liscs, 1 no_helmet, 10 riders, 8.0ms\n",
            "video 1/1 (frame 652/1329) /content/3691658-hd_1920_1080_30fps.mp4: 384x640 7 bikes, 4 helmets, 6 liscs, 9 riders, 11.5ms\n",
            "video 1/1 (frame 653/1329) /content/3691658-hd_1920_1080_30fps.mp4: 384x640 7 bikes, 4 helmets, 4 liscs, 8 riders, 8.6ms\n",
            "video 1/1 (frame 654/1329) /content/3691658-hd_1920_1080_30fps.mp4: 384x640 6 bikes, 3 helmets, 5 liscs, 10 riders, 8.9ms\n",
            "video 1/1 (frame 655/1329) /content/3691658-hd_1920_1080_30fps.mp4: 384x640 5 bikes, 3 helmets, 6 liscs, 8 riders, 9.9ms\n",
            "video 1/1 (frame 656/1329) /content/3691658-hd_1920_1080_30fps.mp4: 384x640 6 bikes, 3 helmets, 4 liscs, 8 riders, 6.6ms\n",
            "video 1/1 (frame 657/1329) /content/3691658-hd_1920_1080_30fps.mp4: 384x640 6 bikes, 3 helmets, 4 liscs, 8 riders, 10.8ms\n",
            "video 1/1 (frame 658/1329) /content/3691658-hd_1920_1080_30fps.mp4: 384x640 8 bikes, 3 helmets, 5 liscs, 8 riders, 11.8ms\n",
            "video 1/1 (frame 659/1329) /content/3691658-hd_1920_1080_30fps.mp4: 384x640 6 bikes, 4 helmets, 5 liscs, 6 riders, 9.9ms\n",
            "video 1/1 (frame 660/1329) /content/3691658-hd_1920_1080_30fps.mp4: 384x640 5 bikes, 3 helmets, 4 liscs, 1 no_helmet, 6 riders, 7.4ms\n",
            "video 1/1 (frame 661/1329) /content/3691658-hd_1920_1080_30fps.mp4: 384x640 6 bikes, 4 helmets, 4 liscs, 1 no_helmet, 10 riders, 11.6ms\n",
            "video 1/1 (frame 662/1329) /content/3691658-hd_1920_1080_30fps.mp4: 384x640 6 bikes, 4 helmets, 4 liscs, 1 no_helmet, 6 riders, 13.0ms\n",
            "video 1/1 (frame 663/1329) /content/3691658-hd_1920_1080_30fps.mp4: 384x640 7 bikes, 4 helmets, 3 liscs, 1 no_helmet, 8 riders, 9.0ms\n",
            "video 1/1 (frame 664/1329) /content/3691658-hd_1920_1080_30fps.mp4: 384x640 7 bikes, 4 helmets, 4 liscs, 2 no_helmets, 8 riders, 12.1ms\n",
            "video 1/1 (frame 665/1329) /content/3691658-hd_1920_1080_30fps.mp4: 384x640 7 bikes, 3 helmets, 4 liscs, 3 no_helmets, 8 riders, 6.9ms\n",
            "video 1/1 (frame 666/1329) /content/3691658-hd_1920_1080_30fps.mp4: 384x640 8 bikes, 3 helmets, 4 liscs, 2 no_helmets, 8 riders, 8.9ms\n",
            "video 1/1 (frame 667/1329) /content/3691658-hd_1920_1080_30fps.mp4: 384x640 7 bikes, 4 helmets, 5 liscs, 2 no_helmets, 7 riders, 11.6ms\n",
            "video 1/1 (frame 668/1329) /content/3691658-hd_1920_1080_30fps.mp4: 384x640 7 bikes, 3 helmets, 5 liscs, 2 no_helmets, 6 riders, 7.7ms\n",
            "video 1/1 (frame 669/1329) /content/3691658-hd_1920_1080_30fps.mp4: 384x640 8 bikes, 4 helmets, 4 liscs, 2 no_helmets, 9 riders, 12.0ms\n",
            "video 1/1 (frame 670/1329) /content/3691658-hd_1920_1080_30fps.mp4: 384x640 9 bikes, 4 helmets, 4 liscs, 1 no_helmet, 9 riders, 8.8ms\n",
            "video 1/1 (frame 671/1329) /content/3691658-hd_1920_1080_30fps.mp4: 384x640 8 bikes, 4 helmets, 6 liscs, 11 riders, 7.7ms\n",
            "video 1/1 (frame 672/1329) /content/3691658-hd_1920_1080_30fps.mp4: 384x640 9 bikes, 4 helmets, 3 liscs, 9 riders, 8.5ms\n",
            "video 1/1 (frame 673/1329) /content/3691658-hd_1920_1080_30fps.mp4: 384x640 10 bikes, 4 helmets, 5 liscs, 1 no_helmet, 10 riders, 7.2ms\n",
            "video 1/1 (frame 674/1329) /content/3691658-hd_1920_1080_30fps.mp4: 384x640 8 bikes, 5 helmets, 5 liscs, 10 riders, 9.5ms\n",
            "video 1/1 (frame 675/1329) /content/3691658-hd_1920_1080_30fps.mp4: 384x640 7 bikes, 4 helmets, 3 liscs, 1 no_helmet, 10 riders, 10.5ms\n",
            "video 1/1 (frame 676/1329) /content/3691658-hd_1920_1080_30fps.mp4: 384x640 7 bikes, 4 helmets, 4 liscs, 3 no_helmets, 10 riders, 7.5ms\n",
            "video 1/1 (frame 677/1329) /content/3691658-hd_1920_1080_30fps.mp4: 384x640 7 bikes, 4 helmets, 5 liscs, 1 no_helmet, 6 riders, 11.5ms\n",
            "video 1/1 (frame 678/1329) /content/3691658-hd_1920_1080_30fps.mp4: 384x640 7 bikes, 4 helmets, 5 liscs, 1 no_helmet, 6 riders, 6.5ms\n",
            "video 1/1 (frame 679/1329) /content/3691658-hd_1920_1080_30fps.mp4: 384x640 7 bikes, 6 helmets, 5 liscs, 10 riders, 9.8ms\n",
            "video 1/1 (frame 680/1329) /content/3691658-hd_1920_1080_30fps.mp4: 384x640 9 bikes, 4 helmets, 4 liscs, 1 no_helmet, 10 riders, 13.5ms\n",
            "video 1/1 (frame 681/1329) /content/3691658-hd_1920_1080_30fps.mp4: 384x640 8 bikes, 5 helmets, 6 liscs, 10 riders, 11.6ms\n",
            "video 1/1 (frame 682/1329) /content/3691658-hd_1920_1080_30fps.mp4: 384x640 7 bikes, 5 helmets, 6 liscs, 1 no_helmet, 10 riders, 9.4ms\n",
            "video 1/1 (frame 683/1329) /content/3691658-hd_1920_1080_30fps.mp4: 384x640 9 bikes, 6 helmets, 4 liscs, 2 no_helmets, 10 riders, 11.4ms\n",
            "video 1/1 (frame 684/1329) /content/3691658-hd_1920_1080_30fps.mp4: 384x640 8 bikes, 5 helmets, 6 liscs, 1 no_helmet, 10 riders, 7.0ms\n",
            "video 1/1 (frame 685/1329) /content/3691658-hd_1920_1080_30fps.mp4: 384x640 7 bikes, 5 helmets, 6 liscs, 1 no_helmet, 8 riders, 13.0ms\n",
            "video 1/1 (frame 686/1329) /content/3691658-hd_1920_1080_30fps.mp4: 384x640 8 bikes, 6 helmets, 6 liscs, 8 riders, 13.3ms\n",
            "video 1/1 (frame 687/1329) /content/3691658-hd_1920_1080_30fps.mp4: 384x640 7 bikes, 5 helmets, 4 liscs, 2 no_helmets, 11 riders, 7.7ms\n",
            "video 1/1 (frame 688/1329) /content/3691658-hd_1920_1080_30fps.mp4: 384x640 7 bikes, 5 helmets, 4 liscs, 2 no_helmets, 7 riders, 11.0ms\n",
            "video 1/1 (frame 689/1329) /content/3691658-hd_1920_1080_30fps.mp4: 384x640 7 bikes, 4 helmets, 5 liscs, 3 no_helmets, 8 riders, 11.2ms\n",
            "video 1/1 (frame 690/1329) /content/3691658-hd_1920_1080_30fps.mp4: 384x640 6 bikes, 4 helmets, 6 liscs, 4 no_helmets, 9 riders, 11.0ms\n",
            "video 1/1 (frame 691/1329) /content/3691658-hd_1920_1080_30fps.mp4: 384x640 7 bikes, 6 helmets, 5 liscs, 2 no_helmets, 9 riders, 8.7ms\n",
            "video 1/1 (frame 692/1329) /content/3691658-hd_1920_1080_30fps.mp4: 384x640 7 bikes, 5 helmets, 5 liscs, 4 no_helmets, 9 riders, 8.4ms\n",
            "video 1/1 (frame 693/1329) /content/3691658-hd_1920_1080_30fps.mp4: 384x640 7 bikes, 7 helmets, 7 liscs, 3 no_helmets, 13 riders, 8.8ms\n",
            "video 1/1 (frame 694/1329) /content/3691658-hd_1920_1080_30fps.mp4: 384x640 10 bikes, 8 helmets, 4 liscs, 2 no_helmets, 15 riders, 11.6ms\n",
            "video 1/1 (frame 695/1329) /content/3691658-hd_1920_1080_30fps.mp4: 384x640 9 bikes, 5 helmets, 6 liscs, 6 no_helmets, 12 riders, 14.6ms\n",
            "video 1/1 (frame 696/1329) /content/3691658-hd_1920_1080_30fps.mp4: 384x640 9 bikes, 5 helmets, 3 liscs, 2 no_helmets, 10 riders, 11.0ms\n",
            "video 1/1 (frame 697/1329) /content/3691658-hd_1920_1080_30fps.mp4: 384x640 9 bikes, 5 helmets, 4 liscs, 2 no_helmets, 8 riders, 6.7ms\n",
            "video 1/1 (frame 698/1329) /content/3691658-hd_1920_1080_30fps.mp4: 384x640 10 bikes, 5 helmets, 5 liscs, 5 no_helmets, 11 riders, 7.6ms\n",
            "video 1/1 (frame 699/1329) /content/3691658-hd_1920_1080_30fps.mp4: 384x640 11 bikes, 4 helmets, 5 liscs, 6 no_helmets, 12 riders, 10.0ms\n",
            "video 1/1 (frame 700/1329) /content/3691658-hd_1920_1080_30fps.mp4: 384x640 11 bikes, 5 helmets, 5 liscs, 3 no_helmets, 9 riders, 13.0ms\n",
            "video 1/1 (frame 701/1329) /content/3691658-hd_1920_1080_30fps.mp4: 384x640 9 bikes, 4 helmets, 4 liscs, 2 no_helmets, 12 riders, 12.7ms\n",
            "video 1/1 (frame 702/1329) /content/3691658-hd_1920_1080_30fps.mp4: 384x640 10 bikes, 5 helmets, 5 liscs, 4 no_helmets, 15 riders, 10.4ms\n",
            "video 1/1 (frame 703/1329) /content/3691658-hd_1920_1080_30fps.mp4: 384x640 10 bikes, 4 helmets, 4 liscs, 2 no_helmets, 15 riders, 7.1ms\n",
            "video 1/1 (frame 704/1329) /content/3691658-hd_1920_1080_30fps.mp4: 384x640 12 bikes, 3 helmets, 3 liscs, 7 no_helmets, 11 riders, 8.1ms\n",
            "video 1/1 (frame 705/1329) /content/3691658-hd_1920_1080_30fps.mp4: 384x640 10 bikes, 4 helmets, 4 liscs, 3 no_helmets, 10 riders, 12.4ms\n",
            "video 1/1 (frame 706/1329) /content/3691658-hd_1920_1080_30fps.mp4: 384x640 8 bikes, 3 helmets, 5 liscs, 3 no_helmets, 10 riders, 7.8ms\n",
            "video 1/1 (frame 707/1329) /content/3691658-hd_1920_1080_30fps.mp4: 384x640 7 bikes, 3 helmets, 4 liscs, 4 no_helmets, 10 riders, 8.5ms\n",
            "video 1/1 (frame 708/1329) /content/3691658-hd_1920_1080_30fps.mp4: 384x640 7 bikes, 4 helmets, 4 liscs, 3 no_helmets, 7 riders, 12.1ms\n",
            "video 1/1 (frame 709/1329) /content/3691658-hd_1920_1080_30fps.mp4: 384x640 7 bikes, 6 helmets, 5 liscs, 3 no_helmets, 9 riders, 10.2ms\n",
            "video 1/1 (frame 710/1329) /content/3691658-hd_1920_1080_30fps.mp4: 384x640 7 bikes, 3 helmets, 7 liscs, 3 no_helmets, 12 riders, 25.4ms\n",
            "video 1/1 (frame 711/1329) /content/3691658-hd_1920_1080_30fps.mp4: 384x640 7 bikes, 4 helmets, 7 liscs, 4 no_helmets, 9 riders, 11.3ms\n",
            "video 1/1 (frame 712/1329) /content/3691658-hd_1920_1080_30fps.mp4: 384x640 7 bikes, 6 helmets, 7 liscs, 2 no_helmets, 8 riders, 12.3ms\n",
            "video 1/1 (frame 713/1329) /content/3691658-hd_1920_1080_30fps.mp4: 384x640 7 bikes, 7 helmets, 7 liscs, 3 no_helmets, 7 riders, 8.7ms\n",
            "video 1/1 (frame 714/1329) /content/3691658-hd_1920_1080_30fps.mp4: 384x640 7 bikes, 5 helmets, 7 liscs, 3 no_helmets, 8 riders, 15.3ms\n",
            "video 1/1 (frame 715/1329) /content/3691658-hd_1920_1080_30fps.mp4: 384x640 8 bikes, 7 helmets, 6 liscs, 1 no_helmet, 9 riders, 12.9ms\n",
            "video 1/1 (frame 716/1329) /content/3691658-hd_1920_1080_30fps.mp4: 384x640 7 bikes, 6 helmets, 6 liscs, 3 no_helmets, 10 riders, 16.3ms\n",
            "video 1/1 (frame 717/1329) /content/3691658-hd_1920_1080_30fps.mp4: 384x640 8 bikes, 5 helmets, 5 liscs, 3 no_helmets, 10 riders, 12.8ms\n",
            "video 1/1 (frame 718/1329) /content/3691658-hd_1920_1080_30fps.mp4: 384x640 6 bikes, 5 helmets, 5 liscs, 3 no_helmets, 12 riders, 25.2ms\n",
            "video 1/1 (frame 719/1329) /content/3691658-hd_1920_1080_30fps.mp4: 384x640 6 bikes, 7 helmets, 5 liscs, 2 no_helmets, 13 riders, 9.7ms\n",
            "video 1/1 (frame 720/1329) /content/3691658-hd_1920_1080_30fps.mp4: 384x640 6 bikes, 7 helmets, 5 liscs, 1 no_helmet, 10 riders, 16.1ms\n",
            "video 1/1 (frame 721/1329) /content/3691658-hd_1920_1080_30fps.mp4: 384x640 6 bikes, 7 helmets, 6 liscs, 2 no_helmets, 9 riders, 14.2ms\n",
            "video 1/1 (frame 722/1329) /content/3691658-hd_1920_1080_30fps.mp4: 384x640 6 bikes, 6 helmets, 6 liscs, 2 no_helmets, 8 riders, 16.0ms\n",
            "video 1/1 (frame 723/1329) /content/3691658-hd_1920_1080_30fps.mp4: 384x640 8 bikes, 4 helmets, 5 liscs, 3 no_helmets, 10 riders, 12.1ms\n",
            "video 1/1 (frame 724/1329) /content/3691658-hd_1920_1080_30fps.mp4: 384x640 8 bikes, 4 helmets, 5 liscs, 3 no_helmets, 11 riders, 22.5ms\n",
            "video 1/1 (frame 725/1329) /content/3691658-hd_1920_1080_30fps.mp4: 384x640 9 bikes, 4 helmets, 6 liscs, 2 no_helmets, 10 riders, 9.7ms\n",
            "video 1/1 (frame 726/1329) /content/3691658-hd_1920_1080_30fps.mp4: 384x640 9 bikes, 6 helmets, 4 liscs, 3 no_helmets, 12 riders, 17.6ms\n",
            "video 1/1 (frame 727/1329) /content/3691658-hd_1920_1080_30fps.mp4: 384x640 8 bikes, 5 helmets, 6 liscs, 3 no_helmets, 11 riders, 8.7ms\n",
            "video 1/1 (frame 728/1329) /content/3691658-hd_1920_1080_30fps.mp4: 384x640 7 bikes, 5 helmets, 5 liscs, 2 no_helmets, 10 riders, 8.6ms\n",
            "video 1/1 (frame 729/1329) /content/3691658-hd_1920_1080_30fps.mp4: 384x640 7 bikes, 6 helmets, 4 liscs, 2 no_helmets, 10 riders, 16.1ms\n",
            "video 1/1 (frame 730/1329) /content/3691658-hd_1920_1080_30fps.mp4: 384x640 7 bikes, 7 helmets, 5 liscs, 3 no_helmets, 12 riders, 12.3ms\n",
            "video 1/1 (frame 731/1329) /content/3691658-hd_1920_1080_30fps.mp4: 384x640 8 bikes, 6 helmets, 4 liscs, 2 no_helmets, 16 riders, 10.2ms\n",
            "video 1/1 (frame 732/1329) /content/3691658-hd_1920_1080_30fps.mp4: 384x640 7 bikes, 7 helmets, 5 liscs, 3 no_helmets, 15 riders, 14.3ms\n",
            "video 1/1 (frame 733/1329) /content/3691658-hd_1920_1080_30fps.mp4: 384x640 8 bikes, 6 helmets, 5 liscs, 4 no_helmets, 12 riders, 9.8ms\n",
            "video 1/1 (frame 734/1329) /content/3691658-hd_1920_1080_30fps.mp4: 384x640 8 bikes, 7 helmets, 6 liscs, 5 no_helmets, 13 riders, 15.7ms\n",
            "video 1/1 (frame 735/1329) /content/3691658-hd_1920_1080_30fps.mp4: 384x640 8 bikes, 8 helmets, 6 liscs, 4 no_helmets, 13 riders, 9.6ms\n",
            "video 1/1 (frame 736/1329) /content/3691658-hd_1920_1080_30fps.mp4: 384x640 8 bikes, 5 helmets, 6 liscs, 4 no_helmets, 13 riders, 8.9ms\n",
            "video 1/1 (frame 737/1329) /content/3691658-hd_1920_1080_30fps.mp4: 384x640 8 bikes, 6 helmets, 6 liscs, 3 no_helmets, 11 riders, 13.9ms\n",
            "video 1/1 (frame 738/1329) /content/3691658-hd_1920_1080_30fps.mp4: 384x640 10 bikes, 6 helmets, 7 liscs, 2 no_helmets, 12 riders, 12.0ms\n",
            "video 1/1 (frame 739/1329) /content/3691658-hd_1920_1080_30fps.mp4: 384x640 9 bikes, 6 helmets, 7 liscs, 2 no_helmets, 13 riders, 10.9ms\n",
            "video 1/1 (frame 740/1329) /content/3691658-hd_1920_1080_30fps.mp4: 384x640 12 bikes, 5 helmets, 7 liscs, 2 no_helmets, 16 riders, 10.6ms\n",
            "video 1/1 (frame 741/1329) /content/3691658-hd_1920_1080_30fps.mp4: 384x640 10 bikes, 6 helmets, 6 liscs, 2 no_helmets, 14 riders, 22.9ms\n",
            "video 1/1 (frame 742/1329) /content/3691658-hd_1920_1080_30fps.mp4: 384x640 9 bikes, 4 helmets, 6 liscs, 3 no_helmets, 14 riders, 18.4ms\n",
            "video 1/1 (frame 743/1329) /content/3691658-hd_1920_1080_30fps.mp4: 384x640 8 bikes, 5 helmets, 6 liscs, 4 no_helmets, 12 riders, 12.6ms\n",
            "video 1/1 (frame 744/1329) /content/3691658-hd_1920_1080_30fps.mp4: 384x640 8 bikes, 5 helmets, 5 liscs, 6 no_helmets, 12 riders, 12.1ms\n",
            "video 1/1 (frame 745/1329) /content/3691658-hd_1920_1080_30fps.mp4: 384x640 7 bikes, 5 helmets, 4 liscs, 2 no_helmets, 11 riders, 8.9ms\n",
            "video 1/1 (frame 746/1329) /content/3691658-hd_1920_1080_30fps.mp4: 384x640 7 bikes, 4 helmets, 6 liscs, 4 no_helmets, 11 riders, 8.7ms\n",
            "video 1/1 (frame 747/1329) /content/3691658-hd_1920_1080_30fps.mp4: 384x640 8 bikes, 4 helmets, 4 liscs, 4 no_helmets, 10 riders, 10.8ms\n",
            "video 1/1 (frame 748/1329) /content/3691658-hd_1920_1080_30fps.mp4: 384x640 8 bikes, 4 helmets, 4 liscs, 6 no_helmets, 15 riders, 10.6ms\n",
            "video 1/1 (frame 749/1329) /content/3691658-hd_1920_1080_30fps.mp4: 384x640 8 bikes, 4 helmets, 3 liscs, 6 no_helmets, 11 riders, 10.5ms\n",
            "video 1/1 (frame 750/1329) /content/3691658-hd_1920_1080_30fps.mp4: 384x640 8 bikes, 3 helmets, 4 liscs, 7 no_helmets, 14 riders, 6.8ms\n",
            "video 1/1 (frame 751/1329) /content/3691658-hd_1920_1080_30fps.mp4: 384x640 8 bikes, 6 helmets, 3 liscs, 4 no_helmets, 11 riders, 11.8ms\n",
            "video 1/1 (frame 752/1329) /content/3691658-hd_1920_1080_30fps.mp4: 384x640 8 bikes, 2 helmets, 4 liscs, 7 no_helmets, 10 riders, 10.3ms\n",
            "video 1/1 (frame 753/1329) /content/3691658-hd_1920_1080_30fps.mp4: 384x640 7 bikes, 2 helmets, 5 liscs, 7 no_helmets, 9 riders, 11.6ms\n",
            "video 1/1 (frame 754/1329) /content/3691658-hd_1920_1080_30fps.mp4: 384x640 7 bikes, 4 helmets, 4 liscs, 2 no_helmets, 7 riders, 9.0ms\n",
            "video 1/1 (frame 755/1329) /content/3691658-hd_1920_1080_30fps.mp4: 384x640 7 bikes, 5 helmets, 6 liscs, 4 no_helmets, 10 riders, 11.1ms\n",
            "video 1/1 (frame 756/1329) /content/3691658-hd_1920_1080_30fps.mp4: 384x640 7 bikes, 4 helmets, 5 liscs, 5 no_helmets, 10 riders, 11.8ms\n",
            "video 1/1 (frame 757/1329) /content/3691658-hd_1920_1080_30fps.mp4: 384x640 7 bikes, 2 helmets, 7 liscs, 2 no_helmets, 8 riders, 10.6ms\n",
            "video 1/1 (frame 758/1329) /content/3691658-hd_1920_1080_30fps.mp4: 384x640 9 bikes, 5 helmets, 6 liscs, 2 no_helmets, 10 riders, 8.5ms\n",
            "video 1/1 (frame 759/1329) /content/3691658-hd_1920_1080_30fps.mp4: 384x640 9 bikes, 3 helmets, 4 liscs, 2 no_helmets, 8 riders, 10.6ms\n",
            "video 1/1 (frame 760/1329) /content/3691658-hd_1920_1080_30fps.mp4: 384x640 7 bikes, 3 helmets, 5 liscs, 2 no_helmets, 9 riders, 10.4ms\n",
            "video 1/1 (frame 761/1329) /content/3691658-hd_1920_1080_30fps.mp4: 384x640 8 bikes, 8 helmets, 5 liscs, 3 no_helmets, 7 riders, 11.8ms\n",
            "video 1/1 (frame 762/1329) /content/3691658-hd_1920_1080_30fps.mp4: 384x640 8 bikes, 6 helmets, 5 liscs, 1 no_helmet, 7 riders, 9.1ms\n",
            "video 1/1 (frame 763/1329) /content/3691658-hd_1920_1080_30fps.mp4: 384x640 7 bikes, 3 helmets, 4 liscs, 3 no_helmets, 6 riders, 7.0ms\n",
            "video 1/1 (frame 764/1329) /content/3691658-hd_1920_1080_30fps.mp4: 384x640 7 bikes, 3 helmets, 6 liscs, 2 no_helmets, 7 riders, 10.4ms\n",
            "video 1/1 (frame 765/1329) /content/3691658-hd_1920_1080_30fps.mp4: 384x640 9 bikes, 4 helmets, 6 liscs, 2 no_helmets, 10 riders, 13.6ms\n",
            "video 1/1 (frame 766/1329) /content/3691658-hd_1920_1080_30fps.mp4: 384x640 9 bikes, 6 helmets, 4 liscs, 4 no_helmets, 12 riders, 6.6ms\n",
            "video 1/1 (frame 767/1329) /content/3691658-hd_1920_1080_30fps.mp4: 384x640 8 bikes, 4 helmets, 5 liscs, 2 no_helmets, 10 riders, 7.2ms\n",
            "video 1/1 (frame 768/1329) /content/3691658-hd_1920_1080_30fps.mp4: 384x640 6 bikes, 2 helmets, 7 liscs, 3 no_helmets, 9 riders, 11.2ms\n",
            "video 1/1 (frame 769/1329) /content/3691658-hd_1920_1080_30fps.mp4: 384x640 7 bikes, 3 helmets, 4 liscs, 4 no_helmets, 11 riders, 7.1ms\n",
            "video 1/1 (frame 770/1329) /content/3691658-hd_1920_1080_30fps.mp4: 384x640 7 bikes, 1 helmet, 5 liscs, 4 no_helmets, 11 riders, 8.4ms\n",
            "video 1/1 (frame 771/1329) /content/3691658-hd_1920_1080_30fps.mp4: 384x640 7 bikes, 2 helmets, 6 liscs, 3 no_helmets, 10 riders, 8.2ms\n",
            "video 1/1 (frame 772/1329) /content/3691658-hd_1920_1080_30fps.mp4: 384x640 7 bikes, 7 helmets, 4 liscs, 3 no_helmets, 9 riders, 10.2ms\n",
            "video 1/1 (frame 773/1329) /content/3691658-hd_1920_1080_30fps.mp4: 384x640 7 bikes, 5 helmets, 4 liscs, 2 no_helmets, 10 riders, 9.1ms\n",
            "video 1/1 (frame 774/1329) /content/3691658-hd_1920_1080_30fps.mp4: 384x640 7 bikes, 4 helmets, 4 liscs, 1 no_helmet, 9 riders, 15.6ms\n",
            "video 1/1 (frame 775/1329) /content/3691658-hd_1920_1080_30fps.mp4: 384x640 7 bikes, 4 helmets, 5 liscs, 1 no_helmet, 10 riders, 11.9ms\n",
            "video 1/1 (frame 776/1329) /content/3691658-hd_1920_1080_30fps.mp4: 384x640 9 bikes, 4 helmets, 5 liscs, 1 no_helmet, 10 riders, 14.1ms\n",
            "video 1/1 (frame 777/1329) /content/3691658-hd_1920_1080_30fps.mp4: 384x640 8 bikes, 5 helmets, 3 liscs, 10 riders, 7.8ms\n",
            "video 1/1 (frame 778/1329) /content/3691658-hd_1920_1080_30fps.mp4: 384x640 7 bikes, 4 helmets, 3 liscs, 1 no_helmet, 8 riders, 10.2ms\n",
            "video 1/1 (frame 779/1329) /content/3691658-hd_1920_1080_30fps.mp4: 384x640 8 bikes, 4 helmets, 4 liscs, 1 no_helmet, 8 riders, 13.0ms\n",
            "video 1/1 (frame 780/1329) /content/3691658-hd_1920_1080_30fps.mp4: 384x640 7 bikes, 3 helmets, 4 liscs, 1 no_helmet, 7 riders, 9.8ms\n",
            "video 1/1 (frame 781/1329) /content/3691658-hd_1920_1080_30fps.mp4: 384x640 8 bikes, 4 helmets, 4 liscs, 6 riders, 7.4ms\n",
            "video 1/1 (frame 782/1329) /content/3691658-hd_1920_1080_30fps.mp4: 384x640 7 bikes, 5 helmets, 4 liscs, 7 riders, 11.4ms\n",
            "video 1/1 (frame 783/1329) /content/3691658-hd_1920_1080_30fps.mp4: 384x640 8 bikes, 4 helmets, 5 liscs, 9 riders, 7.8ms\n",
            "video 1/1 (frame 784/1329) /content/3691658-hd_1920_1080_30fps.mp4: 384x640 8 bikes, 3 helmets, 5 liscs, 1 no_helmet, 9 riders, 17.4ms\n",
            "video 1/1 (frame 785/1329) /content/3691658-hd_1920_1080_30fps.mp4: 384x640 7 bikes, 4 helmets, 6 liscs, 6 riders, 9.7ms\n",
            "video 1/1 (frame 786/1329) /content/3691658-hd_1920_1080_30fps.mp4: 384x640 8 bikes, 5 helmets, 6 liscs, 11 riders, 11.9ms\n",
            "video 1/1 (frame 787/1329) /content/3691658-hd_1920_1080_30fps.mp4: 384x640 9 bikes, 6 helmets, 6 liscs, 10 riders, 11.2ms\n",
            "video 1/1 (frame 788/1329) /content/3691658-hd_1920_1080_30fps.mp4: 384x640 9 bikes, 4 helmets, 4 liscs, 1 no_helmet, 6 riders, 8.8ms\n",
            "video 1/1 (frame 789/1329) /content/3691658-hd_1920_1080_30fps.mp4: 384x640 9 bikes, 5 helmets, 5 liscs, 6 riders, 7.1ms\n",
            "video 1/1 (frame 790/1329) /content/3691658-hd_1920_1080_30fps.mp4: 384x640 8 bikes, 6 helmets, 5 liscs, 8 riders, 10.6ms\n",
            "video 1/1 (frame 791/1329) /content/3691658-hd_1920_1080_30fps.mp4: 384x640 8 bikes, 4 helmets, 5 liscs, 8 riders, 7.9ms\n",
            "video 1/1 (frame 792/1329) /content/3691658-hd_1920_1080_30fps.mp4: 384x640 6 bikes, 4 helmets, 5 liscs, 7 riders, 11.3ms\n",
            "video 1/1 (frame 793/1329) /content/3691658-hd_1920_1080_30fps.mp4: 384x640 7 bikes, 3 helmets, 5 liscs, 9 riders, 11.5ms\n",
            "video 1/1 (frame 794/1329) /content/3691658-hd_1920_1080_30fps.mp4: 384x640 6 bikes, 4 helmets, 5 liscs, 7 riders, 11.4ms\n",
            "video 1/1 (frame 795/1329) /content/3691658-hd_1920_1080_30fps.mp4: 384x640 8 bikes, 4 helmets, 5 liscs, 9 riders, 11.1ms\n",
            "video 1/1 (frame 796/1329) /content/3691658-hd_1920_1080_30fps.mp4: 384x640 7 bikes, 4 helmets, 4 liscs, 7 riders, 8.9ms\n",
            "video 1/1 (frame 797/1329) /content/3691658-hd_1920_1080_30fps.mp4: 384x640 8 bikes, 4 helmets, 4 liscs, 8 riders, 11.6ms\n",
            "video 1/1 (frame 798/1329) /content/3691658-hd_1920_1080_30fps.mp4: 384x640 6 bikes, 5 helmets, 4 liscs, 8 riders, 7.7ms\n",
            "video 1/1 (frame 799/1329) /content/3691658-hd_1920_1080_30fps.mp4: 384x640 7 bikes, 4 helmets, 4 liscs, 2 no_helmets, 6 riders, 7.6ms\n",
            "video 1/1 (frame 800/1329) /content/3691658-hd_1920_1080_30fps.mp4: 384x640 8 bikes, 3 helmets, 3 liscs, 1 no_helmet, 5 riders, 7.5ms\n",
            "video 1/1 (frame 801/1329) /content/3691658-hd_1920_1080_30fps.mp4: 384x640 6 bikes, 4 helmets, 4 liscs, 2 no_helmets, 6 riders, 8.1ms\n",
            "video 1/1 (frame 802/1329) /content/3691658-hd_1920_1080_30fps.mp4: 384x640 6 bikes, 3 helmets, 3 liscs, 1 no_helmet, 7 riders, 8.6ms\n",
            "video 1/1 (frame 803/1329) /content/3691658-hd_1920_1080_30fps.mp4: 384x640 7 bikes, 3 helmets, 2 liscs, 9 riders, 8.0ms\n",
            "video 1/1 (frame 804/1329) /content/3691658-hd_1920_1080_30fps.mp4: 384x640 5 bikes, 5 helmets, 4 liscs, 7 riders, 9.3ms\n",
            "video 1/1 (frame 805/1329) /content/3691658-hd_1920_1080_30fps.mp4: 384x640 7 bikes, 5 helmets, 4 liscs, 1 no_helmet, 9 riders, 8.9ms\n",
            "video 1/1 (frame 806/1329) /content/3691658-hd_1920_1080_30fps.mp4: 384x640 6 bikes, 4 helmets, 3 liscs, 1 no_helmet, 7 riders, 10.8ms\n",
            "video 1/1 (frame 807/1329) /content/3691658-hd_1920_1080_30fps.mp4: 384x640 5 bikes, 4 helmets, 3 liscs, 1 no_helmet, 8 riders, 9.4ms\n",
            "video 1/1 (frame 808/1329) /content/3691658-hd_1920_1080_30fps.mp4: 384x640 5 bikes, 3 helmets, 3 liscs, 6 riders, 18.4ms\n",
            "video 1/1 (frame 809/1329) /content/3691658-hd_1920_1080_30fps.mp4: 384x640 6 bikes, 4 helmets, 3 liscs, 6 riders, 9.2ms\n",
            "video 1/1 (frame 810/1329) /content/3691658-hd_1920_1080_30fps.mp4: 384x640 6 bikes, 6 helmets, 3 liscs, 7 riders, 9.1ms\n",
            "video 1/1 (frame 811/1329) /content/3691658-hd_1920_1080_30fps.mp4: 384x640 6 bikes, 4 helmets, 3 liscs, 8 riders, 8.4ms\n",
            "video 1/1 (frame 812/1329) /content/3691658-hd_1920_1080_30fps.mp4: 384x640 6 bikes, 4 helmets, 3 liscs, 8 riders, 8.1ms\n",
            "video 1/1 (frame 813/1329) /content/3691658-hd_1920_1080_30fps.mp4: 384x640 6 bikes, 5 helmets, 4 liscs, 8 riders, 11.0ms\n",
            "video 1/1 (frame 814/1329) /content/3691658-hd_1920_1080_30fps.mp4: 384x640 4 bikes, 4 helmets, 3 liscs, 1 no_helmet, 9 riders, 9.6ms\n",
            "video 1/1 (frame 815/1329) /content/3691658-hd_1920_1080_30fps.mp4: 384x640 5 bikes, 5 helmets, 3 liscs, 1 no_helmet, 8 riders, 8.4ms\n",
            "video 1/1 (frame 816/1329) /content/3691658-hd_1920_1080_30fps.mp4: 384x640 6 bikes, 4 helmets, 2 liscs, 7 riders, 10.2ms\n",
            "video 1/1 (frame 817/1329) /content/3691658-hd_1920_1080_30fps.mp4: 384x640 7 bikes, 4 helmets, 3 liscs, 1 no_helmet, 7 riders, 8.7ms\n",
            "video 1/1 (frame 818/1329) /content/3691658-hd_1920_1080_30fps.mp4: 384x640 6 bikes, 4 helmets, 2 liscs, 6 riders, 10.3ms\n",
            "video 1/1 (frame 819/1329) /content/3691658-hd_1920_1080_30fps.mp4: 384x640 5 bikes, 4 helmets, 3 liscs, 7 riders, 7.5ms\n",
            "video 1/1 (frame 820/1329) /content/3691658-hd_1920_1080_30fps.mp4: 384x640 5 bikes, 4 helmets, 2 liscs, 1 no_helmet, 7 riders, 11.3ms\n",
            "video 1/1 (frame 821/1329) /content/3691658-hd_1920_1080_30fps.mp4: 384x640 6 bikes, 5 helmets, 2 liscs, 1 no_helmet, 7 riders, 10.1ms\n",
            "video 1/1 (frame 822/1329) /content/3691658-hd_1920_1080_30fps.mp4: 384x640 5 bikes, 3 helmets, 2 liscs, 7 riders, 15.2ms\n",
            "video 1/1 (frame 823/1329) /content/3691658-hd_1920_1080_30fps.mp4: 384x640 6 bikes, 4 helmets, 2 liscs, 7 riders, 8.1ms\n",
            "video 1/1 (frame 824/1329) /content/3691658-hd_1920_1080_30fps.mp4: 384x640 7 bikes, 5 helmets, 1 lisc, 6 riders, 9.2ms\n",
            "video 1/1 (frame 825/1329) /content/3691658-hd_1920_1080_30fps.mp4: 384x640 7 bikes, 6 helmets, 2 liscs, 6 riders, 9.6ms\n",
            "video 1/1 (frame 826/1329) /content/3691658-hd_1920_1080_30fps.mp4: 384x640 5 bikes, 4 helmets, 2 liscs, 4 riders, 6.7ms\n",
            "video 1/1 (frame 827/1329) /content/3691658-hd_1920_1080_30fps.mp4: 384x640 5 bikes, 2 helmets, 2 liscs, 5 riders, 11.9ms\n",
            "video 1/1 (frame 828/1329) /content/3691658-hd_1920_1080_30fps.mp4: 384x640 5 bikes, 2 helmets, 1 lisc, 5 riders, 10.9ms\n",
            "video 1/1 (frame 829/1329) /content/3691658-hd_1920_1080_30fps.mp4: 384x640 5 bikes, 2 helmets, 3 liscs, 5 riders, 8.3ms\n",
            "video 1/1 (frame 830/1329) /content/3691658-hd_1920_1080_30fps.mp4: 384x640 4 bikes, 2 helmets, 2 liscs, 4 riders, 11.2ms\n",
            "video 1/1 (frame 831/1329) /content/3691658-hd_1920_1080_30fps.mp4: 384x640 7 bikes, 3 helmets, 3 liscs, 6 riders, 8.6ms\n",
            "video 1/1 (frame 832/1329) /content/3691658-hd_1920_1080_30fps.mp4: 384x640 5 bikes, 4 helmets, 2 liscs, 6 riders, 12.5ms\n",
            "video 1/1 (frame 833/1329) /content/3691658-hd_1920_1080_30fps.mp4: 384x640 7 bikes, 1 helmet, 2 liscs, 5 riders, 8.5ms\n",
            "video 1/1 (frame 834/1329) /content/3691658-hd_1920_1080_30fps.mp4: 384x640 7 bikes, 2 helmets, 3 liscs, 5 riders, 7.9ms\n",
            "video 1/1 (frame 835/1329) /content/3691658-hd_1920_1080_30fps.mp4: 384x640 6 bikes, 3 helmets, 3 liscs, 5 riders, 8.0ms\n",
            "video 1/1 (frame 836/1329) /content/3691658-hd_1920_1080_30fps.mp4: 384x640 6 bikes, 3 helmets, 3 liscs, 4 riders, 11.7ms\n",
            "video 1/1 (frame 837/1329) /content/3691658-hd_1920_1080_30fps.mp4: 384x640 5 bikes, 2 helmets, 3 liscs, 5 riders, 9.1ms\n",
            "video 1/1 (frame 838/1329) /content/3691658-hd_1920_1080_30fps.mp4: 384x640 5 bikes, 3 helmets, 3 liscs, 4 riders, 7.5ms\n",
            "video 1/1 (frame 839/1329) /content/3691658-hd_1920_1080_30fps.mp4: 384x640 6 bikes, 3 helmets, 3 liscs, 3 no_helmets, 5 riders, 8.0ms\n",
            "video 1/1 (frame 840/1329) /content/3691658-hd_1920_1080_30fps.mp4: 384x640 4 bikes, 3 helmets, 4 liscs, 2 no_helmets, 6 riders, 9.2ms\n",
            "video 1/1 (frame 841/1329) /content/3691658-hd_1920_1080_30fps.mp4: 384x640 6 bikes, 4 helmets, 2 liscs, 2 no_helmets, 5 riders, 7.0ms\n",
            "video 1/1 (frame 842/1329) /content/3691658-hd_1920_1080_30fps.mp4: 384x640 6 bikes, 2 helmets, 2 liscs, 2 no_helmets, 5 riders, 10.5ms\n",
            "video 1/1 (frame 843/1329) /content/3691658-hd_1920_1080_30fps.mp4: 384x640 6 bikes, 4 helmets, 2 liscs, 2 no_helmets, 6 riders, 7.1ms\n",
            "video 1/1 (frame 844/1329) /content/3691658-hd_1920_1080_30fps.mp4: 384x640 6 bikes, 3 helmets, 3 liscs, 2 no_helmets, 6 riders, 9.8ms\n",
            "video 1/1 (frame 845/1329) /content/3691658-hd_1920_1080_30fps.mp4: 384x640 7 bikes, 5 helmets, 3 liscs, 2 no_helmets, 7 riders, 8.7ms\n",
            "video 1/1 (frame 846/1329) /content/3691658-hd_1920_1080_30fps.mp4: 384x640 9 bikes, 2 helmets, 3 liscs, 2 no_helmets, 7 riders, 15.1ms\n",
            "video 1/1 (frame 847/1329) /content/3691658-hd_1920_1080_30fps.mp4: 384x640 8 bikes, 2 helmets, 3 liscs, 2 no_helmets, 9 riders, 11.9ms\n",
            "video 1/1 (frame 848/1329) /content/3691658-hd_1920_1080_30fps.mp4: 384x640 8 bikes, 2 helmets, 3 liscs, 1 no_helmet, 7 riders, 12.8ms\n",
            "video 1/1 (frame 849/1329) /content/3691658-hd_1920_1080_30fps.mp4: 384x640 8 bikes, 2 helmets, 1 lisc, 3 no_helmets, 7 riders, 15.8ms\n",
            "video 1/1 (frame 850/1329) /content/3691658-hd_1920_1080_30fps.mp4: 384x640 7 bikes, 3 helmets, 2 liscs, 1 no_helmet, 7 riders, 11.5ms\n",
            "video 1/1 (frame 851/1329) /content/3691658-hd_1920_1080_30fps.mp4: 384x640 10 bikes, 4 helmets, 1 lisc, 3 no_helmets, 6 riders, 6.9ms\n",
            "video 1/1 (frame 852/1329) /content/3691658-hd_1920_1080_30fps.mp4: 384x640 7 bikes, 2 helmets, 1 lisc, 3 no_helmets, 6 riders, 12.3ms\n",
            "video 1/1 (frame 853/1329) /content/3691658-hd_1920_1080_30fps.mp4: 384x640 6 bikes, 2 helmets, 2 liscs, 3 no_helmets, 7 riders, 8.5ms\n",
            "video 1/1 (frame 854/1329) /content/3691658-hd_1920_1080_30fps.mp4: 384x640 4 bikes, 1 helmet, 1 lisc, 3 no_helmets, 5 riders, 8.4ms\n",
            "video 1/1 (frame 855/1329) /content/3691658-hd_1920_1080_30fps.mp4: 384x640 6 bikes, 2 helmets, 1 lisc, 2 no_helmets, 4 riders, 7.5ms\n",
            "video 1/1 (frame 856/1329) /content/3691658-hd_1920_1080_30fps.mp4: 384x640 7 bikes, 3 helmets, 1 lisc, 1 no_helmet, 4 riders, 8.4ms\n",
            "video 1/1 (frame 857/1329) /content/3691658-hd_1920_1080_30fps.mp4: 384x640 4 bikes, 1 helmet, 1 lisc, 1 no_helmet, 3 riders, 8.7ms\n",
            "video 1/1 (frame 858/1329) /content/3691658-hd_1920_1080_30fps.mp4: 384x640 7 bikes, 1 helmet, 1 lisc, 2 no_helmets, 4 riders, 8.3ms\n",
            "video 1/1 (frame 859/1329) /content/3691658-hd_1920_1080_30fps.mp4: 384x640 5 bikes, 2 helmets, 1 lisc, 2 no_helmets, 4 riders, 8.2ms\n",
            "video 1/1 (frame 860/1329) /content/3691658-hd_1920_1080_30fps.mp4: 384x640 5 bikes, 1 helmet, 1 lisc, 1 no_helmet, 3 riders, 8.5ms\n",
            "video 1/1 (frame 861/1329) /content/3691658-hd_1920_1080_30fps.mp4: 384x640 5 bikes, 3 helmets, 2 liscs, 4 riders, 8.4ms\n",
            "video 1/1 (frame 862/1329) /content/3691658-hd_1920_1080_30fps.mp4: 384x640 4 bikes, 2 helmets, 2 liscs, 2 no_helmets, 4 riders, 10.7ms\n",
            "video 1/1 (frame 863/1329) /content/3691658-hd_1920_1080_30fps.mp4: 384x640 4 bikes, 2 helmets, 4 liscs, 3 no_helmets, 4 riders, 8.2ms\n",
            "video 1/1 (frame 864/1329) /content/3691658-hd_1920_1080_30fps.mp4: 384x640 4 bikes, 3 helmets, 3 liscs, 1 no_helmet, 5 riders, 8.4ms\n",
            "video 1/1 (frame 865/1329) /content/3691658-hd_1920_1080_30fps.mp4: 384x640 4 bikes, 4 helmets, 4 liscs, 1 no_helmet, 6 riders, 11.0ms\n",
            "video 1/1 (frame 866/1329) /content/3691658-hd_1920_1080_30fps.mp4: 384x640 5 bikes, 3 helmets, 3 liscs, 1 no_helmet, 5 riders, 7.3ms\n",
            "video 1/1 (frame 867/1329) /content/3691658-hd_1920_1080_30fps.mp4: 384x640 3 bikes, 3 helmets, 2 liscs, 2 no_helmets, 3 riders, 15.1ms\n",
            "video 1/1 (frame 868/1329) /content/3691658-hd_1920_1080_30fps.mp4: 384x640 4 bikes, 3 helmets, 3 liscs, 2 no_helmets, 3 riders, 11.9ms\n",
            "video 1/1 (frame 869/1329) /content/3691658-hd_1920_1080_30fps.mp4: 384x640 3 bikes, 4 helmets, 2 liscs, 4 riders, 9.0ms\n",
            "video 1/1 (frame 870/1329) /content/3691658-hd_1920_1080_30fps.mp4: 384x640 4 bikes, 3 helmets, 2 liscs, 3 riders, 7.2ms\n",
            "video 1/1 (frame 871/1329) /content/3691658-hd_1920_1080_30fps.mp4: 384x640 4 bikes, 3 helmets, 1 lisc, 3 riders, 9.3ms\n",
            "video 1/1 (frame 872/1329) /content/3691658-hd_1920_1080_30fps.mp4: 384x640 4 bikes, 3 helmets, 3 liscs, 4 riders, 11.5ms\n",
            "video 1/1 (frame 873/1329) /content/3691658-hd_1920_1080_30fps.mp4: 384x640 4 bikes, 3 helmets, 2 liscs, 1 no_helmet, 5 riders, 7.1ms\n",
            "video 1/1 (frame 874/1329) /content/3691658-hd_1920_1080_30fps.mp4: 384x640 5 bikes, 4 helmets, 2 liscs, 1 no_helmet, 4 riders, 8.9ms\n",
            "video 1/1 (frame 875/1329) /content/3691658-hd_1920_1080_30fps.mp4: 384x640 5 bikes, 4 helmets, 3 liscs, 2 no_helmets, 5 riders, 6.9ms\n",
            "video 1/1 (frame 876/1329) /content/3691658-hd_1920_1080_30fps.mp4: 384x640 6 bikes, 3 helmets, 2 liscs, 1 no_helmet, 5 riders, 9.1ms\n",
            "video 1/1 (frame 877/1329) /content/3691658-hd_1920_1080_30fps.mp4: 384x640 6 bikes, 3 helmets, 1 lisc, 4 riders, 8.2ms\n",
            "video 1/1 (frame 878/1329) /content/3691658-hd_1920_1080_30fps.mp4: 384x640 7 bikes, 4 helmets, 3 liscs, 4 riders, 15.8ms\n",
            "video 1/1 (frame 879/1329) /content/3691658-hd_1920_1080_30fps.mp4: 384x640 5 bikes, 4 helmets, 2 liscs, 5 riders, 10.4ms\n",
            "video 1/1 (frame 880/1329) /content/3691658-hd_1920_1080_30fps.mp4: 384x640 5 bikes, 3 helmets, 1 lisc, 5 riders, 8.7ms\n",
            "video 1/1 (frame 881/1329) /content/3691658-hd_1920_1080_30fps.mp4: 384x640 4 bikes, 4 helmets, 1 lisc, 4 riders, 10.6ms\n",
            "video 1/1 (frame 882/1329) /content/3691658-hd_1920_1080_30fps.mp4: 384x640 4 bikes, 4 helmets, 1 lisc, 4 riders, 7.9ms\n",
            "video 1/1 (frame 883/1329) /content/3691658-hd_1920_1080_30fps.mp4: 384x640 5 bikes, 5 helmets, 1 lisc, 1 no_helmet, 4 riders, 10.3ms\n",
            "video 1/1 (frame 884/1329) /content/3691658-hd_1920_1080_30fps.mp4: 384x640 6 bikes, 3 helmets, 1 lisc, 4 riders, 11.6ms\n",
            "video 1/1 (frame 885/1329) /content/3691658-hd_1920_1080_30fps.mp4: 384x640 6 bikes, 4 helmets, 2 liscs, 1 no_helmet, 6 riders, 10.4ms\n",
            "video 1/1 (frame 886/1329) /content/3691658-hd_1920_1080_30fps.mp4: 384x640 6 bikes, 5 helmets, 2 no_helmets, 4 riders, 6.9ms\n",
            "video 1/1 (frame 887/1329) /content/3691658-hd_1920_1080_30fps.mp4: 384x640 5 bikes, 4 helmets, 1 lisc, 1 no_helmet, 5 riders, 12.5ms\n",
            "video 1/1 (frame 888/1329) /content/3691658-hd_1920_1080_30fps.mp4: 384x640 4 bikes, 2 helmets, 2 liscs, 2 no_helmets, 6 riders, 10.9ms\n",
            "video 1/1 (frame 889/1329) /content/3691658-hd_1920_1080_30fps.mp4: 384x640 4 bikes, 4 helmets, 1 lisc, 1 no_helmet, 1 noise, 4 riders, 6.7ms\n",
            "video 1/1 (frame 890/1329) /content/3691658-hd_1920_1080_30fps.mp4: 384x640 5 bikes, 3 helmets, 1 lisc, 2 no_helmets, 1 noise, 4 riders, 13.3ms\n",
            "video 1/1 (frame 891/1329) /content/3691658-hd_1920_1080_30fps.mp4: 384x640 4 bikes, 4 helmets, 1 lisc, 1 noise, 5 riders, 13.4ms\n",
            "video 1/1 (frame 892/1329) /content/3691658-hd_1920_1080_30fps.mp4: 384x640 4 bikes, 4 helmets, 2 liscs, 1 noise, 5 riders, 13.0ms\n",
            "video 1/1 (frame 893/1329) /content/3691658-hd_1920_1080_30fps.mp4: 384x640 6 bikes, 4 helmets, 3 liscs, 5 riders, 11.5ms\n",
            "video 1/1 (frame 894/1329) /content/3691658-hd_1920_1080_30fps.mp4: 384x640 5 bikes, 6 helmets, 2 liscs, 5 riders, 9.9ms\n",
            "video 1/1 (frame 895/1329) /content/3691658-hd_1920_1080_30fps.mp4: 384x640 5 bikes, 4 helmets, 2 liscs, 2 no_helmets, 7 riders, 11.5ms\n",
            "video 1/1 (frame 896/1329) /content/3691658-hd_1920_1080_30fps.mp4: 384x640 5 bikes, 5 helmets, 2 liscs, 1 no_helmet, 4 riders, 9.6ms\n",
            "video 1/1 (frame 897/1329) /content/3691658-hd_1920_1080_30fps.mp4: 384x640 5 bikes, 5 helmets, 4 liscs, 2 no_helmets, 4 riders, 20.0ms\n",
            "video 1/1 (frame 898/1329) /content/3691658-hd_1920_1080_30fps.mp4: 384x640 7 bikes, 6 helmets, 3 liscs, 4 riders, 16.6ms\n",
            "video 1/1 (frame 899/1329) /content/3691658-hd_1920_1080_30fps.mp4: 384x640 5 bikes, 6 helmets, 3 liscs, 1 no_helmet, 4 riders, 11.4ms\n",
            "video 1/1 (frame 900/1329) /content/3691658-hd_1920_1080_30fps.mp4: 384x640 4 bikes, 6 helmets, 2 liscs, 1 no_helmet, 5 riders, 12.0ms\n",
            "video 1/1 (frame 901/1329) /content/3691658-hd_1920_1080_30fps.mp4: 384x640 6 bikes, 3 helmets, 1 lisc, 3 no_helmets, 7 riders, 9.3ms\n",
            "video 1/1 (frame 902/1329) /content/3691658-hd_1920_1080_30fps.mp4: 384x640 4 bikes, 5 helmets, 2 liscs, 5 riders, 12.2ms\n",
            "video 1/1 (frame 903/1329) /content/3691658-hd_1920_1080_30fps.mp4: 384x640 5 bikes, 5 helmets, 1 lisc, 2 no_helmets, 6 riders, 15.3ms\n",
            "video 1/1 (frame 904/1329) /content/3691658-hd_1920_1080_30fps.mp4: 384x640 5 bikes, 6 helmets, 1 lisc, 5 riders, 17.1ms\n",
            "video 1/1 (frame 905/1329) /content/3691658-hd_1920_1080_30fps.mp4: 384x640 5 bikes, 5 helmets, 3 liscs, 1 no_helmet, 5 riders, 9.5ms\n",
            "video 1/1 (frame 906/1329) /content/3691658-hd_1920_1080_30fps.mp4: 384x640 5 bikes, 4 helmets, 2 liscs, 2 no_helmets, 5 riders, 15.3ms\n",
            "video 1/1 (frame 907/1329) /content/3691658-hd_1920_1080_30fps.mp4: 384x640 6 bikes, 3 helmets, 5 liscs, 4 no_helmets, 5 riders, 9.9ms\n",
            "video 1/1 (frame 908/1329) /content/3691658-hd_1920_1080_30fps.mp4: 384x640 8 bikes, 6 helmets, 2 liscs, 5 no_helmets, 7 riders, 9.2ms\n",
            "video 1/1 (frame 909/1329) /content/3691658-hd_1920_1080_30fps.mp4: 384x640 10 bikes, 5 helmets, 3 liscs, 4 no_helmets, 8 riders, 12.1ms\n",
            "video 1/1 (frame 910/1329) /content/3691658-hd_1920_1080_30fps.mp4: 384x640 7 bikes, 4 helmets, 2 liscs, 4 no_helmets, 8 riders, 12.8ms\n",
            "video 1/1 (frame 911/1329) /content/3691658-hd_1920_1080_30fps.mp4: 384x640 8 bikes, 3 helmets, 5 liscs, 4 no_helmets, 5 riders, 9.6ms\n",
            "video 1/1 (frame 912/1329) /content/3691658-hd_1920_1080_30fps.mp4: 384x640 8 bikes, 4 helmets, 3 liscs, 2 no_helmets, 5 riders, 8.7ms\n",
            "video 1/1 (frame 913/1329) /content/3691658-hd_1920_1080_30fps.mp4: 384x640 7 bikes, 3 helmets, 4 liscs, 3 no_helmets, 6 riders, 10.7ms\n",
            "video 1/1 (frame 914/1329) /content/3691658-hd_1920_1080_30fps.mp4: 384x640 7 bikes, 5 helmets, 3 liscs, 2 no_helmets, 7 riders, 20.3ms\n",
            "video 1/1 (frame 915/1329) /content/3691658-hd_1920_1080_30fps.mp4: 384x640 8 bikes, 3 helmets, 3 liscs, 1 no_helmet, 6 riders, 9.1ms\n",
            "video 1/1 (frame 916/1329) /content/3691658-hd_1920_1080_30fps.mp4: 384x640 7 bikes, 5 helmets, 3 liscs, 2 no_helmets, 4 riders, 9.1ms\n",
            "video 1/1 (frame 917/1329) /content/3691658-hd_1920_1080_30fps.mp4: 384x640 7 bikes, 4 helmets, 4 liscs, 3 no_helmets, 7 riders, 18.6ms\n",
            "video 1/1 (frame 918/1329) /content/3691658-hd_1920_1080_30fps.mp4: 384x640 8 bikes, 5 helmets, 3 liscs, 4 no_helmets, 9 riders, 12.8ms\n",
            "video 1/1 (frame 919/1329) /content/3691658-hd_1920_1080_30fps.mp4: 384x640 7 bikes, 7 helmets, 3 liscs, 1 no_helmet, 7 riders, 10.3ms\n",
            "video 1/1 (frame 920/1329) /content/3691658-hd_1920_1080_30fps.mp4: 384x640 6 bikes, 8 helmets, 3 liscs, 1 no_helmet, 7 riders, 11.0ms\n",
            "video 1/1 (frame 921/1329) /content/3691658-hd_1920_1080_30fps.mp4: 384x640 6 bikes, 5 helmets, 2 liscs, 1 no_helmet, 6 riders, 11.7ms\n",
            "video 1/1 (frame 922/1329) /content/3691658-hd_1920_1080_30fps.mp4: 384x640 7 bikes, 4 helmets, 3 liscs, 2 no_helmets, 6 riders, 25.9ms\n",
            "video 1/1 (frame 923/1329) /content/3691658-hd_1920_1080_30fps.mp4: 384x640 7 bikes, 8 helmets, 5 liscs, 1 no_helmet, 7 riders, 13.2ms\n",
            "video 1/1 (frame 924/1329) /content/3691658-hd_1920_1080_30fps.mp4: 384x640 6 bikes, 3 helmets, 1 lisc, 2 no_helmets, 10 riders, 10.3ms\n",
            "video 1/1 (frame 925/1329) /content/3691658-hd_1920_1080_30fps.mp4: 384x640 7 bikes, 6 helmets, 2 liscs, 1 no_helmet, 8 riders, 10.0ms\n",
            "video 1/1 (frame 926/1329) /content/3691658-hd_1920_1080_30fps.mp4: 384x640 7 bikes, 5 helmets, 1 lisc, 2 no_helmets, 8 riders, 13.5ms\n",
            "video 1/1 (frame 927/1329) /content/3691658-hd_1920_1080_30fps.mp4: 384x640 9 bikes, 4 helmets, 2 liscs, 4 no_helmets, 7 riders, 18.7ms\n",
            "video 1/1 (frame 928/1329) /content/3691658-hd_1920_1080_30fps.mp4: 384x640 6 bikes, 5 helmets, 2 liscs, 2 no_helmets, 9 riders, 14.3ms\n",
            "video 1/1 (frame 929/1329) /content/3691658-hd_1920_1080_30fps.mp4: 384x640 4 bikes, 5 helmets, 2 liscs, 1 no_helmet, 6 riders, 13.4ms\n",
            "video 1/1 (frame 930/1329) /content/3691658-hd_1920_1080_30fps.mp4: 384x640 5 bikes, 6 helmets, 2 liscs, 2 no_helmets, 6 riders, 12.3ms\n",
            "video 1/1 (frame 931/1329) /content/3691658-hd_1920_1080_30fps.mp4: 384x640 7 bikes, 6 helmets, 3 liscs, 2 no_helmets, 6 riders, 12.6ms\n",
            "video 1/1 (frame 932/1329) /content/3691658-hd_1920_1080_30fps.mp4: 384x640 4 bikes, 6 helmets, 3 liscs, 2 no_helmets, 7 riders, 11.9ms\n",
            "video 1/1 (frame 933/1329) /content/3691658-hd_1920_1080_30fps.mp4: 384x640 5 bikes, 9 helmets, 2 liscs, 1 no_helmet, 8 riders, 8.4ms\n",
            "video 1/1 (frame 934/1329) /content/3691658-hd_1920_1080_30fps.mp4: 384x640 5 bikes, 6 helmets, 3 liscs, 5 riders, 9.2ms\n",
            "video 1/1 (frame 935/1329) /content/3691658-hd_1920_1080_30fps.mp4: 384x640 6 bikes, 4 helmets, 2 liscs, 1 no_helmet, 6 riders, 9.3ms\n",
            "video 1/1 (frame 936/1329) /content/3691658-hd_1920_1080_30fps.mp4: 384x640 7 bikes, 5 helmets, 3 liscs, 3 no_helmets, 7 riders, 10.1ms\n",
            "video 1/1 (frame 937/1329) /content/3691658-hd_1920_1080_30fps.mp4: 384x640 6 bikes, 5 helmets, 2 liscs, 2 no_helmets, 7 riders, 8.8ms\n",
            "video 1/1 (frame 938/1329) /content/3691658-hd_1920_1080_30fps.mp4: 384x640 9 bikes, 8 helmets, 2 liscs, 2 no_helmets, 6 riders, 8.1ms\n",
            "video 1/1 (frame 939/1329) /content/3691658-hd_1920_1080_30fps.mp4: 384x640 8 bikes, 7 helmets, 4 liscs, 1 no_helmet, 7 riders, 10.3ms\n",
            "video 1/1 (frame 940/1329) /content/3691658-hd_1920_1080_30fps.mp4: 384x640 10 bikes, 8 helmets, 4 liscs, 2 no_helmets, 9 riders, 9.5ms\n",
            "video 1/1 (frame 941/1329) /content/3691658-hd_1920_1080_30fps.mp4: 384x640 8 bikes, 8 helmets, 4 liscs, 2 no_helmets, 7 riders, 8.0ms\n",
            "video 1/1 (frame 942/1329) /content/3691658-hd_1920_1080_30fps.mp4: 384x640 8 bikes, 6 helmets, 6 liscs, 1 no_helmet, 8 riders, 7.9ms\n",
            "video 1/1 (frame 943/1329) /content/3691658-hd_1920_1080_30fps.mp4: 384x640 8 bikes, 7 helmets, 5 liscs, 2 no_helmets, 9 riders, 10.3ms\n",
            "video 1/1 (frame 944/1329) /content/3691658-hd_1920_1080_30fps.mp4: 384x640 7 bikes, 7 helmets, 2 liscs, 7 riders, 9.2ms\n",
            "video 1/1 (frame 945/1329) /content/3691658-hd_1920_1080_30fps.mp4: 384x640 8 bikes, 9 helmets, 2 liscs, 9 riders, 9.2ms\n",
            "video 1/1 (frame 946/1329) /content/3691658-hd_1920_1080_30fps.mp4: 384x640 6 bikes, 9 helmets, 4 liscs, 7 riders, 11.6ms\n",
            "video 1/1 (frame 947/1329) /content/3691658-hd_1920_1080_30fps.mp4: 384x640 6 bikes, 6 helmets, 3 liscs, 2 no_helmets, 6 riders, 12.9ms\n",
            "video 1/1 (frame 948/1329) /content/3691658-hd_1920_1080_30fps.mp4: 384x640 6 bikes, 7 helmets, 4 liscs, 1 no_helmet, 7 riders, 10.2ms\n",
            "video 1/1 (frame 949/1329) /content/3691658-hd_1920_1080_30fps.mp4: 384x640 7 bikes, 11 helmets, 3 liscs, 1 no_helmet, 7 riders, 7.7ms\n",
            "video 1/1 (frame 950/1329) /content/3691658-hd_1920_1080_30fps.mp4: 384x640 6 bikes, 5 helmets, 5 liscs, 7 riders, 11.3ms\n",
            "video 1/1 (frame 951/1329) /content/3691658-hd_1920_1080_30fps.mp4: 384x640 6 bikes, 6 helmets, 4 liscs, 2 no_helmets, 7 riders, 9.0ms\n",
            "video 1/1 (frame 952/1329) /content/3691658-hd_1920_1080_30fps.mp4: 384x640 5 bikes, 3 helmets, 4 liscs, 1 no_helmet, 5 riders, 13.9ms\n",
            "video 1/1 (frame 953/1329) /content/3691658-hd_1920_1080_30fps.mp4: 384x640 7 bikes, 5 helmets, 5 liscs, 7 riders, 7.7ms\n",
            "video 1/1 (frame 954/1329) /content/3691658-hd_1920_1080_30fps.mp4: 384x640 7 bikes, 5 helmets, 5 liscs, 1 no_helmet, 9 riders, 8.3ms\n",
            "video 1/1 (frame 955/1329) /content/3691658-hd_1920_1080_30fps.mp4: 384x640 6 bikes, 5 helmets, 4 liscs, 1 no_helmet, 6 riders, 8.9ms\n",
            "video 1/1 (frame 956/1329) /content/3691658-hd_1920_1080_30fps.mp4: 384x640 6 bikes, 4 helmets, 5 liscs, 7 riders, 11.7ms\n",
            "video 1/1 (frame 957/1329) /content/3691658-hd_1920_1080_30fps.mp4: 384x640 8 bikes, 5 helmets, 6 liscs, 1 no_helmet, 9 riders, 9.8ms\n",
            "video 1/1 (frame 958/1329) /content/3691658-hd_1920_1080_30fps.mp4: 384x640 8 bikes, 6 helmets, 7 liscs, 8 riders, 7.4ms\n",
            "video 1/1 (frame 959/1329) /content/3691658-hd_1920_1080_30fps.mp4: 384x640 8 bikes, 7 helmets, 5 liscs, 1 no_helmet, 11 riders, 9.0ms\n",
            "video 1/1 (frame 960/1329) /content/3691658-hd_1920_1080_30fps.mp4: 384x640 8 bikes, 7 helmets, 5 liscs, 1 no_helmet, 10 riders, 8.7ms\n",
            "video 1/1 (frame 961/1329) /content/3691658-hd_1920_1080_30fps.mp4: 384x640 7 bikes, 6 helmets, 4 liscs, 1 no_helmet, 9 riders, 8.2ms\n",
            "video 1/1 (frame 962/1329) /content/3691658-hd_1920_1080_30fps.mp4: 384x640 7 bikes, 5 helmets, 6 liscs, 10 riders, 15.2ms\n",
            "video 1/1 (frame 963/1329) /content/3691658-hd_1920_1080_30fps.mp4: 384x640 8 bikes, 7 helmets, 6 liscs, 2 no_helmets, 9 riders, 9.3ms\n",
            "video 1/1 (frame 964/1329) /content/3691658-hd_1920_1080_30fps.mp4: 384x640 6 bikes, 9 helmets, 6 liscs, 9 riders, 11.5ms\n",
            "video 1/1 (frame 965/1329) /content/3691658-hd_1920_1080_30fps.mp4: 384x640 6 bikes, 6 helmets, 4 liscs, 1 no_helmet, 9 riders, 8.3ms\n",
            "video 1/1 (frame 966/1329) /content/3691658-hd_1920_1080_30fps.mp4: 384x640 7 bikes, 6 helmets, 5 liscs, 1 no_helmet, 9 riders, 6.9ms\n",
            "video 1/1 (frame 967/1329) /content/3691658-hd_1920_1080_30fps.mp4: 384x640 7 bikes, 8 helmets, 4 liscs, 1 no_helmet, 9 riders, 11.1ms\n",
            "video 1/1 (frame 968/1329) /content/3691658-hd_1920_1080_30fps.mp4: 384x640 7 bikes, 6 helmets, 6 liscs, 2 no_helmets, 9 riders, 12.6ms\n",
            "video 1/1 (frame 969/1329) /content/3691658-hd_1920_1080_30fps.mp4: 384x640 9 bikes, 5 helmets, 5 liscs, 1 no_helmet, 8 riders, 8.0ms\n",
            "video 1/1 (frame 970/1329) /content/3691658-hd_1920_1080_30fps.mp4: 384x640 12 bikes, 6 helmets, 8 liscs, 1 no_helmet, 9 riders, 8.4ms\n",
            "video 1/1 (frame 971/1329) /content/3691658-hd_1920_1080_30fps.mp4: 384x640 12 bikes, 6 helmets, 4 liscs, 1 no_helmet, 11 riders, 9.6ms\n",
            "video 1/1 (frame 972/1329) /content/3691658-hd_1920_1080_30fps.mp4: 384x640 12 bikes, 7 helmets, 7 liscs, 2 no_helmets, 11 riders, 11.7ms\n",
            "video 1/1 (frame 973/1329) /content/3691658-hd_1920_1080_30fps.mp4: 384x640 11 bikes, 4 helmets, 5 liscs, 2 no_helmets, 10 riders, 8.0ms\n",
            "video 1/1 (frame 974/1329) /content/3691658-hd_1920_1080_30fps.mp4: 384x640 10 bikes, 4 helmets, 4 liscs, 1 no_helmet, 9 riders, 8.1ms\n",
            "video 1/1 (frame 975/1329) /content/3691658-hd_1920_1080_30fps.mp4: 384x640 9 bikes, 6 helmets, 4 liscs, 8 riders, 11.8ms\n",
            "video 1/1 (frame 976/1329) /content/3691658-hd_1920_1080_30fps.mp4: 384x640 11 bikes, 7 helmets, 2 liscs, 11 riders, 19.9ms\n",
            "video 1/1 (frame 977/1329) /content/3691658-hd_1920_1080_30fps.mp4: 384x640 8 bikes, 6 helmets, 3 liscs, 9 riders, 8.1ms\n",
            "video 1/1 (frame 978/1329) /content/3691658-hd_1920_1080_30fps.mp4: 384x640 11 bikes, 4 helmets, 3 liscs, 1 no_helmet, 7 riders, 11.4ms\n",
            "video 1/1 (frame 979/1329) /content/3691658-hd_1920_1080_30fps.mp4: 384x640 10 bikes, 5 helmets, 2 liscs, 8 riders, 8.2ms\n",
            "video 1/1 (frame 980/1329) /content/3691658-hd_1920_1080_30fps.mp4: 384x640 10 bikes, 8 helmets, 4 liscs, 1 no_helmet, 11 riders, 7.9ms\n",
            "video 1/1 (frame 981/1329) /content/3691658-hd_1920_1080_30fps.mp4: 384x640 9 bikes, 6 helmets, 2 liscs, 1 no_helmet, 11 riders, 8.6ms\n",
            "video 1/1 (frame 982/1329) /content/3691658-hd_1920_1080_30fps.mp4: 384x640 10 bikes, 6 helmets, 4 liscs, 4 no_helmets, 9 riders, 10.9ms\n",
            "video 1/1 (frame 983/1329) /content/3691658-hd_1920_1080_30fps.mp4: 384x640 10 bikes, 7 helmets, 3 liscs, 1 no_helmet, 10 riders, 9.9ms\n",
            "video 1/1 (frame 984/1329) /content/3691658-hd_1920_1080_30fps.mp4: 384x640 8 bikes, 7 helmets, 4 liscs, 1 no_helmet, 10 riders, 10.9ms\n",
            "video 1/1 (frame 985/1329) /content/3691658-hd_1920_1080_30fps.mp4: 384x640 10 bikes, 7 helmets, 4 liscs, 12 riders, 10.0ms\n",
            "video 1/1 (frame 986/1329) /content/3691658-hd_1920_1080_30fps.mp4: 384x640 8 bikes, 7 helmets, 3 liscs, 1 no_helmet, 12 riders, 12.0ms\n",
            "video 1/1 (frame 987/1329) /content/3691658-hd_1920_1080_30fps.mp4: 384x640 9 bikes, 6 helmets, 4 liscs, 1 no_helmet, 10 riders, 12.9ms\n",
            "video 1/1 (frame 988/1329) /content/3691658-hd_1920_1080_30fps.mp4: 384x640 9 bikes, 7 helmets, 4 liscs, 1 no_helmet, 11 riders, 10.5ms\n",
            "video 1/1 (frame 989/1329) /content/3691658-hd_1920_1080_30fps.mp4: 384x640 9 bikes, 7 helmets, 5 liscs, 1 no_helmet, 11 riders, 15.5ms\n",
            "video 1/1 (frame 990/1329) /content/3691658-hd_1920_1080_30fps.mp4: 384x640 10 bikes, 8 helmets, 3 liscs, 1 no_helmet, 10 riders, 10.4ms\n",
            "video 1/1 (frame 991/1329) /content/3691658-hd_1920_1080_30fps.mp4: 384x640 9 bikes, 7 helmets, 3 liscs, 12 riders, 12.8ms\n",
            "video 1/1 (frame 992/1329) /content/3691658-hd_1920_1080_30fps.mp4: 384x640 9 bikes, 6 helmets, 4 liscs, 1 no_helmet, 10 riders, 10.6ms\n",
            "video 1/1 (frame 993/1329) /content/3691658-hd_1920_1080_30fps.mp4: 384x640 8 bikes, 6 helmets, 5 liscs, 2 no_helmets, 10 riders, 16.2ms\n",
            "video 1/1 (frame 994/1329) /content/3691658-hd_1920_1080_30fps.mp4: 384x640 8 bikes, 6 helmets, 4 liscs, 2 no_helmets, 7 riders, 16.6ms\n",
            "video 1/1 (frame 995/1329) /content/3691658-hd_1920_1080_30fps.mp4: 384x640 9 bikes, 6 helmets, 4 liscs, 1 no_helmet, 7 riders, 11.3ms\n",
            "video 1/1 (frame 996/1329) /content/3691658-hd_1920_1080_30fps.mp4: 384x640 8 bikes, 5 helmets, 3 liscs, 8 riders, 11.2ms\n",
            "video 1/1 (frame 997/1329) /content/3691658-hd_1920_1080_30fps.mp4: 384x640 7 bikes, 7 helmets, 4 liscs, 1 no_helmet, 8 riders, 9.0ms\n",
            "video 1/1 (frame 998/1329) /content/3691658-hd_1920_1080_30fps.mp4: 384x640 7 bikes, 6 helmets, 3 liscs, 8 riders, 11.1ms\n",
            "video 1/1 (frame 999/1329) /content/3691658-hd_1920_1080_30fps.mp4: 384x640 8 bikes, 6 helmets, 3 liscs, 1 no_helmet, 8 riders, 10.2ms\n",
            "video 1/1 (frame 1000/1329) /content/3691658-hd_1920_1080_30fps.mp4: 384x640 9 bikes, 7 helmets, 4 liscs, 7 riders, 10.5ms\n",
            "video 1/1 (frame 1001/1329) /content/3691658-hd_1920_1080_30fps.mp4: 384x640 9 bikes, 6 helmets, 5 liscs, 7 riders, 6.6ms\n",
            "video 1/1 (frame 1002/1329) /content/3691658-hd_1920_1080_30fps.mp4: 384x640 9 bikes, 7 helmets, 5 liscs, 9 riders, 11.3ms\n",
            "video 1/1 (frame 1003/1329) /content/3691658-hd_1920_1080_30fps.mp4: 384x640 11 bikes, 7 helmets, 5 liscs, 7 riders, 9.0ms\n",
            "video 1/1 (frame 1004/1329) /content/3691658-hd_1920_1080_30fps.mp4: 384x640 9 bikes, 4 helmets, 5 liscs, 1 no_helmet, 8 riders, 10.7ms\n",
            "video 1/1 (frame 1005/1329) /content/3691658-hd_1920_1080_30fps.mp4: 384x640 10 bikes, 6 helmets, 8 liscs, 8 riders, 11.2ms\n",
            "video 1/1 (frame 1006/1329) /content/3691658-hd_1920_1080_30fps.mp4: 384x640 9 bikes, 6 helmets, 6 liscs, 9 riders, 9.3ms\n",
            "video 1/1 (frame 1007/1329) /content/3691658-hd_1920_1080_30fps.mp4: 384x640 8 bikes, 5 helmets, 5 liscs, 1 no_helmet, 7 riders, 8.7ms\n",
            "video 1/1 (frame 1008/1329) /content/3691658-hd_1920_1080_30fps.mp4: 384x640 7 bikes, 4 helmets, 6 liscs, 2 no_helmets, 6 riders, 10.2ms\n",
            "video 1/1 (frame 1009/1329) /content/3691658-hd_1920_1080_30fps.mp4: 384x640 8 bikes, 4 helmets, 5 liscs, 7 riders, 12.0ms\n",
            "video 1/1 (frame 1010/1329) /content/3691658-hd_1920_1080_30fps.mp4: 384x640 8 bikes, 6 helmets, 5 liscs, 1 no_helmet, 8 riders, 8.3ms\n",
            "video 1/1 (frame 1011/1329) /content/3691658-hd_1920_1080_30fps.mp4: 384x640 8 bikes, 5 helmets, 4 liscs, 1 no_helmet, 9 riders, 8.7ms\n",
            "video 1/1 (frame 1012/1329) /content/3691658-hd_1920_1080_30fps.mp4: 384x640 8 bikes, 5 helmets, 4 liscs, 3 no_helmets, 10 riders, 11.6ms\n",
            "video 1/1 (frame 1013/1329) /content/3691658-hd_1920_1080_30fps.mp4: 384x640 8 bikes, 4 helmets, 5 liscs, 2 no_helmets, 10 riders, 8.1ms\n",
            "video 1/1 (frame 1014/1329) /content/3691658-hd_1920_1080_30fps.mp4: 384x640 8 bikes, 4 helmets, 7 liscs, 2 no_helmets, 9 riders, 9.2ms\n",
            "video 1/1 (frame 1015/1329) /content/3691658-hd_1920_1080_30fps.mp4: 384x640 8 bikes, 6 helmets, 4 liscs, 1 no_helmet, 9 riders, 10.8ms\n",
            "video 1/1 (frame 1016/1329) /content/3691658-hd_1920_1080_30fps.mp4: 384x640 8 bikes, 6 helmets, 4 liscs, 1 no_helmet, 7 riders, 7.9ms\n",
            "video 1/1 (frame 1017/1329) /content/3691658-hd_1920_1080_30fps.mp4: 384x640 8 bikes, 7 helmets, 4 liscs, 3 no_helmets, 8 riders, 10.7ms\n",
            "video 1/1 (frame 1018/1329) /content/3691658-hd_1920_1080_30fps.mp4: 384x640 8 bikes, 6 helmets, 5 liscs, 3 no_helmets, 9 riders, 11.6ms\n",
            "video 1/1 (frame 1019/1329) /content/3691658-hd_1920_1080_30fps.mp4: 384x640 7 bikes, 5 helmets, 4 liscs, 2 no_helmets, 7 riders, 9.0ms\n",
            "video 1/1 (frame 1020/1329) /content/3691658-hd_1920_1080_30fps.mp4: 384x640 8 bikes, 4 helmets, 5 liscs, 3 no_helmets, 8 riders, 8.0ms\n",
            "video 1/1 (frame 1021/1329) /content/3691658-hd_1920_1080_30fps.mp4: 384x640 9 bikes, 4 helmets, 4 liscs, 2 no_helmets, 8 riders, 9.2ms\n",
            "video 1/1 (frame 1022/1329) /content/3691658-hd_1920_1080_30fps.mp4: 384x640 8 bikes, 3 helmets, 4 liscs, 2 no_helmets, 8 riders, 11.7ms\n",
            "video 1/1 (frame 1023/1329) /content/3691658-hd_1920_1080_30fps.mp4: 384x640 6 bikes, 3 helmets, 2 liscs, 3 no_helmets, 9 riders, 8.1ms\n",
            "video 1/1 (frame 1024/1329) /content/3691658-hd_1920_1080_30fps.mp4: 384x640 8 bikes, 3 helmets, 2 liscs, 3 no_helmets, 7 riders, 7.4ms\n",
            "video 1/1 (frame 1025/1329) /content/3691658-hd_1920_1080_30fps.mp4: 384x640 8 bikes, 3 helmets, 3 liscs, 4 no_helmets, 10 riders, 8.4ms\n",
            "video 1/1 (frame 1026/1329) /content/3691658-hd_1920_1080_30fps.mp4: 384x640 7 bikes, 2 helmets, 3 liscs, 3 no_helmets, 9 riders, 8.3ms\n",
            "video 1/1 (frame 1027/1329) /content/3691658-hd_1920_1080_30fps.mp4: 384x640 8 bikes, 2 helmets, 2 liscs, 4 no_helmets, 10 riders, 13.6ms\n",
            "video 1/1 (frame 1028/1329) /content/3691658-hd_1920_1080_30fps.mp4: 384x640 9 bikes, 1 helmet, 3 liscs, 5 no_helmets, 9 riders, 8.3ms\n",
            "video 1/1 (frame 1029/1329) /content/3691658-hd_1920_1080_30fps.mp4: 384x640 9 bikes, 4 helmets, 7 liscs, 5 no_helmets, 9 riders, 12.5ms\n",
            "video 1/1 (frame 1030/1329) /content/3691658-hd_1920_1080_30fps.mp4: 384x640 10 bikes, 3 helmets, 5 liscs, 3 no_helmets, 12 riders, 6.9ms\n",
            "video 1/1 (frame 1031/1329) /content/3691658-hd_1920_1080_30fps.mp4: 384x640 10 bikes, 4 helmets, 6 liscs, 3 no_helmets, 8 riders, 8.9ms\n",
            "video 1/1 (frame 1032/1329) /content/3691658-hd_1920_1080_30fps.mp4: 384x640 10 bikes, 2 helmets, 5 liscs, 2 no_helmets, 10 riders, 12.4ms\n",
            "video 1/1 (frame 1033/1329) /content/3691658-hd_1920_1080_30fps.mp4: 384x640 9 bikes, 2 helmets, 4 liscs, 3 no_helmets, 8 riders, 10.1ms\n",
            "video 1/1 (frame 1034/1329) /content/3691658-hd_1920_1080_30fps.mp4: 384x640 8 bikes, 1 helmet, 3 liscs, 3 no_helmets, 9 riders, 11.4ms\n",
            "video 1/1 (frame 1035/1329) /content/3691658-hd_1920_1080_30fps.mp4: 384x640 7 bikes, 3 helmets, 5 liscs, 3 no_helmets, 6 riders, 12.8ms\n",
            "video 1/1 (frame 1036/1329) /content/3691658-hd_1920_1080_30fps.mp4: 384x640 9 bikes, 4 helmets, 4 liscs, 3 no_helmets, 8 riders, 7.4ms\n",
            "video 1/1 (frame 1037/1329) /content/3691658-hd_1920_1080_30fps.mp4: 384x640 9 bikes, 3 helmets, 3 liscs, 2 no_helmets, 8 riders, 11.5ms\n",
            "video 1/1 (frame 1038/1329) /content/3691658-hd_1920_1080_30fps.mp4: 384x640 9 bikes, 4 helmets, 5 liscs, 3 no_helmets, 9 riders, 8.2ms\n",
            "video 1/1 (frame 1039/1329) /content/3691658-hd_1920_1080_30fps.mp4: 384x640 9 bikes, 4 helmets, 7 liscs, 3 no_helmets, 8 riders, 9.2ms\n",
            "video 1/1 (frame 1040/1329) /content/3691658-hd_1920_1080_30fps.mp4: 384x640 9 bikes, 1 helmet, 2 liscs, 3 no_helmets, 9 riders, 6.8ms\n",
            "video 1/1 (frame 1041/1329) /content/3691658-hd_1920_1080_30fps.mp4: 384x640 8 bikes, 5 helmets, 6 liscs, 3 no_helmets, 9 riders, 10.7ms\n",
            "video 1/1 (frame 1042/1329) /content/3691658-hd_1920_1080_30fps.mp4: 384x640 9 bikes, 4 helmets, 5 liscs, 2 no_helmets, 9 riders, 8.3ms\n",
            "video 1/1 (frame 1043/1329) /content/3691658-hd_1920_1080_30fps.mp4: 384x640 8 bikes, 3 helmets, 3 liscs, 2 no_helmets, 9 riders, 21.5ms\n",
            "video 1/1 (frame 1044/1329) /content/3691658-hd_1920_1080_30fps.mp4: 384x640 10 bikes, 4 helmets, 6 liscs, 2 no_helmets, 10 riders, 15.8ms\n",
            "video 1/1 (frame 1045/1329) /content/3691658-hd_1920_1080_30fps.mp4: 384x640 10 bikes, 3 helmets, 5 liscs, 4 no_helmets, 9 riders, 11.5ms\n",
            "video 1/1 (frame 1046/1329) /content/3691658-hd_1920_1080_30fps.mp4: 384x640 8 bikes, 4 helmets, 3 liscs, 2 no_helmets, 9 riders, 11.6ms\n",
            "video 1/1 (frame 1047/1329) /content/3691658-hd_1920_1080_30fps.mp4: 384x640 8 bikes, 4 helmets, 4 liscs, 2 no_helmets, 9 riders, 10.6ms\n",
            "video 1/1 (frame 1048/1329) /content/3691658-hd_1920_1080_30fps.mp4: 384x640 9 bikes, 3 helmets, 5 liscs, 3 no_helmets, 10 riders, 9.2ms\n",
            "video 1/1 (frame 1049/1329) /content/3691658-hd_1920_1080_30fps.mp4: 384x640 8 bikes, 5 helmets, 4 liscs, 1 no_helmet, 8 riders, 11.2ms\n",
            "video 1/1 (frame 1050/1329) /content/3691658-hd_1920_1080_30fps.mp4: 384x640 7 bikes, 4 helmets, 8 liscs, 2 no_helmets, 8 riders, 9.8ms\n",
            "video 1/1 (frame 1051/1329) /content/3691658-hd_1920_1080_30fps.mp4: 384x640 6 bikes, 2 helmets, 2 liscs, 2 no_helmets, 9 riders, 6.7ms\n",
            "video 1/1 (frame 1052/1329) /content/3691658-hd_1920_1080_30fps.mp4: 384x640 9 bikes, 4 helmets, 5 liscs, 3 no_helmets, 8 riders, 11.4ms\n",
            "video 1/1 (frame 1053/1329) /content/3691658-hd_1920_1080_30fps.mp4: 384x640 9 bikes, 2 helmets, 4 liscs, 1 no_helmet, 1 noise, 8 riders, 9.0ms\n",
            "video 1/1 (frame 1054/1329) /content/3691658-hd_1920_1080_30fps.mp4: 384x640 6 bikes, 2 helmets, 4 liscs, 3 no_helmets, 9 riders, 8.2ms\n",
            "video 1/1 (frame 1055/1329) /content/3691658-hd_1920_1080_30fps.mp4: 384x640 9 bikes, 5 helmets, 4 liscs, 1 no_helmet, 1 noise, 7 riders, 9.7ms\n",
            "video 1/1 (frame 1056/1329) /content/3691658-hd_1920_1080_30fps.mp4: 384x640 8 bikes, 3 helmets, 2 liscs, 3 no_helmets, 7 riders, 13.0ms\n",
            "video 1/1 (frame 1057/1329) /content/3691658-hd_1920_1080_30fps.mp4: 384x640 7 bikes, 5 helmets, 2 liscs, 2 no_helmets, 10 riders, 8.0ms\n",
            "video 1/1 (frame 1058/1329) /content/3691658-hd_1920_1080_30fps.mp4: 384x640 7 bikes, 6 helmets, 2 liscs, 1 no_helmet, 9 riders, 13.6ms\n",
            "video 1/1 (frame 1059/1329) /content/3691658-hd_1920_1080_30fps.mp4: 384x640 9 bikes, 4 helmets, 2 liscs, 1 no_helmet, 9 riders, 6.8ms\n",
            "video 1/1 (frame 1060/1329) /content/3691658-hd_1920_1080_30fps.mp4: 384x640 8 bikes, 3 helmets, 4 liscs, 2 no_helmets, 10 riders, 8.1ms\n",
            "video 1/1 (frame 1061/1329) /content/3691658-hd_1920_1080_30fps.mp4: 384x640 9 bikes, 4 helmets, 3 liscs, 1 no_helmet, 12 riders, 7.4ms\n",
            "video 1/1 (frame 1062/1329) /content/3691658-hd_1920_1080_30fps.mp4: 384x640 8 bikes, 5 helmets, 3 liscs, 1 no_helmet, 10 riders, 6.6ms\n",
            "video 1/1 (frame 1063/1329) /content/3691658-hd_1920_1080_30fps.mp4: 384x640 8 bikes, 6 helmets, 1 lisc, 3 no_helmets, 11 riders, 9.5ms\n",
            "video 1/1 (frame 1064/1329) /content/3691658-hd_1920_1080_30fps.mp4: 384x640 8 bikes, 5 helmets, 1 lisc, 4 no_helmets, 9 riders, 11.6ms\n",
            "video 1/1 (frame 1065/1329) /content/3691658-hd_1920_1080_30fps.mp4: 384x640 7 bikes, 4 helmets, 1 lisc, 3 no_helmets, 9 riders, 8.5ms\n",
            "video 1/1 (frame 1066/1329) /content/3691658-hd_1920_1080_30fps.mp4: 384x640 8 bikes, 4 helmets, 2 liscs, 3 no_helmets, 8 riders, 7.8ms\n",
            "video 1/1 (frame 1067/1329) /content/3691658-hd_1920_1080_30fps.mp4: 384x640 7 bikes, 5 helmets, 3 liscs, 2 no_helmets, 10 riders, 11.7ms\n",
            "video 1/1 (frame 1068/1329) /content/3691658-hd_1920_1080_30fps.mp4: 384x640 8 bikes, 4 helmets, 3 liscs, 2 no_helmets, 10 riders, 10.3ms\n",
            "video 1/1 (frame 1069/1329) /content/3691658-hd_1920_1080_30fps.mp4: 384x640 8 bikes, 4 helmets, 3 liscs, 1 no_helmet, 9 riders, 10.4ms\n",
            "video 1/1 (frame 1070/1329) /content/3691658-hd_1920_1080_30fps.mp4: 384x640 6 bikes, 4 helmets, 3 liscs, 2 no_helmets, 8 riders, 12.0ms\n",
            "video 1/1 (frame 1071/1329) /content/3691658-hd_1920_1080_30fps.mp4: 384x640 5 bikes, 4 helmets, 3 liscs, 3 no_helmets, 9 riders, 16.5ms\n",
            "video 1/1 (frame 1072/1329) /content/3691658-hd_1920_1080_30fps.mp4: 384x640 6 bikes, 5 helmets, 3 liscs, 1 no_helmet, 8 riders, 9.4ms\n",
            "video 1/1 (frame 1073/1329) /content/3691658-hd_1920_1080_30fps.mp4: 384x640 6 bikes, 3 helmets, 3 liscs, 2 no_helmets, 8 riders, 9.9ms\n",
            "video 1/1 (frame 1074/1329) /content/3691658-hd_1920_1080_30fps.mp4: 384x640 7 bikes, 5 helmets, 2 liscs, 1 no_helmet, 9 riders, 10.7ms\n",
            "video 1/1 (frame 1075/1329) /content/3691658-hd_1920_1080_30fps.mp4: 384x640 6 bikes, 3 helmets, 3 liscs, 1 no_helmet, 7 riders, 12.6ms\n",
            "video 1/1 (frame 1076/1329) /content/3691658-hd_1920_1080_30fps.mp4: 384x640 10 bikes, 4 helmets, 2 liscs, 2 no_helmets, 10 riders, 13.0ms\n",
            "video 1/1 (frame 1077/1329) /content/3691658-hd_1920_1080_30fps.mp4: 384x640 8 bikes, 4 helmets, 2 liscs, 3 no_helmets, 11 riders, 9.4ms\n",
            "video 1/1 (frame 1078/1329) /content/3691658-hd_1920_1080_30fps.mp4: 384x640 7 bikes, 4 helmets, 2 liscs, 2 no_helmets, 8 riders, 9.5ms\n",
            "video 1/1 (frame 1079/1329) /content/3691658-hd_1920_1080_30fps.mp4: 384x640 7 bikes, 4 helmets, 2 liscs, 3 no_helmets, 9 riders, 10.5ms\n",
            "video 1/1 (frame 1080/1329) /content/3691658-hd_1920_1080_30fps.mp4: 384x640 5 bikes, 5 helmets, 2 liscs, 2 no_helmets, 9 riders, 12.7ms\n",
            "video 1/1 (frame 1081/1329) /content/3691658-hd_1920_1080_30fps.mp4: 384x640 6 bikes, 5 helmets, 1 lisc, 2 no_helmets, 1 noise, 8 riders, 18.2ms\n",
            "video 1/1 (frame 1082/1329) /content/3691658-hd_1920_1080_30fps.mp4: 384x640 7 bikes, 4 helmets, 2 liscs, 3 no_helmets, 9 riders, 9.5ms\n",
            "video 1/1 (frame 1083/1329) /content/3691658-hd_1920_1080_30fps.mp4: 384x640 7 bikes, 4 helmets, 4 liscs, 4 no_helmets, 8 riders, 17.4ms\n",
            "video 1/1 (frame 1084/1329) /content/3691658-hd_1920_1080_30fps.mp4: 384x640 10 bikes, 5 helmets, 5 liscs, 3 no_helmets, 1 noise, 8 riders, 11.1ms\n",
            "video 1/1 (frame 1085/1329) /content/3691658-hd_1920_1080_30fps.mp4: 384x640 6 bikes, 6 helmets, 3 liscs, 3 no_helmets, 1 noise, 10 riders, 11.0ms\n",
            "video 1/1 (frame 1086/1329) /content/3691658-hd_1920_1080_30fps.mp4: 384x640 6 bikes, 5 helmets, 4 liscs, 3 no_helmets, 8 riders, 15.4ms\n",
            "video 1/1 (frame 1087/1329) /content/3691658-hd_1920_1080_30fps.mp4: 384x640 5 bikes, 6 helmets, 4 liscs, 3 no_helmets, 1 noise, 8 riders, 10.7ms\n",
            "video 1/1 (frame 1088/1329) /content/3691658-hd_1920_1080_30fps.mp4: 384x640 6 bikes, 5 helmets, 3 liscs, 2 no_helmets, 7 riders, 9.3ms\n",
            "video 1/1 (frame 1089/1329) /content/3691658-hd_1920_1080_30fps.mp4: 384x640 6 bikes, 5 helmets, 3 liscs, 3 no_helmets, 7 riders, 9.9ms\n",
            "video 1/1 (frame 1090/1329) /content/3691658-hd_1920_1080_30fps.mp4: 384x640 7 bikes, 6 helmets, 3 liscs, 3 no_helmets, 7 riders, 9.2ms\n",
            "video 1/1 (frame 1091/1329) /content/3691658-hd_1920_1080_30fps.mp4: 384x640 6 bikes, 6 helmets, 3 liscs, 2 no_helmets, 6 riders, 17.0ms\n",
            "video 1/1 (frame 1092/1329) /content/3691658-hd_1920_1080_30fps.mp4: 384x640 7 bikes, 5 helmets, 3 liscs, 3 no_helmets, 6 riders, 10.5ms\n",
            "video 1/1 (frame 1093/1329) /content/3691658-hd_1920_1080_30fps.mp4: 384x640 5 bikes, 6 helmets, 2 liscs, 4 no_helmets, 11 riders, 10.2ms\n",
            "video 1/1 (frame 1094/1329) /content/3691658-hd_1920_1080_30fps.mp4: 384x640 7 bikes, 5 helmets, 4 liscs, 2 no_helmets, 9 riders, 11.2ms\n",
            "video 1/1 (frame 1095/1329) /content/3691658-hd_1920_1080_30fps.mp4: 384x640 8 bikes, 5 helmets, 4 liscs, 3 no_helmets, 7 riders, 10.3ms\n",
            "video 1/1 (frame 1096/1329) /content/3691658-hd_1920_1080_30fps.mp4: 384x640 9 bikes, 7 helmets, 4 liscs, 2 no_helmets, 7 riders, 11.1ms\n",
            "video 1/1 (frame 1097/1329) /content/3691658-hd_1920_1080_30fps.mp4: 384x640 7 bikes, 4 helmets, 4 liscs, 4 no_helmets, 7 riders, 13.5ms\n",
            "video 1/1 (frame 1098/1329) /content/3691658-hd_1920_1080_30fps.mp4: 384x640 7 bikes, 8 helmets, 4 liscs, 4 no_helmets, 7 riders, 21.5ms\n",
            "video 1/1 (frame 1099/1329) /content/3691658-hd_1920_1080_30fps.mp4: 384x640 8 bikes, 5 helmets, 4 liscs, 2 no_helmets, 8 riders, 14.6ms\n",
            "video 1/1 (frame 1100/1329) /content/3691658-hd_1920_1080_30fps.mp4: 384x640 7 bikes, 6 helmets, 3 liscs, 6 no_helmets, 9 riders, 17.7ms\n",
            "video 1/1 (frame 1101/1329) /content/3691658-hd_1920_1080_30fps.mp4: 384x640 7 bikes, 4 helmets, 5 liscs, 5 no_helmets, 9 riders, 10.9ms\n",
            "video 1/1 (frame 1102/1329) /content/3691658-hd_1920_1080_30fps.mp4: 384x640 8 bikes, 8 helmets, 5 liscs, 5 no_helmets, 8 riders, 14.5ms\n",
            "video 1/1 (frame 1103/1329) /content/3691658-hd_1920_1080_30fps.mp4: 384x640 8 bikes, 7 helmets, 5 liscs, 5 no_helmets, 8 riders, 10.5ms\n",
            "video 1/1 (frame 1104/1329) /content/3691658-hd_1920_1080_30fps.mp4: 384x640 8 bikes, 8 helmets, 5 liscs, 3 no_helmets, 9 riders, 21.1ms\n",
            "video 1/1 (frame 1105/1329) /content/3691658-hd_1920_1080_30fps.mp4: 384x640 8 bikes, 6 helmets, 4 liscs, 3 no_helmets, 10 riders, 13.7ms\n",
            "video 1/1 (frame 1106/1329) /content/3691658-hd_1920_1080_30fps.mp4: 384x640 8 bikes, 4 helmets, 5 liscs, 3 no_helmets, 10 riders, 13.3ms\n",
            "video 1/1 (frame 1107/1329) /content/3691658-hd_1920_1080_30fps.mp4: 384x640 8 bikes, 5 helmets, 3 liscs, 5 no_helmets, 11 riders, 12.8ms\n",
            "video 1/1 (frame 1108/1329) /content/3691658-hd_1920_1080_30fps.mp4: 384x640 8 bikes, 6 helmets, 4 liscs, 4 no_helmets, 10 riders, 12.3ms\n",
            "video 1/1 (frame 1109/1329) /content/3691658-hd_1920_1080_30fps.mp4: 384x640 8 bikes, 8 helmets, 4 liscs, 5 no_helmets, 10 riders, 12.4ms\n",
            "video 1/1 (frame 1110/1329) /content/3691658-hd_1920_1080_30fps.mp4: 384x640 8 bikes, 5 helmets, 4 liscs, 6 no_helmets, 11 riders, 11.7ms\n",
            "video 1/1 (frame 1111/1329) /content/3691658-hd_1920_1080_30fps.mp4: 384x640 8 bikes, 6 helmets, 4 liscs, 4 no_helmets, 10 riders, 9.4ms\n",
            "video 1/1 (frame 1112/1329) /content/3691658-hd_1920_1080_30fps.mp4: 384x640 8 bikes, 8 helmets, 5 liscs, 3 no_helmets, 9 riders, 7.2ms\n",
            "video 1/1 (frame 1113/1329) /content/3691658-hd_1920_1080_30fps.mp4: 384x640 8 bikes, 7 helmets, 5 liscs, 2 no_helmets, 8 riders, 7.5ms\n",
            "video 1/1 (frame 1114/1329) /content/3691658-hd_1920_1080_30fps.mp4: 384x640 8 bikes, 7 helmets, 6 liscs, 5 no_helmets, 9 riders, 11.7ms\n",
            "video 1/1 (frame 1115/1329) /content/3691658-hd_1920_1080_30fps.mp4: 384x640 8 bikes, 8 helmets, 6 liscs, 2 no_helmets, 8 riders, 6.7ms\n",
            "video 1/1 (frame 1116/1329) /content/3691658-hd_1920_1080_30fps.mp4: 384x640 8 bikes, 4 helmets, 4 liscs, 4 no_helmets, 9 riders, 7.7ms\n",
            "video 1/1 (frame 1117/1329) /content/3691658-hd_1920_1080_30fps.mp4: 384x640 8 bikes, 6 helmets, 4 liscs, 2 no_helmets, 9 riders, 8.3ms\n",
            "video 1/1 (frame 1118/1329) /content/3691658-hd_1920_1080_30fps.mp4: 384x640 8 bikes, 6 helmets, 5 liscs, 5 no_helmets, 9 riders, 15.5ms\n",
            "video 1/1 (frame 1119/1329) /content/3691658-hd_1920_1080_30fps.mp4: 384x640 8 bikes, 7 helmets, 5 liscs, 2 no_helmets, 10 riders, 10.5ms\n",
            "video 1/1 (frame 1120/1329) /content/3691658-hd_1920_1080_30fps.mp4: 384x640 8 bikes, 6 helmets, 4 liscs, 3 no_helmets, 8 riders, 8.9ms\n",
            "video 1/1 (frame 1121/1329) /content/3691658-hd_1920_1080_30fps.mp4: 384x640 8 bikes, 7 helmets, 5 liscs, 2 no_helmets, 9 riders, 12.6ms\n",
            "video 1/1 (frame 1122/1329) /content/3691658-hd_1920_1080_30fps.mp4: 384x640 10 bikes, 6 helmets, 6 liscs, 3 no_helmets, 8 riders, 12.1ms\n",
            "video 1/1 (frame 1123/1329) /content/3691658-hd_1920_1080_30fps.mp4: 384x640 8 bikes, 6 helmets, 7 liscs, 4 no_helmets, 8 riders, 9.8ms\n",
            "video 1/1 (frame 1124/1329) /content/3691658-hd_1920_1080_30fps.mp4: 384x640 8 bikes, 5 helmets, 4 liscs, 4 no_helmets, 10 riders, 8.0ms\n",
            "video 1/1 (frame 1125/1329) /content/3691658-hd_1920_1080_30fps.mp4: 384x640 9 bikes, 5 helmets, 3 liscs, 3 no_helmets, 1 noise, 9 riders, 10.5ms\n",
            "video 1/1 (frame 1126/1329) /content/3691658-hd_1920_1080_30fps.mp4: 384x640 8 bikes, 5 helmets, 4 liscs, 3 no_helmets, 1 noise, 9 riders, 9.7ms\n",
            "video 1/1 (frame 1127/1329) /content/3691658-hd_1920_1080_30fps.mp4: 384x640 9 bikes, 4 helmets, 5 liscs, 2 no_helmets, 10 riders, 7.9ms\n",
            "video 1/1 (frame 1128/1329) /content/3691658-hd_1920_1080_30fps.mp4: 384x640 9 bikes, 5 helmets, 4 liscs, 2 no_helmets, 11 riders, 7.1ms\n",
            "video 1/1 (frame 1129/1329) /content/3691658-hd_1920_1080_30fps.mp4: 384x640 8 bikes, 4 helmets, 5 liscs, 2 no_helmets, 9 riders, 8.6ms\n",
            "video 1/1 (frame 1130/1329) /content/3691658-hd_1920_1080_30fps.mp4: 384x640 8 bikes, 7 helmets, 5 liscs, 2 no_helmets, 1 noise, 8 riders, 12.9ms\n",
            "video 1/1 (frame 1131/1329) /content/3691658-hd_1920_1080_30fps.mp4: 384x640 9 bikes, 5 helmets, 5 liscs, 3 no_helmets, 1 noise, 9 riders, 20.1ms\n",
            "video 1/1 (frame 1132/1329) /content/3691658-hd_1920_1080_30fps.mp4: 384x640 8 bikes, 7 helmets, 6 liscs, 1 no_helmet, 1 noise, 9 riders, 11.5ms\n",
            "video 1/1 (frame 1133/1329) /content/3691658-hd_1920_1080_30fps.mp4: 384x640 8 bikes, 6 helmets, 5 liscs, 4 no_helmets, 1 noise, 9 riders, 14.4ms\n",
            "video 1/1 (frame 1134/1329) /content/3691658-hd_1920_1080_30fps.mp4: 384x640 8 bikes, 4 helmets, 7 liscs, 3 no_helmets, 1 noise, 8 riders, 7.4ms\n",
            "video 1/1 (frame 1135/1329) /content/3691658-hd_1920_1080_30fps.mp4: 384x640 8 bikes, 5 helmets, 7 liscs, 4 no_helmets, 1 noise, 11 riders, 14.2ms\n",
            "video 1/1 (frame 1136/1329) /content/3691658-hd_1920_1080_30fps.mp4: 384x640 8 bikes, 5 helmets, 6 liscs, 1 no_helmet, 11 riders, 9.0ms\n",
            "video 1/1 (frame 1137/1329) /content/3691658-hd_1920_1080_30fps.mp4: 384x640 7 bikes, 5 helmets, 7 liscs, 3 no_helmets, 1 noise, 10 riders, 13.1ms\n",
            "video 1/1 (frame 1138/1329) /content/3691658-hd_1920_1080_30fps.mp4: 384x640 8 bikes, 4 helmets, 6 liscs, 2 no_helmets, 1 noise, 11 riders, 9.9ms\n",
            "video 1/1 (frame 1139/1329) /content/3691658-hd_1920_1080_30fps.mp4: 384x640 9 bikes, 4 helmets, 6 liscs, 3 no_helmets, 10 riders, 10.3ms\n",
            "video 1/1 (frame 1140/1329) /content/3691658-hd_1920_1080_30fps.mp4: 384x640 8 bikes, 5 helmets, 6 liscs, 1 no_helmet, 7 riders, 10.5ms\n",
            "video 1/1 (frame 1141/1329) /content/3691658-hd_1920_1080_30fps.mp4: 384x640 8 bikes, 4 helmets, 7 liscs, 2 no_helmets, 10 riders, 11.5ms\n",
            "video 1/1 (frame 1142/1329) /content/3691658-hd_1920_1080_30fps.mp4: 384x640 7 bikes, 5 helmets, 8 liscs, 2 no_helmets, 11 riders, 11.0ms\n",
            "video 1/1 (frame 1143/1329) /content/3691658-hd_1920_1080_30fps.mp4: 384x640 9 bikes, 3 helmets, 7 liscs, 2 no_helmets, 8 riders, 8.1ms\n",
            "video 1/1 (frame 1144/1329) /content/3691658-hd_1920_1080_30fps.mp4: 384x640 6 bikes, 5 helmets, 7 liscs, 2 no_helmets, 9 riders, 15.1ms\n",
            "video 1/1 (frame 1145/1329) /content/3691658-hd_1920_1080_30fps.mp4: 384x640 9 bikes, 5 helmets, 6 liscs, 2 no_helmets, 8 riders, 9.0ms\n",
            "video 1/1 (frame 1146/1329) /content/3691658-hd_1920_1080_30fps.mp4: 384x640 10 bikes, 3 helmets, 10 liscs, 2 no_helmets, 10 riders, 11.1ms\n",
            "video 1/1 (frame 1147/1329) /content/3691658-hd_1920_1080_30fps.mp4: 384x640 10 bikes, 2 helmets, 7 liscs, 1 no_helmet, 11 riders, 7.5ms\n",
            "video 1/1 (frame 1148/1329) /content/3691658-hd_1920_1080_30fps.mp4: 384x640 10 bikes, 3 helmets, 5 liscs, 2 no_helmets, 12 riders, 10.4ms\n",
            "video 1/1 (frame 1149/1329) /content/3691658-hd_1920_1080_30fps.mp4: 384x640 10 bikes, 3 helmets, 7 liscs, 2 no_helmets, 11 riders, 8.9ms\n",
            "video 1/1 (frame 1150/1329) /content/3691658-hd_1920_1080_30fps.mp4: 384x640 10 bikes, 3 helmets, 7 liscs, 1 no_helmet, 10 riders, 8.4ms\n",
            "video 1/1 (frame 1151/1329) /content/3691658-hd_1920_1080_30fps.mp4: 384x640 9 bikes, 3 helmets, 6 liscs, 1 no_helmet, 8 riders, 10.3ms\n",
            "video 1/1 (frame 1152/1329) /content/3691658-hd_1920_1080_30fps.mp4: 384x640 10 bikes, 4 helmets, 6 liscs, 1 no_helmet, 9 riders, 6.5ms\n",
            "video 1/1 (frame 1153/1329) /content/3691658-hd_1920_1080_30fps.mp4: 384x640 9 bikes, 5 helmets, 6 liscs, 10 riders, 10.6ms\n",
            "video 1/1 (frame 1154/1329) /content/3691658-hd_1920_1080_30fps.mp4: 384x640 8 bikes, 3 helmets, 5 liscs, 2 no_helmets, 8 riders, 6.9ms\n",
            "video 1/1 (frame 1155/1329) /content/3691658-hd_1920_1080_30fps.mp4: 384x640 8 bikes, 5 helmets, 4 liscs, 2 no_helmets, 2 noises, 11 riders, 8.3ms\n",
            "video 1/1 (frame 1156/1329) /content/3691658-hd_1920_1080_30fps.mp4: 384x640 9 bikes, 3 helmets, 3 liscs, 2 no_helmets, 1 noise, 9 riders, 8.1ms\n",
            "video 1/1 (frame 1157/1329) /content/3691658-hd_1920_1080_30fps.mp4: 384x640 9 bikes, 2 helmets, 4 liscs, 2 no_helmets, 1 noise, 8 riders, 9.8ms\n",
            "video 1/1 (frame 1158/1329) /content/3691658-hd_1920_1080_30fps.mp4: 384x640 10 bikes, 2 helmets, 5 liscs, 2 no_helmets, 9 riders, 9.4ms\n",
            "video 1/1 (frame 1159/1329) /content/3691658-hd_1920_1080_30fps.mp4: 384x640 11 bikes, 2 helmets, 4 liscs, 3 no_helmets, 9 riders, 10.3ms\n",
            "video 1/1 (frame 1160/1329) /content/3691658-hd_1920_1080_30fps.mp4: 384x640 10 bikes, 1 helmet, 2 liscs, 2 no_helmets, 9 riders, 11.0ms\n",
            "video 1/1 (frame 1161/1329) /content/3691658-hd_1920_1080_30fps.mp4: 384x640 12 bikes, 3 helmets, 4 liscs, 2 no_helmets, 8 riders, 11.6ms\n",
            "video 1/1 (frame 1162/1329) /content/3691658-hd_1920_1080_30fps.mp4: 384x640 10 bikes, 3 helmets, 4 liscs, 2 no_helmets, 7 riders, 7.9ms\n",
            "video 1/1 (frame 1163/1329) /content/3691658-hd_1920_1080_30fps.mp4: 384x640 10 bikes, 3 helmets, 5 liscs, 4 no_helmets, 8 riders, 7.8ms\n",
            "video 1/1 (frame 1164/1329) /content/3691658-hd_1920_1080_30fps.mp4: 384x640 9 bikes, 5 helmets, 3 liscs, 1 no_helmet, 8 riders, 11.6ms\n",
            "video 1/1 (frame 1165/1329) /content/3691658-hd_1920_1080_30fps.mp4: 384x640 7 bikes, 5 helmets, 6 liscs, 2 no_helmets, 9 riders, 10.6ms\n",
            "video 1/1 (frame 1166/1329) /content/3691658-hd_1920_1080_30fps.mp4: 384x640 9 bikes, 4 helmets, 4 liscs, 1 no_helmet, 8 riders, 10.0ms\n",
            "video 1/1 (frame 1167/1329) /content/3691658-hd_1920_1080_30fps.mp4: 384x640 6 bikes, 4 helmets, 6 liscs, 2 no_helmets, 6 riders, 7.1ms\n",
            "video 1/1 (frame 1168/1329) /content/3691658-hd_1920_1080_30fps.mp4: 384x640 7 bikes, 6 helmets, 6 liscs, 1 no_helmet, 7 riders, 10.6ms\n",
            "video 1/1 (frame 1169/1329) /content/3691658-hd_1920_1080_30fps.mp4: 384x640 8 bikes, 6 helmets, 5 liscs, 1 no_helmet, 10 riders, 10.4ms\n",
            "video 1/1 (frame 1170/1329) /content/3691658-hd_1920_1080_30fps.mp4: 384x640 9 bikes, 6 helmets, 4 liscs, 8 riders, 11.9ms\n",
            "video 1/1 (frame 1171/1329) /content/3691658-hd_1920_1080_30fps.mp4: 384x640 8 bikes, 4 helmets, 4 liscs, 7 riders, 11.3ms\n",
            "video 1/1 (frame 1172/1329) /content/3691658-hd_1920_1080_30fps.mp4: 384x640 8 bikes, 6 helmets, 5 liscs, 1 no_helmet, 8 riders, 11.6ms\n",
            "video 1/1 (frame 1173/1329) /content/3691658-hd_1920_1080_30fps.mp4: 384x640 9 bikes, 5 helmets, 3 liscs, 8 riders, 13.6ms\n",
            "video 1/1 (frame 1174/1329) /content/3691658-hd_1920_1080_30fps.mp4: 384x640 8 bikes, 6 helmets, 4 liscs, 11 riders, 8.3ms\n",
            "video 1/1 (frame 1175/1329) /content/3691658-hd_1920_1080_30fps.mp4: 384x640 9 bikes, 3 helmets, 5 liscs, 7 riders, 11.8ms\n",
            "video 1/1 (frame 1176/1329) /content/3691658-hd_1920_1080_30fps.mp4: 384x640 8 bikes, 3 helmets, 4 liscs, 2 no_helmets, 8 riders, 9.1ms\n",
            "video 1/1 (frame 1177/1329) /content/3691658-hd_1920_1080_30fps.mp4: 384x640 10 bikes, 3 helmets, 5 liscs, 2 no_helmets, 7 riders, 15.0ms\n",
            "video 1/1 (frame 1178/1329) /content/3691658-hd_1920_1080_30fps.mp4: 384x640 8 bikes, 3 helmets, 3 liscs, 1 no_helmet, 9 riders, 10.3ms\n",
            "video 1/1 (frame 1179/1329) /content/3691658-hd_1920_1080_30fps.mp4: 384x640 8 bikes, 4 helmets, 6 liscs, 2 no_helmets, 9 riders, 7.9ms\n",
            "video 1/1 (frame 1180/1329) /content/3691658-hd_1920_1080_30fps.mp4: 384x640 7 bikes, 4 helmets, 5 liscs, 10 riders, 7.6ms\n",
            "video 1/1 (frame 1181/1329) /content/3691658-hd_1920_1080_30fps.mp4: 384x640 8 bikes, 5 helmets, 4 liscs, 1 no_helmet, 8 riders, 7.6ms\n",
            "video 1/1 (frame 1182/1329) /content/3691658-hd_1920_1080_30fps.mp4: 384x640 8 bikes, 4 helmets, 3 liscs, 1 no_helmet, 7 riders, 12.8ms\n",
            "video 1/1 (frame 1183/1329) /content/3691658-hd_1920_1080_30fps.mp4: 384x640 10 bikes, 3 helmets, 4 liscs, 2 no_helmets, 7 riders, 11.2ms\n",
            "video 1/1 (frame 1184/1329) /content/3691658-hd_1920_1080_30fps.mp4: 384x640 9 bikes, 3 helmets, 4 liscs, 1 no_helmet, 6 riders, 6.6ms\n",
            "video 1/1 (frame 1185/1329) /content/3691658-hd_1920_1080_30fps.mp4: 384x640 9 bikes, 3 helmets, 4 liscs, 1 no_helmet, 7 riders, 10.8ms\n",
            "video 1/1 (frame 1186/1329) /content/3691658-hd_1920_1080_30fps.mp4: 384x640 6 bikes, 2 helmets, 4 liscs, 1 no_helmet, 7 riders, 12.0ms\n",
            "video 1/1 (frame 1187/1329) /content/3691658-hd_1920_1080_30fps.mp4: 384x640 8 bikes, 3 helmets, 4 liscs, 1 no_helmet, 6 riders, 10.6ms\n",
            "video 1/1 (frame 1188/1329) /content/3691658-hd_1920_1080_30fps.mp4: 384x640 8 bikes, 2 helmets, 3 liscs, 1 no_helmet, 6 riders, 7.6ms\n",
            "video 1/1 (frame 1189/1329) /content/3691658-hd_1920_1080_30fps.mp4: 384x640 7 bikes, 2 helmets, 4 liscs, 7 riders, 7.6ms\n",
            "video 1/1 (frame 1190/1329) /content/3691658-hd_1920_1080_30fps.mp4: 384x640 8 bikes, 3 helmets, 3 liscs, 8 riders, 11.3ms\n",
            "video 1/1 (frame 1191/1329) /content/3691658-hd_1920_1080_30fps.mp4: 384x640 8 bikes, 3 helmets, 6 liscs, 1 no_helmet, 6 riders, 7.7ms\n",
            "video 1/1 (frame 1192/1329) /content/3691658-hd_1920_1080_30fps.mp4: 384x640 8 bikes, 4 helmets, 4 liscs, 7 riders, 11.1ms\n",
            "video 1/1 (frame 1193/1329) /content/3691658-hd_1920_1080_30fps.mp4: 384x640 8 bikes, 3 helmets, 6 liscs, 7 riders, 7.8ms\n",
            "video 1/1 (frame 1194/1329) /content/3691658-hd_1920_1080_30fps.mp4: 384x640 8 bikes, 1 helmet, 6 liscs, 2 no_helmets, 6 riders, 12.0ms\n",
            "video 1/1 (frame 1195/1329) /content/3691658-hd_1920_1080_30fps.mp4: 384x640 7 bikes, 3 helmets, 6 liscs, 7 riders, 7.3ms\n",
            "video 1/1 (frame 1196/1329) /content/3691658-hd_1920_1080_30fps.mp4: 384x640 7 bikes, 2 helmets, 6 liscs, 5 riders, 9.4ms\n",
            "video 1/1 (frame 1197/1329) /content/3691658-hd_1920_1080_30fps.mp4: 384x640 9 bikes, 3 helmets, 6 liscs, 1 no_helmet, 7 riders, 9.2ms\n",
            "video 1/1 (frame 1198/1329) /content/3691658-hd_1920_1080_30fps.mp4: 384x640 7 bikes, 3 helmets, 6 liscs, 7 riders, 10.4ms\n",
            "video 1/1 (frame 1199/1329) /content/3691658-hd_1920_1080_30fps.mp4: 384x640 7 bikes, 3 helmets, 6 liscs, 6 riders, 7.6ms\n",
            "video 1/1 (frame 1200/1329) /content/3691658-hd_1920_1080_30fps.mp4: 384x640 7 bikes, 3 helmets, 6 liscs, 6 riders, 11.8ms\n",
            "video 1/1 (frame 1201/1329) /content/3691658-hd_1920_1080_30fps.mp4: 384x640 8 bikes, 2 helmets, 6 liscs, 1 no_helmet, 5 riders, 15.1ms\n",
            "video 1/1 (frame 1202/1329) /content/3691658-hd_1920_1080_30fps.mp4: 384x640 8 bikes, 3 helmets, 5 liscs, 5 riders, 11.8ms\n",
            "video 1/1 (frame 1203/1329) /content/3691658-hd_1920_1080_30fps.mp4: 384x640 8 bikes, 3 helmets, 5 liscs, 4 riders, 10.5ms\n",
            "video 1/1 (frame 1204/1329) /content/3691658-hd_1920_1080_30fps.mp4: 384x640 8 bikes, 2 helmets, 5 liscs, 4 riders, 7.7ms\n",
            "video 1/1 (frame 1205/1329) /content/3691658-hd_1920_1080_30fps.mp4: 384x640 7 bikes, 1 helmet, 5 liscs, 1 no_helmet, 5 riders, 12.1ms\n",
            "video 1/1 (frame 1206/1329) /content/3691658-hd_1920_1080_30fps.mp4: 384x640 7 bikes, 2 helmets, 5 liscs, 1 no_helmet, 6 riders, 17.4ms\n",
            "video 1/1 (frame 1207/1329) /content/3691658-hd_1920_1080_30fps.mp4: 384x640 7 bikes, 3 helmets, 4 liscs, 1 no_helmet, 5 riders, 8.6ms\n",
            "video 1/1 (frame 1208/1329) /content/3691658-hd_1920_1080_30fps.mp4: 384x640 7 bikes, 3 helmets, 3 liscs, 5 riders, 11.9ms\n",
            "video 1/1 (frame 1209/1329) /content/3691658-hd_1920_1080_30fps.mp4: 384x640 7 bikes, 2 helmets, 2 liscs, 1 no_helmet, 7 riders, 7.7ms\n",
            "video 1/1 (frame 1210/1329) /content/3691658-hd_1920_1080_30fps.mp4: 384x640 6 bikes, 3 helmets, 3 liscs, 1 no_helmet, 5 riders, 8.1ms\n",
            "video 1/1 (frame 1211/1329) /content/3691658-hd_1920_1080_30fps.mp4: 384x640 5 bikes, 2 helmets, 3 liscs, 5 riders, 11.0ms\n",
            "video 1/1 (frame 1212/1329) /content/3691658-hd_1920_1080_30fps.mp4: 384x640 5 bikes, 2 helmets, 3 liscs, 3 riders, 8.4ms\n",
            "video 1/1 (frame 1213/1329) /content/3691658-hd_1920_1080_30fps.mp4: 384x640 5 bikes, 1 helmet, 3 liscs, 4 riders, 11.8ms\n",
            "video 1/1 (frame 1214/1329) /content/3691658-hd_1920_1080_30fps.mp4: 384x640 5 bikes, 1 helmet, 3 liscs, 4 riders, 9.4ms\n",
            "video 1/1 (frame 1215/1329) /content/3691658-hd_1920_1080_30fps.mp4: 384x640 5 bikes, 1 helmet, 3 liscs, 4 riders, 14.3ms\n",
            "video 1/1 (frame 1216/1329) /content/3691658-hd_1920_1080_30fps.mp4: 384x640 5 bikes, 1 helmet, 4 liscs, 3 riders, 8.0ms\n",
            "video 1/1 (frame 1217/1329) /content/3691658-hd_1920_1080_30fps.mp4: 384x640 6 bikes, 1 helmet, 4 liscs, 3 riders, 7.6ms\n",
            "video 1/1 (frame 1218/1329) /content/3691658-hd_1920_1080_30fps.mp4: 384x640 6 bikes, 1 helmet, 3 liscs, 3 riders, 11.3ms\n",
            "video 1/1 (frame 1219/1329) /content/3691658-hd_1920_1080_30fps.mp4: 384x640 6 bikes, 1 helmet, 3 liscs, 4 riders, 9.2ms\n",
            "video 1/1 (frame 1220/1329) /content/3691658-hd_1920_1080_30fps.mp4: 384x640 7 bikes, 1 helmet, 4 liscs, 1 no_helmet, 5 riders, 6.7ms\n",
            "video 1/1 (frame 1221/1329) /content/3691658-hd_1920_1080_30fps.mp4: 384x640 6 bikes, 1 helmet, 3 liscs, 5 riders, 7.3ms\n",
            "video 1/1 (frame 1222/1329) /content/3691658-hd_1920_1080_30fps.mp4: 384x640 7 bikes, 2 helmets, 3 liscs, 5 riders, 7.5ms\n",
            "video 1/1 (frame 1223/1329) /content/3691658-hd_1920_1080_30fps.mp4: 384x640 7 bikes, 2 helmets, 5 liscs, 1 no_helmet, 5 riders, 11.4ms\n",
            "video 1/1 (frame 1224/1329) /content/3691658-hd_1920_1080_30fps.mp4: 384x640 7 bikes, 2 helmets, 3 liscs, 4 riders, 9.5ms\n",
            "video 1/1 (frame 1225/1329) /content/3691658-hd_1920_1080_30fps.mp4: 384x640 7 bikes, 2 helmets, 3 liscs, 4 riders, 7.4ms\n",
            "video 1/1 (frame 1226/1329) /content/3691658-hd_1920_1080_30fps.mp4: 384x640 6 bikes, 2 helmets, 3 liscs, 2 riders, 11.6ms\n",
            "video 1/1 (frame 1227/1329) /content/3691658-hd_1920_1080_30fps.mp4: 384x640 6 bikes, 2 helmets, 3 liscs, 2 riders, 14.8ms\n",
            "video 1/1 (frame 1228/1329) /content/3691658-hd_1920_1080_30fps.mp4: 384x640 5 bikes, 2 helmets, 3 liscs, 3 riders, 8.2ms\n",
            "video 1/1 (frame 1229/1329) /content/3691658-hd_1920_1080_30fps.mp4: 384x640 5 bikes, 2 helmets, 3 liscs, 5 riders, 16.1ms\n",
            "video 1/1 (frame 1230/1329) /content/3691658-hd_1920_1080_30fps.mp4: 384x640 5 bikes, 2 helmets, 3 liscs, 4 riders, 14.3ms\n",
            "video 1/1 (frame 1231/1329) /content/3691658-hd_1920_1080_30fps.mp4: 384x640 5 bikes, 2 helmets, 3 liscs, 4 riders, 15.3ms\n",
            "video 1/1 (frame 1232/1329) /content/3691658-hd_1920_1080_30fps.mp4: 384x640 4 bikes, 2 helmets, 2 liscs, 4 riders, 10.7ms\n",
            "video 1/1 (frame 1233/1329) /content/3691658-hd_1920_1080_30fps.mp4: 384x640 6 bikes, 1 helmet, 2 liscs, 1 no_helmet, 4 riders, 14.9ms\n",
            "video 1/1 (frame 1234/1329) /content/3691658-hd_1920_1080_30fps.mp4: 384x640 6 bikes, 1 helmet, 3 liscs, 4 riders, 9.7ms\n",
            "video 1/1 (frame 1235/1329) /content/3691658-hd_1920_1080_30fps.mp4: 384x640 5 bikes, 1 helmet, 3 liscs, 4 riders, 13.8ms\n",
            "video 1/1 (frame 1236/1329) /content/3691658-hd_1920_1080_30fps.mp4: 384x640 6 bikes, 2 helmets, 5 liscs, 4 riders, 13.2ms\n",
            "video 1/1 (frame 1237/1329) /content/3691658-hd_1920_1080_30fps.mp4: 384x640 5 bikes, 3 helmets, 3 liscs, 5 riders, 17.2ms\n",
            "video 1/1 (frame 1238/1329) /content/3691658-hd_1920_1080_30fps.mp4: 384x640 5 bikes, 3 liscs, 1 no_helmet, 5 riders, 11.5ms\n",
            "video 1/1 (frame 1239/1329) /content/3691658-hd_1920_1080_30fps.mp4: 384x640 5 bikes, 1 helmet, 3 liscs, 5 riders, 8.8ms\n",
            "video 1/1 (frame 1240/1329) /content/3691658-hd_1920_1080_30fps.mp4: 384x640 6 bikes, 3 helmets, 3 liscs, 5 riders, 10.4ms\n",
            "video 1/1 (frame 1241/1329) /content/3691658-hd_1920_1080_30fps.mp4: 384x640 5 bikes, 2 helmets, 3 liscs, 5 riders, 10.4ms\n",
            "video 1/1 (frame 1242/1329) /content/3691658-hd_1920_1080_30fps.mp4: 384x640 6 bikes, 4 helmets, 4 liscs, 6 riders, 9.8ms\n",
            "video 1/1 (frame 1243/1329) /content/3691658-hd_1920_1080_30fps.mp4: 384x640 5 bikes, 3 helmets, 4 liscs, 5 riders, 10.1ms\n",
            "video 1/1 (frame 1244/1329) /content/3691658-hd_1920_1080_30fps.mp4: 384x640 6 bikes, 1 helmet, 3 liscs, 5 riders, 16.6ms\n",
            "video 1/1 (frame 1245/1329) /content/3691658-hd_1920_1080_30fps.mp4: 384x640 5 bikes, 1 helmet, 3 liscs, 5 riders, 18.2ms\n",
            "video 1/1 (frame 1246/1329) /content/3691658-hd_1920_1080_30fps.mp4: 384x640 5 bikes, 1 helmet, 3 liscs, 5 riders, 10.9ms\n",
            "video 1/1 (frame 1247/1329) /content/3691658-hd_1920_1080_30fps.mp4: 384x640 6 bikes, 1 helmet, 2 liscs, 1 noise, 6 riders, 16.8ms\n",
            "video 1/1 (frame 1248/1329) /content/3691658-hd_1920_1080_30fps.mp4: 384x640 6 bikes, 1 helmet, 4 liscs, 1 noise, 4 riders, 18.5ms\n",
            "video 1/1 (frame 1249/1329) /content/3691658-hd_1920_1080_30fps.mp4: 384x640 7 bikes, 3 helmets, 3 liscs, 1 noise, 7 riders, 13.6ms\n",
            "video 1/1 (frame 1250/1329) /content/3691658-hd_1920_1080_30fps.mp4: 384x640 7 bikes, 3 helmets, 4 liscs, 1 noise, 8 riders, 17.4ms\n",
            "video 1/1 (frame 1251/1329) /content/3691658-hd_1920_1080_30fps.mp4: 384x640 7 bikes, 2 helmets, 2 liscs, 1 noise, 7 riders, 19.4ms\n",
            "video 1/1 (frame 1252/1329) /content/3691658-hd_1920_1080_30fps.mp4: 384x640 7 bikes, 2 helmets, 4 liscs, 1 noise, 7 riders, 15.6ms\n",
            "video 1/1 (frame 1253/1329) /content/3691658-hd_1920_1080_30fps.mp4: 384x640 7 bikes, 3 helmets, 2 liscs, 1 noise, 7 riders, 21.6ms\n",
            "video 1/1 (frame 1254/1329) /content/3691658-hd_1920_1080_30fps.mp4: 384x640 6 bikes, 2 helmets, 2 liscs, 1 noise, 7 riders, 21.2ms\n",
            "video 1/1 (frame 1255/1329) /content/3691658-hd_1920_1080_30fps.mp4: 384x640 6 bikes, 2 helmets, 2 liscs, 1 noise, 6 riders, 11.1ms\n",
            "video 1/1 (frame 1256/1329) /content/3691658-hd_1920_1080_30fps.mp4: 384x640 7 bikes, 2 helmets, 2 liscs, 1 noise, 4 riders, 12.3ms\n",
            "video 1/1 (frame 1257/1329) /content/3691658-hd_1920_1080_30fps.mp4: 384x640 6 bikes, 1 helmet, 2 liscs, 1 noise, 5 riders, 17.4ms\n",
            "video 1/1 (frame 1258/1329) /content/3691658-hd_1920_1080_30fps.mp4: 384x640 5 bikes, 1 helmet, 3 liscs, 4 riders, 18.3ms\n",
            "video 1/1 (frame 1259/1329) /content/3691658-hd_1920_1080_30fps.mp4: 384x640 5 bikes, 3 helmets, 1 lisc, 4 riders, 11.6ms\n",
            "video 1/1 (frame 1260/1329) /content/3691658-hd_1920_1080_30fps.mp4: 384x640 6 bikes, 2 helmets, 4 liscs, 1 no_helmet, 6 riders, 18.2ms\n",
            "video 1/1 (frame 1261/1329) /content/3691658-hd_1920_1080_30fps.mp4: 384x640 6 bikes, 2 helmets, 4 liscs, 2 no_helmets, 5 riders, 15.0ms\n",
            "video 1/1 (frame 1262/1329) /content/3691658-hd_1920_1080_30fps.mp4: 384x640 6 bikes, 2 helmets, 5 liscs, 4 riders, 13.4ms\n",
            "video 1/1 (frame 1263/1329) /content/3691658-hd_1920_1080_30fps.mp4: 384x640 6 bikes, 2 helmets, 4 liscs, 2 riders, 12.1ms\n",
            "video 1/1 (frame 1264/1329) /content/3691658-hd_1920_1080_30fps.mp4: 384x640 7 bikes, 2 helmets, 3 liscs, 4 riders, 10.1ms\n",
            "video 1/1 (frame 1265/1329) /content/3691658-hd_1920_1080_30fps.mp4: 384x640 6 bikes, 3 helmets, 2 liscs, 3 riders, 12.5ms\n",
            "video 1/1 (frame 1266/1329) /content/3691658-hd_1920_1080_30fps.mp4: 384x640 5 bikes, 3 helmets, 2 liscs, 4 riders, 16.7ms\n",
            "video 1/1 (frame 1267/1329) /content/3691658-hd_1920_1080_30fps.mp4: 384x640 4 bikes, 3 helmets, 3 liscs, 1 no_helmet, 5 riders, 18.5ms\n",
            "video 1/1 (frame 1268/1329) /content/3691658-hd_1920_1080_30fps.mp4: 384x640 3 bikes, 3 helmets, 3 liscs, 1 no_helmet, 5 riders, 13.4ms\n",
            "video 1/1 (frame 1269/1329) /content/3691658-hd_1920_1080_30fps.mp4: 384x640 3 bikes, 3 helmets, 3 liscs, 4 riders, 9.7ms\n",
            "video 1/1 (frame 1270/1329) /content/3691658-hd_1920_1080_30fps.mp4: 384x640 3 bikes, 3 helmets, 3 liscs, 1 no_helmet, 5 riders, 15.1ms\n",
            "video 1/1 (frame 1271/1329) /content/3691658-hd_1920_1080_30fps.mp4: 384x640 4 bikes, 3 helmets, 4 liscs, 5 riders, 14.7ms\n",
            "video 1/1 (frame 1272/1329) /content/3691658-hd_1920_1080_30fps.mp4: 384x640 5 bikes, 2 helmets, 3 liscs, 3 riders, 8.8ms\n",
            "video 1/1 (frame 1273/1329) /content/3691658-hd_1920_1080_30fps.mp4: 384x640 6 bikes, 3 helmets, 4 liscs, 3 riders, 14.7ms\n",
            "video 1/1 (frame 1274/1329) /content/3691658-hd_1920_1080_30fps.mp4: 384x640 6 bikes, 3 helmets, 5 liscs, 6 riders, 11.5ms\n",
            "video 1/1 (frame 1275/1329) /content/3691658-hd_1920_1080_30fps.mp4: 384x640 6 bikes, 3 helmets, 5 liscs, 7 riders, 11.1ms\n",
            "video 1/1 (frame 1276/1329) /content/3691658-hd_1920_1080_30fps.mp4: 384x640 6 bikes, 4 helmets, 5 liscs, 5 riders, 10.2ms\n",
            "video 1/1 (frame 1277/1329) /content/3691658-hd_1920_1080_30fps.mp4: 384x640 7 bikes, 2 helmets, 4 liscs, 5 riders, 13.2ms\n",
            "video 1/1 (frame 1278/1329) /content/3691658-hd_1920_1080_30fps.mp4: 384x640 6 bikes, 3 helmets, 5 liscs, 5 riders, 16.1ms\n",
            "video 1/1 (frame 1279/1329) /content/3691658-hd_1920_1080_30fps.mp4: 384x640 5 bikes, 2 helmets, 4 liscs, 3 riders, 10.7ms\n",
            "video 1/1 (frame 1280/1329) /content/3691658-hd_1920_1080_30fps.mp4: 384x640 7 bikes, 2 helmets, 3 liscs, 5 riders, 14.1ms\n",
            "video 1/1 (frame 1281/1329) /content/3691658-hd_1920_1080_30fps.mp4: 384x640 5 bikes, 2 helmets, 3 liscs, 3 riders, 25.7ms\n",
            "video 1/1 (frame 1282/1329) /content/3691658-hd_1920_1080_30fps.mp4: 384x640 5 bikes, 2 helmets, 3 liscs, 3 riders, 10.4ms\n",
            "video 1/1 (frame 1283/1329) /content/3691658-hd_1920_1080_30fps.mp4: 384x640 5 bikes, 2 helmets, 2 liscs, 5 riders, 10.4ms\n",
            "video 1/1 (frame 1284/1329) /content/3691658-hd_1920_1080_30fps.mp4: 384x640 5 bikes, 2 helmets, 2 liscs, 4 riders, 21.5ms\n",
            "video 1/1 (frame 1285/1329) /content/3691658-hd_1920_1080_30fps.mp4: 384x640 5 bikes, 1 helmet, 3 liscs, 3 riders, 20.7ms\n",
            "video 1/1 (frame 1286/1329) /content/3691658-hd_1920_1080_30fps.mp4: 384x640 4 bikes, 2 helmets, 3 liscs, 3 riders, 21.3ms\n",
            "video 1/1 (frame 1287/1329) /content/3691658-hd_1920_1080_30fps.mp4: 384x640 5 bikes, 1 helmet, 2 liscs, 4 riders, 15.1ms\n",
            "video 1/1 (frame 1288/1329) /content/3691658-hd_1920_1080_30fps.mp4: 384x640 5 bikes, 1 helmet, 2 liscs, 3 riders, 12.6ms\n",
            "video 1/1 (frame 1289/1329) /content/3691658-hd_1920_1080_30fps.mp4: 384x640 5 bikes, 1 helmet, 3 liscs, 3 riders, 18.7ms\n",
            "video 1/1 (frame 1290/1329) /content/3691658-hd_1920_1080_30fps.mp4: 384x640 4 bikes, 1 helmet, 2 liscs, 3 riders, 9.2ms\n",
            "video 1/1 (frame 1291/1329) /content/3691658-hd_1920_1080_30fps.mp4: 384x640 4 bikes, 1 helmet, 2 liscs, 1 rider, 9.0ms\n",
            "video 1/1 (frame 1292/1329) /content/3691658-hd_1920_1080_30fps.mp4: 384x640 4 bikes, 1 helmet, 3 liscs, 2 riders, 11.7ms\n",
            "video 1/1 (frame 1293/1329) /content/3691658-hd_1920_1080_30fps.mp4: 384x640 4 bikes, 1 helmet, 3 liscs, 1 no_helmet, 2 riders, 21.8ms\n",
            "video 1/1 (frame 1294/1329) /content/3691658-hd_1920_1080_30fps.mp4: 384x640 4 bikes, 1 helmet, 3 liscs, 2 riders, 14.3ms\n",
            "video 1/1 (frame 1295/1329) /content/3691658-hd_1920_1080_30fps.mp4: 384x640 5 bikes, 2 helmets, 4 liscs, 3 riders, 13.9ms\n",
            "video 1/1 (frame 1296/1329) /content/3691658-hd_1920_1080_30fps.mp4: 384x640 3 bikes, 1 helmet, 2 liscs, 1 no_helmet, 2 riders, 15.9ms\n",
            "video 1/1 (frame 1297/1329) /content/3691658-hd_1920_1080_30fps.mp4: 384x640 3 bikes, 1 helmet, 2 liscs, 3 riders, 10.4ms\n",
            "video 1/1 (frame 1298/1329) /content/3691658-hd_1920_1080_30fps.mp4: 384x640 4 bikes, 1 helmet, 2 liscs, 3 riders, 14.6ms\n",
            "video 1/1 (frame 1299/1329) /content/3691658-hd_1920_1080_30fps.mp4: 384x640 4 bikes, 1 helmet, 2 liscs, 2 riders, 12.0ms\n",
            "video 1/1 (frame 1300/1329) /content/3691658-hd_1920_1080_30fps.mp4: 384x640 4 bikes, 1 helmet, 3 liscs, 1 no_helmet, 3 riders, 12.0ms\n",
            "video 1/1 (frame 1301/1329) /content/3691658-hd_1920_1080_30fps.mp4: 384x640 4 bikes, 1 lisc, 4 riders, 17.8ms\n",
            "video 1/1 (frame 1302/1329) /content/3691658-hd_1920_1080_30fps.mp4: 384x640 4 bikes, 1 helmet, 2 liscs, 2 riders, 12.3ms\n",
            "video 1/1 (frame 1303/1329) /content/3691658-hd_1920_1080_30fps.mp4: 384x640 3 bikes, 1 helmet, 2 liscs, 2 riders, 17.1ms\n",
            "video 1/1 (frame 1304/1329) /content/3691658-hd_1920_1080_30fps.mp4: 384x640 4 bikes, 1 helmet, 3 liscs, 4 riders, 10.2ms\n",
            "video 1/1 (frame 1305/1329) /content/3691658-hd_1920_1080_30fps.mp4: 384x640 3 bikes, 1 helmet, 1 lisc, 1 rider, 8.8ms\n",
            "video 1/1 (frame 1306/1329) /content/3691658-hd_1920_1080_30fps.mp4: 384x640 5 bikes, 2 liscs, 1 no_helmet, 3 riders, 8.0ms\n",
            "video 1/1 (frame 1307/1329) /content/3691658-hd_1920_1080_30fps.mp4: 384x640 4 bikes, 1 helmet, 2 liscs, 1 no_helmet, 2 riders, 13.8ms\n",
            "video 1/1 (frame 1308/1329) /content/3691658-hd_1920_1080_30fps.mp4: 384x640 3 bikes, 2 liscs, 2 no_helmets, 1 noise, 2 riders, 9.6ms\n",
            "video 1/1 (frame 1309/1329) /content/3691658-hd_1920_1080_30fps.mp4: 384x640 3 bikes, 1 helmet, 1 lisc, 2 no_helmets, 1 noise, 3 riders, 19.0ms\n",
            "video 1/1 (frame 1310/1329) /content/3691658-hd_1920_1080_30fps.mp4: 384x640 3 bikes, 2 helmets, 2 liscs, 1 no_helmet, 1 noise, 3 riders, 16.2ms\n",
            "video 1/1 (frame 1311/1329) /content/3691658-hd_1920_1080_30fps.mp4: 384x640 3 bikes, 3 helmets, 1 lisc, 3 riders, 9.0ms\n",
            "video 1/1 (frame 1312/1329) /content/3691658-hd_1920_1080_30fps.mp4: 384x640 3 bikes, 2 helmets, 4 liscs, 3 riders, 9.6ms\n",
            "video 1/1 (frame 1313/1329) /content/3691658-hd_1920_1080_30fps.mp4: 384x640 3 bikes, 2 helmets, 3 liscs, 1 no_helmet, 3 riders, 11.4ms\n",
            "video 1/1 (frame 1314/1329) /content/3691658-hd_1920_1080_30fps.mp4: 384x640 3 bikes, 2 helmets, 3 liscs, 3 no_helmets, 3 riders, 9.2ms\n",
            "video 1/1 (frame 1315/1329) /content/3691658-hd_1920_1080_30fps.mp4: 384x640 4 bikes, 1 helmet, 1 lisc, 2 no_helmets, 3 riders, 11.3ms\n",
            "video 1/1 (frame 1316/1329) /content/3691658-hd_1920_1080_30fps.mp4: 384x640 5 bikes, 2 helmets, 1 lisc, 1 no_helmet, 3 riders, 10.5ms\n",
            "video 1/1 (frame 1317/1329) /content/3691658-hd_1920_1080_30fps.mp4: 384x640 4 bikes, 3 helmets, 2 liscs, 3 riders, 8.3ms\n",
            "video 1/1 (frame 1318/1329) /content/3691658-hd_1920_1080_30fps.mp4: 384x640 4 bikes, 2 helmets, 2 liscs, 4 riders, 8.6ms\n",
            "video 1/1 (frame 1319/1329) /content/3691658-hd_1920_1080_30fps.mp4: 384x640 3 bikes, 3 helmets, 3 liscs, 4 riders, 13.6ms\n",
            "video 1/1 (frame 1320/1329) /content/3691658-hd_1920_1080_30fps.mp4: 384x640 5 bikes, 2 helmets, 2 liscs, 4 riders, 9.8ms\n",
            "video 1/1 (frame 1321/1329) /content/3691658-hd_1920_1080_30fps.mp4: 384x640 4 bikes, 2 helmets, 1 lisc, 2 no_helmets, 5 riders, 12.0ms\n",
            "video 1/1 (frame 1322/1329) /content/3691658-hd_1920_1080_30fps.mp4: 384x640 5 bikes, 2 helmets, 3 liscs, 1 no_helmet, 5 riders, 13.1ms\n",
            "video 1/1 (frame 1323/1329) /content/3691658-hd_1920_1080_30fps.mp4: 384x640 5 bikes, 2 helmets, 2 liscs, 1 no_helmet, 5 riders, 12.9ms\n",
            "video 1/1 (frame 1324/1329) /content/3691658-hd_1920_1080_30fps.mp4: 384x640 4 bikes, 3 helmets, 1 lisc, 1 no_helmet, 4 riders, 19.1ms\n",
            "video 1/1 (frame 1325/1329) /content/3691658-hd_1920_1080_30fps.mp4: 384x640 2 bikes, 1 helmet, 2 liscs, 2 no_helmets, 4 riders, 7.9ms\n",
            "video 1/1 (frame 1326/1329) /content/3691658-hd_1920_1080_30fps.mp4: 384x640 3 bikes, 2 helmets, 3 liscs, 1 no_helmet, 4 riders, 12.9ms\n",
            "video 1/1 (frame 1327/1329) /content/3691658-hd_1920_1080_30fps.mp4: 384x640 4 bikes, 1 helmet, 3 liscs, 3 no_helmets, 4 riders, 8.4ms\n",
            "video 1/1 (frame 1328/1329) /content/3691658-hd_1920_1080_30fps.mp4: 384x640 5 bikes, 2 helmets, 2 liscs, 5 riders, 6.9ms\n",
            "video 1/1 (frame 1329/1329) /content/3691658-hd_1920_1080_30fps.mp4: 384x640 5 bikes, 2 helmets, 2 liscs, 1 no_helmet, 6 riders, 15.4ms\n",
            "Speed: 3.6ms preprocess, 11.0ms inference, 4.4ms postprocess per image at shape (1, 3, 384, 640)\n",
            "Results saved to \u001b[1mruns/detect/predict\u001b[0m\n"
          ]
        }
      ]
    },
    {
      "cell_type": "code",
      "source": [
        "from ultralytics import YOLO\n",
        "\n",
        "model = YOLO(\"/content/best.pt\")\n",
        "results = model.predict(source=\"/content/15134600-uhd_3840_2160_24fps.mp4\", save=True)"
      ],
      "metadata": {
        "colab": {
          "base_uri": "https://localhost:8080/"
        },
        "id": "Vs-Tte3qDXzy",
        "outputId": "9479036d-71b5-414c-954b-a9d7b5497432"
      },
      "execution_count": null,
      "outputs": [
        {
          "output_type": "stream",
          "name": "stdout",
          "text": [
            "\n",
            "\n",
            "WARNING ⚠️ inference results will accumulate in RAM unless `stream=True` is passed, causing potential out-of-memory\n",
            "errors for large sources or long-running streams and videos. See https://docs.ultralytics.com/modes/predict/ for help.\n",
            "\n",
            "Example:\n",
            "    results = model(source=..., stream=True)  # generator of Results objects\n",
            "    for r in results:\n",
            "        boxes = r.boxes  # Boxes object for bbox outputs\n",
            "        masks = r.masks  # Masks object for segment masks outputs\n",
            "        probs = r.probs  # Class probabilities for classification outputs\n",
            "\n",
            "video 1/1 (frame 1/461) /content/15134600-uhd_3840_2160_24fps.mp4: 384x640 (no detections), 77.1ms\n",
            "video 1/1 (frame 2/461) /content/15134600-uhd_3840_2160_24fps.mp4: 384x640 1 helmet, 1 no_helmet, 2 riders, 10.7ms\n",
            "video 1/1 (frame 3/461) /content/15134600-uhd_3840_2160_24fps.mp4: 384x640 (no detections), 10.7ms\n",
            "video 1/1 (frame 4/461) /content/15134600-uhd_3840_2160_24fps.mp4: 384x640 1 rider, 10.8ms\n",
            "video 1/1 (frame 5/461) /content/15134600-uhd_3840_2160_24fps.mp4: 384x640 1 rider, 10.4ms\n",
            "video 1/1 (frame 6/461) /content/15134600-uhd_3840_2160_24fps.mp4: 384x640 (no detections), 10.7ms\n",
            "video 1/1 (frame 7/461) /content/15134600-uhd_3840_2160_24fps.mp4: 384x640 (no detections), 10.4ms\n",
            "video 1/1 (frame 8/461) /content/15134600-uhd_3840_2160_24fps.mp4: 384x640 (no detections), 10.8ms\n",
            "video 1/1 (frame 9/461) /content/15134600-uhd_3840_2160_24fps.mp4: 384x640 (no detections), 10.7ms\n",
            "video 1/1 (frame 10/461) /content/15134600-uhd_3840_2160_24fps.mp4: 384x640 (no detections), 11.3ms\n",
            "video 1/1 (frame 11/461) /content/15134600-uhd_3840_2160_24fps.mp4: 384x640 1 bike, 10.6ms\n",
            "video 1/1 (frame 12/461) /content/15134600-uhd_3840_2160_24fps.mp4: 384x640 1 no_helmet, 1 rider, 11.4ms\n",
            "video 1/1 (frame 13/461) /content/15134600-uhd_3840_2160_24fps.mp4: 384x640 2 helmets, 1 rider, 11.0ms\n",
            "video 1/1 (frame 14/461) /content/15134600-uhd_3840_2160_24fps.mp4: 384x640 2 helmets, 1 no_helmet, 1 rider, 11.3ms\n",
            "video 1/1 (frame 15/461) /content/15134600-uhd_3840_2160_24fps.mp4: 384x640 1 helmet, 1 no_helmet, 1 rider, 10.9ms\n",
            "video 1/1 (frame 16/461) /content/15134600-uhd_3840_2160_24fps.mp4: 384x640 (no detections), 11.3ms\n",
            "video 1/1 (frame 17/461) /content/15134600-uhd_3840_2160_24fps.mp4: 384x640 1 helmet, 11.8ms\n",
            "video 1/1 (frame 18/461) /content/15134600-uhd_3840_2160_24fps.mp4: 384x640 1 helmet, 1 lisc, 1 rider, 14.4ms\n",
            "video 1/1 (frame 19/461) /content/15134600-uhd_3840_2160_24fps.mp4: 384x640 1 helmet, 1 lisc, 9.8ms\n",
            "video 1/1 (frame 20/461) /content/15134600-uhd_3840_2160_24fps.mp4: 384x640 3 helmets, 1 lisc, 1 rider, 14.8ms\n",
            "video 1/1 (frame 21/461) /content/15134600-uhd_3840_2160_24fps.mp4: 384x640 2 helmets, 1 lisc, 1 no_helmet, 2 riders, 16.0ms\n",
            "video 1/1 (frame 22/461) /content/15134600-uhd_3840_2160_24fps.mp4: 384x640 2 helmets, 2 liscs, 1 no_helmet, 2 riders, 23.1ms\n",
            "video 1/1 (frame 23/461) /content/15134600-uhd_3840_2160_24fps.mp4: 384x640 1 bike, 2 helmets, 1 lisc, 1 rider, 13.5ms\n",
            "video 1/1 (frame 24/461) /content/15134600-uhd_3840_2160_24fps.mp4: 384x640 1 bike, 2 helmets, 1 lisc, 1 rider, 16.6ms\n",
            "video 1/1 (frame 25/461) /content/15134600-uhd_3840_2160_24fps.mp4: 384x640 2 helmets, 1 lisc, 1 rider, 11.1ms\n",
            "video 1/1 (frame 26/461) /content/15134600-uhd_3840_2160_24fps.mp4: 384x640 1 helmet, 1 lisc, 1 no_helmet, 1 rider, 9.9ms\n",
            "video 1/1 (frame 27/461) /content/15134600-uhd_3840_2160_24fps.mp4: 384x640 1 helmet, 1 lisc, 1 no_helmet, 1 rider, 9.0ms\n",
            "video 1/1 (frame 28/461) /content/15134600-uhd_3840_2160_24fps.mp4: 384x640 1 helmet, 1 lisc, 17.8ms\n",
            "video 1/1 (frame 29/461) /content/15134600-uhd_3840_2160_24fps.mp4: 384x640 2 helmets, 1 lisc, 2 riders, 11.5ms\n",
            "video 1/1 (frame 30/461) /content/15134600-uhd_3840_2160_24fps.mp4: 384x640 1 helmet, 1 lisc, 1 rider, 11.2ms\n",
            "video 1/1 (frame 31/461) /content/15134600-uhd_3840_2160_24fps.mp4: 384x640 1 helmet, 1 lisc, 11.1ms\n",
            "video 1/1 (frame 32/461) /content/15134600-uhd_3840_2160_24fps.mp4: 384x640 1 helmet, 1 lisc, 1 rider, 13.2ms\n",
            "video 1/1 (frame 33/461) /content/15134600-uhd_3840_2160_24fps.mp4: 384x640 1 helmet, 1 no_helmet, 24.4ms\n",
            "video 1/1 (frame 34/461) /content/15134600-uhd_3840_2160_24fps.mp4: 384x640 2 helmets, 26.4ms\n",
            "video 1/1 (frame 35/461) /content/15134600-uhd_3840_2160_24fps.mp4: 384x640 1 helmet, 1 no_helmet, 2 riders, 20.0ms\n",
            "video 1/1 (frame 36/461) /content/15134600-uhd_3840_2160_24fps.mp4: 384x640 2 helmets, 11.3ms\n",
            "video 1/1 (frame 37/461) /content/15134600-uhd_3840_2160_24fps.mp4: 384x640 1 helmet, 1 lisc, 11.1ms\n",
            "video 1/1 (frame 38/461) /content/15134600-uhd_3840_2160_24fps.mp4: 384x640 1 bike, 1 helmet, 1 rider, 12.1ms\n",
            "video 1/1 (frame 39/461) /content/15134600-uhd_3840_2160_24fps.mp4: 384x640 1 helmet, 11.0ms\n",
            "video 1/1 (frame 40/461) /content/15134600-uhd_3840_2160_24fps.mp4: 384x640 1 helmet, 1 rider, 12.0ms\n",
            "video 1/1 (frame 41/461) /content/15134600-uhd_3840_2160_24fps.mp4: 384x640 1 helmet, 11.3ms\n",
            "video 1/1 (frame 42/461) /content/15134600-uhd_3840_2160_24fps.mp4: 384x640 (no detections), 11.5ms\n",
            "video 1/1 (frame 43/461) /content/15134600-uhd_3840_2160_24fps.mp4: 384x640 (no detections), 10.9ms\n",
            "video 1/1 (frame 44/461) /content/15134600-uhd_3840_2160_24fps.mp4: 384x640 (no detections), 11.6ms\n",
            "video 1/1 (frame 45/461) /content/15134600-uhd_3840_2160_24fps.mp4: 384x640 (no detections), 14.6ms\n",
            "video 1/1 (frame 46/461) /content/15134600-uhd_3840_2160_24fps.mp4: 384x640 1 helmet, 11.8ms\n",
            "video 1/1 (frame 47/461) /content/15134600-uhd_3840_2160_24fps.mp4: 384x640 1 no_helmet, 11.3ms\n",
            "video 1/1 (frame 48/461) /content/15134600-uhd_3840_2160_24fps.mp4: 384x640 1 lisc, 11.3ms\n",
            "video 1/1 (frame 49/461) /content/15134600-uhd_3840_2160_24fps.mp4: 384x640 (no detections), 11.8ms\n",
            "video 1/1 (frame 50/461) /content/15134600-uhd_3840_2160_24fps.mp4: 384x640 (no detections), 11.2ms\n",
            "video 1/1 (frame 51/461) /content/15134600-uhd_3840_2160_24fps.mp4: 384x640 2 helmets, 10.8ms\n",
            "video 1/1 (frame 52/461) /content/15134600-uhd_3840_2160_24fps.mp4: 384x640 1 rider, 11.2ms\n",
            "video 1/1 (frame 53/461) /content/15134600-uhd_3840_2160_24fps.mp4: 384x640 1 helmet, 1 rider, 12.0ms\n",
            "video 1/1 (frame 54/461) /content/15134600-uhd_3840_2160_24fps.mp4: 384x640 1 no_helmet, 2 riders, 11.8ms\n",
            "video 1/1 (frame 55/461) /content/15134600-uhd_3840_2160_24fps.mp4: 384x640 (no detections), 11.1ms\n",
            "video 1/1 (frame 56/461) /content/15134600-uhd_3840_2160_24fps.mp4: 384x640 1 helmet, 1 rider, 13.9ms\n",
            "video 1/1 (frame 57/461) /content/15134600-uhd_3840_2160_24fps.mp4: 384x640 1 helmet, 11.5ms\n",
            "video 1/1 (frame 58/461) /content/15134600-uhd_3840_2160_24fps.mp4: 384x640 2 bikes, 11.8ms\n",
            "video 1/1 (frame 59/461) /content/15134600-uhd_3840_2160_24fps.mp4: 384x640 2 bikes, 1 helmet, 11.1ms\n",
            "video 1/1 (frame 60/461) /content/15134600-uhd_3840_2160_24fps.mp4: 384x640 1 bike, 2 helmets, 11.2ms\n",
            "video 1/1 (frame 61/461) /content/15134600-uhd_3840_2160_24fps.mp4: 384x640 2 bikes, 2 helmets, 11.4ms\n",
            "video 1/1 (frame 62/461) /content/15134600-uhd_3840_2160_24fps.mp4: 384x640 1 helmet, 22.4ms\n",
            "video 1/1 (frame 63/461) /content/15134600-uhd_3840_2160_24fps.mp4: 384x640 2 helmets, 11.3ms\n",
            "video 1/1 (frame 64/461) /content/15134600-uhd_3840_2160_24fps.mp4: 384x640 1 helmet, 11.3ms\n",
            "video 1/1 (frame 65/461) /content/15134600-uhd_3840_2160_24fps.mp4: 384x640 1 helmet, 11.7ms\n",
            "video 1/1 (frame 66/461) /content/15134600-uhd_3840_2160_24fps.mp4: 384x640 1 bike, 4 helmets, 1 rider, 11.1ms\n",
            "video 1/1 (frame 67/461) /content/15134600-uhd_3840_2160_24fps.mp4: 384x640 4 helmets, 1 no_helmet, 18.3ms\n",
            "video 1/1 (frame 68/461) /content/15134600-uhd_3840_2160_24fps.mp4: 384x640 1 bike, 3 helmets, 1 rider, 11.5ms\n",
            "video 1/1 (frame 69/461) /content/15134600-uhd_3840_2160_24fps.mp4: 384x640 1 helmet, 11.0ms\n",
            "video 1/1 (frame 70/461) /content/15134600-uhd_3840_2160_24fps.mp4: 384x640 1 helmet, 1 rider, 11.6ms\n",
            "video 1/1 (frame 71/461) /content/15134600-uhd_3840_2160_24fps.mp4: 384x640 2 helmets, 1 rider, 9.9ms\n",
            "video 1/1 (frame 72/461) /content/15134600-uhd_3840_2160_24fps.mp4: 384x640 2 helmets, 2 riders, 12.4ms\n",
            "video 1/1 (frame 73/461) /content/15134600-uhd_3840_2160_24fps.mp4: 384x640 1 helmet, 1 rider, 12.2ms\n",
            "video 1/1 (frame 74/461) /content/15134600-uhd_3840_2160_24fps.mp4: 384x640 1 helmet, 1 no_helmet, 1 rider, 11.5ms\n",
            "video 1/1 (frame 75/461) /content/15134600-uhd_3840_2160_24fps.mp4: 384x640 3 helmets, 3 no_helmets, 2 riders, 17.7ms\n",
            "video 1/1 (frame 76/461) /content/15134600-uhd_3840_2160_24fps.mp4: 384x640 1 bike, 3 helmets, 1 lisc, 2 riders, 11.3ms\n",
            "video 1/1 (frame 77/461) /content/15134600-uhd_3840_2160_24fps.mp4: 384x640 1 bike, 3 helmets, 1 lisc, 2 riders, 11.2ms\n",
            "video 1/1 (frame 78/461) /content/15134600-uhd_3840_2160_24fps.mp4: 384x640 3 helmets, 1 lisc, 1 rider, 10.8ms\n",
            "video 1/1 (frame 79/461) /content/15134600-uhd_3840_2160_24fps.mp4: 384x640 3 helmets, 1 lisc, 1 rider, 11.0ms\n",
            "video 1/1 (frame 80/461) /content/15134600-uhd_3840_2160_24fps.mp4: 384x640 3 helmets, 1 lisc, 11.8ms\n",
            "video 1/1 (frame 81/461) /content/15134600-uhd_3840_2160_24fps.mp4: 384x640 3 helmets, 1 lisc, 11.3ms\n",
            "video 1/1 (frame 82/461) /content/15134600-uhd_3840_2160_24fps.mp4: 384x640 4 helmets, 1 lisc, 1 rider, 11.5ms\n",
            "video 1/1 (frame 83/461) /content/15134600-uhd_3840_2160_24fps.mp4: 384x640 1 bike, 2 helmets, 1 no_helmet, 12.2ms\n",
            "video 1/1 (frame 84/461) /content/15134600-uhd_3840_2160_24fps.mp4: 384x640 1 bike, 2 helmets, 14.4ms\n",
            "video 1/1 (frame 85/461) /content/15134600-uhd_3840_2160_24fps.mp4: 384x640 1 bike, 2 helmets, 1 rider, 12.6ms\n",
            "video 1/1 (frame 86/461) /content/15134600-uhd_3840_2160_24fps.mp4: 384x640 2 helmets, 1 rider, 12.8ms\n",
            "video 1/1 (frame 87/461) /content/15134600-uhd_3840_2160_24fps.mp4: 384x640 3 helmets, 1 rider, 10.9ms\n",
            "video 1/1 (frame 88/461) /content/15134600-uhd_3840_2160_24fps.mp4: 384x640 1 bike, 3 helmets, 11.7ms\n",
            "video 1/1 (frame 89/461) /content/15134600-uhd_3840_2160_24fps.mp4: 384x640 3 helmets, 1 no_helmet, 11.4ms\n",
            "video 1/1 (frame 90/461) /content/15134600-uhd_3840_2160_24fps.mp4: 384x640 3 helmets, 1 lisc, 1 no_helmet, 11.0ms\n",
            "video 1/1 (frame 91/461) /content/15134600-uhd_3840_2160_24fps.mp4: 384x640 3 helmets, 11.6ms\n",
            "video 1/1 (frame 92/461) /content/15134600-uhd_3840_2160_24fps.mp4: 384x640 2 helmets, 11.7ms\n",
            "video 1/1 (frame 93/461) /content/15134600-uhd_3840_2160_24fps.mp4: 384x640 3 helmets, 1 no_helmet, 11.1ms\n",
            "video 1/1 (frame 94/461) /content/15134600-uhd_3840_2160_24fps.mp4: 384x640 1 helmet, 11.6ms\n",
            "video 1/1 (frame 95/461) /content/15134600-uhd_3840_2160_24fps.mp4: 384x640 1 helmet, 11.0ms\n",
            "video 1/1 (frame 96/461) /content/15134600-uhd_3840_2160_24fps.mp4: 384x640 2 helmets, 12.1ms\n",
            "video 1/1 (frame 97/461) /content/15134600-uhd_3840_2160_24fps.mp4: 384x640 2 helmets, 11.7ms\n",
            "video 1/1 (frame 98/461) /content/15134600-uhd_3840_2160_24fps.mp4: 384x640 1 helmet, 11.7ms\n",
            "video 1/1 (frame 99/461) /content/15134600-uhd_3840_2160_24fps.mp4: 384x640 1 bike, 1 helmet, 1 lisc, 11.0ms\n",
            "video 1/1 (frame 100/461) /content/15134600-uhd_3840_2160_24fps.mp4: 384x640 1 bike, 1 helmet, 1 rider, 19.4ms\n",
            "video 1/1 (frame 101/461) /content/15134600-uhd_3840_2160_24fps.mp4: 384x640 1 bike, 1 helmet, 25.5ms\n",
            "video 1/1 (frame 102/461) /content/15134600-uhd_3840_2160_24fps.mp4: 384x640 1 bike, 20.5ms\n",
            "video 1/1 (frame 103/461) /content/15134600-uhd_3840_2160_24fps.mp4: 384x640 1 bike, 3 helmets, 1 rider, 28.1ms\n",
            "video 1/1 (frame 104/461) /content/15134600-uhd_3840_2160_24fps.mp4: 384x640 1 bike, 2 helmets, 21.8ms\n",
            "video 1/1 (frame 105/461) /content/15134600-uhd_3840_2160_24fps.mp4: 384x640 1 bike, 1 helmet, 1 lisc, 11.9ms\n",
            "video 1/1 (frame 106/461) /content/15134600-uhd_3840_2160_24fps.mp4: 384x640 1 bike, 3 helmets, 1 lisc, 9.7ms\n",
            "video 1/1 (frame 107/461) /content/15134600-uhd_3840_2160_24fps.mp4: 384x640 1 bike, 3 helmets, 1 lisc, 16.6ms\n",
            "video 1/1 (frame 108/461) /content/15134600-uhd_3840_2160_24fps.mp4: 384x640 1 bike, 3 helmets, 1 lisc, 1 noise, 1 rider, 24.1ms\n",
            "video 1/1 (frame 109/461) /content/15134600-uhd_3840_2160_24fps.mp4: 384x640 2 bikes, 3 helmets, 1 noise, 1 rider, 28.4ms\n",
            "video 1/1 (frame 110/461) /content/15134600-uhd_3840_2160_24fps.mp4: 384x640 1 bike, 2 helmets, 3 liscs, 1 noise, 24.7ms\n",
            "video 1/1 (frame 111/461) /content/15134600-uhd_3840_2160_24fps.mp4: 384x640 1 bike, 3 helmets, 1 lisc, 1 noise, 15.2ms\n",
            "video 1/1 (frame 112/461) /content/15134600-uhd_3840_2160_24fps.mp4: 384x640 1 bike, 3 helmets, 2 liscs, 1 noise, 18.0ms\n",
            "video 1/1 (frame 113/461) /content/15134600-uhd_3840_2160_24fps.mp4: 384x640 1 bike, 3 helmets, 1 lisc, 1 rider, 25.5ms\n",
            "video 1/1 (frame 114/461) /content/15134600-uhd_3840_2160_24fps.mp4: 384x640 1 bike, 3 helmets, 2 liscs, 2 riders, 17.4ms\n",
            "video 1/1 (frame 115/461) /content/15134600-uhd_3840_2160_24fps.mp4: 384x640 1 bike, 4 helmets, 1 lisc, 1 rider, 25.5ms\n",
            "video 1/1 (frame 116/461) /content/15134600-uhd_3840_2160_24fps.mp4: 384x640 1 bike, 4 helmets, 2 liscs, 3 riders, 23.6ms\n",
            "video 1/1 (frame 117/461) /content/15134600-uhd_3840_2160_24fps.mp4: 384x640 1 bike, 3 helmets, 1 lisc, 2 riders, 12.8ms\n",
            "video 1/1 (frame 118/461) /content/15134600-uhd_3840_2160_24fps.mp4: 384x640 1 bike, 3 helmets, 2 liscs, 3 riders, 11.7ms\n",
            "video 1/1 (frame 119/461) /content/15134600-uhd_3840_2160_24fps.mp4: 384x640 1 bike, 3 helmets, 2 liscs, 1 rider, 10.8ms\n",
            "video 1/1 (frame 120/461) /content/15134600-uhd_3840_2160_24fps.mp4: 384x640 2 bikes, 3 helmets, 3 liscs, 1 rider, 11.7ms\n",
            "video 1/1 (frame 121/461) /content/15134600-uhd_3840_2160_24fps.mp4: 384x640 1 bike, 2 helmets, 1 lisc, 2 riders, 13.5ms\n",
            "video 1/1 (frame 122/461) /content/15134600-uhd_3840_2160_24fps.mp4: 384x640 2 bikes, 2 helmets, 1 lisc, 1 rider, 11.6ms\n",
            "video 1/1 (frame 123/461) /content/15134600-uhd_3840_2160_24fps.mp4: 384x640 2 bikes, 2 helmets, 2 liscs, 1 rider, 18.1ms\n",
            "video 1/1 (frame 124/461) /content/15134600-uhd_3840_2160_24fps.mp4: 384x640 2 bikes, 3 helmets, 1 lisc, 1 rider, 11.3ms\n",
            "video 1/1 (frame 125/461) /content/15134600-uhd_3840_2160_24fps.mp4: 384x640 1 bike, 3 helmets, 2 liscs, 2 riders, 11.3ms\n",
            "video 1/1 (frame 126/461) /content/15134600-uhd_3840_2160_24fps.mp4: 384x640 1 bike, 3 helmets, 1 lisc, 1 rider, 12.5ms\n",
            "video 1/1 (frame 127/461) /content/15134600-uhd_3840_2160_24fps.mp4: 384x640 1 bike, 4 helmets, 2 liscs, 1 rider, 26.7ms\n",
            "video 1/1 (frame 128/461) /content/15134600-uhd_3840_2160_24fps.mp4: 384x640 1 bike, 3 helmets, 1 lisc, 1 rider, 49.5ms\n",
            "video 1/1 (frame 129/461) /content/15134600-uhd_3840_2160_24fps.mp4: 384x640 1 bike, 4 helmets, 2 liscs, 2 riders, 22.0ms\n",
            "video 1/1 (frame 130/461) /content/15134600-uhd_3840_2160_24fps.mp4: 384x640 1 bike, 4 helmets, 2 liscs, 2 riders, 11.2ms\n",
            "video 1/1 (frame 131/461) /content/15134600-uhd_3840_2160_24fps.mp4: 384x640 2 bikes, 2 helmets, 2 liscs, 2 riders, 10.8ms\n",
            "video 1/1 (frame 132/461) /content/15134600-uhd_3840_2160_24fps.mp4: 384x640 2 bikes, 4 helmets, 1 lisc, 1 rider, 14.5ms\n",
            "video 1/1 (frame 133/461) /content/15134600-uhd_3840_2160_24fps.mp4: 384x640 2 bikes, 4 helmets, 1 lisc, 1 rider, 16.9ms\n",
            "video 1/1 (frame 134/461) /content/15134600-uhd_3840_2160_24fps.mp4: 384x640 2 bikes, 4 helmets, 2 liscs, 2 riders, 11.8ms\n",
            "video 1/1 (frame 135/461) /content/15134600-uhd_3840_2160_24fps.mp4: 384x640 1 bike, 4 helmets, 1 lisc, 2 riders, 11.0ms\n",
            "video 1/1 (frame 136/461) /content/15134600-uhd_3840_2160_24fps.mp4: 384x640 1 bike, 4 helmets, 2 liscs, 1 noise, 2 riders, 11.7ms\n",
            "video 1/1 (frame 137/461) /content/15134600-uhd_3840_2160_24fps.mp4: 384x640 1 bike, 4 helmets, 1 lisc, 1 noise, 2 riders, 11.4ms\n",
            "video 1/1 (frame 138/461) /content/15134600-uhd_3840_2160_24fps.mp4: 384x640 2 bikes, 3 helmets, 1 lisc, 1 noise, 2 riders, 11.7ms\n",
            "video 1/1 (frame 139/461) /content/15134600-uhd_3840_2160_24fps.mp4: 384x640 2 bikes, 3 helmets, 1 lisc, 1 noise, 2 riders, 10.9ms\n",
            "video 1/1 (frame 140/461) /content/15134600-uhd_3840_2160_24fps.mp4: 384x640 1 bike, 3 helmets, 1 lisc, 1 noise, 1 rider, 11.4ms\n",
            "video 1/1 (frame 141/461) /content/15134600-uhd_3840_2160_24fps.mp4: 384x640 2 bikes, 2 helmets, 1 lisc, 1 noise, 1 rider, 12.7ms\n",
            "video 1/1 (frame 142/461) /content/15134600-uhd_3840_2160_24fps.mp4: 384x640 1 bike, 2 helmets, 1 lisc, 1 noise, 2 riders, 11.7ms\n",
            "video 1/1 (frame 143/461) /content/15134600-uhd_3840_2160_24fps.mp4: 384x640 1 bike, 2 helmets, 1 lisc, 1 noise, 2 riders, 11.4ms\n",
            "video 1/1 (frame 144/461) /content/15134600-uhd_3840_2160_24fps.mp4: 384x640 2 bikes, 3 helmets, 1 lisc, 2 riders, 11.1ms\n",
            "video 1/1 (frame 145/461) /content/15134600-uhd_3840_2160_24fps.mp4: 384x640 1 bike, 2 helmets, 1 lisc, 2 riders, 11.2ms\n",
            "video 1/1 (frame 146/461) /content/15134600-uhd_3840_2160_24fps.mp4: 384x640 1 bike, 2 helmets, 1 lisc, 2 riders, 11.4ms\n",
            "video 1/1 (frame 147/461) /content/15134600-uhd_3840_2160_24fps.mp4: 384x640 1 bike, 2 helmets, 1 lisc, 2 riders, 10.6ms\n",
            "video 1/1 (frame 148/461) /content/15134600-uhd_3840_2160_24fps.mp4: 384x640 1 bike, 2 helmets, 1 lisc, 1 no_helmet, 1 noise, 2 riders, 11.5ms\n",
            "video 1/1 (frame 149/461) /content/15134600-uhd_3840_2160_24fps.mp4: 384x640 1 bike, 2 helmets, 1 lisc, 1 no_helmet, 1 noise, 2 riders, 11.1ms\n",
            "video 1/1 (frame 150/461) /content/15134600-uhd_3840_2160_24fps.mp4: 384x640 2 bikes, 2 helmets, 1 lisc, 1 no_helmet, 1 noise, 3 riders, 12.1ms\n",
            "video 1/1 (frame 151/461) /content/15134600-uhd_3840_2160_24fps.mp4: 384x640 2 bikes, 2 helmets, 1 lisc, 1 no_helmet, 1 noise, 2 riders, 10.9ms\n",
            "video 1/1 (frame 152/461) /content/15134600-uhd_3840_2160_24fps.mp4: 384x640 1 bike, 1 helmet, 1 lisc, 3 no_helmets, 1 noise, 1 rider, 13.2ms\n",
            "video 1/1 (frame 153/461) /content/15134600-uhd_3840_2160_24fps.mp4: 384x640 2 bikes, 1 helmet, 1 lisc, 3 no_helmets, 1 noise, 3 riders, 11.7ms\n",
            "video 1/1 (frame 154/461) /content/15134600-uhd_3840_2160_24fps.mp4: 384x640 2 bikes, 1 helmet, 1 lisc, 2 no_helmets, 1 noise, 1 rider, 11.9ms\n",
            "video 1/1 (frame 155/461) /content/15134600-uhd_3840_2160_24fps.mp4: 384x640 1 bike, 1 helmet, 1 lisc, 1 no_helmet, 1 noise, 1 rider, 10.7ms\n",
            "video 1/1 (frame 156/461) /content/15134600-uhd_3840_2160_24fps.mp4: 384x640 1 helmet, 1 lisc, 1 no_helmet, 1 noise, 3 riders, 11.8ms\n",
            "video 1/1 (frame 157/461) /content/15134600-uhd_3840_2160_24fps.mp4: 384x640 1 helmet, 1 lisc, 3 no_helmets, 1 noise, 2 riders, 11.2ms\n",
            "video 1/1 (frame 158/461) /content/15134600-uhd_3840_2160_24fps.mp4: 384x640 1 helmet, 1 lisc, 3 no_helmets, 1 noise, 2 riders, 11.1ms\n",
            "video 1/1 (frame 159/461) /content/15134600-uhd_3840_2160_24fps.mp4: 384x640 1 helmet, 1 lisc, 2 no_helmets, 1 noise, 1 rider, 10.8ms\n",
            "video 1/1 (frame 160/461) /content/15134600-uhd_3840_2160_24fps.mp4: 384x640 1 bike, 1 helmet, 1 lisc, 2 no_helmets, 1 noise, 2 riders, 11.7ms\n",
            "video 1/1 (frame 161/461) /content/15134600-uhd_3840_2160_24fps.mp4: 384x640 1 bike, 1 helmet, 1 lisc, 1 no_helmet, 1 noise, 1 rider, 11.9ms\n",
            "video 1/1 (frame 162/461) /content/15134600-uhd_3840_2160_24fps.mp4: 384x640 2 bikes, 1 helmet, 1 lisc, 2 no_helmets, 1 noise, 1 rider, 12.0ms\n",
            "video 1/1 (frame 163/461) /content/15134600-uhd_3840_2160_24fps.mp4: 384x640 1 bike, 1 helmet, 1 lisc, 2 no_helmets, 1 noise, 1 rider, 17.9ms\n",
            "video 1/1 (frame 164/461) /content/15134600-uhd_3840_2160_24fps.mp4: 384x640 1 bike, 1 helmet, 1 lisc, 2 no_helmets, 1 noise, 1 rider, 43.7ms\n",
            "video 1/1 (frame 165/461) /content/15134600-uhd_3840_2160_24fps.mp4: 384x640 1 helmet, 1 lisc, 2 no_helmets, 1 rider, 10.8ms\n",
            "video 1/1 (frame 166/461) /content/15134600-uhd_3840_2160_24fps.mp4: 384x640 1 bike, 1 helmet, 1 lisc, 1 rider, 15.0ms\n",
            "video 1/1 (frame 167/461) /content/15134600-uhd_3840_2160_24fps.mp4: 384x640 1 helmet, 1 lisc, 1 no_helmet, 1 rider, 11.3ms\n",
            "video 1/1 (frame 168/461) /content/15134600-uhd_3840_2160_24fps.mp4: 384x640 1 helmet, 1 lisc, 1 rider, 11.4ms\n",
            "video 1/1 (frame 169/461) /content/15134600-uhd_3840_2160_24fps.mp4: 384x640 1 helmet, 1 lisc, 1 rider, 14.8ms\n",
            "video 1/1 (frame 170/461) /content/15134600-uhd_3840_2160_24fps.mp4: 384x640 1 helmet, 1 lisc, 2 riders, 11.3ms\n",
            "video 1/1 (frame 171/461) /content/15134600-uhd_3840_2160_24fps.mp4: 384x640 2 helmets, 1 lisc, 2 riders, 11.3ms\n",
            "video 1/1 (frame 172/461) /content/15134600-uhd_3840_2160_24fps.mp4: 384x640 3 helmets, 1 lisc, 3 riders, 11.4ms\n",
            "video 1/1 (frame 173/461) /content/15134600-uhd_3840_2160_24fps.mp4: 384x640 3 helmets, 1 lisc, 2 riders, 17.5ms\n",
            "video 1/1 (frame 174/461) /content/15134600-uhd_3840_2160_24fps.mp4: 384x640 3 helmets, 1 lisc, 1 no_helmet, 2 riders, 23.8ms\n",
            "video 1/1 (frame 175/461) /content/15134600-uhd_3840_2160_24fps.mp4: 384x640 3 helmets, 1 lisc, 2 riders, 10.6ms\n",
            "video 1/1 (frame 176/461) /content/15134600-uhd_3840_2160_24fps.mp4: 384x640 2 helmets, 1 lisc, 1 no_helmet, 3 riders, 11.0ms\n",
            "video 1/1 (frame 177/461) /content/15134600-uhd_3840_2160_24fps.mp4: 384x640 1 bike, 2 helmets, 1 lisc, 2 riders, 25.0ms\n",
            "video 1/1 (frame 178/461) /content/15134600-uhd_3840_2160_24fps.mp4: 384x640 2 helmets, 1 lisc, 2 no_helmets, 2 riders, 23.6ms\n",
            "video 1/1 (frame 179/461) /content/15134600-uhd_3840_2160_24fps.mp4: 384x640 2 helmets, 1 lisc, 2 riders, 15.6ms\n",
            "video 1/1 (frame 180/461) /content/15134600-uhd_3840_2160_24fps.mp4: 384x640 2 helmets, 1 lisc, 1 no_helmet, 3 riders, 10.5ms\n",
            "video 1/1 (frame 181/461) /content/15134600-uhd_3840_2160_24fps.mp4: 384x640 2 helmets, 1 lisc, 1 no_helmet, 1 rider, 19.0ms\n",
            "video 1/1 (frame 182/461) /content/15134600-uhd_3840_2160_24fps.mp4: 384x640 2 helmets, 1 lisc, 1 rider, 9.5ms\n",
            "video 1/1 (frame 183/461) /content/15134600-uhd_3840_2160_24fps.mp4: 384x640 1 helmet, 1 lisc, 1 no_helmet, 1 rider, 16.8ms\n",
            "video 1/1 (frame 184/461) /content/15134600-uhd_3840_2160_24fps.mp4: 384x640 1 helmet, 1 lisc, 4 no_helmets, 1 rider, 17.2ms\n",
            "video 1/1 (frame 185/461) /content/15134600-uhd_3840_2160_24fps.mp4: 384x640 2 helmets, 1 lisc, 1 no_helmet, 1 rider, 19.1ms\n",
            "video 1/1 (frame 186/461) /content/15134600-uhd_3840_2160_24fps.mp4: 384x640 1 helmet, 1 lisc, 1 no_helmet, 1 rider, 26.3ms\n",
            "video 1/1 (frame 187/461) /content/15134600-uhd_3840_2160_24fps.mp4: 384x640 1 helmet, 1 lisc, 1 no_helmet, 1 rider, 18.2ms\n",
            "video 1/1 (frame 188/461) /content/15134600-uhd_3840_2160_24fps.mp4: 384x640 1 helmet, 1 lisc, 1 rider, 25.8ms\n",
            "video 1/1 (frame 189/461) /content/15134600-uhd_3840_2160_24fps.mp4: 384x640 1 bike, 1 helmet, 1 lisc, 1 rider, 22.2ms\n",
            "video 1/1 (frame 190/461) /content/15134600-uhd_3840_2160_24fps.mp4: 384x640 1 bike, 2 helmets, 1 lisc, 1 rider, 15.5ms\n",
            "video 1/1 (frame 191/461) /content/15134600-uhd_3840_2160_24fps.mp4: 384x640 1 bike, 2 helmets, 1 lisc, 1 rider, 11.8ms\n",
            "video 1/1 (frame 192/461) /content/15134600-uhd_3840_2160_24fps.mp4: 384x640 1 bike, 2 helmets, 1 lisc, 1 no_helmet, 1 rider, 14.6ms\n",
            "video 1/1 (frame 193/461) /content/15134600-uhd_3840_2160_24fps.mp4: 384x640 2 helmets, 1 lisc, 1 rider, 32.1ms\n",
            "video 1/1 (frame 194/461) /content/15134600-uhd_3840_2160_24fps.mp4: 384x640 1 helmet, 1 lisc, 1 rider, 11.5ms\n",
            "video 1/1 (frame 195/461) /content/15134600-uhd_3840_2160_24fps.mp4: 384x640 1 helmet, 1 lisc, 1 rider, 12.7ms\n",
            "video 1/1 (frame 196/461) /content/15134600-uhd_3840_2160_24fps.mp4: 384x640 1 helmet, 1 lisc, 1 no_helmet, 12.8ms\n",
            "video 1/1 (frame 197/461) /content/15134600-uhd_3840_2160_24fps.mp4: 384x640 1 helmet, 1 lisc, 10.8ms\n",
            "video 1/1 (frame 198/461) /content/15134600-uhd_3840_2160_24fps.mp4: 384x640 2 helmets, 1 lisc, 1 no_helmet, 12.0ms\n",
            "video 1/1 (frame 199/461) /content/15134600-uhd_3840_2160_24fps.mp4: 384x640 1 helmet, 1 no_helmet, 11.3ms\n",
            "video 1/1 (frame 200/461) /content/15134600-uhd_3840_2160_24fps.mp4: 384x640 1 helmet, 1 no_helmet, 10.9ms\n",
            "video 1/1 (frame 201/461) /content/15134600-uhd_3840_2160_24fps.mp4: 384x640 1 helmet, 1 no_helmet, 10.8ms\n",
            "video 1/1 (frame 202/461) /content/15134600-uhd_3840_2160_24fps.mp4: 384x640 1 helmet, 3 no_helmets, 14.5ms\n",
            "video 1/1 (frame 203/461) /content/15134600-uhd_3840_2160_24fps.mp4: 384x640 1 helmet, 1 no_helmet, 16.3ms\n",
            "video 1/1 (frame 204/461) /content/15134600-uhd_3840_2160_24fps.mp4: 384x640 1 helmet, 1 no_helmet, 13.4ms\n",
            "video 1/1 (frame 205/461) /content/15134600-uhd_3840_2160_24fps.mp4: 384x640 1 helmet, 2 no_helmets, 1 rider, 10.5ms\n",
            "video 1/1 (frame 206/461) /content/15134600-uhd_3840_2160_24fps.mp4: 384x640 3 helmets, 1 no_helmet, 2 riders, 11.5ms\n",
            "video 1/1 (frame 207/461) /content/15134600-uhd_3840_2160_24fps.mp4: 384x640 3 helmets, 1 no_helmet, 1 rider, 11.1ms\n",
            "video 1/1 (frame 208/461) /content/15134600-uhd_3840_2160_24fps.mp4: 384x640 1 helmet, 1 no_helmet, 3 riders, 11.6ms\n",
            "video 1/1 (frame 209/461) /content/15134600-uhd_3840_2160_24fps.mp4: 384x640 1 bike, 2 helmets, 2 no_helmets, 4 riders, 10.7ms\n",
            "video 1/1 (frame 210/461) /content/15134600-uhd_3840_2160_24fps.mp4: 384x640 1 bike, 3 helmets, 1 no_helmet, 12.3ms\n",
            "video 1/1 (frame 211/461) /content/15134600-uhd_3840_2160_24fps.mp4: 384x640 1 bike, 1 helmet, 2 riders, 11.6ms\n",
            "video 1/1 (frame 212/461) /content/15134600-uhd_3840_2160_24fps.mp4: 384x640 1 bike, 1 helmet, 1 no_helmet, 1 rider, 12.4ms\n",
            "video 1/1 (frame 213/461) /content/15134600-uhd_3840_2160_24fps.mp4: 384x640 1 bike, 1 helmet, 1 no_helmet, 10.7ms\n",
            "video 1/1 (frame 214/461) /content/15134600-uhd_3840_2160_24fps.mp4: 384x640 1 bike, 1 helmet, 33.6ms\n",
            "video 1/1 (frame 215/461) /content/15134600-uhd_3840_2160_24fps.mp4: 384x640 1 bike, 1 helmet, 1 lisc, 1 no_helmet, 12.3ms\n",
            "video 1/1 (frame 216/461) /content/15134600-uhd_3840_2160_24fps.mp4: 384x640 1 helmet, 1 lisc, 1 no_helmet, 10.5ms\n",
            "video 1/1 (frame 217/461) /content/15134600-uhd_3840_2160_24fps.mp4: 384x640 1 helmet, 1 lisc, 1 no_helmet, 10.7ms\n",
            "video 1/1 (frame 218/461) /content/15134600-uhd_3840_2160_24fps.mp4: 384x640 1 helmet, 1 lisc, 1 no_helmet, 1 noise, 11.1ms\n",
            "video 1/1 (frame 219/461) /content/15134600-uhd_3840_2160_24fps.mp4: 384x640 1 helmet, 1 lisc, 1 no_helmet, 12.5ms\n",
            "video 1/1 (frame 220/461) /content/15134600-uhd_3840_2160_24fps.mp4: 384x640 1 helmet, 1 lisc, 1 no_helmet, 11.1ms\n",
            "video 1/1 (frame 221/461) /content/15134600-uhd_3840_2160_24fps.mp4: 384x640 1 helmet, 1 lisc, 1 no_helmet, 11.0ms\n",
            "video 1/1 (frame 222/461) /content/15134600-uhd_3840_2160_24fps.mp4: 384x640 1 helmet, 1 lisc, 15.8ms\n",
            "video 1/1 (frame 223/461) /content/15134600-uhd_3840_2160_24fps.mp4: 384x640 1 helmet, 1 lisc, 1 no_helmet, 11.8ms\n",
            "video 1/1 (frame 224/461) /content/15134600-uhd_3840_2160_24fps.mp4: 384x640 1 helmet, 1 lisc, 1 no_helmet, 12.7ms\n",
            "video 1/1 (frame 225/461) /content/15134600-uhd_3840_2160_24fps.mp4: 384x640 1 bike, 1 helmet, 1 lisc, 1 rider, 13.9ms\n",
            "video 1/1 (frame 226/461) /content/15134600-uhd_3840_2160_24fps.mp4: 384x640 1 bike, 1 helmet, 2 liscs, 1 rider, 11.6ms\n",
            "video 1/1 (frame 227/461) /content/15134600-uhd_3840_2160_24fps.mp4: 384x640 1 bike, 1 helmet, 1 lisc, 2 riders, 11.2ms\n",
            "video 1/1 (frame 228/461) /content/15134600-uhd_3840_2160_24fps.mp4: 384x640 1 bike, 1 helmet, 1 lisc, 1 no_helmet, 2 riders, 13.2ms\n",
            "video 1/1 (frame 229/461) /content/15134600-uhd_3840_2160_24fps.mp4: 384x640 2 bikes, 2 helmets, 1 lisc, 1 rider, 10.8ms\n",
            "video 1/1 (frame 230/461) /content/15134600-uhd_3840_2160_24fps.mp4: 384x640 1 bike, 3 helmets, 1 lisc, 1 no_helmet, 3 riders, 11.3ms\n",
            "video 1/1 (frame 231/461) /content/15134600-uhd_3840_2160_24fps.mp4: 384x640 3 helmets, 1 lisc, 1 no_helmet, 2 riders, 11.0ms\n",
            "video 1/1 (frame 232/461) /content/15134600-uhd_3840_2160_24fps.mp4: 384x640 2 helmets, 1 lisc, 11.0ms\n",
            "video 1/1 (frame 233/461) /content/15134600-uhd_3840_2160_24fps.mp4: 384x640 1 bike, 2 helmets, 1 lisc, 1 rider, 11.4ms\n",
            "video 1/1 (frame 234/461) /content/15134600-uhd_3840_2160_24fps.mp4: 384x640 1 lisc, 36.7ms\n",
            "video 1/1 (frame 235/461) /content/15134600-uhd_3840_2160_24fps.mp4: 384x640 1 lisc, 10.9ms\n",
            "video 1/1 (frame 236/461) /content/15134600-uhd_3840_2160_24fps.mp4: 384x640 (no detections), 11.7ms\n",
            "video 1/1 (frame 237/461) /content/15134600-uhd_3840_2160_24fps.mp4: 384x640 (no detections), 11.2ms\n",
            "video 1/1 (frame 238/461) /content/15134600-uhd_3840_2160_24fps.mp4: 384x640 1 bike, 1 rider, 12.1ms\n",
            "video 1/1 (frame 239/461) /content/15134600-uhd_3840_2160_24fps.mp4: 384x640 1 bike, 1 rider, 11.5ms\n",
            "video 1/1 (frame 240/461) /content/15134600-uhd_3840_2160_24fps.mp4: 384x640 1 bike, 1 rider, 10.9ms\n",
            "video 1/1 (frame 241/461) /content/15134600-uhd_3840_2160_24fps.mp4: 384x640 (no detections), 13.7ms\n",
            "video 1/1 (frame 242/461) /content/15134600-uhd_3840_2160_24fps.mp4: 384x640 (no detections), 12.8ms\n",
            "video 1/1 (frame 243/461) /content/15134600-uhd_3840_2160_24fps.mp4: 384x640 1 bike, 11.2ms\n",
            "video 1/1 (frame 244/461) /content/15134600-uhd_3840_2160_24fps.mp4: 384x640 1 bike, 21.8ms\n",
            "video 1/1 (frame 245/461) /content/15134600-uhd_3840_2160_24fps.mp4: 384x640 1 rider, 10.8ms\n",
            "video 1/1 (frame 246/461) /content/15134600-uhd_3840_2160_24fps.mp4: 384x640 (no detections), 13.8ms\n",
            "video 1/1 (frame 247/461) /content/15134600-uhd_3840_2160_24fps.mp4: 384x640 (no detections), 12.7ms\n",
            "video 1/1 (frame 248/461) /content/15134600-uhd_3840_2160_24fps.mp4: 384x640 (no detections), 11.9ms\n",
            "video 1/1 (frame 249/461) /content/15134600-uhd_3840_2160_24fps.mp4: 384x640 1 bike, 14.1ms\n",
            "video 1/1 (frame 250/461) /content/15134600-uhd_3840_2160_24fps.mp4: 384x640 (no detections), 39.6ms\n",
            "video 1/1 (frame 251/461) /content/15134600-uhd_3840_2160_24fps.mp4: 384x640 (no detections), 9.4ms\n",
            "video 1/1 (frame 252/461) /content/15134600-uhd_3840_2160_24fps.mp4: 384x640 (no detections), 9.5ms\n",
            "video 1/1 (frame 253/461) /content/15134600-uhd_3840_2160_24fps.mp4: 384x640 1 lisc, 27.3ms\n",
            "video 1/1 (frame 254/461) /content/15134600-uhd_3840_2160_24fps.mp4: 384x640 1 lisc, 26.6ms\n",
            "video 1/1 (frame 255/461) /content/15134600-uhd_3840_2160_24fps.mp4: 384x640 1 bike, 1 helmet, 1 lisc, 9.9ms\n",
            "video 1/1 (frame 256/461) /content/15134600-uhd_3840_2160_24fps.mp4: 384x640 1 bike, 1 helmet, 1 lisc, 1 rider, 9.6ms\n",
            "video 1/1 (frame 257/461) /content/15134600-uhd_3840_2160_24fps.mp4: 384x640 1 bike, 1 helmet, 1 lisc, 16.0ms\n",
            "video 1/1 (frame 258/461) /content/15134600-uhd_3840_2160_24fps.mp4: 384x640 1 bike, 1 helmet, 1 lisc, 1 rider, 9.7ms\n",
            "video 1/1 (frame 259/461) /content/15134600-uhd_3840_2160_24fps.mp4: 384x640 1 bike, 2 helmets, 1 lisc, 1 rider, 14.3ms\n",
            "video 1/1 (frame 260/461) /content/15134600-uhd_3840_2160_24fps.mp4: 384x640 1 bike, 2 helmets, 1 lisc, 2 riders, 19.6ms\n",
            "video 1/1 (frame 261/461) /content/15134600-uhd_3840_2160_24fps.mp4: 384x640 1 bike, 2 helmets, 1 lisc, 2 riders, 44.7ms\n",
            "video 1/1 (frame 262/461) /content/15134600-uhd_3840_2160_24fps.mp4: 384x640 1 bike, 2 helmets, 1 lisc, 1 rider, 14.9ms\n",
            "video 1/1 (frame 263/461) /content/15134600-uhd_3840_2160_24fps.mp4: 384x640 1 bike, 3 helmets, 1 lisc, 1 noise, 2 riders, 14.7ms\n",
            "video 1/1 (frame 264/461) /content/15134600-uhd_3840_2160_24fps.mp4: 384x640 2 bikes, 3 helmets, 1 lisc, 2 riders, 23.1ms\n",
            "video 1/1 (frame 265/461) /content/15134600-uhd_3840_2160_24fps.mp4: 384x640 1 bike, 2 helmets, 1 lisc, 1 rider, 11.1ms\n",
            "video 1/1 (frame 266/461) /content/15134600-uhd_3840_2160_24fps.mp4: 384x640 1 bike, 2 helmets, 1 lisc, 2 riders, 12.2ms\n",
            "video 1/1 (frame 267/461) /content/15134600-uhd_3840_2160_24fps.mp4: 384x640 1 bike, 2 helmets, 1 lisc, 2 riders, 11.2ms\n",
            "video 1/1 (frame 268/461) /content/15134600-uhd_3840_2160_24fps.mp4: 384x640 2 bikes, 1 helmet, 1 lisc, 1 rider, 11.2ms\n",
            "video 1/1 (frame 269/461) /content/15134600-uhd_3840_2160_24fps.mp4: 384x640 2 bikes, 1 helmet, 1 lisc, 1 no_helmet, 1 rider, 11.1ms\n",
            "video 1/1 (frame 270/461) /content/15134600-uhd_3840_2160_24fps.mp4: 384x640 2 bikes, 1 helmet, 1 lisc, 1 no_helmet, 2 riders, 12.1ms\n",
            "video 1/1 (frame 271/461) /content/15134600-uhd_3840_2160_24fps.mp4: 384x640 2 bikes, 1 helmet, 1 lisc, 2 riders, 11.0ms\n",
            "video 1/1 (frame 272/461) /content/15134600-uhd_3840_2160_24fps.mp4: 384x640 2 bikes, 1 helmet, 1 lisc, 1 rider, 11.5ms\n",
            "video 1/1 (frame 273/461) /content/15134600-uhd_3840_2160_24fps.mp4: 384x640 2 bikes, 1 helmet, 1 lisc, 1 rider, 10.8ms\n",
            "video 1/1 (frame 274/461) /content/15134600-uhd_3840_2160_24fps.mp4: 384x640 2 bikes, 1 helmet, 1 lisc, 1 no_helmet, 1 rider, 13.1ms\n",
            "video 1/1 (frame 275/461) /content/15134600-uhd_3840_2160_24fps.mp4: 384x640 2 bikes, 2 helmets, 1 lisc, 2 riders, 14.2ms\n",
            "video 1/1 (frame 276/461) /content/15134600-uhd_3840_2160_24fps.mp4: 384x640 1 bike, 2 helmets, 1 lisc, 1 rider, 10.7ms\n",
            "video 1/1 (frame 277/461) /content/15134600-uhd_3840_2160_24fps.mp4: 384x640 1 bike, 2 helmets, 1 lisc, 1 rider, 11.2ms\n",
            "video 1/1 (frame 278/461) /content/15134600-uhd_3840_2160_24fps.mp4: 384x640 2 helmets, 1 lisc, 1 rider, 11.3ms\n",
            "video 1/1 (frame 279/461) /content/15134600-uhd_3840_2160_24fps.mp4: 384x640 2 helmets, 1 lisc, 1 rider, 11.5ms\n",
            "video 1/1 (frame 280/461) /content/15134600-uhd_3840_2160_24fps.mp4: 384x640 1 bike, 1 helmet, 1 lisc, 1 noise, 2 riders, 11.0ms\n",
            "video 1/1 (frame 281/461) /content/15134600-uhd_3840_2160_24fps.mp4: 384x640 1 helmet, 1 noise, 1 rider, 16.9ms\n",
            "video 1/1 (frame 282/461) /content/15134600-uhd_3840_2160_24fps.mp4: 384x640 1 bike, 1 helmet, 1 lisc, 1 rider, 11.0ms\n",
            "video 1/1 (frame 283/461) /content/15134600-uhd_3840_2160_24fps.mp4: 384x640 1 bike, 1 helmet, 11.0ms\n",
            "video 1/1 (frame 284/461) /content/15134600-uhd_3840_2160_24fps.mp4: 384x640 1 bike, 2 helmets, 1 noise, 11.0ms\n",
            "video 1/1 (frame 285/461) /content/15134600-uhd_3840_2160_24fps.mp4: 384x640 1 bike, 2 helmets, 1 noise, 11.3ms\n",
            "video 1/1 (frame 286/461) /content/15134600-uhd_3840_2160_24fps.mp4: 384x640 1 bike, 2 helmets, 2 riders, 11.3ms\n",
            "video 1/1 (frame 287/461) /content/15134600-uhd_3840_2160_24fps.mp4: 384x640 1 bike, 3 helmets, 2 riders, 11.8ms\n",
            "video 1/1 (frame 288/461) /content/15134600-uhd_3840_2160_24fps.mp4: 384x640 1 bike, 3 helmets, 2 riders, 11.3ms\n",
            "video 1/1 (frame 289/461) /content/15134600-uhd_3840_2160_24fps.mp4: 384x640 1 bike, 3 helmets, 1 rider, 9.7ms\n",
            "video 1/1 (frame 290/461) /content/15134600-uhd_3840_2160_24fps.mp4: 384x640 1 bike, 2 helmets, 1 rider, 10.9ms\n",
            "video 1/1 (frame 291/461) /content/15134600-uhd_3840_2160_24fps.mp4: 384x640 2 bikes, 11.3ms\n",
            "video 1/1 (frame 292/461) /content/15134600-uhd_3840_2160_24fps.mp4: 384x640 1 bike, 11.9ms\n",
            "video 1/1 (frame 293/461) /content/15134600-uhd_3840_2160_24fps.mp4: 384x640 1 bike, 1 rider, 11.0ms\n",
            "video 1/1 (frame 294/461) /content/15134600-uhd_3840_2160_24fps.mp4: 384x640 1 rider, 11.4ms\n",
            "video 1/1 (frame 295/461) /content/15134600-uhd_3840_2160_24fps.mp4: 384x640 1 bike, 1 rider, 11.1ms\n",
            "video 1/1 (frame 296/461) /content/15134600-uhd_3840_2160_24fps.mp4: 384x640 1 bike, 1 rider, 11.0ms\n",
            "video 1/1 (frame 297/461) /content/15134600-uhd_3840_2160_24fps.mp4: 384x640 1 bike, 1 rider, 13.6ms\n",
            "video 1/1 (frame 298/461) /content/15134600-uhd_3840_2160_24fps.mp4: 384x640 1 bike, 1 helmet, 1 rider, 12.2ms\n",
            "video 1/1 (frame 299/461) /content/15134600-uhd_3840_2160_24fps.mp4: 384x640 1 helmet, 1 no_helmet, 1 noise, 1 rider, 12.2ms\n",
            "video 1/1 (frame 300/461) /content/15134600-uhd_3840_2160_24fps.mp4: 384x640 1 bike, 1 helmet, 1 no_helmet, 1 noise, 1 rider, 11.2ms\n",
            "video 1/1 (frame 301/461) /content/15134600-uhd_3840_2160_24fps.mp4: 384x640 1 bike, 3 helmets, 1 noise, 1 rider, 11.4ms\n",
            "video 1/1 (frame 302/461) /content/15134600-uhd_3840_2160_24fps.mp4: 384x640 3 bikes, 3 helmets, 1 noise, 1 rider, 10.8ms\n",
            "video 1/1 (frame 303/461) /content/15134600-uhd_3840_2160_24fps.mp4: 384x640 1 bike, 2 helmets, 1 noise, 1 rider, 14.3ms\n",
            "video 1/1 (frame 304/461) /content/15134600-uhd_3840_2160_24fps.mp4: 384x640 1 bike, 3 helmets, 1 noise, 1 rider, 12.6ms\n",
            "video 1/1 (frame 305/461) /content/15134600-uhd_3840_2160_24fps.mp4: 384x640 1 bike, 2 helmets, 1 noise, 1 rider, 11.0ms\n",
            "video 1/1 (frame 306/461) /content/15134600-uhd_3840_2160_24fps.mp4: 384x640 1 bike, 2 helmets, 1 noise, 1 rider, 11.4ms\n",
            "video 1/1 (frame 307/461) /content/15134600-uhd_3840_2160_24fps.mp4: 384x640 1 bike, 1 helmet, 1 noise, 1 rider, 12.1ms\n",
            "video 1/1 (frame 308/461) /content/15134600-uhd_3840_2160_24fps.mp4: 384x640 1 bike, 1 helmet, 1 noise, 2 riders, 14.5ms\n",
            "video 1/1 (frame 309/461) /content/15134600-uhd_3840_2160_24fps.mp4: 384x640 1 bike, 1 helmet, 1 noise, 1 rider, 11.3ms\n",
            "video 1/1 (frame 310/461) /content/15134600-uhd_3840_2160_24fps.mp4: 384x640 1 bike, 1 rider, 12.0ms\n",
            "video 1/1 (frame 311/461) /content/15134600-uhd_3840_2160_24fps.mp4: 384x640 2 bikes, 1 rider, 17.4ms\n",
            "video 1/1 (frame 312/461) /content/15134600-uhd_3840_2160_24fps.mp4: 384x640 1 bike, 1 helmet, 1 lisc, 1 rider, 11.5ms\n",
            "video 1/1 (frame 313/461) /content/15134600-uhd_3840_2160_24fps.mp4: 384x640 1 bike, 1 helmet, 1 lisc, 1 rider, 12.3ms\n",
            "video 1/1 (frame 314/461) /content/15134600-uhd_3840_2160_24fps.mp4: 384x640 1 bike, 1 helmet, 1 rider, 11.1ms\n",
            "video 1/1 (frame 315/461) /content/15134600-uhd_3840_2160_24fps.mp4: 384x640 1 bike, 1 helmet, 1 rider, 11.1ms\n",
            "video 1/1 (frame 316/461) /content/15134600-uhd_3840_2160_24fps.mp4: 384x640 1 bike, 1 helmet, 1 rider, 11.0ms\n",
            "video 1/1 (frame 317/461) /content/15134600-uhd_3840_2160_24fps.mp4: 384x640 1 helmet, 1 rider, 11.4ms\n",
            "video 1/1 (frame 318/461) /content/15134600-uhd_3840_2160_24fps.mp4: 384x640 1 helmet, 11.4ms\n",
            "video 1/1 (frame 319/461) /content/15134600-uhd_3840_2160_24fps.mp4: 384x640 1 helmet, 1 rider, 14.2ms\n",
            "video 1/1 (frame 320/461) /content/15134600-uhd_3840_2160_24fps.mp4: 384x640 1 helmet, 12.4ms\n",
            "video 1/1 (frame 321/461) /content/15134600-uhd_3840_2160_24fps.mp4: 384x640 2 helmets, 1 rider, 14.4ms\n",
            "video 1/1 (frame 322/461) /content/15134600-uhd_3840_2160_24fps.mp4: 384x640 1 helmet, 11.9ms\n",
            "video 1/1 (frame 323/461) /content/15134600-uhd_3840_2160_24fps.mp4: 384x640 1 helmet, 23.1ms\n",
            "video 1/1 (frame 324/461) /content/15134600-uhd_3840_2160_24fps.mp4: 384x640 1 helmet, 18.0ms\n",
            "video 1/1 (frame 325/461) /content/15134600-uhd_3840_2160_24fps.mp4: 384x640 1 bike, 2 riders, 15.8ms\n",
            "video 1/1 (frame 326/461) /content/15134600-uhd_3840_2160_24fps.mp4: 384x640 (no detections), 17.4ms\n",
            "video 1/1 (frame 327/461) /content/15134600-uhd_3840_2160_24fps.mp4: 384x640 (no detections), 11.3ms\n",
            "video 1/1 (frame 328/461) /content/15134600-uhd_3840_2160_24fps.mp4: 384x640 1 helmet, 24.2ms\n",
            "video 1/1 (frame 329/461) /content/15134600-uhd_3840_2160_24fps.mp4: 384x640 1 helmet, 1 rider, 9.8ms\n",
            "video 1/1 (frame 330/461) /content/15134600-uhd_3840_2160_24fps.mp4: 384x640 1 helmet, 9.5ms\n",
            "video 1/1 (frame 331/461) /content/15134600-uhd_3840_2160_24fps.mp4: 384x640 (no detections), 20.1ms\n",
            "video 1/1 (frame 332/461) /content/15134600-uhd_3840_2160_24fps.mp4: 384x640 1 helmet, 9.3ms\n",
            "video 1/1 (frame 333/461) /content/15134600-uhd_3840_2160_24fps.mp4: 384x640 (no detections), 10.4ms\n",
            "video 1/1 (frame 334/461) /content/15134600-uhd_3840_2160_24fps.mp4: 384x640 1 helmet, 1 rider, 14.7ms\n",
            "video 1/1 (frame 335/461) /content/15134600-uhd_3840_2160_24fps.mp4: 384x640 (no detections), 21.2ms\n",
            "video 1/1 (frame 336/461) /content/15134600-uhd_3840_2160_24fps.mp4: 384x640 1 rider, 21.4ms\n",
            "video 1/1 (frame 337/461) /content/15134600-uhd_3840_2160_24fps.mp4: 384x640 (no detections), 10.9ms\n",
            "video 1/1 (frame 338/461) /content/15134600-uhd_3840_2160_24fps.mp4: 384x640 (no detections), 17.6ms\n",
            "video 1/1 (frame 339/461) /content/15134600-uhd_3840_2160_24fps.mp4: 384x640 1 helmet, 1 lisc, 34.7ms\n",
            "video 1/1 (frame 340/461) /content/15134600-uhd_3840_2160_24fps.mp4: 384x640 1 helmet, 1 lisc, 11.3ms\n",
            "video 1/1 (frame 341/461) /content/15134600-uhd_3840_2160_24fps.mp4: 384x640 1 helmet, 1 lisc, 11.8ms\n",
            "video 1/1 (frame 342/461) /content/15134600-uhd_3840_2160_24fps.mp4: 384x640 1 helmet, 1 lisc, 11.3ms\n",
            "video 1/1 (frame 343/461) /content/15134600-uhd_3840_2160_24fps.mp4: 384x640 1 lisc, 11.1ms\n",
            "video 1/1 (frame 344/461) /content/15134600-uhd_3840_2160_24fps.mp4: 384x640 1 rider, 12.3ms\n",
            "video 1/1 (frame 345/461) /content/15134600-uhd_3840_2160_24fps.mp4: 384x640 (no detections), 11.6ms\n",
            "video 1/1 (frame 346/461) /content/15134600-uhd_3840_2160_24fps.mp4: 384x640 (no detections), 11.9ms\n",
            "video 1/1 (frame 347/461) /content/15134600-uhd_3840_2160_24fps.mp4: 384x640 1 bike, 1 helmet, 1 rider, 12.0ms\n",
            "video 1/1 (frame 348/461) /content/15134600-uhd_3840_2160_24fps.mp4: 384x640 1 bike, 1 no_helmet, 1 rider, 9.0ms\n",
            "video 1/1 (frame 349/461) /content/15134600-uhd_3840_2160_24fps.mp4: 384x640 1 bike, 1 helmet, 1 rider, 11.2ms\n",
            "video 1/1 (frame 350/461) /content/15134600-uhd_3840_2160_24fps.mp4: 384x640 1 bike, 1 helmet, 1 rider, 14.5ms\n",
            "video 1/1 (frame 351/461) /content/15134600-uhd_3840_2160_24fps.mp4: 384x640 1 bike, 11.0ms\n",
            "video 1/1 (frame 352/461) /content/15134600-uhd_3840_2160_24fps.mp4: 384x640 1 bike, 1 rider, 11.2ms\n",
            "video 1/1 (frame 353/461) /content/15134600-uhd_3840_2160_24fps.mp4: 384x640 1 bike, 1 helmet, 11.2ms\n",
            "video 1/1 (frame 354/461) /content/15134600-uhd_3840_2160_24fps.mp4: 384x640 1 bike, 1 helmet, 1 rider, 11.8ms\n",
            "video 1/1 (frame 355/461) /content/15134600-uhd_3840_2160_24fps.mp4: 384x640 1 bike, 1 helmet, 11.6ms\n",
            "video 1/1 (frame 356/461) /content/15134600-uhd_3840_2160_24fps.mp4: 384x640 1 bike, 7.1ms\n",
            "video 1/1 (frame 357/461) /content/15134600-uhd_3840_2160_24fps.mp4: 384x640 1 lisc, 12.1ms\n",
            "video 1/1 (frame 358/461) /content/15134600-uhd_3840_2160_24fps.mp4: 384x640 1 bike, 11.3ms\n",
            "video 1/1 (frame 359/461) /content/15134600-uhd_3840_2160_24fps.mp4: 384x640 2 helmets, 11.5ms\n",
            "video 1/1 (frame 360/461) /content/15134600-uhd_3840_2160_24fps.mp4: 384x640 (no detections), 11.1ms\n",
            "video 1/1 (frame 361/461) /content/15134600-uhd_3840_2160_24fps.mp4: 384x640 1 bike, 6.9ms\n",
            "video 1/1 (frame 362/461) /content/15134600-uhd_3840_2160_24fps.mp4: 384x640 1 helmet, 9.7ms\n",
            "video 1/1 (frame 363/461) /content/15134600-uhd_3840_2160_24fps.mp4: 384x640 (no detections), 11.2ms\n",
            "video 1/1 (frame 364/461) /content/15134600-uhd_3840_2160_24fps.mp4: 384x640 1 rider, 11.1ms\n",
            "video 1/1 (frame 365/461) /content/15134600-uhd_3840_2160_24fps.mp4: 384x640 1 helmet, 1 rider, 7.0ms\n",
            "video 1/1 (frame 366/461) /content/15134600-uhd_3840_2160_24fps.mp4: 384x640 1 helmet, 1 rider, 18.4ms\n",
            "video 1/1 (frame 367/461) /content/15134600-uhd_3840_2160_24fps.mp4: 384x640 1 helmet, 1 rider, 7.1ms\n",
            "video 1/1 (frame 368/461) /content/15134600-uhd_3840_2160_24fps.mp4: 384x640 1 no_helmet, 1 rider, 11.1ms\n",
            "video 1/1 (frame 369/461) /content/15134600-uhd_3840_2160_24fps.mp4: 384x640 2 helmets, 1 rider, 7.6ms\n",
            "video 1/1 (frame 370/461) /content/15134600-uhd_3840_2160_24fps.mp4: 384x640 3 helmets, 1 rider, 11.2ms\n",
            "video 1/1 (frame 371/461) /content/15134600-uhd_3840_2160_24fps.mp4: 384x640 3 helmets, 1 rider, 11.2ms\n",
            "video 1/1 (frame 372/461) /content/15134600-uhd_3840_2160_24fps.mp4: 384x640 3 helmets, 1 noise, 2 riders, 12.6ms\n",
            "video 1/1 (frame 373/461) /content/15134600-uhd_3840_2160_24fps.mp4: 384x640 3 helmets, 1 lisc, 1 noise, 11.0ms\n",
            "video 1/1 (frame 374/461) /content/15134600-uhd_3840_2160_24fps.mp4: 384x640 2 helmets, 1 lisc, 1 noise, 11.7ms\n",
            "video 1/1 (frame 375/461) /content/15134600-uhd_3840_2160_24fps.mp4: 384x640 1 helmet, 1 lisc, 1 noise, 11.2ms\n",
            "video 1/1 (frame 376/461) /content/15134600-uhd_3840_2160_24fps.mp4: 384x640 1 helmet, 2 liscs, 11.2ms\n",
            "video 1/1 (frame 377/461) /content/15134600-uhd_3840_2160_24fps.mp4: 384x640 2 bikes, 1 helmet, 1 lisc, 12.6ms\n",
            "video 1/1 (frame 378/461) /content/15134600-uhd_3840_2160_24fps.mp4: 384x640 2 bikes, 2 helmets, 1 lisc, 1 rider, 7.8ms\n",
            "video 1/1 (frame 379/461) /content/15134600-uhd_3840_2160_24fps.mp4: 384x640 1 bike, 2 helmets, 1 lisc, 1 rider, 10.8ms\n",
            "video 1/1 (frame 380/461) /content/15134600-uhd_3840_2160_24fps.mp4: 384x640 1 bike, 1 helmet, 1 lisc, 1 rider, 11.5ms\n",
            "video 1/1 (frame 381/461) /content/15134600-uhd_3840_2160_24fps.mp4: 384x640 1 bike, 3 helmets, 1 lisc, 1 no_helmet, 2 riders, 11.9ms\n",
            "video 1/1 (frame 382/461) /content/15134600-uhd_3840_2160_24fps.mp4: 384x640 1 bike, 2 helmets, 1 lisc, 1 rider, 11.5ms\n",
            "video 1/1 (frame 383/461) /content/15134600-uhd_3840_2160_24fps.mp4: 384x640 1 bike, 1 helmet, 1 lisc, 1 rider, 11.0ms\n",
            "video 1/1 (frame 384/461) /content/15134600-uhd_3840_2160_24fps.mp4: 384x640 1 bike, 2 helmets, 1 lisc, 1 rider, 12.7ms\n",
            "video 1/1 (frame 385/461) /content/15134600-uhd_3840_2160_24fps.mp4: 384x640 1 bike, 1 lisc, 1 rider, 11.0ms\n",
            "video 1/1 (frame 386/461) /content/15134600-uhd_3840_2160_24fps.mp4: 384x640 2 bikes, 1 helmet, 1 lisc, 1 rider, 11.2ms\n",
            "video 1/1 (frame 387/461) /content/15134600-uhd_3840_2160_24fps.mp4: 384x640 2 bikes, 1 helmet, 1 lisc, 2 riders, 13.5ms\n",
            "video 1/1 (frame 388/461) /content/15134600-uhd_3840_2160_24fps.mp4: 384x640 3 bikes, 1 helmet, 1 lisc, 1 rider, 11.2ms\n",
            "video 1/1 (frame 389/461) /content/15134600-uhd_3840_2160_24fps.mp4: 384x640 2 bikes, 1 helmet, 1 rider, 11.3ms\n",
            "video 1/1 (frame 390/461) /content/15134600-uhd_3840_2160_24fps.mp4: 384x640 3 bikes, 1 rider, 22.8ms\n",
            "video 1/1 (frame 391/461) /content/15134600-uhd_3840_2160_24fps.mp4: 384x640 3 bikes, 1 noise, 1 rider, 23.4ms\n",
            "video 1/1 (frame 392/461) /content/15134600-uhd_3840_2160_24fps.mp4: 384x640 1 bike, 1 helmet, 1 noise, 1 rider, 16.2ms\n",
            "video 1/1 (frame 393/461) /content/15134600-uhd_3840_2160_24fps.mp4: 384x640 1 bike, 1 rider, 16.5ms\n",
            "video 1/1 (frame 394/461) /content/15134600-uhd_3840_2160_24fps.mp4: 384x640 (no detections), 22.1ms\n",
            "video 1/1 (frame 395/461) /content/15134600-uhd_3840_2160_24fps.mp4: 384x640 2 bikes, 14.4ms\n",
            "video 1/1 (frame 396/461) /content/15134600-uhd_3840_2160_24fps.mp4: 384x640 2 bikes, 17.1ms\n",
            "video 1/1 (frame 397/461) /content/15134600-uhd_3840_2160_24fps.mp4: 384x640 2 bikes, 1 rider, 16.5ms\n",
            "video 1/1 (frame 398/461) /content/15134600-uhd_3840_2160_24fps.mp4: 384x640 (no detections), 25.6ms\n",
            "video 1/1 (frame 399/461) /content/15134600-uhd_3840_2160_24fps.mp4: 384x640 1 noise, 9.8ms\n",
            "video 1/1 (frame 400/461) /content/15134600-uhd_3840_2160_24fps.mp4: 384x640 1 bike, 1 no_helmet, 1 noise, 16.7ms\n",
            "video 1/1 (frame 401/461) /content/15134600-uhd_3840_2160_24fps.mp4: 384x640 1 bike, 1 no_helmet, 1 noise, 1 rider, 17.2ms\n",
            "video 1/1 (frame 402/461) /content/15134600-uhd_3840_2160_24fps.mp4: 384x640 1 bike, 1 no_helmet, 1 noise, 23.6ms\n",
            "video 1/1 (frame 403/461) /content/15134600-uhd_3840_2160_24fps.mp4: 384x640 1 bike, 1 noise, 2 riders, 19.9ms\n",
            "video 1/1 (frame 404/461) /content/15134600-uhd_3840_2160_24fps.mp4: 384x640 1 bike, 1 helmet, 1 no_helmet, 1 noise, 2 riders, 11.1ms\n",
            "video 1/1 (frame 405/461) /content/15134600-uhd_3840_2160_24fps.mp4: 384x640 1 bike, 1 helmet, 1 noise, 2 riders, 11.0ms\n",
            "video 1/1 (frame 406/461) /content/15134600-uhd_3840_2160_24fps.mp4: 384x640 1 bike, 1 helmet, 1 no_helmet, 1 noise, 2 riders, 13.6ms\n",
            "video 1/1 (frame 407/461) /content/15134600-uhd_3840_2160_24fps.mp4: 384x640 1 bike, 1 helmet, 1 noise, 2 riders, 10.8ms\n",
            "video 1/1 (frame 408/461) /content/15134600-uhd_3840_2160_24fps.mp4: 384x640 2 bikes, 2 helmets, 1 no_helmet, 1 noise, 1 rider, 11.7ms\n",
            "video 1/1 (frame 409/461) /content/15134600-uhd_3840_2160_24fps.mp4: 384x640 2 helmets, 1 noise, 1 rider, 11.7ms\n",
            "video 1/1 (frame 410/461) /content/15134600-uhd_3840_2160_24fps.mp4: 384x640 2 helmets, 1 noise, 2 riders, 11.5ms\n",
            "video 1/1 (frame 411/461) /content/15134600-uhd_3840_2160_24fps.mp4: 384x640 2 helmets, 1 lisc, 1 noise, 2 riders, 11.0ms\n",
            "video 1/1 (frame 412/461) /content/15134600-uhd_3840_2160_24fps.mp4: 384x640 1 bike, 2 helmets, 1 lisc, 1 noise, 1 rider, 11.7ms\n",
            "video 1/1 (frame 413/461) /content/15134600-uhd_3840_2160_24fps.mp4: 384x640 2 bikes, 1 helmet, 1 lisc, 1 rider, 7.2ms\n",
            "video 1/1 (frame 414/461) /content/15134600-uhd_3840_2160_24fps.mp4: 384x640 1 bike, 1 helmet, 1 lisc, 1 noise, 1 rider, 11.9ms\n",
            "video 1/1 (frame 415/461) /content/15134600-uhd_3840_2160_24fps.mp4: 384x640 3 bikes, 1 helmet, 1 lisc, 1 no_helmet, 1 noise, 3 riders, 11.1ms\n",
            "WARNING ⚠️ NMS time limit 2.050s exceeded\n",
            "video 1/1 (frame 416/461) /content/15134600-uhd_3840_2160_24fps.mp4: 384x640 2 bikes, 1 helmet, 1 lisc, 1 no_helmet, 1 noise, 1 rider, 56047.2ms\n",
            "video 1/1 (frame 417/461) /content/15134600-uhd_3840_2160_24fps.mp4: 384x640 1 bike, 1 helmet, 1 lisc, 1 noise, 1 rider, 280.1ms\n",
            "video 1/1 (frame 418/461) /content/15134600-uhd_3840_2160_24fps.mp4: 384x640 1 bike, 1 helmet, 1 lisc, 1 no_helmet, 1 rider, 12.7ms\n",
            "video 1/1 (frame 419/461) /content/15134600-uhd_3840_2160_24fps.mp4: 384x640 1 bike, 1 helmet, 1 lisc, 1 no_helmet, 1 rider, 19.5ms\n",
            "video 1/1 (frame 420/461) /content/15134600-uhd_3840_2160_24fps.mp4: 384x640 1 bike, 1 helmet, 1 lisc, 1 no_helmet, 3 riders, 26.1ms\n",
            "video 1/1 (frame 421/461) /content/15134600-uhd_3840_2160_24fps.mp4: 384x640 1 bike, 1 helmet, 1 lisc, 1 no_helmet, 4 riders, 9.5ms\n",
            "video 1/1 (frame 422/461) /content/15134600-uhd_3840_2160_24fps.mp4: 384x640 1 helmet, 1 lisc, 1 no_helmet, 2 riders, 26.9ms\n"
          ]
        }
      ]
    }
  ]
}